{
 "cells": [
  {
   "cell_type": "markdown",
   "metadata": {},
   "source": [
    "# Spatial, spectral, and temporal resolutions.\n",
    "\n",
    "* **Special requirements:** A Google account, access to Google Earth Engine.\n",
    "* **Prerequisites:** You should have completed the `2.1_ENGN3903_Satellite images and bands`, the `2.2 ENGN3903_Images, collections, and filters` notebook.\n"
   ]
  },
  {
   "cell_type": "markdown",
   "metadata": {},
   "source": [
    "## Background\n",
    "\n",
    "> Note: Refer to Lecture 2 of week 2 for the relevant content for this lab\n",
    "\n",
    "Resolution is the ability to discriminate information in an image. The discrimination of information refers not only to the spatial detail (spatial resolution) but also to the number of spectral wavebands, their bandwidths, and spectral cover (spectral resolution), the temporal frequency of observations (temporal resolution) and the signal to noise ration or its ability to distinguish vitiations in the energy detected (radiomatric resolution). One may also have to consider the sensor's potential to acquire information at different viewing angles (angular resolution) or polarization channels (polimetric resolution).\n"
   ]
  },
  {
   "cell_type": "markdown",
   "metadata": {},
   "source": [
    "## Aims of the practical session\n",
    "\n",
    "This practical has three aims:\n",
    "1. to understand the differences between the spatial, spectral, and temporal resolutions of different satellite sensors.\n",
    "2. to plot the spectral signature of different land cover types, and\n",
    "\n",
    "\n",
    "\n",
    "***"
   ]
  },
  {
   "cell_type": "markdown",
   "metadata": {},
   "source": [
    "## Description\n",
    "\n",
    "In this notebook we'll load images from 3 different sensors and will use them to understand the differences between the spatial, spectral and temporal resolution in the remote sensing context. \n",
    "\n",
    "First we will:\n",
    "- Load Landsat, Sentinel 2, and MODIS images for the Canberra region.\n",
    "\n",
    "Then we will:\n",
    "- visualize the images of the different sensors side-by-side to understand the concept of spatial resolution;\n",
    "- list the number of images collected in a two-month period and compare the three sensors to understand the concept of temporal resolution;\n",
    "\n",
    "\n",
    "<div class=\"alert alert-block alert-warning\">\n",
    "<b>Assessment:</b> Once you finish the practical and the excercises, remember to submit your notebook through Wattle by Sunday.\n",
    "Challenges are optional and will not be part of the assessment.\n",
    "</div>\n",
    "\n",
    "***"
   ]
  },
  {
   "cell_type": "markdown",
   "metadata": {},
   "source": [
    "## Getting started\n"
   ]
  },
  {
   "cell_type": "markdown",
   "metadata": {},
   "source": [
    "### Load packages\n",
    "\n",
    "Import Python packages that are used for the analysis.\n"
   ]
  },
  {
   "cell_type": "code",
   "execution_count": null,
   "metadata": {
    "ExecuteTime": {
     "end_time": "2022-07-24T21:00:23.228159Z",
     "start_time": "2022-07-24T21:00:18.463838Z"
    },
    "scrolled": true
   },
   "outputs": [],
   "source": [
    "# %matplotlib inline\n",
    "import geemap as gmap\n",
    "import os\n",
    "import ee\n",
    "import matplotlib.pyplot as plt\n",
    "import numpy as np\n",
    "import pandas as pd"
   ]
  },
  {
   "cell_type": "markdown",
   "metadata": {},
   "source": [
    "### Connect to Google Earth Engine (GEE)\n",
    "\n",
    "Connect to the GEE so we can access GEE datasets and computing assets.\n",
    "You may be required to input your Google account name and password. Please keep those safe and don't share them with anyone."
   ]
  },
  {
   "cell_type": "code",
   "execution_count": null,
   "metadata": {
    "ExecuteTime": {
     "end_time": "2022-07-24T21:00:28.765377Z",
     "start_time": "2022-07-24T21:00:23.233109Z"
    }
   },
   "outputs": [],
   "source": [
    "m = gmap.Map()"
   ]
  },
  {
   "cell_type": "markdown",
   "metadata": {},
   "source": [
    "***"
   ]
  },
  {
   "cell_type": "markdown",
   "metadata": {},
   "source": [
    "## Comparing the spatial resolution of different sensors."
   ]
  },
  {
   "cell_type": "markdown",
   "metadata": {},
   "source": [
    "Load the `MODIS` and `Sentinel-2` image collections that intersect the ACT and visualize them in a map\n",
    "\n",
    "> Note, to 'clip' a MODIS imageCollection to a polygon, we can't rely on the syntax `.filterBounds()`, instead we need to map the `image.clip` function over the time-series. ie. `modis.map(lambda image: image.clip(polygon))`"
   ]
  },
  {
   "cell_type": "code",
   "execution_count": null,
   "metadata": {
    "ExecuteTime": {
     "end_time": "2022-07-24T21:00:30.662525Z",
     "start_time": "2022-07-24T21:00:28.769322Z"
    }
   },
   "outputs": [],
   "source": [
    "# First, let's create a polygon around the ACT\n",
    "act = ee.Geometry.Polygon([[148.7392751586051,-36.011462319908816],\n",
    "   [149.8598806273551,-36.011462319908816],\n",
    "   [149.8598806273551,-35.1087997777942],\n",
    "   [148.7392751586051,-35.1087997777942],\n",
    "   [148.7392751586051,-36.011462319908816]])\n",
    "\n",
    "# Let's add the polygon to the map\n",
    "Map = gmap.Map(center=[-35.2041, 149.2721], zoom=10)\n",
    "Map.addLayer(act,{},'act')"
   ]
  },
  {
   "cell_type": "markdown",
   "metadata": {},
   "source": [
    "### A quick note on image composites\n",
    "In the code below, we filter the datasets to a time-range `.filterDate('2019-02', '2019-04')`, this will give us a two-month long time-series of satellite images over that region. We then _reduce_ that time-series (collapse the time-dimension) with the function `.median()`, which will create what Earth Observation scientists call a 'composite image', that is, an image that is representative of all images over a given time. Individual remote sensing images can be affected by noisy data, including clouds, cloud shadows, and haze. To produce cleaner images that can be compared more easily across time, we can create 'summary' images or 'composites' that combine multiple images into one. Median summaries are an extremely useful and very commonly used approach to summarising time-series of satellite images."
   ]
  },
  {
   "cell_type": "code",
   "execution_count": null,
   "metadata": {
    "ExecuteTime": {
     "end_time": "2022-07-24T21:00:31.975758Z",
     "start_time": "2022-07-24T21:00:30.668451Z"
    }
   },
   "outputs": [],
   "source": [
    "# Now let's add the image collections.\n",
    "s2 = ee.ImageCollection(\"COPERNICUS/S2_SR_HARMONIZED\")\n",
    "modis = ee.ImageCollection(\"MODIS/061/MYD09A1\").select([\n",
    "    'sur_refl_b01',\n",
    "    'sur_refl_b02',\n",
    "    'sur_refl_b03',\n",
    "    'sur_refl_b04',\n",
    "    'sur_refl_b05',\n",
    "    'sur_refl_b06',\n",
    "    'sur_refl_b07'])\n",
    "\n",
    "# Filter the image collections by date, and by location, then reduce time dim using median\n",
    "s2 = s2.filterDate('2019-02', '2019-04').map(lambda image: image.clip(act)).median()\n",
    "modis = modis.filterDate('2019-02', '2019-04').map(lambda image: image.clip(act)).median()\n",
    "\n",
    "# Lastly, let's give some visualization paramaters to each collection.\n",
    "s2VisParam = {'bands': [\"B4\",\"B3\",\"B2\"],\n",
    "              'max': 2700,\n",
    "              'min': 0}\n",
    "\n",
    "# Note that the visualization are different for each image collection.\n",
    "modisVisParams = {'bands': [\"sur_refl_b01\",\"sur_refl_b04\",\"sur_refl_b03\"],\n",
    "              'max': 2100,\n",
    "              'min': 0}\n",
    "              \n",
    "Map.addLayer(s2, s2VisParam, 's2')\n",
    "Map.addLayer(modis, modisVisParams, 'modis')\n",
    "Map.addLayerControl()\n",
    "\n",
    "Map"
   ]
  },
  {
   "cell_type": "markdown",
   "metadata": {},
   "source": [
    "### <a name=\"ex1\"></a> Exercise 1 - Add a `Landsat 8` image collection to the map.\n",
    "\n",
    "You've done this before, just make sure you filter the image collection with the same dates as the ones above, and reduce the time-series using the `.median()` function\n"
   ]
  },
  {
   "cell_type": "code",
   "execution_count": null,
   "metadata": {
    "ExecuteTime": {
     "end_time": "2022-07-24T21:00:31.991714Z",
     "start_time": "2022-07-24T21:00:31.980743Z"
    }
   },
   "outputs": [],
   "source": [
    "# Your code goes here\n"
   ]
  },
  {
   "cell_type": "markdown",
   "metadata": {},
   "source": [
    "### <a name=\"ex1\"></a> Exercise 2 - Understanding spatial resolution\n",
    "\n",
    "\n",
    "<div class=\"alert alert-block alert-danger\">\n",
    "\n",
    "**Answer the following questions:**\n",
    "\n",
    "1) What is the smallest feature you can identify using the MODIS, Landsat, and Sentinel 2 imagery?\n",
    "    \n",
    "2) Which satellite sensor has the best and worst spatial resolution.\n",
    "\n",
    "</div>    \n",
    "\n",
    "Try identifying the following features / places / landmarks:\n",
    ">- Telstra Tower\n",
    ">- a car\n",
    ">- a football/cricket field\n",
    ">- Canberra Airport\n",
    ">- Lake George,\n",
    ">- a crop field\n",
    ">- a mountain range or a large forest.\n",
    "\n"
   ]
  },
  {
   "cell_type": "markdown",
   "metadata": {},
   "source": [
    "Your answer goes here:\n",
    "\n",
    "."
   ]
  },
  {
   "cell_type": "markdown",
   "metadata": {},
   "source": [
    "***"
   ]
  },
  {
   "cell_type": "markdown",
   "metadata": {},
   "source": [
    "## Comparing the spectral resolution of different sensors\n",
    "\n",
    "There are few hyperspectral sensors in orbit.\n",
    "\n",
    "Fortunately, we have access to [Hyperion](https://www.usgs.gov/centers/eros/science/earth-observing-1-eo-1) data. Hyperion was a hyperspectral sensor that was Decommissioned in 2017, but gathered data in many places around the globe.\n",
    "\n",
    "As with the other sensors, we can add these data to our map, and filter by date and location.\n"
   ]
  },
  {
   "cell_type": "markdown",
   "metadata": {},
   "source": [
    "> **Caution** Because Hyperion only provides irradiance data, we might have to 1) either perform atmospheric correction, or 2) load TOA Landsat data and uncorrected MODIS so the plots are comparable\n"
   ]
  },
  {
   "cell_type": "code",
   "execution_count": null,
   "metadata": {},
   "outputs": [],
   "source": [
    "#remember we need to rescale Landsat Collection 2\n",
    "def rescale_landsatC2(image):\n",
    "    # Apply the scaling factors to the appropriate bands.\n",
    "    opticalBands = image.select('SR_B.').multiply(0.0000275).add(-0.2)\n",
    "    # Replace the original bands with the scaled ones\n",
    "    return image.addBands(opticalBands, None, True)"
   ]
  },
  {
   "cell_type": "code",
   "execution_count": null,
   "metadata": {
    "ExecuteTime": {
     "end_time": "2022-07-24T21:00:35.528943Z",
     "start_time": "2022-07-24T21:00:31.995703Z"
    },
    "tags": []
   },
   "outputs": [],
   "source": [
    "Map2 = gmap.Map(center=[-35.2041, 149.2721], zoom=9)\n",
    "\n",
    "# Geth the Hyperion image collection and a Landsat image to display\n",
    "hyper = ee.ImageCollection(\"EO1/HYPERION\").map(lambda image: image.clip(act)).median()\n",
    "\n",
    "# load Landsat but only load the optical bands\n",
    "clearC2 = ee.Image('LANDSAT/LC08/C02/T1_L2/LC08_090085_20210118') \\\n",
    "        .select(['SR_B1','SR_B2','SR_B3','SR_B4','SR_B5','SR_B6','SR_B7',]).clip(act)\n",
    "clearC2 = rescale_landsatC2(clearC2)\n",
    "\n",
    "# Set the visualization parameters for the images we're going to display\n",
    "hyperVisParams = {'bands': [\"B035\",\"B023\",\"B015\"],\n",
    "                 'min':500,\n",
    "                 'max':6000}\n",
    "\n",
    "landsatC2_vis = {'bands': ['SR_B4', 'SR_B3', 'SR_B2'],\n",
    "              'min': 0,\n",
    "              'max': 0.4}\n",
    "\n",
    "# Add the layers to the map\n",
    "Map2.addLayer(modis, modisVisParams, 'MODIS image collection')\n",
    "Map2.addLayer(clearC2, landsatC2_vis,' Landsat image')\n",
    "Map2.addLayer(hyper, hyperVisParams, 'Hyperion hyperspectral image collection')\n",
    "Map2.addLayerControl()\n",
    "Map2.set_plot_options(add_marker_cluster=True)\n",
    "Map2"
   ]
  },
  {
   "cell_type": "markdown",
   "metadata": {},
   "source": [
    "### <a name=\"ex3\"></a> Exercise 3 - Understanding the spectral resolution.\n",
    "\n",
    "\n",
    "<div class=\"alert alert-block alert-danger\">\n",
    "\n",
    "**Compare and contrast:**\n",
    "\n",
    "1) The spatial *coverage* of the MODIS data, versus the Hyperion data\n",
    "    \n",
    "2) The spectral resolution of the MODIS, Landsat, and Hyperion images.\n",
    "\n",
    "</div>    \n"
   ]
  },
  {
   "cell_type": "markdown",
   "metadata": {},
   "source": [
    "## Displaying the spectral signatures of different land covers\n",
    "\n",
    "Now click on the map toolbar and select the 'Plotting' icon as shown below. Pay attention to the image selected for this excercise. If you add more data to the map, you'll need to select the image you want to explore.\n",
    "\n",
    "![3.1_fig3.PNG](../figures/3.1_fig3.PNG)\n",
    "\n",
    "Now click anywhere on the image and look at the spectral signature of the selected feature. Is it what you would expect?"
   ]
  },
  {
   "cell_type": "code",
   "execution_count": null,
   "metadata": {
    "ExecuteTime": {
     "end_time": "2022-07-24T21:00:36.626176Z",
     "start_time": "2022-07-24T21:00:35.532937Z"
    }
   },
   "outputs": [],
   "source": [
    "Map3 = gmap.Map(center=[-35.9659, 149.4965], zoom=8)\n",
    "\n",
    "# Geth  a Landsat image to display\n",
    "clearC2 = ee.Image('LANDSAT/LC08/C02/T1_L2/LC08_090085_20210118') \\\n",
    "        .select(['SR_B1','SR_B2','SR_B3','SR_B4','SR_B5','SR_B6','SR_B7',])\n",
    "clearC2 = rescale_landsatC2(clearC2)\n",
    "\n",
    "# Add the layers to the map\n",
    "Map3.addLayer(clearC2, landsatC2_vis,' Landsat image')\n",
    "Map3.addLayerControl()\n",
    "Map3.set_plot_options(add_marker_cluster=True)\n",
    "Map3"
   ]
  },
  {
   "cell_type": "markdown",
   "metadata": {},
   "source": [
    "Now we can export these points and the corresponding band values to a CSV and Shapefile to use them in another software (e.g. QGIS) if we wanted to."
   ]
  },
  {
   "cell_type": "code",
   "execution_count": null,
   "metadata": {
    "ExecuteTime": {
     "end_time": "2022-07-24T21:00:36.657624Z",
     "start_time": "2022-07-24T21:00:36.632471Z"
    }
   },
   "outputs": [],
   "source": [
    "# Change the path to the 'Downloads' folder in your computer\n",
    "folder = 'C:/User/Downloads/'\n",
    "points_shp = os.path.join(folder, 'points.shp')\n",
    "Map3.extract_values_to_points(os.path.join(folder, 'points4.shp'))"
   ]
  },
  {
   "cell_type": "markdown",
   "metadata": {},
   "source": [
    "For us it is important to know the values of each band for each of the points/features we just created and we want to compare them.\n",
    "\n",
    "   \n",
    "To do his, we need to:\n",
    "1. Click on the map tools icon (the little wrench), and select 'Collect Training samples'.\n",
    "1. A table will appear. Fill the 'Required Property' with `landCover`, and the 'Integer Value' with `1`.\n",
    "1. Then fill the 'Optional Property' with `label`, and the 'String Value' with `water`. Click `Apply` and collect 4-10 points over water bodies in the image using the 'Draw a Marker' tool on the left hand side of the map.\n",
    "1. Having done this, change the 'Integer Value' to `2`, and the 'String Value` with `forest`. Click `Apply` and collect 4-10 points over forests.\n",
    "1. continue until you have collected data for at least three different land covers (e.g. forest, clouds, water, bare soil)\n",
    "    \n",
    "![collectPts](../figures/3.1_fig4_collectPts2.JPG)"
   ]
  },
  {
   "cell_type": "code",
   "execution_count": null,
   "metadata": {
    "ExecuteTime": {
     "end_time": "2022-07-24T23:26:08.707640Z",
     "start_time": "2022-07-24T23:26:07.271689Z"
    }
   },
   "outputs": [],
   "source": [
    "Map4 = gmap.Map(center=[-35.9659, 149.4965], zoom=8)\n",
    "\n",
    "# Get  a Landsat image to display\n",
    "clearC2 = ee.Image('LANDSAT/LC08/C02/T1_L2/LC08_090085_20210118') \\\n",
    "        .select(['SR_B1','SR_B2','SR_B3','SR_B4','SR_B5','SR_B6','SR_B7',])\n",
    "clearC2 = rescale_landsatC2(clearC2)\n",
    "\n",
    "# Add the layers to the map\n",
    "Map4.addLayer(modis, modisVisParams, 'MODIS image collection')\n",
    "Map4.addLayer(clearC2, landsatC2_vis,' Landsat image')\n",
    "Map4.addLayerControl()\n",
    "Map4.set_plot_options(add_marker_cluster=True)\n",
    "Map4"
   ]
  },
  {
   "cell_type": "code",
   "execution_count": null,
   "metadata": {
    "ExecuteTime": {
     "end_time": "2022-07-24T23:27:10.201131Z",
     "start_time": "2022-07-24T23:27:10.179138Z"
    }
   },
   "outputs": [],
   "source": [
    "pointsLandsat = clearC2.sampleRegions(**\n",
    "                               {'collection': Map4.user_rois,\n",
    "                                'scale': 30,\n",
    "                                'geometries': True,\n",
    "                               'tileScale': 8}\n",
    "                               )\n",
    "pointsLandsat"
   ]
  },
  {
   "cell_type": "code",
   "execution_count": null,
   "metadata": {
    "ExecuteTime": {
     "end_time": "2022-07-24T23:27:10.606967Z",
     "start_time": "2022-07-24T23:27:10.593708Z"
    }
   },
   "outputs": [],
   "source": [
    "# Now let's do the same with the MODIS images\n",
    "pointsModis = modis.sampleRegions(**\n",
    "                               {'collection': Map4.user_rois,\n",
    "                                'scale': 500,\n",
    "                                'geometries': True,\n",
    "                               'tileScale': 8}\n",
    "                               )\n",
    "pointsModis"
   ]
  },
  {
   "cell_type": "code",
   "execution_count": null,
   "metadata": {
    "ExecuteTime": {
     "end_time": "2022-07-24T23:27:12.608200Z",
     "start_time": "2022-07-24T23:27:10.690448Z"
    },
    "scrolled": true
   },
   "outputs": [],
   "source": [
    "# Add all the points/polygons to the map\n",
    "Map4.addLayer(pointsLandsat,{'color':'red'},'point samples')"
   ]
  },
  {
   "cell_type": "markdown",
   "metadata": {},
   "source": [
    "<div class=\"alert alert-block alert-warning\">\n",
    "If you get an error like this one:\n",
    "    `EEException: Parameter 'collection' is required.`\n",
    "it means that you have not gathered the points. Go back to Map4, collect the training points and try again.\n",
    "</div>"
   ]
  },
  {
   "cell_type": "markdown",
   "metadata": {},
   "source": [
    "Now each point has the values for each Landsat band (pointsLandsat), and each MODIS band (pointsModis)"
   ]
  },
  {
   "cell_type": "code",
   "execution_count": null,
   "metadata": {
    "ExecuteTime": {
     "end_time": "2022-07-24T23:27:14.398795Z",
     "start_time": "2022-07-24T23:27:13.691573Z"
    }
   },
   "outputs": [],
   "source": [
    "# We can export the points with the band valuesto a 'dataframe' (a table)\n",
    "df_landsat = gmap.ee_to_pandas(pointsLandsat, verbose=True)\n",
    "\n",
    "# Now we'll sort the 'label' column to make the figure below look a bit better.\n",
    "# Here we're assuming that you named the 'Optional Property' as 'label'\n",
    "df_landsat = df_landsat.sort_values(by = ['label'])\n",
    "print(df_landsat.head(3))\n",
    "\n",
    "# And we can export the points with the band values to a 'geo dataframe' (a geospatial table)\n",
    "# gdf = gmap.ee_to_geopandas(pointsLandsat, verbose=True)\n",
    "# print(gdf.head(3))\n"
   ]
  },
  {
   "cell_type": "markdown",
   "metadata": {},
   "source": [
    "<div class=\"alert alert-block alert-warning\">\n",
    "Did you get a `KeyError: 'label'`?\n",
    "    \n",
    "If so, double check if you named the 'Optional Property' as 'label', of if you used a different name. Change the code in the cell above to reflect the optional property you chose.\n",
    "If you didn't get the error, you can ignore this message.\n",
    "</div>"
   ]
  },
  {
   "cell_type": "code",
   "execution_count": null,
   "metadata": {
    "ExecuteTime": {
     "end_time": "2022-07-24T23:27:26.195793Z",
     "start_time": "2022-07-24T23:27:25.448205Z"
    }
   },
   "outputs": [],
   "source": [
    "# you can see the deatils of every feature (in this case every point) by using the 'getInfo()' method.\n",
    "pointsLandsat.getInfo()"
   ]
  },
  {
   "cell_type": "code",
   "execution_count": null,
   "metadata": {
    "ExecuteTime": {
     "end_time": "2022-07-24T23:27:34.674223Z",
     "start_time": "2022-07-24T23:27:31.745060Z"
    }
   },
   "outputs": [],
   "source": [
    "# We can export the points with the band valuesto a 'dataframe' (a table)\n",
    "df_modis = gmap.ee_to_pandas(pointsModis, verbose=True)\n",
    "\n",
    "# Now we'll sort the 'label' column to make the figure below look a bit better.\n",
    "df_modis = df_modis.sort_values(by = ['label'])\n",
    "\n",
    "# and we re-oder the columns. See https://lpdaac.usgs.gov/products/myd09a1v061/ to understand the order.\n",
    "modisColumnOrder = ['sur_refl_b03','sur_refl_b04','sur_refl_b01','sur_refl_b02',\n",
    " 'sur_refl_b05','sur_refl_b06','sur_refl_b07','color', 'lc', 'label',]\n",
    "df_modis = df_modis[modisColumnOrder]\n",
    "\n",
    "print(df_modis.head())\n",
    "\n",
    "# And we can export the points with the band values to a 'geo dataframe' (a geospatial table)\n",
    "# gdf_modis = gmap.ee_to_geopandas(pointsModis, verbose=True)\n",
    "# print(gdf_modis.head(3))\n"
   ]
  },
  {
   "cell_type": "markdown",
   "metadata": {},
   "source": [
    "***"
   ]
  },
  {
   "cell_type": "code",
   "execution_count": null,
   "metadata": {
    "ExecuteTime": {
     "end_time": "2022-07-24T23:30:08.646530Z",
     "start_time": "2022-07-24T23:30:08.185139Z"
    }
   },
   "outputs": [],
   "source": [
    "fig, axes = plt.subplots(ncols=2, figsize=(15,5))\n",
    "\n",
    "modisLabels = df_modis['label'].to_list()\n",
    "landsatLabels = df_landsat['label'].to_list()\n",
    "\n",
    "colors = plt.cm.viridis(np.linspace(0, 1, max(len(modisLabels), len(landsatLabels))))\n",
    "\n",
    "n=0\n",
    "\n",
    "# We plot the data on each row independently\n",
    "for index, row in df_modis.drop(['color','landCover','label'], axis=1).iterrows():\n",
    "    axes[1].plot(row, label=modisLabels[n], color=colors[n] )\n",
    "    n +=1\n",
    "\n",
    "n=0\n",
    "for index, row in df_landsat.drop(['color','landCover','label'], axis=1).iterrows():\n",
    "    axes[0].plot(row, label=landsatLabels[n] , color=colors[n] )\n",
    "    n +=1    \n",
    "    \n",
    "# Set the lables for the axes    \n",
    "axes[0].set_ylabel('Landsat reflectance')\n",
    "axes[1].set_ylabel('MODIS reflectance')\n",
    "axes[0].set_xlabel('Landsat bands')\n",
    "axes[1].set_xlabel('MODIS bands')\n",
    "\n",
    "plt.show()"
   ]
  },
  {
   "cell_type": "code",
   "execution_count": null,
   "metadata": {
    "ExecuteTime": {
     "end_time": "2022-07-24T23:30:20.916705Z",
     "start_time": "2022-07-24T23:30:19.495097Z"
    }
   },
   "outputs": [],
   "source": [
    "Map5 = gmap.Map(center=[-35.9659, 149.4965], zoom=8)\n",
    "\n",
    "# Geth  a Landsat image to display\n",
    "clearC2 = ee.Image('LANDSAT/LC08/C02/T1_L2/LC08_090085_20210118') \\\n",
    "        .select(['SR_B1','SR_B2','SR_B3','SR_B4','SR_B5','SR_B6','SR_B7',])\n",
    "clearC2 = rescale_landsatC2(clearC2)\n",
    "\n",
    "# Add the layers to the map\n",
    "Map5.addLayer(clearC2, landsatC2_vis,' Landsat image')\n",
    "Map5.addLayer(hyper, hyperVisParams, 'Hyperion hyperspectral image collection')\n",
    "\n",
    "Map5.set_plot_options(add_marker_cluster=True)\n",
    "Map5"
   ]
  },
  {
   "cell_type": "code",
   "execution_count": null,
   "metadata": {
    "ExecuteTime": {
     "end_time": "2022-07-24T21:00:43.878164Z",
     "start_time": "2022-07-24T21:00:43.878164Z"
    }
   },
   "outputs": [],
   "source": [
    "pointsHyperion = hyper.sampleRegions(**\n",
    "                               {'collection': Map5.user_rois,\n",
    "                                'scale': 30,\n",
    "                                'geometries': True,\n",
    "                               'tileScale': 8}\n",
    "                               )\n",
    "pointsHyperion"
   ]
  },
  {
   "cell_type": "code",
   "execution_count": null,
   "metadata": {
    "ExecuteTime": {
     "end_time": "2022-07-24T21:00:43.881318Z",
     "start_time": "2022-07-24T21:00:43.881318Z"
    },
    "scrolled": true
   },
   "outputs": [],
   "source": [
    "# Add all the points/polygons to the map\n",
    "Map5.addLayer(pointsHyperion,{},'hyperion point samples')"
   ]
  },
  {
   "cell_type": "markdown",
   "metadata": {},
   "source": [
    "Now each point has the values for each Landsat band (pointsLandsat), and each MODIS band (pointsModis)"
   ]
  },
  {
   "cell_type": "code",
   "execution_count": null,
   "metadata": {
    "ExecuteTime": {
     "end_time": "2022-07-24T21:00:43.884097Z",
     "start_time": "2022-07-24T21:00:43.884097Z"
    }
   },
   "outputs": [],
   "source": [
    "# We can export the points with the band valuesto a 'dataframe' (a table)\n",
    "df_hyperion = gmap.ee_to_pandas(pointsHyperion, verbose=True)\n",
    "\n",
    "# Now we'll sort the 'label' column to make the figure below look a bit better. \n",
    "df_hyperion = df_hyperion.sort_values(by = ['label'])\n",
    "print(df_hyperion.head(3))\n"
   ]
  },
  {
   "cell_type": "markdown",
   "metadata": {},
   "source": [
    "Now each point has the values for each Hyperion band (pointsHyperion), however plotting the ~190 bands of Hyperion is a challenge. So we need to make some adjustments to the plot."
   ]
  },
  {
   "cell_type": "code",
   "execution_count": null,
   "metadata": {
    "ExecuteTime": {
     "end_time": "2022-07-24T21:00:43.887092Z",
     "start_time": "2022-07-24T21:00:43.887092Z"
    },
    "scrolled": true
   },
   "outputs": [],
   "source": [
    "# First, we create a list of the column names. In this case, each column name is the name of each spectral band.\n",
    "hyperColNames = df_hyperion.drop(['color','lc','label'], axis=1).columns.to_list()\n",
    "# print(hyperColNames)\n",
    "\n",
    "# and sort the band names from \n",
    "hyperColNames.sort()\n",
    "\n",
    "# and select every 3rd band for the plot\n",
    "bandLabels = hyperColNames[::3]\n",
    "# print(bandLabels)"
   ]
  },
  {
   "cell_type": "code",
   "execution_count": null,
   "metadata": {
    "ExecuteTime": {
     "end_time": "2022-07-24T21:00:43.890082Z",
     "start_time": "2022-07-24T21:00:43.890082Z"
    }
   },
   "outputs": [],
   "source": [
    "fig, axes = plt.subplot_mosaic(\n",
    "    [['a)', 'b)'], \n",
    "     ['c)', 'c)'],\n",
    "], constrained_layout=True, figsize=(15,7))\n",
    "\n",
    "\n",
    "# We plot the data on each row independently\n",
    "for index, row in df_modis.drop(['color','landCover','label'], axis=1).iterrows():\n",
    "    axes['a)'].plot(row, color='grey' )\n",
    "    n +=1\n",
    "\n",
    "n=0\n",
    "for index, row in df_landsat.drop(['color','landCover','label'], axis=1).iterrows():\n",
    "    axes['b)'].plot(row, color='grey'  )\n",
    "    n +=1    \n",
    "\n",
    "n=0\n",
    "for index, row in df_hyperion.drop(['color','landCover','label'], axis=1).sort_index(axis=1).iterrows():\n",
    "    axes['c)'].plot(row, color='grey' , alpha=0.5 )\n",
    "    n +=1 \n",
    "\n",
    "    # Set the lables for the axes    \n",
    "axes['a)'].set_ylabel('Landsat reflectance')\n",
    "axes['b)'].set_ylabel('MODIS reflectance')\n",
    "axes['c)'].set_ylabel('Hyperion radiance')\n",
    "axes['a)'].set_xlabel('Landsat bands')\n",
    "axes['b)'].set_xlabel('MODIS bands')\n",
    "axes['c)'].set_xlabel('Hyperion bands')\n",
    "axes['a)'].set_title('Landsat data')\n",
    "axes['b)'].set_title('Modis data')\n",
    "axes['c)'].set_title('Hyperion data')\n",
    "plt.xticks(bandLabels, labels = bandLabels, rotation=45, fontsize=10)\n",
    "plt.show()\n"
   ]
  },
  {
   "cell_type": "markdown",
   "metadata": {},
   "source": [
    "***"
   ]
  },
  {
   "cell_type": "markdown",
   "metadata": {},
   "source": []
  },
  {
   "cell_type": "markdown",
   "metadata": {},
   "source": [
    "***"
   ]
  },
  {
   "cell_type": "markdown",
   "metadata": {},
   "source": [
    "## Summary\n",
    "\n",
    "In this notebook you have learned about how different sensors have different spatial and spectral resolutions. These **will** affect your analysis, so you'll have to understand which sensor is better for which analysis."
   ]
  },
  {
   "cell_type": "markdown",
   "metadata": {},
   "source": [
    "***"
   ]
  },
  {
   "cell_type": "markdown",
   "metadata": {},
   "source": [
    "## References and useful readings\n",
    "<div class=\"alert alert-block alert-danger\">\n",
    "    \n",
    "**update**\n",
    "    \n",
    "- See recomended readings for week 2 in wattle\n",
    "- https://geemap.org/\n",
    "- http://dx.doi.org/10.1016/j.rse.2015.11.032\n",
    "- https://doi.org/10.3390/rs1030184\n",
    "- https://doi.org/10.1016/j.rse.2014.02.001\n",
    "    </div>"
   ]
  },
  {
   "cell_type": "markdown",
   "metadata": {
    "tags": []
   },
   "source": [
    "***\n",
    "\n",
    "## Additional information\n",
    "\n",
    "**Sources:** \n",
    "\n",
    "**License:** The code in this notebook is licensed under a [Creative Commons Attribution 4.0 International License](https://creativecommons.org/licenses/by/4.0/). \n",
    "\n",
    "**Contact:** If you need assistance, please post a question on the ENGN3903 Wattle (**check**) site \n",
    "\n",
    "**Last modified:** August 2022"
   ]
  },
  {
   "cell_type": "markdown",
   "metadata": {},
   "source": [
    "***"
   ]
  }
 ],
 "metadata": {
  "kernelspec": {
   "display_name": "Python 3 (ipykernel)",
   "language": "python",
   "name": "python3"
  },
  "language_info": {
   "codemirror_mode": {
    "name": "ipython",
    "version": 3
   },
   "file_extension": ".py",
   "mimetype": "text/x-python",
   "name": "python",
   "nbconvert_exporter": "python",
   "pygments_lexer": "ipython3",
   "version": "3.10.4"
  },
  "latex_envs": {
   "LaTeX_envs_menu_present": true,
   "autoclose": true,
   "autocomplete": true,
   "bibliofile": "biblio.bib",
   "cite_by": "apalike",
   "current_citInitial": 1,
   "eqLabelWithNumbers": true,
   "eqNumInitial": 1,
   "hotkeys": {
    "equation": "Ctrl-E",
    "itemize": "Ctrl-I"
   },
   "labels_anchors": false,
   "latex_user_defs": false,
   "report_style_numbering": false,
   "user_envs_cfg": false
  },
  "toc": {
   "base_numbering": 1,
   "nav_menu": {},
   "number_sections": true,
   "sideBar": true,
   "skip_h1_title": false,
   "title_cell": "Table of Contents",
   "title_sidebar": "Contents",
   "toc_cell": false,
   "toc_position": {
    "height": "calc(100% - 180px)",
    "left": "10px",
    "top": "150px",
    "width": "213px"
   },
   "toc_section_display": true,
   "toc_window_display": true
  },
  "varInspector": {
   "cols": {
    "lenName": 16,
    "lenType": 16,
    "lenVar": 40
   },
   "kernels_config": {
    "python": {
     "delete_cmd_postfix": "",
     "delete_cmd_prefix": "del ",
     "library": "var_list.py",
     "varRefreshCmd": "print(var_dic_list())"
    },
    "r": {
     "delete_cmd_postfix": ") ",
     "delete_cmd_prefix": "rm(",
     "library": "var_list.r",
     "varRefreshCmd": "cat(var_dic_list()) "
    }
   },
   "types_to_exclude": [
    "module",
    "function",
    "builtin_function_or_method",
    "instance",
    "_Feature"
   ],
   "window_display": false
  },
  "widgets": {
   "application/vnd.jupyter.widget-state+json": {
    "state": {},
    "version_major": 2,
    "version_minor": 0
   }
  }
 },
 "nbformat": 4,
 "nbformat_minor": 4
}
