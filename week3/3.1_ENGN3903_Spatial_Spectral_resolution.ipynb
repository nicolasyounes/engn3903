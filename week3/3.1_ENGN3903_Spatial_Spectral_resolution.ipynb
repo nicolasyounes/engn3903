{
 "cells": [
  {
   "cell_type": "markdown",
   "metadata": {},
   "source": [
    "# Spatial, spectral, and temporal resolutions\n",
    "\n",
    "* **Special requirements:** A Google account, access to Google Earth Engine.\n",
    "* **Prerequisites:** You should have completed the \"2.1_ENGN3903_Satellite images and bands\", the \"2ENGN3903_Images, collections, and filters\" notebook.\n"
   ]
  },
  {
   "cell_type": "markdown",
   "metadata": {},
   "source": [
    "## Background\n",
    "\n",
    "(Refer to Lecture 2 of week 2)\n",
    "\n",
    "Resolution is the ability to discriminate information in an image. The discrimination of information refers not only to the spatial detail (spatial resolution) but also to the number of spectral waveband, their bandwidths and spectral covered (spectral resolution), the temporal frequency of observations (temporal resolution) and the signal to noise ration or its ability to distinguish vitiations in the energy detected (radiomatric resolution). One may also have consideration the sensor potential  to acquire information at different viewing angles (angular resolution) or polarization channels (polimetric resolution)\n"
   ]
  },
  {
   "cell_type": "markdown",
   "metadata": {},
   "source": []
  },
  {
   "cell_type": "markdown",
   "metadata": {},
   "source": []
  },
  {
   "cell_type": "markdown",
   "metadata": {},
   "source": [
    "## Aims of the practical session\n",
    "\n",
    "This practical has three aims:\n",
    "1. to understand the differences between the spatial, spectral, and temporal resolutions of different satellite sensors.\n",
    "1. to plot the spectral signature of different land cover types, and\n",
    "1. to calculate different spectral indices.\n",
    "\n",
    "\n",
    "***"
   ]
  },
  {
   "cell_type": "markdown",
   "metadata": {},
   "source": [
    "## Description\n",
    "\n",
    "In this notebook we'll load images from 3 different sensors and will use them to understand the differences between the spatial, spectral and temporal resolution in the remote sensing context. \n",
    "\n",
    "First we will:\n",
    "- Load Landsat, Sentinel 2, and MODIS images for the Canberra region.\n",
    "\n",
    "Then we will:\n",
    "- visualize the images of the different sensors side-by-side to understand the concept of spatial resolution;\n",
    "- list the number of images collected in a two-month period and compare the three sensors to understand the concept of temporal resolution;\n",
    "\n",
    "Afterwards we will:\n",
    "- calculate and compare different spectral indices.\n",
    "\n",
    "<div class=\"alert alert-block alert-warning\">\n",
    "<b>Assessment:</b> Once you finish the practical and the excercises, remember to submit your notebook through Wattle by Sunday.\n",
    "Challenges are optional and will not be part of the assessment.\n",
    "</div>\n",
    "\n",
    "***"
   ]
  },
  {
   "cell_type": "markdown",
   "metadata": {},
   "source": [
    "## Getting started\n"
   ]
  },
  {
   "cell_type": "markdown",
   "metadata": {},
   "source": [
    "### Load packages\n",
    "\n",
    "Import Python packages that are used for the analysis.\n"
   ]
  },
  {
   "cell_type": "code",
   "execution_count": 1,
   "metadata": {
    "ExecuteTime": {
     "end_time": "2022-07-24T21:00:23.228159Z",
     "start_time": "2022-07-24T21:00:18.463838Z"
    },
    "scrolled": true
   },
   "outputs": [],
   "source": [
    "# %matplotlib inline\n",
    "\n",
    "import geemap as gmap\n",
    "import os\n",
    "import ee\n",
    "import matplotlib.pyplot as plt\n",
    "import numpy as np\n",
    "import pandas as pd"
   ]
  },
  {
   "cell_type": "markdown",
   "metadata": {},
   "source": [
    "### Connect to Google Earth Engine (GEE)\n",
    "\n",
    "Connect to the GEE so we can access GEE datasets and computing assets.\n",
    "You may be required to input your Google account name and password. Please keep those safe and don't share them with anyone."
   ]
  },
  {
   "cell_type": "code",
   "execution_count": 2,
   "metadata": {
    "ExecuteTime": {
     "end_time": "2022-07-24T21:00:28.765377Z",
     "start_time": "2022-07-24T21:00:23.233109Z"
    }
   },
   "outputs": [],
   "source": [
    "m = gmap.Map()"
   ]
  },
  {
   "cell_type": "markdown",
   "metadata": {},
   "source": [
    "***"
   ]
  },
  {
   "cell_type": "markdown",
   "metadata": {},
   "source": [
    "## Comparing the spatial resolution of different sensors."
   ]
  },
  {
   "cell_type": "markdown",
   "metadata": {},
   "source": [
    "Load the Landsat 8 and Sentinel 2 image collections that intersect the ACT and visualize them in a map"
   ]
  },
  {
   "cell_type": "code",
   "execution_count": 3,
   "metadata": {
    "ExecuteTime": {
     "end_time": "2022-07-24T21:00:30.662525Z",
     "start_time": "2022-07-24T21:00:28.769322Z"
    }
   },
   "outputs": [],
   "source": [
    "# First, let's create a polygon around the ACT\n",
    "act = ee.Geometry.Polygon([[148.7392751586051,-36.011462319908816],\n",
    "   [149.8598806273551,-36.011462319908816],\n",
    "   [149.8598806273551,-35.1087997777942],\n",
    "   [148.7392751586051,-35.1087997777942],\n",
    "   [148.7392751586051,-36.011462319908816]])\n",
    "\n",
    "# Let's add the polygon to the map\n",
    "Map = gmap.Map(center=[-35.2041, 149.2721], zoom=10)\n",
    "Map.addLayer(act,{},'act')"
   ]
  },
  {
   "cell_type": "code",
   "execution_count": 4,
   "metadata": {
    "ExecuteTime": {
     "end_time": "2022-07-24T21:00:31.975758Z",
     "start_time": "2022-07-24T21:00:30.668451Z"
    }
   },
   "outputs": [
    {
     "data": {
      "application/vnd.jupyter.widget-view+json": {
       "model_id": "22bcd2d9709a4b869f801fbf031d25c5",
       "version_major": 2,
       "version_minor": 0
      },
      "text/plain": [
       "Map(center=[-35.2041, 149.2721], controls=(WidgetControl(options=['position', 'transparent_bg'], widget=HBox(c…"
      ]
     },
     "metadata": {},
     "output_type": "display_data"
    }
   ],
   "source": [
    "# Now let's add the image collections.\n",
    "s2 = ee.ImageCollection(\"COPERNICUS/S2_SR_HARMONIZED\")\n",
    "modis = ee.ImageCollection(\"MODIS/061/MYD09A1\").select([\n",
    "    'sur_refl_b01',\n",
    "    'sur_refl_b02',\n",
    "    'sur_refl_b03',\n",
    "    'sur_refl_b04',\n",
    "    'sur_refl_b05',\n",
    "    'sur_refl_b06',\n",
    "    'sur_refl_b07'])\n",
    "\n",
    "# Filter the image collections by date, and by location.\n",
    "s2 = s2.filterDate('2019-02', '2019-04').filterBounds(act).median()\n",
    "modis = modis.filterDate('2019-02', '2019-04').filterBounds(act).median()\n",
    "\n",
    "# Lastly, let's give some visualization paramaters to each collection.\n",
    "s2VisParam = {'bands': [\"B4\",\"B3\",\"B2\"],\n",
    "              'max': 2700,\n",
    "              'min': 0}\n",
    "\n",
    "# Note that the visualization are different for each image collection.\n",
    "modisVisParams = {'bands': [\"sur_refl_b01\",\"sur_refl_b04\",\"sur_refl_b03\"],\n",
    "              'max': 2100,\n",
    "              'min': 0}\n",
    "              \n",
    "Map.addLayer(s2, s2VisParam, 's2')\n",
    "Map.addLayer(modis, modisVisParams, 'modis')\n",
    "# Map.addLayer(act,{},'ACT')\n",
    "\n",
    "Map"
   ]
  },
  {
   "cell_type": "markdown",
   "metadata": {},
   "source": [
    "### <a name=\"ex1\"></a> Exercise 1 - add the Landsat 8 image collection to the map.\n",
    "\n",
    "You've done this before, just make sure you filter the image collection with the same dates as the ones above. \n"
   ]
  },
  {
   "cell_type": "code",
   "execution_count": 5,
   "metadata": {
    "ExecuteTime": {
     "end_time": "2022-07-24T21:00:31.991714Z",
     "start_time": "2022-07-24T21:00:31.980743Z"
    }
   },
   "outputs": [],
   "source": [
    "# Your code goes here\n"
   ]
  },
  {
   "cell_type": "markdown",
   "metadata": {},
   "source": [
    "<a href=\"#ex1answer\">Answer to Exercise 1</a>"
   ]
  },
  {
   "cell_type": "markdown",
   "metadata": {},
   "source": [
    "### <a name=\"ex1\"></a> Exercise 2 - Understanding spatial resolution.\n",
    "\n",
    "\n",
    "<div class=\"alert alert-block alert-danger\">\n",
    "\n",
    "**Answer the following questions:**\n",
    "\n",
    "1) What is the smallest feature you can identify using the MODIS, Landsat, and Sentinel 2 imagery?\n",
    "    \n",
    "2) Which satellite sensor has the best and worst spatial resolution.\n",
    "\n",
    "</div>    \n",
    "\n",
    "Try identifying the following features / places / landmarks:\n",
    ">- Telstra Tower\n",
    ">- a car\n",
    ">- a football/cricket field\n",
    ">- Canberra Airport\n",
    ">- Lake George,\n",
    ">- a crop field\n",
    ">- a mountain range or a large forest.\n",
    "\n"
   ]
  },
  {
   "cell_type": "markdown",
   "metadata": {},
   "source": [
    "Your answer goes here:\n",
    "\n",
    "."
   ]
  },
  {
   "cell_type": "markdown",
   "metadata": {},
   "source": [
    "***"
   ]
  },
  {
   "cell_type": "markdown",
   "metadata": {},
   "source": [
    "## Comparing the spectral resolution of different sensors\n",
    "\n",
    "There are few hyperspectral sensors in orbit.\n",
    "\n",
    "Fortunately, we have access to [Hyperion](https://www.usgs.gov/centers/eros/science/earth-observing-1-eo-1) data. Hyperion was a hyperspectral sensor that was Decommissioned in 2017, but gathered data in many places around the globe.\n",
    "\n",
    "As with the other sensors, we can add these data to our map, and filter by date and location.\n"
   ]
  },
  {
   "cell_type": "markdown",
   "metadata": {},
   "source": [
    "<div class=\"alert alert-block alert-danger\"> \n",
    "    \n",
    "**caution**\n",
    "Because Hyperion only provides irradiance data, we might have to\n",
    "1) either perform atmospheric correction, or\n",
    "2) load TOA Landsat data and uncorrected MODIS\n",
    "so the plots are comparable\n",
    "<div>"
   ]
  },
  {
   "cell_type": "code",
   "execution_count": 6,
   "metadata": {
    "ExecuteTime": {
     "end_time": "2022-07-24T21:00:35.528943Z",
     "start_time": "2022-07-24T21:00:31.995703Z"
    },
    "tags": []
   },
   "outputs": [
    {
     "data": {
      "application/vnd.jupyter.widget-view+json": {
       "model_id": "e5670df291814e8cb43d5bc6231da4ca",
       "version_major": 2,
       "version_minor": 0
      },
      "text/plain": [
       "Map(center=[-35.2041, 149.2721], controls=(WidgetControl(options=['position', 'transparent_bg'], widget=HBox(c…"
      ]
     },
     "metadata": {},
     "output_type": "display_data"
    }
   ],
   "source": [
    "Map2 = gmap.Map(center=[-35.2041, 149.2721], zoom=8)\n",
    "\n",
    "# Geth the Hyperion image collection and a Landsat image to display\n",
    "hyper = ee.ImageCollection(\"EO1/HYPERION\").filterBounds(act).median()\n",
    "\n",
    "clearC2 = ee.Image('LANDSAT/LC08/C02/T1_L2/LC08_090085_20210118') \\\n",
    "        .select(['SR_B1','SR_B2','SR_B3','SR_B4','SR_B5','SR_B6','SR_B7',])\n",
    "\n",
    "# Set the visualization parameters for the images we're going to display\n",
    "hyperVisParams = {'bands': [\"B035\",\"B023\",\"B015\"],\n",
    "                 'max':6000,\n",
    "                 'min':500}\n",
    "\n",
    "landsatC2_vis = {'bands': ['SR_B4', 'SR_B3', 'SR_B2'],\n",
    "              'min': 7000,\n",
    "              'max': 27000}\n",
    "\n",
    "# Add the layers to the map\n",
    "Map2.addLayer(modis, modisVisParams, 'MODIS image collection')\n",
    "Map2.addLayer(clearC2, landsatC2_vis,' Landsat image')\n",
    "Map2.addLayer(hyper, hyperVisParams, 'Hyperion hyperspectral image collection')\n",
    "\n",
    "Map2.set_plot_options(add_marker_cluster=True)\n",
    "Map2"
   ]
  },
  {
   "cell_type": "markdown",
   "metadata": {},
   "source": [
    "### <a name=\"ex3\"></a> Exercise 3 - Understanding the spectral resolution.\n",
    "\n",
    "\n",
    "<div class=\"alert alert-block alert-danger\">\n",
    "\n",
    "**Compare and contrast:**\n",
    "\n",
    "1) The spatial *coverage* of the MODIS data, versus the Hyperion data\n",
    "    \n",
    "2) The spectral resolution of the MODIS, Landsat, and Hyperion images.\n",
    "\n",
    "</div>    \n"
   ]
  },
  {
   "cell_type": "markdown",
   "metadata": {},
   "source": [
    "## Displaying the spectral signatures of different land covers\n",
    "\n",
    "Now click on the map toolbar and select the 'Plotting' icon as shown below. Pay atention to the image selected for this excercise. If you add more data to the map, you'll need to select the image you want to explore.\n",
    "![3.1_fig3.PNG](NYC_draftsAndResources/3.1_fig3.PNG)\n",
    "\n",
    "Now click anywhere on the image and look at the spectral signature of the selected feature. Is it what you would expect?"
   ]
  },
  {
   "cell_type": "code",
   "execution_count": 7,
   "metadata": {
    "ExecuteTime": {
     "end_time": "2022-07-24T21:00:36.626176Z",
     "start_time": "2022-07-24T21:00:35.532937Z"
    }
   },
   "outputs": [
    {
     "data": {
      "application/vnd.jupyter.widget-view+json": {
       "model_id": "80fc50aafe1f41e99a4d5241ea0aeb78",
       "version_major": 2,
       "version_minor": 0
      },
      "text/plain": [
       "Map(center=[-35.9659, 149.4965], controls=(WidgetControl(options=['position', 'transparent_bg'], widget=HBox(c…"
      ]
     },
     "metadata": {},
     "output_type": "display_data"
    }
   ],
   "source": [
    "Map3 = gmap.Map(center=[-35.9659, 149.4965], zoom=8)\n",
    "\n",
    "# Geth  a Landsat image to display\n",
    "clearC2 = ee.Image('LANDSAT/LC08/C02/T1_L2/LC08_090085_20210118') \\\n",
    "        .select(['SR_B1','SR_B2','SR_B3','SR_B4','SR_B5','SR_B6','SR_B7',])\n",
    "\n",
    "# Add the layers to the map\n",
    "Map3.addLayer(clearC2, landsatC2_vis,' Landsat image')\n",
    "\n",
    "Map3.set_plot_options(add_marker_cluster=True)\n",
    "Map3"
   ]
  },
  {
   "cell_type": "markdown",
   "metadata": {},
   "source": [
    "<div class=\"alert alert-block alert-danger\"> \n",
    "    \n",
    "**caution**\n",
    "\n",
    "the spectral signatures of water look weird. \n",
    "    might have to use a different image.\n",
    "<div>"
   ]
  },
  {
   "cell_type": "markdown",
   "metadata": {},
   "source": [
    "Now we can export these points and the corresponding band values to a CSV and Shapefile to use them in another software (e.g. QGIS) if we wanted to."
   ]
  },
  {
   "cell_type": "code",
   "execution_count": 8,
   "metadata": {
    "ExecuteTime": {
     "end_time": "2022-07-24T21:00:36.657624Z",
     "start_time": "2022-07-24T21:00:36.632471Z"
    }
   },
   "outputs": [],
   "source": [
    "# Change the path to the 'Downloads' folder in your computer\n",
    "folder = 'C:/User/Downloads/'\n",
    "points_shp = os.path.join(folder, 'points.shp')\n",
    "Map3.extract_values_to_points(os.path.join(folder, 'points4.shp'))"
   ]
  },
  {
   "cell_type": "markdown",
   "metadata": {},
   "source": [
    "For us it is important to know the values of each band for each of the points/features we just created and we want to compare them.\n",
    "\n",
    "   \n",
    "To dot his, we need to:\n",
    "1. Click on the map tools icon (the little wrench), and select 'Collect Training samples'.\n",
    "1. A table will appear. Fill the 'Required Property' with `landCover`, and the 'Integer Value' with `1`.\n",
    "1. Then fill the 'Optional Property' with `label`, and the 'String Value' with `water`. Click `Apply` and collect 4-10 points over water bodies in the image using the 'Draw a Marker' tool on the left hand side of the map.\n",
    "1. Having done this, change the 'Integer Value' to `2`, and the 'String Value` with `forest`. Click `Apply` and collect 4-10 points over forests.\n",
    "1. continue until you have collected data for at least three different land covers (e.g. forest, clouds, water, bare soil)\n",
    "    \n",
    "![collectPts](NYC_draftsAndResources/3.1_fig4_collectPts2.JPG)"
   ]
  },
  {
   "cell_type": "code",
   "execution_count": 33,
   "metadata": {
    "ExecuteTime": {
     "end_time": "2022-07-24T23:26:08.707640Z",
     "start_time": "2022-07-24T23:26:07.271689Z"
    }
   },
   "outputs": [
    {
     "data": {
      "application/vnd.jupyter.widget-view+json": {
       "model_id": "4f93d66478c14339a969d9aae594114d",
       "version_major": 2,
       "version_minor": 0
      },
      "text/plain": [
       "Map(center=[-35.9659, 149.4965], controls=(WidgetControl(options=['position', 'transparent_bg'], widget=HBox(c…"
      ]
     },
     "metadata": {},
     "output_type": "display_data"
    }
   ],
   "source": [
    "Map4 = gmap.Map(center=[-35.9659, 149.4965], zoom=8)\n",
    "\n",
    "# Geth  a Landsat image to display\n",
    "clearC2 = ee.Image('LANDSAT/LC08/C02/T1_L2/LC08_090085_20210118') \\\n",
    "        .select(['SR_B1','SR_B2','SR_B3','SR_B4','SR_B5','SR_B6','SR_B7',])\n",
    "\n",
    "# Add the layers to the map\n",
    "Map4.addLayer(modis, modisVisParams, 'MODIS image collection')\n",
    "Map4.addLayer(clearC2, landsatC2_vis,' Landsat image')\n",
    "\n",
    "Map4.set_plot_options(add_marker_cluster=True)\n",
    "Map4"
   ]
  },
  {
   "cell_type": "code",
   "execution_count": 34,
   "metadata": {
    "ExecuteTime": {
     "end_time": "2022-07-24T23:27:10.201131Z",
     "start_time": "2022-07-24T23:27:10.179138Z"
    }
   },
   "outputs": [
    {
     "data": {
      "text/plain": [
       "<ee.featurecollection.FeatureCollection at 0x2310e67ebe0>"
      ]
     },
     "execution_count": 34,
     "metadata": {},
     "output_type": "execute_result"
    }
   ],
   "source": [
    "pointsLandsat = clearC2.sampleRegions(**\n",
    "                               {'collection': Map4.user_rois,\n",
    "                                'scale': 30,\n",
    "                                'geometries': True,\n",
    "                               'tileScale': 8}\n",
    "                               )\n",
    "pointsLandsat"
   ]
  },
  {
   "cell_type": "code",
   "execution_count": 35,
   "metadata": {
    "ExecuteTime": {
     "end_time": "2022-07-24T23:27:10.606967Z",
     "start_time": "2022-07-24T23:27:10.593708Z"
    }
   },
   "outputs": [
    {
     "data": {
      "text/plain": [
       "<ee.featurecollection.FeatureCollection at 0x2310e67ea60>"
      ]
     },
     "execution_count": 35,
     "metadata": {},
     "output_type": "execute_result"
    }
   ],
   "source": [
    "# Now let's do the same with the MODIS images\n",
    "pointsModis = modis.sampleRegions(**\n",
    "                               {'collection': Map4.user_rois,\n",
    "                                'scale': 500,\n",
    "                                'geometries': True,\n",
    "                               'tileScale': 8}\n",
    "                               )\n",
    "pointsModis"
   ]
  },
  {
   "cell_type": "code",
   "execution_count": 36,
   "metadata": {
    "ExecuteTime": {
     "end_time": "2022-07-24T23:27:12.608200Z",
     "start_time": "2022-07-24T23:27:10.690448Z"
    },
    "scrolled": true
   },
   "outputs": [],
   "source": [
    "# Add all the points/polygons to the map\n",
    "Map4.addLayer(pointsLandsat,{'color':'red'},'point samples')"
   ]
  },
  {
   "cell_type": "markdown",
   "metadata": {},
   "source": [
    "<div class=\"alert alert-block alert-warning\">\n",
    "If you get an error like this one:\n",
    "    `EEException: Parameter 'collection' is required.`\n",
    "it means that you have not gathered the points. Go back to Map4, collect the training points and try again.\n",
    "</div>"
   ]
  },
  {
   "cell_type": "markdown",
   "metadata": {},
   "source": [
    "Now each point has the values for each Landsat band (pointsLandsat), and each MODIS band (pointsModis)"
   ]
  },
  {
   "cell_type": "code",
   "execution_count": 37,
   "metadata": {
    "ExecuteTime": {
     "end_time": "2022-07-24T23:27:14.398795Z",
     "start_time": "2022-07-24T23:27:13.691573Z"
    }
   },
   "outputs": [
    {
     "name": "stdout",
     "output_type": "stream",
     "text": [
      "     color label  landCover  SR_B1  SR_B2  SR_B3  SR_B4  SR_B5  SR_B6  SR_B7\n",
      "6  #3388ff  land          2   8389   8711   9416   9898  14803  15802  12755\n",
      "7  #3388ff  land          2   8358   8488   9402   9049  19411  14307  11286\n",
      "8  #3388ff  land          2   8377   8539   9064   9466  13538  14629  12600\n"
     ]
    }
   ],
   "source": [
    "# We can export the points with the band valuesto a 'dataframe' (a table)\n",
    "df_landsat = gmap.ee_to_pandas(pointsLandsat, verbose=True)\n",
    "\n",
    "# Now we'll sort the 'label' column to make the figure below look a bit better.\n",
    "# Here we're assuming that you named the 'Optional Property' as 'label'\n",
    "df_landsat = df_landsat.sort_values(by = ['label'])\n",
    "print(df_landsat.head(3))\n",
    "\n",
    "# And we can export the points with the band values to a 'geo dataframe' (a geospatial table)\n",
    "# gdf = gmap.ee_to_geopandas(pointsLandsat, verbose=True)\n",
    "# print(gdf.head(3))\n"
   ]
  },
  {
   "cell_type": "markdown",
   "metadata": {},
   "source": [
    "<div class=\"alert alert-block alert-warning\">\n",
    "Did you get a `KeyError: 'label'`?\n",
    "    \n",
    "If so, double check if you named the 'Optional Property' as 'label', of if you used a different name. Change the code in the cell above to reflect the optional property you chose.\n",
    "If you didn't get the error, you can ignore this message.\n",
    "</div>"
   ]
  },
  {
   "cell_type": "code",
   "execution_count": 38,
   "metadata": {
    "ExecuteTime": {
     "end_time": "2022-07-24T23:27:26.195793Z",
     "start_time": "2022-07-24T23:27:25.448205Z"
    }
   },
   "outputs": [
    {
     "data": {
      "text/plain": [
       "{'type': 'FeatureCollection',\n",
       " 'columns': {},\n",
       " 'properties': {'band_order': ['SR_B1',\n",
       "   'SR_B2',\n",
       "   'SR_B3',\n",
       "   'SR_B4',\n",
       "   'SR_B5',\n",
       "   'SR_B6',\n",
       "   'SR_B7']},\n",
       " 'features': [{'type': 'Feature',\n",
       "   'geometry': {'geodesic': False,\n",
       "    'type': 'Point',\n",
       "    'coordinates': [150.45527404950445, -35.64926660796996]},\n",
       "   'id': '0_0',\n",
       "   'properties': {'SR_B1': 7389,\n",
       "    'SR_B2': 7501,\n",
       "    'SR_B3': 7549,\n",
       "    'SR_B4': 7330,\n",
       "    'SR_B5': 7517,\n",
       "    'SR_B6': 8012,\n",
       "    'SR_B7': 8042,\n",
       "    'color': '#3388ff',\n",
       "    'label': 'water',\n",
       "    'landCover': 1}},\n",
       "  {'type': 'Feature',\n",
       "   'geometry': {'geodesic': False,\n",
       "    'type': 'Point',\n",
       "    'coordinates': [150.32897807934228, -36.02779083717511]},\n",
       "   'id': '1_0',\n",
       "   'properties': {'SR_B1': 7384,\n",
       "    'SR_B2': 7529,\n",
       "    'SR_B3': 7635,\n",
       "    'SR_B4': 7417,\n",
       "    'SR_B5': 7594,\n",
       "    'SR_B6': 8067,\n",
       "    'SR_B7': 8097,\n",
       "    'color': '#3388ff',\n",
       "    'label': 'water',\n",
       "    'landCover': 1}},\n",
       "  {'type': 'Feature',\n",
       "   'geometry': {'geodesic': False,\n",
       "    'type': 'Point',\n",
       "    'coordinates': [150.20231506773035, -36.39106676662427]},\n",
       "   'id': '2_0',\n",
       "   'properties': {'SR_B1': 7219,\n",
       "    'SR_B2': 7266,\n",
       "    'SR_B3': 7376,\n",
       "    'SR_B4': 7158,\n",
       "    'SR_B5': 7427,\n",
       "    'SR_B6': 7993,\n",
       "    'SR_B7': 8042,\n",
       "    'color': '#3388ff',\n",
       "    'label': 'water',\n",
       "    'landCover': 1}},\n",
       "  {'type': 'Feature',\n",
       "   'geometry': {'geodesic': False,\n",
       "    'type': 'Point',\n",
       "    'coordinates': [150.10892878061765, -36.58115159012403]},\n",
       "   'id': '3_0',\n",
       "   'properties': {'SR_B1': 6915,\n",
       "    'SR_B2': 7113,\n",
       "    'SR_B3': 7343,\n",
       "    'SR_B4': 7117,\n",
       "    'SR_B5': 7394,\n",
       "    'SR_B6': 7967,\n",
       "    'SR_B7': 7981,\n",
       "    'color': '#3388ff',\n",
       "    'label': 'water',\n",
       "    'landCover': 1}},\n",
       "  {'type': 'Feature',\n",
       "   'geometry': {'geodesic': False,\n",
       "    'type': 'Point',\n",
       "    'coordinates': [150.09810083430614, -36.695785366353235]},\n",
       "   'id': '4_0',\n",
       "   'properties': {'SR_B1': 6567,\n",
       "    'SR_B2': 6879,\n",
       "    'SR_B3': 7397,\n",
       "    'SR_B4': 7207,\n",
       "    'SR_B5': 7524,\n",
       "    'SR_B6': 8087,\n",
       "    'SR_B7': 8061,\n",
       "    'color': '#3388ff',\n",
       "    'label': 'water',\n",
       "    'landCover': 1}},\n",
       "  {'type': 'Feature',\n",
       "   'geometry': {'geodesic': False,\n",
       "    'type': 'Point',\n",
       "    'coordinates': [150.05950623124022, -36.81437951768868]},\n",
       "   'id': '5_0',\n",
       "   'properties': {'SR_B1': 7020,\n",
       "    'SR_B2': 7227,\n",
       "    'SR_B3': 7583,\n",
       "    'SR_B4': 7357,\n",
       "    'SR_B5': 7629,\n",
       "    'SR_B6': 8151,\n",
       "    'SR_B7': 8166,\n",
       "    'color': '#3388ff',\n",
       "    'label': 'water',\n",
       "    'landCover': 1}},\n",
       "  {'type': 'Feature',\n",
       "   'geometry': {'geodesic': False,\n",
       "    'type': 'Point',\n",
       "    'coordinates': [149.29594225969998, -35.44359611093629]},\n",
       "   'id': '6_0',\n",
       "   'properties': {'SR_B1': 8389,\n",
       "    'SR_B2': 8711,\n",
       "    'SR_B3': 9416,\n",
       "    'SR_B4': 9898,\n",
       "    'SR_B5': 14803,\n",
       "    'SR_B6': 15802,\n",
       "    'SR_B7': 12755,\n",
       "    'color': '#3388ff',\n",
       "    'label': 'land',\n",
       "    'landCover': 2}},\n",
       "  {'type': 'Feature',\n",
       "   'geometry': {'geodesic': False,\n",
       "    'type': 'Point',\n",
       "    'coordinates': [148.8124846227958, -35.57785807380399]},\n",
       "   'id': '7_0',\n",
       "   'properties': {'SR_B1': 8358,\n",
       "    'SR_B2': 8488,\n",
       "    'SR_B3': 9402,\n",
       "    'SR_B4': 9049,\n",
       "    'SR_B5': 19411,\n",
       "    'SR_B6': 14307,\n",
       "    'SR_B7': 11286,\n",
       "    'color': '#3388ff',\n",
       "    'label': 'land',\n",
       "    'landCover': 2}},\n",
       "  {'type': 'Feature',\n",
       "   'geometry': {'geodesic': False,\n",
       "    'type': 'Point',\n",
       "    'coordinates': [149.08148665961025, -36.244980050746456]},\n",
       "   'id': '8_0',\n",
       "   'properties': {'SR_B1': 8377,\n",
       "    'SR_B2': 8539,\n",
       "    'SR_B3': 9064,\n",
       "    'SR_B4': 9466,\n",
       "    'SR_B5': 13538,\n",
       "    'SR_B6': 14629,\n",
       "    'SR_B7': 12600,\n",
       "    'color': '#3388ff',\n",
       "    'label': 'land',\n",
       "    'landCover': 2}},\n",
       "  {'type': 'Feature',\n",
       "   'geometry': {'geodesic': False,\n",
       "    'type': 'Point',\n",
       "    'coordinates': [148.91124032733651, -36.382220301199865]},\n",
       "   'id': '9_0',\n",
       "   'properties': {'SR_B1': 8497,\n",
       "    'SR_B2': 9121,\n",
       "    'SR_B3': 10285,\n",
       "    'SR_B4': 11127,\n",
       "    'SR_B5': 15997,\n",
       "    'SR_B6': 17909,\n",
       "    'SR_B7': 14466,\n",
       "    'color': '#3388ff',\n",
       "    'label': 'land',\n",
       "    'landCover': 2}},\n",
       "  {'type': 'Feature',\n",
       "   'geometry': {'geodesic': False,\n",
       "    'type': 'Point',\n",
       "    'coordinates': [148.62547809900838, -35.88992662459232]},\n",
       "   'id': '10_0',\n",
       "   'properties': {'SR_B1': 8448,\n",
       "    'SR_B2': 8673,\n",
       "    'SR_B3': 9551,\n",
       "    'SR_B4': 9945,\n",
       "    'SR_B5': 15859,\n",
       "    'SR_B6': 15078,\n",
       "    'SR_B7': 12763,\n",
       "    'color': '#3388ff',\n",
       "    'label': 'land',\n",
       "    'landCover': 2}}]}"
      ]
     },
     "execution_count": 38,
     "metadata": {},
     "output_type": "execute_result"
    }
   ],
   "source": [
    "# you can see the deatils of every feature (in this case every point) by using the 'getInfo()' method.\n",
    "pointsLandsat.getInfo()"
   ]
  },
  {
   "cell_type": "code",
   "execution_count": 39,
   "metadata": {
    "ExecuteTime": {
     "end_time": "2022-07-24T23:27:34.674223Z",
     "start_time": "2022-07-24T23:27:31.745060Z"
    }
   },
   "outputs": [
    {
     "ename": "KeyError",
     "evalue": "\"['lc'] not in index\"",
     "output_type": "error",
     "traceback": [
      "\u001b[1;31m---------------------------------------------------------------------------\u001b[0m",
      "\u001b[1;31mKeyError\u001b[0m                                  Traceback (most recent call last)",
      "Input \u001b[1;32mIn [39]\u001b[0m, in \u001b[0;36m<cell line: 10>\u001b[1;34m()\u001b[0m\n\u001b[0;32m      7\u001b[0m \u001b[38;5;66;03m# and we re-oder the columns. See https://lpdaac.usgs.gov/products/myd09a1v061/ to understand the order.\u001b[39;00m\n\u001b[0;32m      8\u001b[0m modisColumnOrder \u001b[38;5;241m=\u001b[39m [\u001b[38;5;124m'\u001b[39m\u001b[38;5;124msur_refl_b03\u001b[39m\u001b[38;5;124m'\u001b[39m,\u001b[38;5;124m'\u001b[39m\u001b[38;5;124msur_refl_b04\u001b[39m\u001b[38;5;124m'\u001b[39m,\u001b[38;5;124m'\u001b[39m\u001b[38;5;124msur_refl_b01\u001b[39m\u001b[38;5;124m'\u001b[39m,\u001b[38;5;124m'\u001b[39m\u001b[38;5;124msur_refl_b02\u001b[39m\u001b[38;5;124m'\u001b[39m,\n\u001b[0;32m      9\u001b[0m  \u001b[38;5;124m'\u001b[39m\u001b[38;5;124msur_refl_b05\u001b[39m\u001b[38;5;124m'\u001b[39m,\u001b[38;5;124m'\u001b[39m\u001b[38;5;124msur_refl_b06\u001b[39m\u001b[38;5;124m'\u001b[39m,\u001b[38;5;124m'\u001b[39m\u001b[38;5;124msur_refl_b07\u001b[39m\u001b[38;5;124m'\u001b[39m,\u001b[38;5;124m'\u001b[39m\u001b[38;5;124mcolor\u001b[39m\u001b[38;5;124m'\u001b[39m, \u001b[38;5;124m'\u001b[39m\u001b[38;5;124mlc\u001b[39m\u001b[38;5;124m'\u001b[39m, \u001b[38;5;124m'\u001b[39m\u001b[38;5;124mlabel\u001b[39m\u001b[38;5;124m'\u001b[39m,]\n\u001b[1;32m---> 10\u001b[0m df_modis \u001b[38;5;241m=\u001b[39m \u001b[43mdf_modis\u001b[49m\u001b[43m[\u001b[49m\u001b[43mmodisColumnOrder\u001b[49m\u001b[43m]\u001b[49m\n\u001b[0;32m     12\u001b[0m \u001b[38;5;28mprint\u001b[39m(df_modis\u001b[38;5;241m.\u001b[39mhead())\n",
      "File \u001b[1;32m~\\miniconda3\\envs\\gee\\lib\\site-packages\\pandas\\core\\frame.py:3511\u001b[0m, in \u001b[0;36mDataFrame.__getitem__\u001b[1;34m(self, key)\u001b[0m\n\u001b[0;32m   3509\u001b[0m     \u001b[38;5;28;01mif\u001b[39;00m is_iterator(key):\n\u001b[0;32m   3510\u001b[0m         key \u001b[38;5;241m=\u001b[39m \u001b[38;5;28mlist\u001b[39m(key)\n\u001b[1;32m-> 3511\u001b[0m     indexer \u001b[38;5;241m=\u001b[39m \u001b[38;5;28;43mself\u001b[39;49m\u001b[38;5;241;43m.\u001b[39;49m\u001b[43mcolumns\u001b[49m\u001b[38;5;241;43m.\u001b[39;49m\u001b[43m_get_indexer_strict\u001b[49m\u001b[43m(\u001b[49m\u001b[43mkey\u001b[49m\u001b[43m,\u001b[49m\u001b[43m \u001b[49m\u001b[38;5;124;43m\"\u001b[39;49m\u001b[38;5;124;43mcolumns\u001b[39;49m\u001b[38;5;124;43m\"\u001b[39;49m\u001b[43m)\u001b[49m[\u001b[38;5;241m1\u001b[39m]\n\u001b[0;32m   3513\u001b[0m \u001b[38;5;66;03m# take() does not accept boolean indexers\u001b[39;00m\n\u001b[0;32m   3514\u001b[0m \u001b[38;5;28;01mif\u001b[39;00m \u001b[38;5;28mgetattr\u001b[39m(indexer, \u001b[38;5;124m\"\u001b[39m\u001b[38;5;124mdtype\u001b[39m\u001b[38;5;124m\"\u001b[39m, \u001b[38;5;28;01mNone\u001b[39;00m) \u001b[38;5;241m==\u001b[39m \u001b[38;5;28mbool\u001b[39m:\n",
      "File \u001b[1;32m~\\miniconda3\\envs\\gee\\lib\\site-packages\\pandas\\core\\indexes\\base.py:5782\u001b[0m, in \u001b[0;36mIndex._get_indexer_strict\u001b[1;34m(self, key, axis_name)\u001b[0m\n\u001b[0;32m   5779\u001b[0m \u001b[38;5;28;01melse\u001b[39;00m:\n\u001b[0;32m   5780\u001b[0m     keyarr, indexer, new_indexer \u001b[38;5;241m=\u001b[39m \u001b[38;5;28mself\u001b[39m\u001b[38;5;241m.\u001b[39m_reindex_non_unique(keyarr)\n\u001b[1;32m-> 5782\u001b[0m \u001b[38;5;28;43mself\u001b[39;49m\u001b[38;5;241;43m.\u001b[39;49m\u001b[43m_raise_if_missing\u001b[49m\u001b[43m(\u001b[49m\u001b[43mkeyarr\u001b[49m\u001b[43m,\u001b[49m\u001b[43m \u001b[49m\u001b[43mindexer\u001b[49m\u001b[43m,\u001b[49m\u001b[43m \u001b[49m\u001b[43maxis_name\u001b[49m\u001b[43m)\u001b[49m\n\u001b[0;32m   5784\u001b[0m keyarr \u001b[38;5;241m=\u001b[39m \u001b[38;5;28mself\u001b[39m\u001b[38;5;241m.\u001b[39mtake(indexer)\n\u001b[0;32m   5785\u001b[0m \u001b[38;5;28;01mif\u001b[39;00m \u001b[38;5;28misinstance\u001b[39m(key, Index):\n\u001b[0;32m   5786\u001b[0m     \u001b[38;5;66;03m# GH 42790 - Preserve name from an Index\u001b[39;00m\n",
      "File \u001b[1;32m~\\miniconda3\\envs\\gee\\lib\\site-packages\\pandas\\core\\indexes\\base.py:5845\u001b[0m, in \u001b[0;36mIndex._raise_if_missing\u001b[1;34m(self, key, indexer, axis_name)\u001b[0m\n\u001b[0;32m   5842\u001b[0m     \u001b[38;5;28;01mraise\u001b[39;00m \u001b[38;5;167;01mKeyError\u001b[39;00m(\u001b[38;5;124mf\u001b[39m\u001b[38;5;124m\"\u001b[39m\u001b[38;5;124mNone of [\u001b[39m\u001b[38;5;132;01m{\u001b[39;00mkey\u001b[38;5;132;01m}\u001b[39;00m\u001b[38;5;124m] are in the [\u001b[39m\u001b[38;5;132;01m{\u001b[39;00maxis_name\u001b[38;5;132;01m}\u001b[39;00m\u001b[38;5;124m]\u001b[39m\u001b[38;5;124m\"\u001b[39m)\n\u001b[0;32m   5844\u001b[0m not_found \u001b[38;5;241m=\u001b[39m \u001b[38;5;28mlist\u001b[39m(ensure_index(key)[missing_mask\u001b[38;5;241m.\u001b[39mnonzero()[\u001b[38;5;241m0\u001b[39m]]\u001b[38;5;241m.\u001b[39munique())\n\u001b[1;32m-> 5845\u001b[0m \u001b[38;5;28;01mraise\u001b[39;00m \u001b[38;5;167;01mKeyError\u001b[39;00m(\u001b[38;5;124mf\u001b[39m\u001b[38;5;124m\"\u001b[39m\u001b[38;5;132;01m{\u001b[39;00mnot_found\u001b[38;5;132;01m}\u001b[39;00m\u001b[38;5;124m not in index\u001b[39m\u001b[38;5;124m\"\u001b[39m)\n",
      "\u001b[1;31mKeyError\u001b[0m: \"['lc'] not in index\""
     ]
    }
   ],
   "source": [
    "# We can export the points with the band valuesto a 'dataframe' (a table)\n",
    "df_modis = gmap.ee_to_pandas(pointsModis, verbose=True)\n",
    "\n",
    "# Now we'll sort the 'label' column to make the figure below look a bit better.\n",
    "df_modis = df_modis.sort_values(by = ['label'])\n",
    "\n",
    "# and we re-oder the columns. See https://lpdaac.usgs.gov/products/myd09a1v061/ to understand the order.\n",
    "modisColumnOrder = ['sur_refl_b03','sur_refl_b04','sur_refl_b01','sur_refl_b02',\n",
    " 'sur_refl_b05','sur_refl_b06','sur_refl_b07','color', 'lc', 'label',]\n",
    "df_modis = df_modis[modisColumnOrder]\n",
    "\n",
    "print(df_modis.head())\n",
    "\n",
    "# And we can export the points with the band values to a 'geo dataframe' (a geospatial table)\n",
    "# gdf_modis = gmap.ee_to_geopandas(pointsModis, verbose=True)\n",
    "# print(gdf_modis.head(3))\n"
   ]
  },
  {
   "cell_type": "markdown",
   "metadata": {},
   "source": [
    "***"
   ]
  },
  {
   "cell_type": "code",
   "execution_count": 42,
   "metadata": {
    "ExecuteTime": {
     "end_time": "2022-07-24T23:30:08.646530Z",
     "start_time": "2022-07-24T23:30:08.185139Z"
    }
   },
   "outputs": [
    {
     "data": {
      "image/png": "[encoded data removed]",
      "text/plain": [
       "<Figure size 1080x360 with 2 Axes>"
      ]
     },
     "metadata": {
      "needs_background": "light"
     },
     "output_type": "display_data"
    }
   ],
   "source": [
    "fig, axes = plt.subplots(ncols=2, figsize=(15,5))\n",
    "\n",
    "modisLabels = df_modis['label'].to_list()\n",
    "landsatLabels = df_landsat['label'].to_list()\n",
    "\n",
    "colors = plt.cm.viridis(np.linspace(0, 1, max(len(modisLabels), len(landsatLabels))))\n",
    "\n",
    "n=0\n",
    "\n",
    "# We plot the data on each row independently\n",
    "for index, row in df_modis.drop(['color','landCover','label'], axis=1).iterrows():\n",
    "    axes[1].plot(row, label=modisLabels[n], color=colors[n] )\n",
    "    n +=1\n",
    "\n",
    "n=0\n",
    "for index, row in df_landsat.drop(['color','landCover','label'], axis=1).iterrows():\n",
    "    axes[0].plot(row, label=landsatLabels[n] , color=colors[n] )\n",
    "    n +=1    \n",
    "    \n",
    "# Set the lables for the axes    \n",
    "axes[0].set_ylabel('Landsat reflectance')\n",
    "axes[1].set_ylabel('MODIS reflectance')\n",
    "axes[0].set_xlabel('Landsat bands')\n",
    "axes[1].set_xlabel('MODIS bands')\n",
    "\n",
    "plt.show()"
   ]
  },
  {
   "cell_type": "code",
   "execution_count": 43,
   "metadata": {
    "ExecuteTime": {
     "end_time": "2022-07-24T23:30:20.916705Z",
     "start_time": "2022-07-24T23:30:19.495097Z"
    }
   },
   "outputs": [
    {
     "data": {
      "application/vnd.jupyter.widget-view+json": {
       "model_id": "d9a4086a1e114541af4bc1625efbfdd8",
       "version_major": 2,
       "version_minor": 0
      },
      "text/plain": [
       "Map(center=[-35.9659, 149.4965], controls=(WidgetControl(options=['position', 'transparent_bg'], widget=HBox(c…"
      ]
     },
     "metadata": {},
     "output_type": "display_data"
    }
   ],
   "source": [
    "Map5 = gmap.Map(center=[-35.9659, 149.4965], zoom=8)\n",
    "\n",
    "# Geth  a Landsat image to display\n",
    "clearC2 = ee.Image('LANDSAT/LC08/C02/T1_L2/LC08_090085_20210118') \\\n",
    "        .select(['SR_B1','SR_B2','SR_B3','SR_B4','SR_B5','SR_B6','SR_B7',])\n",
    "\n",
    "# Add the layers to the map\n",
    "Map5.addLayer(clearC2, landsatC2_vis,' Landsat image')\n",
    "Map5.addLayer(hyper, hyperVisParams, 'Hyperion hyperspectral image collection')\n",
    "\n",
    "Map5.set_plot_options(add_marker_cluster=True)\n",
    "Map5"
   ]
  },
  {
   "cell_type": "code",
   "execution_count": null,
   "metadata": {
    "ExecuteTime": {
     "end_time": "2022-07-24T21:00:43.878164Z",
     "start_time": "2022-07-24T21:00:43.878164Z"
    }
   },
   "outputs": [],
   "source": [
    "pointsHyperion = hyper.sampleRegions(**\n",
    "                               {'collection': Map5.user_rois,\n",
    "                                'scale': 30,\n",
    "                                'geometries': True,\n",
    "                               'tileScale': 8}\n",
    "                               )\n",
    "pointsHyperion"
   ]
  },
  {
   "cell_type": "code",
   "execution_count": null,
   "metadata": {
    "ExecuteTime": {
     "end_time": "2022-07-24T21:00:43.881318Z",
     "start_time": "2022-07-24T21:00:43.881318Z"
    },
    "scrolled": true
   },
   "outputs": [],
   "source": [
    "# Add all the points/polygons to the map\n",
    "Map5.addLayer(pointsHyperion,{},'hyperion point samples')"
   ]
  },
  {
   "cell_type": "markdown",
   "metadata": {},
   "source": [
    "Now each point has the values for each Landsat band (pointsLandsat), and each MODIS band (pointsModis)"
   ]
  },
  {
   "cell_type": "code",
   "execution_count": null,
   "metadata": {
    "ExecuteTime": {
     "end_time": "2022-07-24T21:00:43.884097Z",
     "start_time": "2022-07-24T21:00:43.884097Z"
    }
   },
   "outputs": [],
   "source": [
    "# We can export the points with the band valuesto a 'dataframe' (a table)\n",
    "df_hyperion = gmap.ee_to_pandas(pointsHyperion, verbose=True)\n",
    "\n",
    "# Now we'll sort the 'label' column to make the figure below look a bit better. \n",
    "df_hyperion = df_hyperion.sort_values(by = ['label'])\n",
    "print(df_hyperion.head(3))\n"
   ]
  },
  {
   "cell_type": "markdown",
   "metadata": {},
   "source": [
    "Now each point has the values for each Hyperion band (pointsHyperion), however plotting the ~190 bands of Hyperion is a challenge. So we need to make some adjustments to the plot."
   ]
  },
  {
   "cell_type": "code",
   "execution_count": null,
   "metadata": {
    "ExecuteTime": {
     "end_time": "2022-07-24T21:00:43.887092Z",
     "start_time": "2022-07-24T21:00:43.887092Z"
    },
    "scrolled": true
   },
   "outputs": [],
   "source": [
    "# First, we create a list of the column names. In this case, each column name is the name of each spectral band.\n",
    "hyperColNames = df_hyperion.drop(['color','lc','label'], axis=1).columns.to_list()\n",
    "# print(hyperColNames)\n",
    "\n",
    "# and sort the band names from \n",
    "hyperColNames.sort()\n",
    "\n",
    "# and select every 3rd band for the plot\n",
    "bandLabels = hyperColNames[::3]\n",
    "# print(bandLabels)"
   ]
  },
  {
   "cell_type": "code",
   "execution_count": null,
   "metadata": {
    "ExecuteTime": {
     "end_time": "2022-07-24T21:00:43.890082Z",
     "start_time": "2022-07-24T21:00:43.890082Z"
    }
   },
   "outputs": [],
   "source": [
    "fig, axes = plt.subplot_mosaic(\n",
    "    [['a)', 'b)'], \n",
    "     ['c)', 'c)'],\n",
    "], constrained_layout=True, figsize=(15,7))\n",
    "\n",
    "\n",
    "# We plot the data on each row independently\n",
    "for index, row in df_modis.drop(['color','landCover','label'], axis=1).iterrows():\n",
    "    axes['a)'].plot(row, color='grey' )\n",
    "    n +=1\n",
    "\n",
    "n=0\n",
    "for index, row in df_landsat.drop(['color','landCover','label'], axis=1).iterrows():\n",
    "    axes['b)'].plot(row, color='grey'  )\n",
    "    n +=1    \n",
    "\n",
    "n=0\n",
    "for index, row in df_hyperion.drop(['color','landCover','label'], axis=1).sort_index(axis=1).iterrows():\n",
    "    axes['c)'].plot(row, color='grey' , alpha=0.5 )\n",
    "    n +=1 \n",
    "\n",
    "    # Set the lables for the axes    \n",
    "axes['a)'].set_ylabel('Landsat reflectance')\n",
    "axes['b)'].set_ylabel('MODIS reflectance')\n",
    "axes['c)'].set_ylabel('Hyperion radiance')\n",
    "axes['a)'].set_xlabel('Landsat bands')\n",
    "axes['b)'].set_xlabel('MODIS bands')\n",
    "axes['c)'].set_xlabel('Hyperion bands')\n",
    "axes['a)'].set_title('Landsat data')\n",
    "axes['b)'].set_title('Modis data')\n",
    "axes['c)'].set_title('Hyperion data')\n",
    "plt.xticks(bandLabels, labels = bandLabels, rotation=45, fontsize=10)\n",
    "plt.show()\n"
   ]
  },
  {
   "cell_type": "markdown",
   "metadata": {},
   "source": [
    "***"
   ]
  },
  {
   "cell_type": "markdown",
   "metadata": {},
   "source": [
    "## Calculating spectral indices\n",
    "\n",
    "Now that we know what is the spectral resolution of each sensor, we can start doing some analysis with these data.\n",
    "\n",
    "One of the ways of analysing satellite imagery is by using each spectral band and doing some mathematics on them. To learn more, see Lecture 2 Week 2 adn we will cover more of these during hte lectures in week 4.\n",
    "\n",
    "For normalized indices in the form of \n",
    "\n",
    "$$Index = \\frac{(Band 1 - Band 2)}{(Band 1 + Banb 2)} $$\n",
    "\n",
    "The calculation is straightforward, as shown below"
   ]
  },
  {
   "cell_type": "code",
   "execution_count": null,
   "metadata": {
    "ExecuteTime": {
     "end_time": "2022-07-24T21:00:43.894072Z",
     "start_time": "2022-07-24T21:00:43.894072Z"
    }
   },
   "outputs": [],
   "source": [
    "# Compute Normalized Difference Vegetation Index over MOD09GA product.\n",
    "# NDVI = (NIR - RED) / (NIR + RED), where\n",
    "# RED is sur_refl_b01, 620-670nm\n",
    "# NIR is sur_refl_b02, 841-876nm\n",
    "\n",
    "# You can Load a Landsat image, or you can use the same as above.\n",
    "# clearC2 = ee.Image('LANDSAT/LC08/C02/T1_L2/LC08_090085_20210118')\n",
    "\n",
    "# Use the normalizedDifference(A, B) to compute (A - B) / (A + B)\n",
    "\n",
    "ndviLandsat = clearC2.normalizedDifference(['SR_B5','SR_B4'])\n",
    "\n",
    "# Make a palette: a list of hex strings.\n",
    "indexPalette = ['FFFFFF', 'CE7E45', 'DF923D', 'F1B555', 'FCD163', '99B718',\n",
    "               '74A901', '66A000', '529400', '3E8601', '207401', '056201',\n",
    "               '004C00', '023B01', '012E01', '011D01', '011301']\n",
    "\n",
    "Map6 = gmap.Map(center=[-35.9659, 149.4965], zoom=8)\n",
    "\n",
    "\n",
    "# Add the layers to the map\n",
    "Map6.addLayer(clearC2, landsatC2_vis,' Landsat image')\n",
    "Map6.addLayer(ndviLandsat, {'min': -0.2, 'max': 1, 'palette': indexPalette}, 'ndviLandsat')\n",
    "\n",
    "Map6"
   ]
  },
  {
   "cell_type": "markdown",
   "metadata": {},
   "source": [
    "<div class=\"alert alert-block alert-danger\"> \n",
    "\n",
    "**Answer the following questions**   \n",
    "\n",
    "1. Which features have the *highest* NDVI values? why?\n",
    "1. Which features have the *lowest* NDVI values? why?\n",
    "\n",
    "<div>"
   ]
  },
  {
   "cell_type": "markdown",
   "metadata": {},
   "source": [
    "### <a name=\"ex4\"></a> Exercise 4 - Computing other vegetation indices\n",
    "\n",
    "<div class=\"alert alert-block alert-danger\">\n",
    "\n",
    "**Your turn to code:**\n",
    "\n",
    "1) Use the same landsat image as abovo to calculate the Normalized Difference Water Index (NDWI)\n",
    "    \n",
    "$$NDWI= \\frac{(NIR - SWIR)}{(NIR + SWIR)} $$\n",
    "\n",
    "\n",
    "\n",
    "2) Calculate the NDVI and NDWI on the MODIS, and Hyperion images and comment on the differences\n",
    "\n",
    "</div>    "
   ]
  },
  {
   "cell_type": "code",
   "execution_count": null,
   "metadata": {
    "ExecuteTime": {
     "end_time": "2022-07-24T21:00:43.897064Z",
     "start_time": "2022-07-24T21:00:43.897064Z"
    }
   },
   "outputs": [],
   "source": [
    "# Your code goes here\n",
    "\n"
   ]
  },
  {
   "cell_type": "markdown",
   "metadata": {},
   "source": [
    "But not all spectral indices have the same formula.\n",
    "\n",
    "For example, the [Enhanced Vegetation Index (EVI)](https://doi.org/10.1016/S0034-4257(02)00096-2) is widely used to detect vegetation, and has the following formula:\n",
    "\n",
    "$$EVI= G x \\frac{(NIR - Red)}{(NIR + C1 x Red - C2 x Blue +L)} $$\n",
    "\n",
    "Where: \n",
    "- NIR/red/blue are the surface reflectance values of the said bands,\n",
    "- L is the canopy background adjustment that addresses non-linear, differential NIR and red radiant transfer through a canopy, and\n",
    "- C1, C2 are the coefficients of the aerosol resistance term, which uses the blue band to correct for aerosol influences in the red band.\n",
    "Common values for the coeficcients are: L=1, C1 = 6, C2 = 7.5, and G (gain factor) = 2.5. \n",
    "\n",
    "For these types of indices, and other mathematical operations in Google Earth Engine we have to create an `expression`, as shown below:"
   ]
  },
  {
   "cell_type": "code",
   "execution_count": null,
   "metadata": {
    "ExecuteTime": {
     "end_time": "2022-07-24T21:00:43.900057Z",
     "start_time": "2022-07-24T21:00:43.900057Z"
    }
   },
   "outputs": [],
   "source": [
    "# Compute EVI using an expression.  The second argument is a map from\n",
    "# variable name to band name in the input image.\n",
    "evi = modis.expression(\n",
    "    '2.5 * (nir - red) / (nir + 6 * red - 7.5 * blue + 1)',\n",
    "    {\n",
    "        'red': modis.select('sur_refl_b01'),    # 620-670nm, RED\n",
    "        'nir': modis.select('sur_refl_b02'),    # 841-876nm, NIR\n",
    "        'blue': modis.select('sur_refl_b03')    # 459-479nm, BLUE\n",
    "    })\n",
    "\n",
    "\n",
    "# Display the input image and the EVI computed from it.\n",
    "Map6.addLayer(modis, modisVisParams, 'MODIS image collection')\n",
    "Map6.addLayer(evi, {'min': 0, 'max': 2, 'palette':indexPalette}, 'EVI')\n",
    "Map6"
   ]
  },
  {
   "cell_type": "markdown",
   "metadata": {},
   "source": [
    "### <a name=\"ex5\"></a> Exercise 5 - Other spectral indices.\n",
    "\n",
    "There's another spectral index used to detect ferrous oxides.\n",
    "\n",
    "Where in Australia would you expect to see high levels of ferrous oxides?\n",
    "\n",
    "<div class=\"alert alert-block alert-danger\">\n",
    "\n",
    "**Your turn to code:** on the Landsat and MODIS images\n",
    "\n",
    "[Ferric iron, Fe2+ Index ](https://www.indexdatabase.de/db/i-single.php?id=18) \n",
    "\n",
    "$$Fe2 Index= \\frac{(2145:2185 nm)}{(760:860 nm)} + \\frac{(520:600 nm)}{(630:690 nm)} $$\n",
    "\n",
    "    \n",
    "**Challenge:**\n",
    "\n",
    "Calculate the [Normalized Difference Lignin Index](https://www.indexdatabase.de/db/i-single.php?id=55) using Hyperion images across Australia.\n",
    "\n",
    "    \n",
    "</div>    "
   ]
  },
  {
   "cell_type": "markdown",
   "metadata": {},
   "source": [
    "***"
   ]
  },
  {
   "cell_type": "markdown",
   "metadata": {},
   "source": [
    "## Summary\n",
    "\n",
    "In this notebook you have learned about:\n",
    "- how different sensors have different spatial and spectral resolutions. These **will** affect your analysis, so you'll have to understand which sensor is better for which analysis.\n",
    "- Creating different spectral indices. Specifically, you created 'normalized difference' indices and indices that have more complex formulas.\n",
    "- Finally, you learned how to apply these indices to different data."
   ]
  },
  {
   "cell_type": "markdown",
   "metadata": {},
   "source": [
    "***"
   ]
  },
  {
   "cell_type": "markdown",
   "metadata": {},
   "source": [
    "## References and useful readings\n",
    "<div class=\"alert alert-block alert-danger\">\n",
    "    \n",
    "**update**\n",
    "    \n",
    "- See recomended readings for week 2 in wattle\n",
    "- https://geemap.org/\n",
    "- http://dx.doi.org/10.1016/j.rse.2015.11.032\n",
    "- https://doi.org/10.3390/rs1030184\n",
    "- https://doi.org/10.1016/j.rse.2014.02.001\n",
    "    </div>"
   ]
  },
  {
   "cell_type": "markdown",
   "metadata": {
    "jupyter": {
     "source_hidden": true
    },
    "tags": []
   },
   "source": [
    "***\n",
    "\n",
    "## Additional information\n",
    "\n",
    "**Sources:** \n",
    "\n",
    "**License:** The code in this notebook is licensed under a [Creative Commons Attribution 4.0 International License](https://creativecommons.org/licenses/by/4.0/). \n",
    "\n",
    "**Contact:** If you need assistance, please post a question on the ENGN3903 Wattle (**check**) site \n",
    "\n",
    "**Last modified:** May 2022"
   ]
  },
  {
   "cell_type": "markdown",
   "metadata": {},
   "source": [
    "***"
   ]
  },
  {
   "cell_type": "markdown",
   "metadata": {},
   "source": [
    "## Exercise answers"
   ]
  },
  {
   "cell_type": "markdown",
   "metadata": {},
   "source": [
    "<a name=\"ex1answer\">Answer to Exercise 1</a>"
   ]
  },
  {
   "cell_type": "code",
   "execution_count": null,
   "metadata": {
    "ExecuteTime": {
     "end_time": "2022-07-24T21:00:43.904044Z",
     "start_time": "2022-07-24T21:00:43.904044Z"
    }
   },
   "outputs": [],
   "source": [
    "l8 = ee.ImageCollection(\"LANDSAT/LC08/C02/T1_L2\")\n",
    "\n",
    "l8 = l8.filterDate('2019-02', '2019-04').filterBounds(act).median()\n",
    "\n",
    "l8VisParams = {'bands': [\"SR_B4\",\"SR_B3\",\"SR_B2\"], \n",
    "               'max': 23901,\n",
    "               'min': 7320}\n",
    "\n",
    "Map.addLayer(l8, l8VisParams, 'l8')\n",
    "\n",
    "Map"
   ]
  },
  {
   "cell_type": "markdown",
   "metadata": {},
   "source": [
    "<a name=\"ex4answer\">Answer to Exercise 4</a>"
   ]
  },
  {
   "cell_type": "code",
   "execution_count": null,
   "metadata": {},
   "outputs": [],
   "source": []
  },
  {
   "cell_type": "markdown",
   "metadata": {},
   "source": [
    "<a name=\"ex5answer\">Answer to Exercise 5</a>"
   ]
  },
  {
   "cell_type": "code",
   "execution_count": null,
   "metadata": {
    "ExecuteTime": {
     "end_time": "2022-07-24T21:00:43.907038Z",
     "start_time": "2022-07-24T21:00:43.907038Z"
    }
   },
   "outputs": [],
   "source": [
    "ferrousOxides = modis.expression(\n",
    "    'swir1 / nir',\n",
    "    {\n",
    "        'nir': modis.select('sur_refl_b02'),    # 841-876nm, NIR\n",
    "        'swir1': modis.select('sur_refl_b06')    # 1628-1652nm, SWIR1\n",
    "    })\n",
    "\n",
    "vis_params = {'palette': ['#edf8fb','#bfd3e6','#9ebcda','#8c96c6','#8856a7','#810f7c'],'min': 0, 'max': 2.7,}\n",
    "\n",
    "Map.addLayer(ferrousOxides, vis_params, 'ferrousOxides')\n",
    "Map"
   ]
  },
  {
   "cell_type": "code",
   "execution_count": null,
   "metadata": {},
   "outputs": [],
   "source": []
  }
 ],
 "metadata": {
  "kernelspec": {
   "display_name": "Python 3 (ipykernel)",
   "language": "python",
   "name": "python3"
  },
  "language_info": {
   "codemirror_mode": {
    "name": "ipython",
    "version": 3
   },
   "file_extension": ".py",
   "mimetype": "text/x-python",
   "name": "python",
   "nbconvert_exporter": "python",
   "pygments_lexer": "ipython3",
   "version": "3.10.4"
  },
  "latex_envs": {
   "LaTeX_envs_menu_present": true,
   "autoclose": true,
   "autocomplete": true,
   "bibliofile": "biblio.bib",
   "cite_by": "apalike",
   "current_citInitial": 1,
   "eqLabelWithNumbers": true,
   "eqNumInitial": 1,
   "hotkeys": {
    "equation": "Ctrl-E",
    "itemize": "Ctrl-I"
   },
   "labels_anchors": false,
   "latex_user_defs": false,
   "report_style_numbering": false,
   "user_envs_cfg": false
  },
  "toc": {
   "base_numbering": 1,
   "nav_menu": {},
   "number_sections": true,
   "sideBar": true,
   "skip_h1_title": false,
   "title_cell": "Table of Contents",
   "title_sidebar": "Contents",
   "toc_cell": false,
   "toc_position": {
    "height": "calc(100% - 180px)",
    "left": "10px",
    "top": "150px",
    "width": "213px"
   },
   "toc_section_display": true,
   "toc_window_display": true
  },
  "varInspector": {
   "cols": {
    "lenName": 16,
    "lenType": 16,
    "lenVar": 40
   },
   "kernels_config": {
    "python": {
     "delete_cmd_postfix": "",
     "delete_cmd_prefix": "del ",
     "library": "var_list.py",
     "varRefreshCmd": "print(var_dic_list())"
    },
    "r": {
     "delete_cmd_postfix": ") ",
     "delete_cmd_prefix": "rm(",
     "library": "var_list.r",
     "varRefreshCmd": "cat(var_dic_list()) "
    }
   },
   "types_to_exclude": [
    "module",
    "function",
    "builtin_function_or_method",
    "instance",
    "_Feature"
   ],
   "window_display": false
  },
  "widgets": {
   "application/vnd.jupyter.widget-state+json": {
    "state": {},
    "version_major": 2,
    "version_minor": 0
   }
  }
 },
 "nbformat": 4,
 "nbformat_minor": 4
}
