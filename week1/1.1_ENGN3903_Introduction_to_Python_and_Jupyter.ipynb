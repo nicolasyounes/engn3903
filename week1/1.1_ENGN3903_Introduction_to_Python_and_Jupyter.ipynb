{
 "cells": [
  {
   "cell_type": "markdown",
   "metadata": {},
   "source": [
    "# Introduction to Python, Jupyterlab & Jupyter Notebooks \n",
    "\n",
    "* **Special requirements:** None.\n",
    "* **Prerequisites:** None.\n"
   ]
  },
  {
   "cell_type": "markdown",
   "metadata": {},
   "source": [
    "## Background\n",
    "\n",
    "`JupyterLab` is a web-based interactive development environment for jupyter notebooks, code, and data. We will be using this environment throughout the course.\n",
    "\n",
    "`Jupyter notebooks` are a form of electronic documents that you can use from your web browser and share with others. In these notebooks you can display equations, create text, run code, execute different computer programs, and create visualizations. \n",
    "\n",
    "This versatility makes Jupyter ideal to create workflows and science that is: \n",
    "\n",
    ">- Transparent –  forces your logic to be uncovered for any other scientist or engineer to review.\n",
    "\n",
    ">- Reproducibile – run it, get an answer, hand it over, run it, get the same answer. This is a main principle of the scientific method.\n",
    "\n",
    ">- Open-source – freely share your science or use someone else's.\n",
    "\n",
    ">- Easy to access – Jupyter Notebooks and Python are free products, therefore there are no paywalls or expensive software packages. Everyone and anyone has access to these resources.\n",
    "\n",
    ">- Deployable – because Jupyter runs on your browser, you can create workflows that are hosted online, in your computer, or somewhere else. \n",
    "\n",
    "In this course, we will use Jupyter Notebooks for three main purposes: \n",
    "1. to run code,\n",
    "1. to do data analysis, and\n",
    "3. to create visualizations.\n",
    "\n",
    "***"
   ]
  },
  {
   "cell_type": "markdown",
   "metadata": {},
   "source": [
    "## Aims of the practical session\n",
    "\n",
    "1. Introduce you to Jupyterlab and Jupyter notebooks.\n",
    "2. Basic navigation of Jupyter notebooks,\n",
    "3. Introduce the you to python: perform basic mathematical operations, different objects (i.e. lists, dictionaries, arrays, etc), import packages, and more. \n",
    "\n",
    "***"
   ]
  },
  {
   "cell_type": "markdown",
   "metadata": {},
   "source": [
    "## Description\n",
    "\n",
    "In this notebook you'll learn basic Python programming, and will know what Jupyter notebooks are, how to run cells, and how to interactively edit your code. \n",
    "\n",
    "First we will:\n",
    "\n",
    "- Understand the elements of the Notebook, and\n",
    "- Types of cells in the Notebook\n",
    "\n",
    "Then we will get into Python, and we will:\n",
    "- Understand different python objects, \n",
    "- Do some basic mathemathical operations,\n",
    "- Create basic plots,\n",
    "- Look at different data structures.\n",
    "\n",
    "\n",
    "\n",
    "For more information please see the following resources:\n",
    "- Jake Vander Plas' excellent [Python Data Science Handbook](https://jakevdp.github.io/PythonDataScienceHandbook/)\n",
    "- Software Carprentries website [Programming with Python](https://swcarpentry.github.io/python-novice-inflammation/index.html) course,\n",
    "- Allen Downey's [Think Python: How to Think Like a Computer Scientist](https://greenteapress.com/thinkpython2/html/index.html)\n",
    "- Griffin Chure's [Using Jupyter Notebooks](https://bi1.caltech.edu/code/t0b_jupyter_notebooks.html), and [An introduction to Python syntax and plotting](https://bi1.caltech.edu/code/t0c_python_syntax_and_plotting.html) turorials,\n",
    "- Bryn Mawr College's comprehensive [Jupyter Notebook Users Manual](https://jupyter.brynmawr.edu/services/public/dblank/Jupyter%20Notebook%20Users%20Manual.ipynb)\n",
    "- Allen B. Downey's Think Python (CC BY-NC-SA 4.0), which provides a thorough introduction to coding with Python: [Think Python 3rd edition](https://allendowney.github.io/ThinkPython/), [Official Green Tea Press page](https://greenteapress.com/wp/think-python-3rd-edition/)\n",
    "\n",
    "\n",
    "***"
   ]
  },
  {
   "cell_type": "markdown",
   "metadata": {},
   "source": [
    "<div class=\"alert alert-block alert-warning\">\n",
    "<b>Assessment:</b> Once you finish the practical and the excercises, remember to submit your notebook through Wattle.\n",
    "</div><attle.\n"
   ]
  },
  {
   "cell_type": "markdown",
   "metadata": {},
   "source": [
    "## Introduction to Jupyterlab and Jupyter Notebooks\n",
    "\n",
    "Run the next cell below (`shift + enter`) and a short video will play that introduces the kinds of data file formats that can be rendered in Jupyterlab, and, most importantly, how to use and navigate Jupyter Notebooks."
   ]
  },
  {
   "cell_type": "code",
   "execution_count": null,
   "metadata": {},
   "outputs": [],
   "source": [
    "from IPython.display import HTML\n",
    "\n",
    "HTML('<iframe width=\"560\" height=\"315\" src=\"https://www.youtube.com/embed/A5YyoCKxEOU?si=flLbj3O1tvlyU131&amp;start=51\" title=\"YouTube video player\" frameborder=\"0\" allow=\"accelerometer; autoplay; clipboard-write; encrypted-media; gyroscope; picture-in-picture; web-share\" referrerpolicy=\"strict-origin-when-cross-origin\" allowfullscreen></iframe>')\n"
   ]
  },
  {
   "cell_type": "markdown",
   "metadata": {},
   "source": [
    "### Code Cells\n",
    "\n",
    "By default, Code Cells will execute Python, but other programming languages are also supported.\n",
    "\n",
    "Code cells have both an input and an output component. For example, try running the following cell by pressing the *run* button above, or by pressing `ctrl + enter` or `shift + enter`. "
   ]
  },
  {
   "cell_type": "code",
   "execution_count": null,
   "metadata": {
    "ExecuteTime": {
     "end_time": "2022-07-24T09:04:09.137994Z",
     "start_time": "2022-07-24T09:04:09.108350Z"
    }
   },
   "outputs": [],
   "source": [
    "2+2"
   ]
  },
  {
   "cell_type": "code",
   "execution_count": null,
   "metadata": {
    "ExecuteTime": {
     "end_time": "2022-07-24T09:04:09.198351Z",
     "start_time": "2022-07-24T09:04:09.137994Z"
    }
   },
   "outputs": [],
   "source": [
    "5*5"
   ]
  },
  {
   "cell_type": "markdown",
   "metadata": {},
   "source": [
    "You can include comments in your code using the `#` symbol. These lines will not run, and provide additional information related to your code. A shortcut is `crtl + /`"
   ]
  },
  {
   "cell_type": "code",
   "execution_count": null,
   "metadata": {
    "ExecuteTime": {
     "end_time": "2022-07-24T09:04:09.238203Z",
     "start_time": "2022-07-24T09:04:09.208306Z"
    }
   },
   "outputs": [],
   "source": [
    "# This line won't run.\n",
    "\n",
    "5**2\n",
    "\n",
    "# And neither will this one."
   ]
  },
  {
   "cell_type": "markdown",
   "metadata": {},
   "source": [
    "Unless you remove the `#` symbol from the next cell, the code won't run, and you wont get an answer. "
   ]
  },
  {
   "cell_type": "code",
   "execution_count": null,
   "metadata": {
    "ExecuteTime": {
     "end_time": "2022-07-24T09:04:09.338390Z",
     "start_time": "2022-07-24T09:04:09.327902Z"
    }
   },
   "outputs": [],
   "source": [
    "# 100 + 41"
   ]
  },
  {
   "cell_type": "markdown",
   "metadata": {},
   "source": [
    "**Data Tip:** Code cells can be executed in any order. This means that you can overwrite your current content and variables by running things out of order. When coding in notebooks, be cautious of the order in which you run cells. \n",
    "\n",
    "If in doubt, **restart the kernel** using the tab in the top left of the browser window `Kernel --> Restart Kernel and Clear Outputs of all Cells`"
   ]
  },
  {
   "cell_type": "markdown",
   "metadata": {},
   "source": [
    "***"
   ]
  },
  {
   "cell_type": "markdown",
   "metadata": {},
   "source": [
    "## Introduction to Python"
   ]
  },
  {
   "cell_type": "markdown",
   "metadata": {},
   "source": [
    "Python is an open-source programming language used for both scripting applications and standalone programs, and has been under development for over 25 years.\n",
    "\n",
    "This notebook will not cover everything in Python. If you would like, please consider the following resources:\n",
    "\n",
    "**Getting Started with Python**:\n",
    "\n",
    "* https://www.codecademy.com/learn/python\n",
    "* http://docs.python-guide.org/en/latest/intro/learning/\n",
    "* https://learnpythonthehardway.org/book/\n",
    "* https://www.codementor.io/learn-python-online\n",
    "* https://websitesetup.org/python-cheat-sheet/\n",
    "\n",
    "**Learning Python in Notebooks**:\n",
    "\n",
    "* http://mbakker7.github.io/exploratory_computing_with_python/\n",
    "* https://allendowney.github.io/ThinkPython/\n",
    "\n",
    "**Python Reference**:\n",
    "\n",
    "* https://docs.python.org/3.5/reference/\n",
    "\n",
    "> We highly recommend completing an online course in python in your own time, not only will this help in this course, but any future data analysis will be helped immensely by proficiency in python."
   ]
  },
  {
   "cell_type": "markdown",
   "metadata": {},
   "source": [
    "Python can be used to do pretty much anything. For example, you can use Python as a calculator as shown in the cells above."
   ]
  },
  {
   "cell_type": "code",
   "execution_count": null,
   "metadata": {
    "ExecuteTime": {
     "end_time": "2022-07-24T09:04:09.868136Z",
     "start_time": "2022-07-24T09:04:09.837898Z"
    }
   },
   "outputs": [],
   "source": [
    "2 * 3"
   ]
  },
  {
   "cell_type": "markdown",
   "metadata": {},
   "source": [
    "When you are programming, you want to store your values in variables"
   ]
  },
  {
   "cell_type": "code",
   "execution_count": null,
   "metadata": {
    "ExecuteTime": {
     "end_time": "2022-07-24T09:04:10.028282Z",
     "start_time": "2022-07-24T09:04:09.997993Z"
    }
   },
   "outputs": [],
   "source": [
    "a = 3\n",
    "\n",
    "b = 6\n",
    "\n",
    "a * b"
   ]
  },
  {
   "cell_type": "markdown",
   "metadata": {},
   "source": [
    "Both `a` and `b` are now variables. Each variable has a type. In this case, they are both `integers` (whole numbers). To write the value of a variable to the screen, use the `print` function (the last statement of a code cell is automatically printed to the screen if it is not stored in a variable, as was shown above). Note that multiplication of two integers results in an integer, but division of two integers results in a `float` (a number with decimal places). "
   ]
  },
  {
   "cell_type": "code",
   "execution_count": null,
   "metadata": {
    "ExecuteTime": {
     "end_time": "2022-07-24T09:04:10.148265Z",
     "start_time": "2022-07-24T09:04:10.127930Z"
    }
   },
   "outputs": [],
   "source": [
    "print(a)\n",
    "print(b)\n",
    "print(a * b)\n",
    "print(a / b)"
   ]
  },
  {
   "cell_type": "markdown",
   "metadata": {},
   "source": [
    "You can add some text to the `print` function by putting the text string between quotes (either single or double quotes work as long as you use the same at the beginning and end), and separate the text string and the variable by a comma"
   ]
  },
  {
   "cell_type": "code",
   "execution_count": null,
   "metadata": {
    "ExecuteTime": {
     "end_time": "2022-07-24T09:04:10.287877Z",
     "start_time": "2022-07-24T09:04:10.278305Z"
    }
   },
   "outputs": [],
   "source": [
    "print('the value of a is', a)\n",
    "\n",
    "print('the value of b is', b)\n",
    "\n",
    "print('a * b equals', a * b)"
   ]
  },
  {
   "cell_type": "markdown",
   "metadata": {},
   "source": [
    "A variable can be raised to a power by using `**`."
   ]
  },
  {
   "cell_type": "code",
   "execution_count": null,
   "metadata": {
    "ExecuteTime": {
     "end_time": "2022-07-24T09:04:10.428169Z",
     "start_time": "2022-07-24T09:04:10.397933Z"
    }
   },
   "outputs": [],
   "source": [
    "5**3"
   ]
  },
  {
   "cell_type": "code",
   "execution_count": null,
   "metadata": {
    "ExecuteTime": {
     "end_time": "2022-07-24T09:04:10.448398Z",
     "start_time": "2022-07-24T09:04:10.428169Z"
    }
   },
   "outputs": [],
   "source": [
    "a = 10\n",
    "y = a ** 2 + 3\n",
    "print(y)"
   ]
  },
  {
   "cell_type": "markdown",
   "metadata": {},
   "source": [
    "### Your first Python code\n",
    "Compute the value of a polynomial."
   ]
  },
  {
   "cell_type": "markdown",
   "metadata": {},
   "source": [
    "<div class=\"alert alert-block alert-danger\">\n",
    "\n",
    "### Exercise 1a\n",
    "Compute the value of the polynomial $y=ax^2+bx+c$    when    $x=-2$, $x=0$, and $x=2.1$ \n",
    "\n",
    "Use $a=1$, $b=1$, $c=-6$ and print the results to the screen.\n",
    "\n",
    "</div>  \n",
    "\n"
   ]
  },
  {
   "cell_type": "code",
   "execution_count": null,
   "metadata": {
    "ExecuteTime": {
     "end_time": "2022-07-24T09:04:10.688147Z",
     "start_time": "2022-07-24T09:04:10.677975Z"
    }
   },
   "outputs": [],
   "source": [
    "# your code goes here.\n"
   ]
  },
  {
   "cell_type": "markdown",
   "metadata": {},
   "source": [
    "You can do many sorts of operations using Python, including dividing two numbers. For example:"
   ]
  },
  {
   "cell_type": "code",
   "execution_count": null,
   "metadata": {
    "ExecuteTime": {
     "end_time": "2022-07-24T09:04:10.943294Z",
     "start_time": "2022-07-24T09:04:10.927954Z"
    }
   },
   "outputs": [],
   "source": [
    "print('1/3 gives', 1 / 3)"
   ]
  },
  {
   "cell_type": "markdown",
   "metadata": {},
   "source": [
    "The above print statement looks pretty ugly with 16 values of 3 in a row. A better and more readable way to print both text and the value of a variable to the screen is to use what are called `f-strings`. f-strings allow you to insert the value of a variable anywhere in the text by surrounding it with braces `{}`. The entire text string needs to be between quotes and be preceded by the letter `f`. To control the decimal places we put the type specifier in the format expression. e.g. for three decimal places: `f'{c:.3f}'`"
   ]
  },
  {
   "cell_type": "code",
   "execution_count": null,
   "metadata": {
    "ExecuteTime": {
     "end_time": "2022-07-24T09:04:11.088078Z",
     "start_time": "2022-07-24T09:04:11.068235Z"
    }
   },
   "outputs": [],
   "source": [
    "a = 1\n",
    "b = 3\n",
    "c = a / b\n",
    "print(f'{a} divided by {b} gives {c:.3f}')"
   ]
  },
  {
   "cell_type": "markdown",
   "metadata": {},
   "source": [
    "If you prefer exponent (scientific) notation, replace the `f` by an `e`. The text after the `#` is a comment in the code. Any text on the line after the `#` is ignored by Python. "
   ]
  },
  {
   "cell_type": "code",
   "execution_count": null,
   "metadata": {
    "ExecuteTime": {
     "end_time": "2022-07-24T09:04:11.227959Z",
     "start_time": "2022-07-24T09:04:11.208046Z"
    }
   },
   "outputs": [],
   "source": [
    "print(f'{a} divided by {b} gives {c:.3f}') # three decimal places\n",
    "print(f'{a} divided by {b} gives {c:.3e}') # three decimal places scientific notation"
   ]
  },
  {
   "cell_type": "markdown",
   "metadata": {},
   "source": [
    "### <a name=\"ex1b\"></a> Exercise 1b - using f-strings\n",
    "Compute the value of the polynomial $y=ax^2+bx+c$    when    $x=-2$, $x=0$, and $x=2.1$ \n",
    "\n",
    "Use $a=1$, $b=1$, $c=-6$ and print the results to the screen using f-strings and 2 decimal places."
   ]
  },
  {
   "cell_type": "code",
   "execution_count": null,
   "metadata": {
    "ExecuteTime": {
     "end_time": "2022-07-24T09:04:11.368421Z",
     "start_time": "2022-07-24T09:04:11.348286Z"
    }
   },
   "outputs": [],
   "source": [
    "# your code goes here.\n"
   ]
  },
  {
   "cell_type": "markdown",
   "metadata": {},
   "source": [
    "### More on variables\n",
    "Once you have created a variable in a Python session, it will remain in memory, so you can use it in other cells as well. \n",
    "\n",
    "For example, the variables `a`, `b`, and `c`, which were defined above in this Notebook, still exist. "
   ]
  },
  {
   "cell_type": "code",
   "execution_count": null,
   "metadata": {
    "ExecuteTime": {
     "end_time": "2022-07-24T09:04:11.648353Z",
     "start_time": "2022-07-24T09:04:11.628207Z"
    }
   },
   "outputs": [],
   "source": [
    "print(f'the value of a is: {a}')\n",
    "print(f'the value of b is: {b}')\n",
    "print(f'the value of b is: {c}')"
   ]
  },
  {
   "cell_type": "markdown",
   "metadata": {},
   "source": [
    "Variable names may be as long as you like, but we recommend making variable names:\n",
    "* short\n",
    "* informative\n",
    "* descriptive\n",
    "\n",
    "This aids in understanding the code and keeping it concise. Variable names cannot have spaces, nor can they start with a number. And variable names are case sensitive. So the variable `remoteSensing` is not the same as the variable `RemoteSensing`. \n",
    "\n",
    "The name of a variable may be anything you want, except for reserved words in the Python language. For example, it is not possible to create a variable called `for`, because `for` is a reserved word. You will learn many of the reserved words in this and other courses; they are colored bold green when you type them in the Notebook. \n",
    "\n",
    "e.g. `for`, and `in`, are reserved words and cannot be used as variable names."
   ]
  },
  {
   "cell_type": "code",
   "execution_count": null,
   "metadata": {
    "ExecuteTime": {
     "end_time": "2022-07-24T09:04:11.918375Z",
     "start_time": "2022-07-24T09:04:11.908270Z"
    }
   },
   "outputs": [],
   "source": [
    "for i in range(5):\n",
    "    print(i)"
   ]
  },
  {
   "cell_type": "markdown",
   "metadata": {
    "ExecuteTime": {
     "end_time": "2022-05-26T23:12:31.374002Z",
     "start_time": "2022-05-26T23:12:31.346076Z"
    }
   },
   "source": [
    "### Basic plotting and your first array\n",
    "\n",
    "Plotting is not part of standard Python, but there are several packages to create pretty graphics (and ugly ones, if you want). A **package** is a library of functions for a specific set of tasks. There are many Python packages and we will use several of them. \n",
    "\n",
    "The graphics package we use is called `matplotlib`. To be able to use the plotting functions in `matplotlib`, we have to import it. We will use different ways of importing packages. For now, we import the plotting part of `matplotlib` and call it `plt`. Before we import `matplotlib`, we tell the Jupyter Notebook to show any graphs inside this Notebook and not in a separate window using the `%matplotlib inline` command. "
   ]
  },
  {
   "cell_type": "code",
   "execution_count": null,
   "metadata": {
    "ExecuteTime": {
     "end_time": "2022-07-24T09:04:14.148386Z",
     "start_time": "2022-07-24T09:04:12.058231Z"
    }
   },
   "outputs": [],
   "source": [
    "%matplotlib inline\n",
    "import matplotlib.pyplot as plt"
   ]
  },
  {
   "cell_type": "markdown",
   "metadata": {},
   "source": [
    "Packages only have to be imported once in a Python session. After the above import statement, any plotting function may be called from any code cell as `plt.function`. For example"
   ]
  },
  {
   "cell_type": "code",
   "execution_count": null,
   "metadata": {
    "ExecuteTime": {
     "end_time": "2022-07-24T09:04:14.568332Z",
     "start_time": "2022-07-24T09:04:14.148386Z"
    }
   },
   "outputs": [],
   "source": [
    "plt.plot([1, 2, 4, 2]);"
   ]
  },
  {
   "cell_type": "markdown",
   "metadata": {},
   "source": [
    "Let's try to plot $y$ vs $x$.\n",
    "Let's assume that $x$ goes from $-4$ to $+4$ for the polynomial:\n",
    "\n",
    "$y=ax^2+bx+c$ \n",
    "\n",
    "where $a=1$, $b=1$, $c=-6$."
   ]
  },
  {
   "cell_type": "markdown",
   "metadata": {},
   "source": [
    "To do that, we need to evaluate $y$ at a bunch of points. A sequence of values of the same type is called an `array` (for example an array of integers or floats). Array functionality is available in the package `numpy`. Let's import `numpy` and call it `np`, so that any function in the `numpy` package may be called as `np.function`. "
   ]
  },
  {
   "cell_type": "code",
   "execution_count": null,
   "metadata": {
    "ExecuteTime": {
     "end_time": "2022-07-24T09:04:14.587924Z",
     "start_time": "2022-07-24T09:04:14.573339Z"
    }
   },
   "outputs": [],
   "source": [
    "import numpy as np"
   ]
  },
  {
   "cell_type": "markdown",
   "metadata": {},
   "source": [
    "To create an array `x` consisting of, for example, 5 equally spaced points between `-4` and `4`, use the `linspace` command"
   ]
  },
  {
   "cell_type": "code",
   "execution_count": null,
   "metadata": {
    "ExecuteTime": {
     "end_time": "2022-07-24T09:04:14.603222Z",
     "start_time": "2022-07-24T09:04:14.587924Z"
    }
   },
   "outputs": [],
   "source": [
    "x = np.linspace(-4, 4, 5)\n",
    "print(x)\n",
    "print('type:', type(x))"
   ]
  },
  {
   "cell_type": "markdown",
   "metadata": {},
   "source": [
    "In the above cell, `x` is an array of 5 floats (`-4.` is a float, `-4` is an integer).\n",
    "\n",
    "\n",
    "**Coding Tip:** If you type `np.linspace` and then an opening parenthesis like:\n",
    "\n",
    "`np.linspace(` \n",
    "\n",
    "and then hit `shift + tab` a little help box pops up to explain the input arguments of the function. When you click on the + sign, you can scroll through all the documentation of the `linspace` function. Click on the x sign to remove the help box. \n",
    "This works for most packages and functions. For example, you can use the argument `dtype` to change the data type of the numbers in the array from `float`, to `integer`."
   ]
  },
  {
   "cell_type": "markdown",
   "metadata": {},
   "source": [
    "Let's plot $y$ using 100 $x$ values from \n",
    "$-4$ to $+4$."
   ]
  },
  {
   "cell_type": "code",
   "execution_count": null,
   "metadata": {
    "ExecuteTime": {
     "end_time": "2022-07-24T09:04:14.838300Z",
     "start_time": "2022-07-24T09:04:14.603222Z"
    }
   },
   "outputs": [],
   "source": [
    "a = 1\n",
    "b = 1\n",
    "c = -6\n",
    "x = np.linspace(-4, 4, 100)\n",
    "y = a * x ** 2 + b * x + c  # Compute y for all x values\n",
    "plt.plot(x, y);"
   ]
  },
  {
   "cell_type": "markdown",
   "metadata": {},
   "source": [
    "Note that  *one hundred* `y` values are computed in the simple line `y = a * x ** 2 + b * x + c`. Python treats arrays in the same fashion as it treats regular variables when you perform mathematical operations. The mathematical operation (in this case multiplication) is applied to every value in the array (and it runs much faster than when you would do every calculation separately). "
   ]
  },
  {
   "cell_type": "markdown",
   "metadata": {},
   "source": [
    "The `plot` function can take many arguments. Looking at the help box of the `plot` function, by typing `plt.plot(` and then `shift+tab`, gives you a lot of help. Typing `plt.plot?` gives a new scrollable subwindow at the bottom of the notebook, showing the documentation on `plot`. Click the x in the upper right hand corner to close the subwindow again."
   ]
  },
  {
   "cell_type": "markdown",
   "metadata": {},
   "source": [
    "In short:\n",
    "* `plt.plot()` can be used with one argument as `plt.plot(y)`, which plots `y` values along the vertical axis and enumerates the horizontal axis starting at 0.\n",
    "* `plt.plot(x, y)` plots `y` vs `x`, and\n",
    "* `plt.plot(x, y, formatstring)` plots `y` vs `x` using colors and markers defined in. e.g. `plt.plot(x,y, 'b')`\n",
    "\n",
    "`formatstring`, which can be a lot of things. It can be used to define the color, for example `'b'` for blue, `'r'` for red, and `'g'` for green. Or it can be used to define the linetype `'-'` for line, `'--'` for dashed, `':'` for dots. Or you can define markers, for example `'o'` for circles and `'s'` for squares. You can even combine them: `'r--'` gives a red dashed line, while `'go'` gives green circular markers. "
   ]
  },
  {
   "cell_type": "markdown",
   "metadata": {},
   "source": [
    "If that isn't enough, `plot` takes a large number of keyword arguments. A keyword argument is an optional argument that may be added to a function. The syntax is `function(keyword1=value1, keyword2=value2)`, etc. For example, to plot a line with width 6 (the default is 1), type"
   ]
  },
  {
   "cell_type": "code",
   "execution_count": null,
   "metadata": {
    "ExecuteTime": {
     "end_time": "2022-07-24T09:04:15.098313Z",
     "start_time": "2022-07-24T09:04:14.838300Z"
    }
   },
   "outputs": [],
   "source": [
    "plt.plot([1, 2, 3], [2, 4, 3], linewidth=6);"
   ]
  },
  {
   "cell_type": "markdown",
   "metadata": {},
   "source": [
    "Names may be added along the axes with the `xlabel` and `ylabel` functions, e.g., `plt.xlabel('this is the x-axis')`. Note that both functions take a string as argument. A title can be added to the figure with the `plt.title` command. Multiple curves can be added to the same figure by giving multiple plotting commands in the same code cell. They are automatically added to the same figure.\n"
   ]
  },
  {
   "cell_type": "code",
   "execution_count": null,
   "metadata": {},
   "outputs": [],
   "source": [
    "#plot a thick red line\n",
    "plt.plot([1, 2, 3], [2, 4, 3], linewidth=3, c='red')\n",
    "\n",
    "# Now we plot a green line with circles as markers.\n",
    "plt.plot([1.5, 2.5, 3.5], [1.5, 3, 2.5], 'g-o');\n",
    "\n",
    "# Now let's plot a blue dotted line.\n",
    "plt.plot([2, 3, 4], [2, 2, 1], 'b:');\n",
    "\n",
    "plt.title('A title')\n",
    "plt.ylabel('y label')\n",
    "plt.xlabel('x label');"
   ]
  },
  {
   "cell_type": "markdown",
   "metadata": {},
   "source": [
    "### Exercise 1c - Create an array and plot using matplotlib\n",
    "\n",
    "1. Create a NumPy array `x` containing 100 evenly spaced values between 0 and 10.\n",
    "2. Create another NumPy array `y` that represents the exponential function $ y = e^x $\n",
    "3. Plot the array using Matplotlib. The x-axis should represent the values in the `x` array and the y-axis should represent the corresponding values in the `y` array.\n",
    "4. Customize the plot with a title, x and y axis labels, and a grid.\n",
    "\n",
    "> Extra: See if you can include a legend and grid lines!!\n"
   ]
  },
  {
   "cell_type": "code",
   "execution_count": null,
   "metadata": {
    "ExecuteTime": {
     "end_time": "2022-07-24T09:04:15.598066Z",
     "start_time": "2022-07-24T09:04:15.582976Z"
    }
   },
   "outputs": [],
   "source": [
    "# your code goes here.\n"
   ]
  },
  {
   "cell_type": "markdown",
   "metadata": {},
   "source": [
    "***"
   ]
  },
  {
   "cell_type": "markdown",
   "metadata": {},
   "source": [
    "## Data structures"
   ]
  },
  {
   "cell_type": "markdown",
   "metadata": {},
   "source": [
    "Data can be:\n",
    "\n",
    "* Numbers\n",
    "  * integers\n",
    "  * floating-point\n",
    "  * complex numbers\n",
    "* strings\n",
    "* boolean values\n",
    "* lists, tuples, dictionaries\n",
    "* functions"
   ]
  },
  {
   "cell_type": "markdown",
   "metadata": {},
   "source": [
    "### Numbers"
   ]
  },
  {
   "cell_type": "code",
   "execution_count": null,
   "metadata": {
    "ExecuteTime": {
     "end_time": "2022-07-24T09:04:16.458254Z",
     "start_time": "2022-07-24T09:04:16.428368Z"
    }
   },
   "outputs": [],
   "source": [
    "# Integers\n",
    "type(1)"
   ]
  },
  {
   "cell_type": "code",
   "execution_count": null,
   "metadata": {
    "ExecuteTime": {
     "end_time": "2022-07-24T09:04:16.478356Z",
     "start_time": "2022-07-24T09:04:16.463261Z"
    }
   },
   "outputs": [],
   "source": [
    "# Integers\n",
    "type(-3)"
   ]
  },
  {
   "cell_type": "code",
   "execution_count": null,
   "metadata": {
    "ExecuteTime": {
     "end_time": "2022-07-24T09:04:16.518100Z",
     "start_time": "2022-07-24T09:04:16.479881Z"
    }
   },
   "outputs": [],
   "source": [
    "# Floating-point numbers, aka floats\n",
    "type(-2.53642)"
   ]
  },
  {
   "cell_type": "code",
   "execution_count": null,
   "metadata": {
    "ExecuteTime": {
     "end_time": "2022-07-24T09:04:16.553241Z",
     "start_time": "2022-07-24T09:04:16.523112Z"
    }
   },
   "outputs": [],
   "source": [
    "# Complex numbers such as pi\n",
    "np.pi"
   ]
  },
  {
   "cell_type": "markdown",
   "metadata": {
    "ExecuteTime": {
     "end_time": "2022-05-26T05:04:38.013671Z",
     "start_time": "2022-05-26T05:04:37.988697Z"
    }
   },
   "source": [
    "### Strings"
   ]
  },
  {
   "cell_type": "code",
   "execution_count": null,
   "metadata": {
    "ExecuteTime": {
     "end_time": "2022-07-24T09:04:16.818333Z",
     "start_time": "2022-07-24T09:04:16.800255Z"
    }
   },
   "outputs": [],
   "source": [
    "# Strings are created using single or double quotation marks\n",
    "type('apple')\n"
   ]
  },
  {
   "cell_type": "code",
   "execution_count": null,
   "metadata": {
    "ExecuteTime": {
     "end_time": "2022-07-24T09:04:16.837974Z",
     "start_time": "2022-07-24T09:04:16.823340Z"
    }
   },
   "outputs": [],
   "source": [
    "type(\"apple\")"
   ]
  },
  {
   "cell_type": "markdown",
   "metadata": {},
   "source": [
    "### Boolean Values"
   ]
  },
  {
   "cell_type": "code",
   "execution_count": null,
   "metadata": {
    "ExecuteTime": {
     "end_time": "2022-07-24T09:04:17.347939Z",
     "start_time": "2022-07-24T09:04:17.338031Z"
    }
   },
   "outputs": [],
   "source": [
    "type(True)"
   ]
  },
  {
   "cell_type": "code",
   "execution_count": null,
   "metadata": {
    "ExecuteTime": {
     "end_time": "2022-07-24T09:04:17.388257Z",
     "start_time": "2022-07-24T09:04:17.357974Z"
    }
   },
   "outputs": [],
   "source": [
    "type(False)"
   ]
  },
  {
   "cell_type": "markdown",
   "metadata": {},
   "source": [
    "### **Lists, Tuples, and Dictionaries**"
   ]
  },
  {
   "cell_type": "markdown",
   "metadata": {},
   "source": [
    "Python has three very useful data structures built into the language:\n",
    "\n",
    "> * **Dictionaries { key : value }:** \n",
    "Are unordered collections of data values used to store data values. Unlike other Data Types dictionaries hold the key:value pairs. Key-value is provided in the dictionary to make it more optimized. The values in the key-value pairs can be of many types, and can be changed.\n",
    "\n",
    "\n",
    "> * **Lists [ item, ... ]:** Lists are ordered collections of data values. These data can be of many types, and can be changed at any time.\n",
    "\n",
    "\n",
    "> * **Tuples ( item, ... ):** Tuples are collections of data values, and these data can be of many types. The main difference with Dictionaries and Lists, is that *the elements in a Tuple cannot be changed once created*. In other words, a Tuple is a read-only data structure (**immutable**).\n"
   ]
  },
  {
   "cell_type": "markdown",
   "metadata": {},
   "source": [
    "**Dictionaries:**"
   ]
  },
  {
   "cell_type": "code",
   "execution_count": null,
   "metadata": {
    "ExecuteTime": {
     "end_time": "2022-07-24T09:04:18.728002Z",
     "start_time": "2022-07-24T09:04:18.702850Z"
    }
   },
   "outputs": [],
   "source": [
    "# Creating a Dictionary\n",
    "Dict = {'Name': 'Remote Sensing', \n",
    "        'Code': 'ENGN3903',\n",
    "        'Year': 2023,\n",
    "        'tutors': ['Chad', 'Gianluca', 'Li', 'Nicolas', 'Marta']}\n",
    "\n",
    "print(Dict)"
   ]
  },
  {
   "cell_type": "code",
   "execution_count": null,
   "metadata": {
    "ExecuteTime": {
     "end_time": "2022-07-24T09:04:18.748084Z",
     "start_time": "2022-07-24T09:04:18.728002Z"
    }
   },
   "outputs": [],
   "source": [
    "# Let's use a key to access a value\n",
    "print(Dict['Name']) \n",
    "print(Dict['Year']) \n",
    "print(Dict['tutors'])"
   ]
  },
  {
   "cell_type": "code",
   "execution_count": null,
   "metadata": {
    "ExecuteTime": {
     "end_time": "2022-07-24T09:04:18.788149Z",
     "start_time": "2022-07-24T09:04:18.753092Z"
    }
   },
   "outputs": [],
   "source": [
    "# Another way to create a dictionary\n",
    "dict(name='Remote Sensing',Code='ENGN3903')"
   ]
  },
  {
   "cell_type": "markdown",
   "metadata": {},
   "source": [
    "**Lists**"
   ]
  },
  {
   "cell_type": "code",
   "execution_count": null,
   "metadata": {
    "ExecuteTime": {
     "end_time": "2022-07-24T09:04:19.028175Z",
     "start_time": "2022-07-24T09:04:19.008213Z"
    }
   },
   "outputs": [],
   "source": [
    "# This list is comprised of 3 integers\n",
    "\n",
    "# here we print the list.\n",
    "print([1, 2, 3])\n",
    "\n",
    "# here we print the data type of each item in the list.\n",
    "[print(type(item)) for item in [1, 2, 3]];"
   ]
  },
  {
   "cell_type": "code",
   "execution_count": null,
   "metadata": {
    "ExecuteTime": {
     "end_time": "2022-07-24T09:04:19.248156Z",
     "start_time": "2022-07-24T09:04:19.228049Z"
    }
   },
   "outputs": [],
   "source": [
    "# This is a list of different data types\n",
    "print(['ones', 2, 3.14])\n",
    "\n",
    "[print(type(item)) for item in ['ones', 2, 3.14]];"
   ]
  },
  {
   "cell_type": "code",
   "execution_count": null,
   "metadata": {
    "ExecuteTime": {
     "end_time": "2022-07-24T09:04:19.265424Z",
     "start_time": "2022-07-24T09:04:19.248156Z"
    }
   },
   "outputs": [],
   "source": [
    "# This is a list that also contains a list.\n",
    "print(['ones', [2, 3.14], '1'])\n",
    "\n",
    "[print(type(item)) for item in ['ones', [2, 3.14], '1']];"
   ]
  },
  {
   "cell_type": "markdown",
   "metadata": {},
   "source": [
    "**Tuples**"
   ]
  },
  {
   "cell_type": "code",
   "execution_count": null,
   "metadata": {
    "ExecuteTime": {
     "end_time": "2022-07-24T09:04:19.488178Z",
     "start_time": "2022-07-24T09:04:19.468115Z"
    }
   },
   "outputs": [],
   "source": [
    "#  Create a tuple using parenthesis\n",
    "(1, 2, 3)"
   ]
  },
  {
   "cell_type": "code",
   "execution_count": null,
   "metadata": {
    "ExecuteTime": {
     "end_time": "2022-07-24T09:04:19.508302Z",
     "start_time": "2022-07-24T09:04:19.493185Z"
    }
   },
   "outputs": [],
   "source": [
    "print(type((1, 2, 3)))"
   ]
  },
  {
   "cell_type": "code",
   "execution_count": null,
   "metadata": {
    "ExecuteTime": {
     "end_time": "2022-07-24T09:04:19.527910Z",
     "start_time": "2022-07-24T09:04:19.508302Z"
    }
   },
   "outputs": [],
   "source": [
    "#  Create a tuple of different data types\n",
    "(1, ['two', 2], '3')\n",
    "[print(type(item)) for item in (1, ['two', 2], '3')];"
   ]
  },
  {
   "cell_type": "markdown",
   "metadata": {},
   "source": [
    "### Functions"
   ]
  },
  {
   "cell_type": "markdown",
   "metadata": {},
   "source": [
    "A function is a block of organized, reusable code that is used to perform a single action. The idea is to put some commonly or repeatedly done tasks together and make a function so that instead of writing the same code again and again for different inputs, we can do the function calls to reuse code contained in it over and over again.\n",
    "\n",
    "For example:"
   ]
  },
  {
   "cell_type": "code",
   "execution_count": null,
   "metadata": {
    "ExecuteTime": {
     "end_time": "2022-07-24T09:04:19.978232Z",
     "start_time": "2022-07-24T09:04:19.968089Z"
    }
   },
   "outputs": [],
   "source": [
    "# This is a function. Note that the function has a 'return' statement.\n",
    "def plus(a, b):\n",
    "    return a + b"
   ]
  },
  {
   "cell_type": "code",
   "execution_count": null,
   "metadata": {
    "ExecuteTime": {
     "end_time": "2022-07-24T09:04:19.998285Z",
     "start_time": "2022-07-24T09:04:19.978232Z"
    }
   },
   "outputs": [],
   "source": [
    "# now we can call the function\n",
    "plus(3, 4)"
   ]
  },
  {
   "cell_type": "markdown",
   "metadata": {},
   "source": [
    "All functions return *something*, even if you don't specify it. If you don't specify a return value, then it will default to returning `None`."
   ]
  },
  {
   "cell_type": "markdown",
   "metadata": {},
   "source": [
    "But you can do much more than just adding two values.\n",
    "\n",
    "lets look at the Normalized Difference Vegetation Index [(NDVI)](https://en.wikipedia.org/wiki/Normalized_difference_vegetation_index), which you will see frequently in the Remote Sensing literature.\n",
    "The formula is:\n",
    "\n",
    "$$NDVI = \\frac{(NIR - Red)}{(NIR + Red)} $$\n",
    "\n",
    "where: *NIR* is the value of the Near Infrared band of a satellite; and *Red* is the value of the Red band of the same satellite."
   ]
  },
  {
   "cell_type": "markdown",
   "metadata": {},
   "source": [
    "<div class=\"alert alert-block alert-danger\">\n",
    "\n",
    "Exercise 1d - Create a NDVI function\n",
    "\n",
    "Create a function to calculate NDVI using the formula $NDVI = \\frac{(NIR - Red)}{(NIR + Red)} $\n",
    "\n",
    "Then use a few combinations of numbers to test the output of the function. For example: `print('High NIR, low Red:', ndvi(0.9,0.01))`\n",
    "\n",
    "</div>  \n"
   ]
  },
  {
   "cell_type": "code",
   "execution_count": null,
   "metadata": {
    "ExecuteTime": {
     "end_time": "2022-07-24T09:04:20.673215Z",
     "start_time": "2022-07-24T09:04:20.657986Z"
    }
   },
   "outputs": [],
   "source": [
    "# Your code goes here.\n"
   ]
  },
  {
   "cell_type": "markdown",
   "metadata": {},
   "source": [
    "***"
   ]
  },
  {
   "cell_type": "markdown",
   "metadata": {},
   "source": [
    "## Summary\n",
    "\n",
    "In this practical session you learned about Jupyter notebooks, which are a great way of creating interactive pieces of code and text.\n",
    "\n",
    "You used python and a programming language, and explored different data types. This knowledge will be useful as the semester progresses.\n",
    "\n",
    "Finally, you created a few graphs using differnt styles."
   ]
  },
  {
   "cell_type": "markdown",
   "metadata": {},
   "source": [
    "***"
   ]
  },
  {
   "cell_type": "markdown",
   "metadata": {},
   "source": [
    "## Useful websites you may want to visit if you need help and inspiration.\n",
    "\n",
    "- https://www.geeksforgeeks.org/python-functions/\n",
    "- https://jakevdp.github.io/PythonDataScienceHandbook/index.html\n"
   ]
  },
  {
   "cell_type": "markdown",
   "metadata": {},
   "source": [
    "***\n",
    "\n",
    "## Additional information\n",
    "\n",
    "**Sources:** The code in this notebook as several sources, including:\n",
    "https://www.neonscience.org/resources/learning-hub/tutorials/jupyter-python-notebook; \n",
    "https://bi1.caltech.edu/code/t0a_setting_up_python.html; \n",
    "https://bi1.caltech.edu/code/t0b_jupyter_notebooks.html; \n",
    "https://jupyter.brynmawr.edu/services/public/dblank/Jupyter%20Notebook%20Users%20Manual.ipynb.\n",
    "\n",
    "**License:** Some of the code in this notebook was initially created by [Mark Bakker](https://nbviewer.org/github/mbakker7/exploratory_computing_with_python/blob/master/notebook1_basics_plotting/py_exploratory_comp_1_sol.ipynb), and has been modified by Chad Burton. The code in this notebook is licensed under a [Creative Commons Attribution 4.0 International License](https://creativecommons.org/licenses/by/4.0/). \n",
    "\n",
    "**Contact:** If you need assistance, please post a question on the ENGN3903 Wattle course forum. \n",
    "\n",
    "**Last modified:** July 2024"
   ]
  },
  {
   "cell_type": "markdown",
   "metadata": {},
   "source": [
    "***"
   ]
  }
 ],
 "metadata": {
  "kernelspec": {
   "display_name": "Python 3 (ipykernel)",
   "language": "python",
   "name": "python3"
  },
  "language_info": {
   "codemirror_mode": {
    "name": "ipython",
    "version": 3
   },
   "file_extension": ".py",
   "mimetype": "text/x-python",
   "name": "python",
   "nbconvert_exporter": "python",
   "pygments_lexer": "ipython3",
   "version": "3.10.0"
  },
  "latex_envs": {
   "LaTeX_envs_menu_present": true,
   "autoclose": true,
   "autocomplete": true,
   "bibliofile": "biblio.bib",
   "cite_by": "apalike",
   "current_citInitial": 1,
   "eqLabelWithNumbers": true,
   "eqNumInitial": 1,
   "hotkeys": {
    "equation": "Ctrl-E",
    "itemize": "Ctrl-I"
   },
   "labels_anchors": false,
   "latex_user_defs": false,
   "report_style_numbering": false,
   "user_envs_cfg": false
  },
  "toc": {
   "base_numbering": 1,
   "nav_menu": {},
   "number_sections": true,
   "sideBar": false,
   "skip_h1_title": false,
   "title_cell": "Table of Contents",
   "title_sidebar": "Contents",
   "toc_cell": false,
   "toc_position": {
    "height": "757px",
    "left": "22px",
    "top": "110.7px",
    "width": "243px"
   },
   "toc_section_display": true,
   "toc_window_display": true
  },
  "varInspector": {
   "cols": {
    "lenName": 16,
    "lenType": 16,
    "lenVar": 40
   },
   "kernels_config": {
    "python": {
     "delete_cmd_postfix": "",
     "delete_cmd_prefix": "del ",
     "library": "var_list.py",
     "varRefreshCmd": "print(var_dic_list())"
    },
    "r": {
     "delete_cmd_postfix": ") ",
     "delete_cmd_prefix": "rm(",
     "library": "var_list.r",
     "varRefreshCmd": "cat(var_dic_list()) "
    }
   },
   "types_to_exclude": [
    "module",
    "function",
    "builtin_function_or_method",
    "instance",
    "_Feature"
   ],
   "window_display": false
  },
  "widgets": {
   "application/vnd.jupyter.widget-state+json": {
    "state": {},
    "version_major": 2,
    "version_minor": 0
   }
  }
 },
 "nbformat": 4,
 "nbformat_minor": 4
}
