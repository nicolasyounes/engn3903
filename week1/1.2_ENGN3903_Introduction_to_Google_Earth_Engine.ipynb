{
 "cells": [
  {
   "cell_type": "markdown",
   "metadata": {},
   "source": [
    "# Introduction to  Google Earth Engine using geemap \n",
    "\n",
    "* **Special requirements:** A Google account.\n",
    "* **Prerequisites:** You should be familiar with python and jupyter notebooks and should have finished the first practical \"1.1_ENGN3903_Introduction to Python and Jupyter\".\n"
   ]
  },
  {
   "cell_type": "markdown",
   "metadata": {},
   "source": [
    "## Background\n",
    "\n",
    "What is [Google Earth Engine](https://earthengine.google.com/#!/) (GEE)?\n",
    "\n",
    "GEE is essentially a huge computer that stores millions of satellite images captured using different sensors. For example, GEE has the whole Landsat, and Sentinel 2 image archives for all the world. These archives have millions of satellite images, and Google stores a copy of each image in Earth Engine. \n",
    "\n",
    "Not only that, but GEE allows you to view, download, analyze, the data using Google's computers instead of using your own! \n",
    "By using GEE we don't have to download any imagery, or spend hours waiting for an analysis to finish.\n",
    "\n",
    "You can access GEE in many ways, but in this course we'll use `geemap`. `geemap` is a python package that allows us to connect to GEE using Python and Jupyter Notebooks, instead of [Google's code editor](code.earthengine.google.com). This has several advantages because we can do additional analysis, better plots and maps in python than what we could do in Google's code editor.\n",
    "\n",
    "There are also some dissadvantages to using GEE. For example, you'll need a Google account to use it, it uses a lot of internet bandwidth, there are only low resolution images for great parts of Africa, South America, and Asia. You can read more [on this recent post](https://www.matecdev.com/posts/disadvantages-earth-engine.html#gee-is-inconvenient-for-smaller-datasets) by Martin Maas.\n",
    "\n",
    "So keep the pros and cons on your mind... in the meantime, Let's get started!\n",
    "***"
   ]
  },
  {
   "cell_type": "markdown",
   "metadata": {},
   "source": [
    "## Aims of the practical session\n",
    "\n",
    "1. Introduce the students to Google Earth Engine.\n",
    "1. Brief introduction to the geemap package.\n",
    "1. Visualize a dataset.\n",
    " \n",
    "\n",
    "***"
   ]
  },
  {
   "cell_type": "markdown",
   "metadata": {},
   "source": [
    "## Description\n",
    "\n",
    "In this notebook you'll learn about Google Earth Engine, and how you can access their datasets, and how we'll use it in Python. \n",
    "\n",
    "First we will:\n",
    "\n",
    "- log in to Google Earth Engine, and\n",
    "- load a basemap.\n",
    "\n",
    "Then we will:\n",
    "- load a few available datasets and explore how these datasets change around the world.\n",
    "\n",
    "Lastly, we will:\n",
    "- Load a series of images of the Canberra region, \n",
    "- Explain the main differences of these images,\n",
    "\n",
    "<div class=\"alert alert-block alert-warning\">\n",
    "<b>Assessment:</b> Once you finish the practical and the excercises, remember to submit your notebook through Wattle.\n",
    "</div>\n",
    "\n",
    "***"
   ]
  },
  {
   "cell_type": "markdown",
   "metadata": {},
   "source": [
    "## (Brief) Introduction to Google Earth Engine"
   ]
  },
  {
   "cell_type": "markdown",
   "metadata": {},
   "source": [
    "Google Earth Engine (GEE) is 'a cloud-based platform for planetary-scale geospatial analysis that brings Google's massive computational capabilities to bear on a variety of high-impact societal issues including deforestation, drought, disaster, disease, food security, water management, climate monitoring and environmental protection. It is unique in the field as an integrated platform designed to empower not only traditional remote sensing scientists, but also a much wider audience that lacks the technical capacity needed to utilize traditional supercomputers or large-scale commodity cloud computing resources.'[source](https://www.sciencedirect.com/science/article/pii/S0034425717302900).\n",
    "\n",
    "You can access GEE using the [code editor](https://code.earthengine.google.com/), or using the python interface. \n"
   ]
  },
  {
   "cell_type": "markdown",
   "metadata": {},
   "source": [
    "***"
   ]
  },
  {
   "cell_type": "markdown",
   "metadata": {},
   "source": [
    "## (Brief) Introduction to the `geemap` package"
   ]
  },
  {
   "cell_type": "markdown",
   "metadata": {},
   "source": [
    "Very briefly, `geemap` is a python package created by [Qiusheng Wu](https://github.com/giswqs) from the University of Tennessee, Knoxville.\n",
    "\n",
    "The main aim of `geemap` is to allow: *(i)* interactive mapping with Google Earth Engine (GEE) within python, and *(ii)* usage of additional libraries within python for data analysis and data visualization.\n",
    "\n",
    "You can read more about `geemap` [here](https://github.com/giswqs/geemap)"
   ]
  },
  {
   "cell_type": "markdown",
   "metadata": {},
   "source": [
    "***"
   ]
  },
  {
   "cell_type": "markdown",
   "metadata": {},
   "source": [
    "## Getting started\n"
   ]
  },
  {
   "cell_type": "markdown",
   "metadata": {},
   "source": [
    "### Load packages\n",
    "\n",
    "Import Python packages that are used for the analysis.\n"
   ]
  },
  {
   "cell_type": "code",
   "execution_count": 1,
   "metadata": {
    "ExecuteTime": {
     "end_time": "2022-07-24T11:09:46.242118Z",
     "start_time": "2022-07-24T11:09:41.046804Z"
    },
    "scrolled": true
   },
   "outputs": [],
   "source": [
    "%matplotlib inline\n",
    "\n",
    "import geemap as gmap\n",
    "import ee"
   ]
  },
  {
   "cell_type": "markdown",
   "metadata": {},
   "source": [
    "### Connect to Google Earth Engine (GEE)\n",
    "\n",
    "Connect to the GEE so we can access GEE datasets and computing assets.\n",
    "You may be required to input your Google account name and password. Please keep those safe and don't share them with anyone."
   ]
  },
  {
   "cell_type": "code",
   "execution_count": 3,
   "metadata": {},
   "outputs": [
    {
     "data": {
      "text/html": [
       "\n",
       "            <style>\n",
       "                .geemap-dark {\n",
       "                    --jp-widgets-color: white;\n",
       "                    --jp-widgets-label-color: white;\n",
       "                    --jp-ui-font-color1: white;\n",
       "                    --jp-layout-color2: #454545;\n",
       "                    background-color: #383838;\n",
       "                }\n",
       "\n",
       "                .geemap-dark .jupyter-button {\n",
       "                    --jp-layout-color3: #383838;\n",
       "                }\n",
       "\n",
       "                .geemap-colab {\n",
       "                    background-color: var(--colab-primary-surface-color, white);\n",
       "                }\n",
       "\n",
       "                .geemap-colab .jupyter-button {\n",
       "                    --jp-layout-color3: var(--colab-primary-surface-color, white);\n",
       "                }\n",
       "            </style>\n",
       "            "
      ],
      "text/plain": [
       "<IPython.core.display.HTML object>"
      ]
     },
     "metadata": {},
     "output_type": "display_data"
    },
    {
     "data": {
      "text/html": [
       "<p>To authorize access needed by Earth Engine, open the following\n",
       "        URL in a web browser and follow the instructions:</p>\n",
       "        <p><a href=https://code.earthengine.google.com/client-auth?scopes=https%3A//www.googleapis.com/auth/earthengine%20https%3A//www.googleapis.com/auth/cloud-platform%20https%3A//www.googleapis.com/auth/devstorage.full_control&request_id=JVCMPW53yTQIigBkjgZqRqe0P4-HZNJ1ZQaYkCbAAsU&tc=XwH-kfppJ4uvgwL_E8IBqP15eMQZ1_244hxz4aFAXRk&cc=DjAVx_OcmVE_KcuRl50ugVY-kJUR233-Uy2e4swge7E>https://code.earthengine.google.com/client-auth?scopes=https%3A//www.googleapis.com/auth/earthengine%20https%3A//www.googleapis.com/auth/cloud-platform%20https%3A//www.googleapis.com/auth/devstorage.full_control&request_id=JVCMPW53yTQIigBkjgZqRqe0P4-HZNJ1ZQaYkCbAAsU&tc=XwH-kfppJ4uvgwL_E8IBqP15eMQZ1_244hxz4aFAXRk&cc=DjAVx_OcmVE_KcuRl50ugVY-kJUR233-Uy2e4swge7E</a></p>\n",
       "        <p>The authorization workflow will generate a code, which you should paste in the box below.</p>\n",
       "        "
      ],
      "text/plain": [
       "<IPython.core.display.HTML object>"
      ]
     },
     "metadata": {},
     "output_type": "display_data"
    },
    {
     "name": "stdin",
     "output_type": "stream",
     "text": [
      "Enter verification code:  4/1ATx3LY60KkxEsNI-fV8VKDIMOXhro3WAoY0l-PHrfUDi81Ibf08FcPfCaFA\n"
     ]
    },
    {
     "name": "stdout",
     "output_type": "stream",
     "text": [
      "\n",
      "Successfully saved authorization token.\n"
     ]
    }
   ],
   "source": [
    "ee.Authenticate(force=True)"
   ]
  },
  {
   "cell_type": "code",
   "execution_count": 4,
   "metadata": {
    "ExecuteTime": {
     "end_time": "2022-07-24T11:09:52.447223Z",
     "start_time": "2022-07-24T11:09:46.246122Z"
    }
   },
   "outputs": [
    {
     "data": {
      "text/html": [
       "\n",
       "            <style>\n",
       "                .geemap-dark {\n",
       "                    --jp-widgets-color: white;\n",
       "                    --jp-widgets-label-color: white;\n",
       "                    --jp-ui-font-color1: white;\n",
       "                    --jp-layout-color2: #454545;\n",
       "                    background-color: #383838;\n",
       "                }\n",
       "\n",
       "                .geemap-dark .jupyter-button {\n",
       "                    --jp-layout-color3: #383838;\n",
       "                }\n",
       "\n",
       "                .geemap-colab {\n",
       "                    background-color: var(--colab-primary-surface-color, white);\n",
       "                }\n",
       "\n",
       "                .geemap-colab .jupyter-button {\n",
       "                    --jp-layout-color3: var(--colab-primary-surface-color, white);\n",
       "                }\n",
       "            </style>\n",
       "            "
      ],
      "text/plain": [
       "<IPython.core.display.HTML object>"
      ]
     },
     "metadata": {},
     "output_type": "display_data"
    }
   ],
   "source": [
    "m = gmap.Map()"
   ]
  },
  {
   "cell_type": "markdown",
   "metadata": {},
   "source": [
    "At some point during the authorization process you may be asked if you want to link your Google account to Google Cloud. Importantly, Google Cloud charges a fees for *some* services, but [**you will not be charged any fees for using GEE**](https://groups.google.com/g/google-earthengine-announce/c/k7nLB_uZzdo)."
   ]
  },
  {
   "cell_type": "markdown",
   "metadata": {},
   "source": [
    "***"
   ]
  },
  {
   "cell_type": "markdown",
   "metadata": {},
   "source": [
    "## Load a basemap"
   ]
  },
  {
   "cell_type": "markdown",
   "metadata": {},
   "source": [
    "Let's add a basemap and see what happens"
   ]
  },
  {
   "cell_type": "code",
   "execution_count": 5,
   "metadata": {
    "ExecuteTime": {
     "end_time": "2022-07-24T11:09:53.205020Z",
     "start_time": "2022-07-24T11:09:52.451223Z"
    }
   },
   "outputs": [
    {
     "data": {
      "text/html": [
       "\n",
       "            <style>\n",
       "                .geemap-dark {\n",
       "                    --jp-widgets-color: white;\n",
       "                    --jp-widgets-label-color: white;\n",
       "                    --jp-ui-font-color1: white;\n",
       "                    --jp-layout-color2: #454545;\n",
       "                    background-color: #383838;\n",
       "                }\n",
       "\n",
       "                .geemap-dark .jupyter-button {\n",
       "                    --jp-layout-color3: #383838;\n",
       "                }\n",
       "\n",
       "                .geemap-colab {\n",
       "                    background-color: var(--colab-primary-surface-color, white);\n",
       "                }\n",
       "\n",
       "                .geemap-colab .jupyter-button {\n",
       "                    --jp-layout-color3: var(--colab-primary-surface-color, white);\n",
       "                }\n",
       "            </style>\n",
       "            "
      ],
      "text/plain": [
       "<IPython.core.display.HTML object>"
      ]
     },
     "metadata": {},
     "output_type": "display_data"
    },
    {
     "data": {
      "application/vnd.jupyter.widget-view+json": {
       "model_id": "623acc4f672d41c7a30d93c23e12409f",
       "version_major": 2,
       "version_minor": 0
      },
      "text/plain": [
       "Map(center=[0, 0], controls=(WidgetControl(options=['position', 'transparent_bg'], widget=SearchDataGUI(childr…"
      ]
     },
     "execution_count": 5,
     "metadata": {},
     "output_type": "execute_result"
    }
   ],
   "source": [
    "Map = gmap.Map()\n",
    "Map"
   ]
  },
  {
   "cell_type": "markdown",
   "metadata": {},
   "source": [
    "Now let's zoom into souteastern Australia. To do that we have to give the `Map` function a few additional instructions."
   ]
  },
  {
   "cell_type": "code",
   "execution_count": 6,
   "metadata": {
    "ExecuteTime": {
     "end_time": "2022-07-24T11:09:54.263632Z",
     "start_time": "2022-07-24T11:09:53.213021Z"
    }
   },
   "outputs": [
    {
     "data": {
      "text/html": [
       "\n",
       "            <style>\n",
       "                .geemap-dark {\n",
       "                    --jp-widgets-color: white;\n",
       "                    --jp-widgets-label-color: white;\n",
       "                    --jp-ui-font-color1: white;\n",
       "                    --jp-layout-color2: #454545;\n",
       "                    background-color: #383838;\n",
       "                }\n",
       "\n",
       "                .geemap-dark .jupyter-button {\n",
       "                    --jp-layout-color3: #383838;\n",
       "                }\n",
       "\n",
       "                .geemap-colab {\n",
       "                    background-color: var(--colab-primary-surface-color, white);\n",
       "                }\n",
       "\n",
       "                .geemap-colab .jupyter-button {\n",
       "                    --jp-layout-color3: var(--colab-primary-surface-color, white);\n",
       "                }\n",
       "            </style>\n",
       "            "
      ],
      "text/plain": [
       "<IPython.core.display.HTML object>"
      ]
     },
     "metadata": {},
     "output_type": "display_data"
    },
    {
     "data": {
      "application/vnd.jupyter.widget-view+json": {
       "model_id": "2227a1a993b2468da00ff1b8b23eb4aa",
       "version_major": 2,
       "version_minor": 0
      },
      "text/plain": [
       "Map(center=[-35, 149], controls=(WidgetControl(options=['position', 'transparent_bg'], widget=SearchDataGUI(ch…"
      ]
     },
     "execution_count": 6,
     "metadata": {},
     "output_type": "execute_result"
    }
   ],
   "source": [
    "# We give the 'center' location, and a 'zoom' level.\n",
    "Map = gmap.Map(center=[-35,149], zoom=6)\n",
    "Map"
   ]
  },
  {
   "cell_type": "markdown",
   "metadata": {},
   "source": [
    "Now try using different zoom values (e.g. 1, and 8)"
   ]
  },
  {
   "cell_type": "code",
   "execution_count": null,
   "metadata": {
    "ExecuteTime": {
     "end_time": "2022-07-24T11:09:54.281932Z",
     "start_time": "2022-07-24T11:09:54.267633Z"
    }
   },
   "outputs": [],
   "source": [
    "# Your code goes here.\n"
   ]
  },
  {
   "cell_type": "markdown",
   "metadata": {},
   "source": [
    "This 'roadmap' is only one of the many basemaps available in GEE.\n",
    "Let's change it to the more familiar 'satellite' basemap."
   ]
  },
  {
   "cell_type": "code",
   "execution_count": 7,
   "metadata": {
    "ExecuteTime": {
     "end_time": "2022-07-24T11:09:55.596317Z",
     "start_time": "2022-07-24T11:09:54.306153Z"
    }
   },
   "outputs": [
    {
     "data": {
      "text/html": [
       "\n",
       "            <style>\n",
       "                .geemap-dark {\n",
       "                    --jp-widgets-color: white;\n",
       "                    --jp-widgets-label-color: white;\n",
       "                    --jp-ui-font-color1: white;\n",
       "                    --jp-layout-color2: #454545;\n",
       "                    background-color: #383838;\n",
       "                }\n",
       "\n",
       "                .geemap-dark .jupyter-button {\n",
       "                    --jp-layout-color3: #383838;\n",
       "                }\n",
       "\n",
       "                .geemap-colab {\n",
       "                    background-color: var(--colab-primary-surface-color, white);\n",
       "                }\n",
       "\n",
       "                .geemap-colab .jupyter-button {\n",
       "                    --jp-layout-color3: var(--colab-primary-surface-color, white);\n",
       "                }\n",
       "            </style>\n",
       "            "
      ],
      "text/plain": [
       "<IPython.core.display.HTML object>"
      ]
     },
     "metadata": {},
     "output_type": "display_data"
    },
    {
     "data": {
      "application/vnd.jupyter.widget-view+json": {
       "model_id": "d6efec1fa0e14e399aeac564d0ec48c6",
       "version_major": 2,
       "version_minor": 0
      },
      "text/plain": [
       "Map(center=[-35, 149], controls=(WidgetControl(options=['position', 'transparent_bg'], widget=SearchDataGUI(ch…"
      ]
     },
     "execution_count": 7,
     "metadata": {},
     "output_type": "execute_result"
    }
   ],
   "source": [
    "# We give the 'center' location, and a 'zoom' level.\n",
    "Map = gmap.Map(center=[-35,149], zoom=7)\n",
    "Map.add_basemap(\"SATELLITE\")\n",
    "Map"
   ]
  },
  {
   "cell_type": "markdown",
   "metadata": {},
   "source": [
    "Try adding the following basemaps:\n",
    "\n",
    "\"ROADMAP\", \"OpenStreetMap\", \"SATELLITE\", \"TERRAIN\", \"HYBRID\". You can turn them on/off using the 'wrench' icon at the top right corner."
   ]
  },
  {
   "cell_type": "code",
   "execution_count": null,
   "metadata": {
    "ExecuteTime": {
     "end_time": "2022-07-24T11:09:55.611277Z",
     "start_time": "2022-07-24T11:09:55.603298Z"
    }
   },
   "outputs": [],
   "source": [
    "# Your code goes here.\n"
   ]
  },
  {
   "cell_type": "markdown",
   "metadata": {},
   "source": [
    "Now search for different places and zoom in and out.\n",
    "For example, you can try [Kumpupintil Lake](https://en.wikipedia.org/wiki/Kumpupintil_Lake) (a.k.a. Lake Dissapointment), [Kakadu National Park](https://en.wikipedia.org/wiki/Kakadu_National_Park), or the [Tasmanian Wilderness World Heritage Area](https://en.wikipedia.org/wiki/Tasmanian_Wilderness_World_Heritage_Area).\n",
    "\n",
    "you can either input their location using coordinates, or scroll using the map above."
   ]
  },
  {
   "cell_type": "code",
   "execution_count": null,
   "metadata": {
    "ExecuteTime": {
     "end_time": "2022-07-24T11:09:55.642193Z",
     "start_time": "2022-07-24T11:09:55.624242Z"
    }
   },
   "outputs": [],
   "source": [
    "# Your code goes here.\n"
   ]
  },
  {
   "cell_type": "markdown",
   "metadata": {},
   "source": [
    "**GEE tip:** Basemaps are not data; they are only pretty pictures that allow you to see where you're working, but you cannot do any analysis on them. "
   ]
  },
  {
   "cell_type": "markdown",
   "metadata": {},
   "source": [
    "***"
   ]
  },
  {
   "cell_type": "markdown",
   "metadata": {},
   "source": [
    "## Load a dataset\n",
    "\n",
    "Now that we've successfully logges into GEE and added a basemap, it's time to add some data.\n",
    "\n",
    "GEE has many datasets you can use for your analysis; you can explore them [here](https://developers.google.com/earth-engine/datasets/catalog).\n",
    "\n",
    "For the moment, we'll load a Digital Elevation Model (DEM) for Australia, and start exploring this dataset. You can read more about this dataset [here](https://ecat.ga.gov.au/geonetwork/srv/eng/catalog.search#/metadata/72759)\n"
   ]
  },
  {
   "cell_type": "code",
   "execution_count": 8,
   "metadata": {
    "ExecuteTime": {
     "end_time": "2022-07-24T11:09:57.339718Z",
     "start_time": "2022-07-24T11:09:55.648179Z"
    }
   },
   "outputs": [
    {
     "data": {
      "text/html": [
       "\n",
       "            <style>\n",
       "                .geemap-dark {\n",
       "                    --jp-widgets-color: white;\n",
       "                    --jp-widgets-label-color: white;\n",
       "                    --jp-ui-font-color1: white;\n",
       "                    --jp-layout-color2: #454545;\n",
       "                    background-color: #383838;\n",
       "                }\n",
       "\n",
       "                .geemap-dark .jupyter-button {\n",
       "                    --jp-layout-color3: #383838;\n",
       "                }\n",
       "\n",
       "                .geemap-colab {\n",
       "                    background-color: var(--colab-primary-surface-color, white);\n",
       "                }\n",
       "\n",
       "                .geemap-colab .jupyter-button {\n",
       "                    --jp-layout-color3: var(--colab-primary-surface-color, white);\n",
       "                }\n",
       "            </style>\n",
       "            "
      ],
      "text/plain": [
       "<IPython.core.display.HTML object>"
      ]
     },
     "metadata": {},
     "output_type": "display_data"
    },
    {
     "data": {
      "application/vnd.jupyter.widget-view+json": {
       "model_id": "5b0657eec4584846be9919f119499d91",
       "version_major": 2,
       "version_minor": 0
      },
      "text/plain": [
       "Map(center=[-35, 149], controls=(WidgetControl(options=['position', 'transparent_bg'], widget=SearchDataGUI(ch…"
      ]
     },
     "execution_count": 8,
     "metadata": {},
     "output_type": "execute_result"
    }
   ],
   "source": [
    "# To add an Earth Engine dataset we follow these steps:\n",
    "\n",
    "# Create an interactive map. In this practical session we create one every \n",
    "# time, but it's not necessary.\n",
    "Map2 = gmap.Map(center=[-35,149], zoom=4)\n",
    "\n",
    "# Tell GEE which dataset we want, and select a data layer within the dataset.\n",
    "# Here we're selecting the 'elevation' layer from the DEM.\n",
    "dem = ee.Image('AU/GA/DEM_1SEC/v10/DEM-H').select('elevation');\n",
    "\n",
    "# Then we tell GEE how we want to visualize the data.\n",
    "vis_params = {\n",
    "#     We give minimum and maximum values,\n",
    "  'min': -10.0,\n",
    "  'max': 1300.0,\n",
    "    \n",
    "#   And we select the collor palette  \n",
    "  'palette': [\n",
    "      '3ae237', 'b5e22e', 'd6e21f', 'fff705', 'ffd611', 'ffb613', 'ff8b13',\n",
    "    'ff6e08', 'ff500d', 'ff0000', 'de0101', 'c21301', '0602ff', '235cb1',\n",
    "    '307ef3', '269db1', '30c8e2', '32d3ef', '3be285', '3ff38f', '86e26f'],\n",
    "};\n",
    "\n",
    "# Finally, we add the DEM as a new 'layer' in our map.\n",
    "Map2.addLayer(dem, vis_params, 'GA dem', True, 1)\n",
    "Map2"
   ]
  },
  {
   "cell_type": "markdown",
   "metadata": {},
   "source": [
    "The `addLayer` function in GEE has the following arguments:\n",
    "Arguments:\n",
    "\n",
    "> - `eeObject` (Collection|Feature|Image|RawMapId): The object to add to the map.\n",
    "> - `visParams` (FeatureVisualizationParameters|ImageVisualizationParameters, optional):The visualization parameters. For > > - `Images and ImageCollection`, see ee.data.getMapId for valid parameters. For Features and FeatureCollections, the only supported key is \"color\", as a CSS 3.0 color string or a hex string in \"RRGGBB\" format. Ignored when eeObject is a map ID.\n",
    "> - `name` (String, optional):The name of the layer. Defaults to \"Layer N\".\n",
    "> - `shown` (Boolean, optional):A flag indicating whether the layer should be on by default.\n",
    "> - `opacity` (Number, optional):The layer's opacity represented as a number between 0 and 1. Defaults to 1.\n"
   ]
  },
  {
   "attachments": {
    "1.2_fig7.png": {
     "image/png": "[encoded data removed]"
    }
   },
   "cell_type": "markdown",
   "metadata": {},
   "source": [
    "The map above shows the elevation of all locations in the Australian mainland and Tasmania. We can get the values of each pixel in the dataset by using the GEE 'Inspector Tool', as shown in the image below. Note that the icon may be slightly different in your computer.\n",
    "![1.2_fig7.png](https://github.com/nicolasyounes/engn3903/raw/main/figures/1.2_fig7.png)\n",
    "\n",
    "Use the inspector tool to get the values of the following sites:\n",
    "- Uluru (NT)\n",
    "- Mount Kosciuszko (NSW)\n",
    "- Broome (WA),\n",
    "- Black Mountain (ACT)."
   ]
  },
  {
   "cell_type": "markdown",
   "metadata": {},
   "source": [
    "Notice that you can also control which layers you see, and their transparency. \n",
    "\n",
    "To access the layer controls, just click on the 'wrench' incon on the map's upper right side, and then select the 'layer tab' (red box). \n",
    "Here, you'll see a list of all the layers in the current map.\n",
    "You can turn on/off the layers you want, and you can reduce their transparency to see the layers below.\n",
    "![](NYC_draftsAndResources/1.2_fig8_layerControl.PNG)"
   ]
  },
  {
   "cell_type": "markdown",
   "metadata": {},
   "source": [
    "### <a name=\"ex1\"></a> Exercise 1 - Actual Evapotranspiration data\n",
    "\n",
    "In this exercise you'll need to:\n",
    "1. Search for the 'Actual Evapotranspiration for Australia (CMRSET Landsat V2.2)' dataset.\n",
    "1. Add the dataset to an interactive map.\n",
    "1. Use the following palette: '000004, 180f3d, 440f76, 721f81, 9e2f7f, cd4071, f1605d, fd9668, feca8d, fcfdbf'\n",
    "1. Finnd the actual evapotranspiration (AET) for the following coordinates:\n",
    "> - (151.5936, -30.9843),\n",
    "> - (144.0591, -19.5628),\n",
    "> - (130.8405, -12.4481),\n",
    "> - (133.2547, -23.6767).\n",
    "\n",
    "You can learn more about this dataset [here](https://portal.tern.org.au/actual-evapotranspiration-australia-cmrset-algorithm/21915)."
   ]
  },
  {
   "cell_type": "code",
   "execution_count": null,
   "metadata": {
    "ExecuteTime": {
     "end_time": "2022-07-24T11:09:57.370638Z",
     "start_time": "2022-07-24T11:09:57.351686Z"
    }
   },
   "outputs": [],
   "source": [
    "# Your code goes here.\n"
   ]
  },
  {
   "cell_type": "markdown",
   "metadata": {},
   "source": [
    "***"
   ]
  },
  {
   "cell_type": "markdown",
   "metadata": {},
   "source": [
    "## Load multiple dataset to a single map"
   ]
  },
  {
   "cell_type": "markdown",
   "metadata": {},
   "source": [
    "Loading multiple datasets into GEE is very similar to loading a single dataset.\n",
    "\n",
    "Here, we'll load tree different datasets:\n",
    "1. [GlobCover: Global Land Cover Map](https://developers.google.com/earth-engine/datasets/catalog/ESA_GLOBCOVER_L4_200901_200912_V2_3),\n",
    "1. [SRTM Digital Elevation Data Version 4](https://developers.google.com/earth-engine/datasets/catalog/CGIAR_SRTM90_V4), and\n",
    "1. [FAO GAUL: Global Administrative Unit Layers 2015, First-Level Administrative Units](https://developers.google.com/earth-engine/datasets/catalog/FAO_GAUL_2015_level1)\n",
    "\n",
    "Let's look at the code below:"
   ]
  },
  {
   "cell_type": "code",
   "execution_count": 9,
   "metadata": {
    "ExecuteTime": {
     "end_time": "2022-07-24T11:10:00.096797Z",
     "start_time": "2022-07-24T11:09:57.376619Z"
    }
   },
   "outputs": [
    {
     "data": {
      "text/html": [
       "\n",
       "            <style>\n",
       "                .geemap-dark {\n",
       "                    --jp-widgets-color: white;\n",
       "                    --jp-widgets-label-color: white;\n",
       "                    --jp-ui-font-color1: white;\n",
       "                    --jp-layout-color2: #454545;\n",
       "                    background-color: #383838;\n",
       "                }\n",
       "\n",
       "                .geemap-dark .jupyter-button {\n",
       "                    --jp-layout-color3: #383838;\n",
       "                }\n",
       "\n",
       "                .geemap-colab {\n",
       "                    background-color: var(--colab-primary-surface-color, white);\n",
       "                }\n",
       "\n",
       "                .geemap-colab .jupyter-button {\n",
       "                    --jp-layout-color3: var(--colab-primary-surface-color, white);\n",
       "                }\n",
       "            </style>\n",
       "            "
      ],
      "text/plain": [
       "<IPython.core.display.HTML object>"
      ]
     },
     "metadata": {},
     "output_type": "display_data"
    },
    {
     "data": {
      "application/vnd.jupyter.widget-view+json": {
       "model_id": "58deebb67dcc48e6a3e467f94936d2bf",
       "version_major": 2,
       "version_minor": 0
      },
      "text/plain": [
       "Map(center=[-35, 149], controls=(WidgetControl(options=['position', 'transparent_bg'], widget=SearchDataGUI(ch…"
      ]
     },
     "execution_count": 9,
     "metadata": {},
     "output_type": "execute_result"
    }
   ],
   "source": [
    "# Create a new map and add the satellite basemap\n",
    "Map3 = gmap.Map(center=[-35,149], zoom=4)\n",
    "Map3.add_basemap(\"SATELLITE\")\n",
    "\n",
    "# Add Earth Engine datasets\n",
    "dem = ee.Image('CGIAR/SRTM90_V4').select('elevation')\n",
    "landcover = ee.Image('ESA/GLOBCOVER_L4_200901_200912_V2_3').select('landcover')\n",
    "states = ee.FeatureCollection(\"FAO/GAUL/2015/level1\")\n",
    "\n",
    "# Set visualization parameters for the DEM.\n",
    "vis_params = {\n",
    "    'min': 0,\n",
    "    'max': 8000,\n",
    "    'palette': ['006633', 'E5FFCC', '662A00', 'D8D8D8', 'F5F5F5'],\n",
    "}\n",
    "\n",
    "# Add Earth Eninge layers to Map\n",
    "Map3.addLayer(dem, vis_params, 'SRTM DEM', True, 0.8)\n",
    "Map3.addLayer(landcover, {}, 'ESA Land cover', True, 0.7)\n",
    "Map3.addLayer(states, {}, \"Countries and states\")\n",
    "Map3"
   ]
  },
  {
   "cell_type": "markdown",
   "metadata": {},
   "source": [
    "In the map above, use the inspector tool to see the information of different places on Earth.\n",
    "\n",
    "Try, for example:\n",
    "> - (109.1768, -0.2141),\n",
    "> - (126.5901, 35.7657),\n",
    "> - (-7.1796, 5.9330),\n",
    "> - (249.0571, 54.0533),\n",
    "\n",
    "Did you find anything interesting in any of these places?\n",
    "If so, let us know."
   ]
  },
  {
   "cell_type": "markdown",
   "metadata": {},
   "source": [
    "***"
   ]
  },
  {
   "cell_type": "markdown",
   "metadata": {},
   "source": [
    "## Summary\n",
    "\n",
    "In this practical session you've learned a bit about GEE. GEE is one of the many online tools dedicated to remote sensing image processing and analysis. It is an extremely complex and cloud based software, and thus it is not possible to teach all aspects of its use within a single remote sensing course. Interested students are encouraged to pursue further study through independent research projects. Talk to us if you are interested in such opportunity.\n",
    "\n",
    "You've accessed GEE using the python package `geemap`, which allows us to expand GEE's capabilities. \n",
    "\n",
    "Finally, you learned about basemaps (Which are for display purposes only), and you added and explored different datasets."
   ]
  },
  {
   "cell_type": "markdown",
   "metadata": {},
   "source": [
    "***"
   ]
  },
  {
   "cell_type": "markdown",
   "metadata": {},
   "source": [
    "## References\n",
    "\n",
    "- https://geemap.org/\n",
    "- Wu, Q., (2020). geemap: A Python package for interactive mapping with Google Earth Engine. The Journal of Open Source Software, 5(51), 2305. https://doi.org/10.21105/joss.02305"
   ]
  },
  {
   "cell_type": "markdown",
   "metadata": {},
   "source": [
    "***\n",
    "\n",
    "## Additional information\n",
    "\n",
    "**Sources:** The code in this notebook as several sources, including:\n",
    "https://github.com/giswqs/geemap; \n",
    "\n",
    "**License:** Some of the code in this notebook was initially created by [Qiusheng Wu](https://github.com/giswqs), and has been modified by Nicolas Younes and Abolfazl Abdollahi. The code in this notebook is licensed under a [Creative Commons Attribution 4.0 International License](https://creativecommons.org/licenses/by/4.0/), and an [MIT Licence](https://mit-license.org/). \n",
    "\n",
    "**Contact:** If you need assistance, please post a question on the ENGN3903 Wattle course forum\n",
    "\n",
    "**Last modified:** July 2022"
   ]
  },
  {
   "cell_type": "markdown",
   "metadata": {},
   "source": [
    "***"
   ]
  }
 ],
 "metadata": {
  "kernelspec": {
   "display_name": "Python 3 (ipykernel)",
   "language": "python",
   "name": "python3"
  },
  "language_info": {
   "codemirror_mode": {
    "name": "ipython",
    "version": 3
   },
   "file_extension": ".py",
   "mimetype": "text/x-python",
   "name": "python",
   "nbconvert_exporter": "python",
   "pygments_lexer": "ipython3",
   "version": "3.10.0"
  },
  "latex_envs": {
   "LaTeX_envs_menu_present": true,
   "autoclose": true,
   "autocomplete": true,
   "bibliofile": "biblio.bib",
   "cite_by": "apalike",
   "current_citInitial": 1,
   "eqLabelWithNumbers": true,
   "eqNumInitial": 1,
   "hotkeys": {
    "equation": "Ctrl-E",
    "itemize": "Ctrl-I"
   },
   "labels_anchors": false,
   "latex_user_defs": false,
   "report_style_numbering": false,
   "user_envs_cfg": false
  },
  "toc": {
   "base_numbering": 1,
   "nav_menu": {},
   "number_sections": true,
   "sideBar": true,
   "skip_h1_title": false,
   "title_cell": "Table of Contents",
   "title_sidebar": "Contents",
   "toc_cell": false,
   "toc_position": {
    "height": "calc(100% - 180px)",
    "left": "10px",
    "top": "150px",
    "width": "384px"
   },
   "toc_section_display": true,
   "toc_window_display": true
  },
  "varInspector": {
   "cols": {
    "lenName": 16,
    "lenType": 16,
    "lenVar": 40
   },
   "kernels_config": {
    "python": {
     "delete_cmd_postfix": "",
     "delete_cmd_prefix": "del ",
     "library": "var_list.py",
     "varRefreshCmd": "print(var_dic_list())"
    },
    "r": {
     "delete_cmd_postfix": ") ",
     "delete_cmd_prefix": "rm(",
     "library": "var_list.r",
     "varRefreshCmd": "cat(var_dic_list()) "
    }
   },
   "types_to_exclude": [
    "module",
    "function",
    "builtin_function_or_method",
    "instance",
    "_Feature"
   ],
   "window_display": false
  },
  "widgets": {
   "application/vnd.jupyter.widget-state+json": {
    "state": {},
    "version_major": 2,
    "version_minor": 0
   }
  }
 },
 "nbformat": 4,
 "nbformat_minor": 4
}
