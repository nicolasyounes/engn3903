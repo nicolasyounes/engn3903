{
 "cells": [
  {
   "cell_type": "markdown",
   "id": "21ad5e62",
   "metadata": {},
   "source": [
    "## Description\n",
    "Supervised classification is arguably the most important classical machine learning techniques in remote sensing. \n",
    "Applications range from generating Land Use/Land Cover maps to change detection. \n",
    "In this session, you will learn how to split GCPs into training/vaildation and apply machine learning techniques to covers basic supervised classification workflow, and accuracy assessment\n",
    "\n",
    "## Aims of the practical session\n",
    "* Load images for the region of interest\n",
    "* Collect training samples\n",
    "* split smaples into training/validation data\n",
    "* correspond training data with the data\n",
    "* Use classifier\n",
    "* accuracy assessement for training/validation data"
   ]
  },
  {
   "cell_type": "markdown",
   "id": "ebb68eca",
   "metadata": {},
   "source": [
    "## Getting started"
   ]
  },
  {
   "cell_type": "markdown",
   "id": "17785cac",
   "metadata": {},
   "source": [
    "### Load packages\n",
    "\n",
    "Import GEE packages that are needed for the analysis."
   ]
  },
  {
   "cell_type": "code",
   "execution_count": 1,
   "id": "063f502b",
   "metadata": {},
   "outputs": [],
   "source": [
    "import ee\n",
    "import geemap\n",
    "# ee.Authenticate()"
   ]
  },
  {
   "cell_type": "markdown",
   "id": "a7dc2028",
   "metadata": {},
   "source": [
    "### Connect to Google Earth Engine (GEE)\n",
    "\n",
    "Connect to the GEE to have access computing tools and GEE datasets.\n",
    "You may be required to input your Google account for authorization."
   ]
  },
  {
   "cell_type": "code",
   "execution_count": 2,
   "id": "02b9fd61",
   "metadata": {},
   "outputs": [
    {
     "data": {
      "application/vnd.jupyter.widget-view+json": {
       "model_id": "4362102af0ff43e187473724c08830a4",
       "version_major": 2,
       "version_minor": 0
      },
      "text/plain": [
       "Map(center=[20, 0], controls=(WidgetControl(options=['position', 'transparent_bg'], widget=HBox(children=(Togg…"
      ]
     },
     "metadata": {},
     "output_type": "display_data"
    }
   ],
   "source": [
    "Map = geemap.Map()\n",
    "# Map.add_basemap('HYBRID')\n",
    "Map"
   ]
  },
  {
   "cell_type": "markdown",
   "id": "3b0ca20e",
   "metadata": {},
   "source": [
    "### Adding Region of Interest (ROI)\n",
    "\n",
    "Create ROI that we want to work on it and then add and display it on the GEE map.\n",
    "We can create ROI through manually drawing option in GEE or import the downloaded shapefile from your computer path. "
   ]
  },
  {
   "cell_type": "code",
   "execution_count": 40,
   "id": "30153f23",
   "metadata": {},
   "outputs": [],
   "source": [
    "#Map.user_rois.getInfo()"
   ]
  },
  {
   "cell_type": "code",
   "execution_count": 3,
   "id": "1a4c44d4",
   "metadata": {},
   "outputs": [],
   "source": [
    "geometry = ee.Geometry.Polygon([[\n",
    "    [149.08169361455955, -35.32478551096885],\n",
    "    [149.1481265674404, -35.325065623240356],\n",
    "    [149.14829822881737, -35.27911424131675],\n",
    "    [149.08289524419823, -35.27855369756653]\n",
    "]])\n",
    "\n",
    "Map.addLayer(geometry, {}, 'Canberra ROI')\n",
    "Map.centerObject(geometry);"
   ]
  },
  {
   "cell_type": "markdown",
   "id": "2a98678a",
   "metadata": {},
   "source": [
    "### Training data\n",
    "Training data (or a training dataset) is the initial data used to train machine learning models. Import your pre-selected training dataset from your system."
   ]
  },
  {
   "cell_type": "code",
   "execution_count": 4,
   "id": "e020d06f",
   "metadata": {},
   "outputs": [
    {
     "name": "stderr",
     "output_type": "stream",
     "text": [
      "C:\\Users\\Abolfazl\\Anaconda3\\envs\\gee\\lib\\site-packages\\geopandas\\io\\file.py:299: FutureWarning: pandas.Int64Index is deprecated and will be removed from pandas in a future version. Use pandas.Index with the appropriate dtype instead.\n",
      "  pd.Int64Index,\n"
     ]
    }
   ],
   "source": [
    "#### load training data\n",
    "trainingS_path = 'C:/Users/Abolfazl/Desktop/code/Google Earth Engine/training_data.shp'\n",
    "training_data = geemap.shp_to_ee(trainingS_path)\n",
    "Map.addLayer(training_data, {}, 'training_data')\n",
    "Map.centerObject(training_data)"
   ]
  },
  {
   "cell_type": "markdown",
   "id": "0e1dd997",
   "metadata": {},
   "source": [
    "### Image collection\n",
    "An ImageCollection is a stack or sequence of images. An ImageCollection can be loaded by pasting an Earth Engine asset ID into the ImageCollection constructor. You can find ImageCollection IDs in the <a href=\"https://developers.google.com/earth-engine/datasets\">data catalog</a>. \n",
    "\n",
    "We will:\n",
    "* Load Landsat-8 images for the anlysis\n",
    "* Filter a collection by date range\n",
    "* Stack images\n",
    "* Clip based on the geometry\n",
    "* Display it on Geemap"
   ]
  },
  {
   "cell_type": "code",
   "execution_count": 5,
   "id": "a8f84b63",
   "metadata": {},
   "outputs": [],
   "source": [
    "landsat = (\n",
    "    ee.ImageCollection('LANDSAT/LC08/C01/T1_SR')\n",
    "    .filterBounds(geometry)\n",
    "    .filterDate('2020-09-01','2020-09-30')\n",
    "#     .filter(ee.Filter.lessThan('CLOUD_COVER',10))\n",
    "    .median()\n",
    "    .clip(geometry)\n",
    ")\n",
    "\n",
    "vis_params = {'min': 0, 'max': 3000, 'bands': ['B5', 'B4', 'B3']}\n",
    "\n",
    "# Map.centerObject(point, 8)\n",
    "Map.addLayer(landsat, vis_params, \"Landsat-8\")"
   ]
  },
  {
   "cell_type": "code",
   "execution_count": 6,
   "id": "079c549d",
   "metadata": {},
   "outputs": [],
   "source": [
    "# print(landsat.getInfo())"
   ]
  },
  {
   "cell_type": "markdown",
   "id": "e0ed0ca7",
   "metadata": {},
   "source": [
    "### Sample imagery at training points to create training datasets\n",
    "Now that we have created the points and labels, we need to sample the Landsat 8 imagery using image.sampleRegions(). This command will extract the reflectance in the designated bands for each of the points you have created. \n",
    "\n",
    "We will then:\n",
    "* Select the bands for training\n",
    "* Sample the input imagery to get a FeatureCollection of training data\n",
    "\n",
    "### Split the samples into training/test sets\n",
    "The goal is to split up the region of interest into training data and validation data (with a randomization). The training set is used to train the model and test set is used to validate it."
   ]
  },
  {
   "cell_type": "code",
   "execution_count": 7,
   "id": "30a6ef66",
   "metadata": {},
   "outputs": [],
   "source": [
    "# # selct bands wanted to use in the classifcation\n",
    "bands = ['B2', 'B3', 'B4', 'B5', 'B6', 'B7', 'B10']"
   ]
  },
  {
   "cell_type": "code",
   "execution_count": 14,
   "id": "87148a67",
   "metadata": {},
   "outputs": [
    {
     "name": "stdout",
     "output_type": "stream",
     "text": [
      "241\n"
     ]
    }
   ],
   "source": [
    "# This property of the table stores the land cover labels.\n",
    "label = 'landcover'\n",
    "# # Add a random column and split the GCPs into training and validation set\n",
    "gcp = training_data.randomColumn()\n",
    "\n",
    "# # This being a simpler classification, we take 30% points\n",
    "# # for validation. Normal recommended ratio is\n",
    "# # 70% training, 30% validation\n",
    "trainingGcp = gcp.filter(ee.Filter.lt('random', 0.7))\n",
    "validationGcp = gcp.filter(ee.Filter.gte('random', 0.7))\n",
    "Map.addLayer(validationGcp)\n",
    "# # Overlay the point on the image to get training data.\n",
    "composite = landsat.select(bands)\n",
    "training = composite.sampleRegions(\n",
    "    **{\n",
    "  'collection': trainingGcp,\n",
    "  'properties': [label],\n",
    "  'scale': 30}\n",
    ")\n",
    "print(training.size().getInfo())"
   ]
  },
  {
   "cell_type": "markdown",
   "id": "62205939",
   "metadata": {},
   "source": [
    "### Classifcation method\n",
    "The <a href=\"https://developers.google.com/earth-engine/guides/classification\">Classifier</a> package in handles supervised classification by ML algorithms running in Earth Engine. Thus, in this part we will:\n",
    "* Instantiate a supervised classifier\n",
    "* Set its parameters if necessary\n",
    "* Train the classifier using the training data\n",
    "* Classify an image or feature collection\n",
    "* Display the classified map"
   ]
  },
  {
   "cell_type": "code",
   "execution_count": 16,
   "id": "43da75fe",
   "metadata": {},
   "outputs": [],
   "source": [
    "# # classifier\n",
    "classifier = ee.Classifier.libsvm().train(**{\n",
    "  'features' : training,\n",
    "  'classProperty' : 'landcover',\n",
    "  'inputProperties' : bands\n",
    "})\n",
    "\n",
    "classified = landsat.select(bands).classify(classifier)\n",
    "\n",
    "# # Display the clusters with random colors.\n",
    "Map.addLayer(classified.randomVisualizer(), {}, 'classified')"
   ]
  },
  {
   "cell_type": "markdown",
   "id": "21f12494",
   "metadata": {},
   "source": [
    "### Accuracy assessment\n",
    "Use validation samples to assess the accuracy of a classifier, use a Confusion Matrix (<a href=\"http://www.sciencedirect.com/science/article/pii/S0034425797000837\">Stehman 1997</a>) to calculate overall accuracy (OA) and Kappa coefficient. confusionMatrix() computes a 2D confusion matrix for a classifier based on its training data (ie: resubstitution error). Axis 0 of the matrix correspond to the input classes (i.e., reference data), and axis 1 to the output classes (i.e., classification data). The rows and columns start at class 0 and increase sequentially up to the maximum class value"
   ]
  },
  {
   "cell_type": "code",
   "execution_count": 21,
   "id": "f96d61db",
   "metadata": {},
   "outputs": [
    {
     "name": "stdout",
     "output_type": "stream",
     "text": [
      "108\n"
     ]
    }
   ],
   "source": [
    "# # # Accuracy Assessment\n",
    "test = classified.sampleRegions(\n",
    "    **{\n",
    "  'collection': validationGcp,\n",
    "  'properties': [label],\n",
    "  'scale': 30}\n",
    ")\n",
    "print(test.size().getInfo())"
   ]
  },
  {
   "cell_type": "code",
   "execution_count": 22,
   "id": "26c50bb0",
   "metadata": {},
   "outputs": [
    {
     "data": {
      "text/plain": [
       "[[17, 6, 9, 0], [2, 22, 0, 0], [3, 3, 36, 0], [0, 0, 0, 10]]"
      ]
     },
     "execution_count": 22,
     "metadata": {},
     "output_type": "execute_result"
    }
   ],
   "source": [
    "# # # confusion matrix\n",
    "test_accuracy = test.errorMatrix('landcover', 'classification')\n",
    "test_accuracy.getInfo()"
   ]
  },
  {
   "cell_type": "code",
   "execution_count": 23,
   "id": "7adb57f7",
   "metadata": {},
   "outputs": [
    {
     "data": {
      "text/plain": [
       "0.7870370370370371"
      ]
     },
     "execution_count": 23,
     "metadata": {},
     "output_type": "execute_result"
    }
   ],
   "source": [
    "# # accuracy\n",
    "test_accuracy.accuracy().getInfo()"
   ]
  },
  {
   "cell_type": "code",
   "execution_count": 24,
   "id": "048a3acc",
   "metadata": {},
   "outputs": [
    {
     "data": {
      "text/plain": [
       "0.6980306345733043"
      ]
     },
     "execution_count": 24,
     "metadata": {},
     "output_type": "execute_result"
    }
   ],
   "source": [
    "# # kappa\n",
    "test_accuracy.kappa().getInfo()"
   ]
  },
  {
   "cell_type": "markdown",
   "id": "3f81f867",
   "metadata": {},
   "source": [
    "### Download confusion matrix\n",
    "Use the following code to download the calculated confusion matrix and save it as CSV file in your system."
   ]
  },
  {
   "cell_type": "code",
   "execution_count": 25,
   "id": "699c54e2",
   "metadata": {},
   "outputs": [],
   "source": [
    "# # # Download confusion matrix\n",
    "import csv\n",
    "import os\n",
    "\n",
    "out_dir = os.path.join(os.path.expanduser('~'), 'Downloads')\n",
    "testing_csv = os.path.join(out_dir, 'test_accuracy.csv')\n",
    "\n",
    "with open(testing_csv, \"w\", newline=\"\") as f:\n",
    "    writer = csv.writer(f)\n",
    "    writer.writerows(test_accuracy.getInfo())"
   ]
  },
  {
   "cell_type": "markdown",
   "id": "318d15fa",
   "metadata": {},
   "source": [
    "### Export the classified result\n",
    "Export the result directly to your computer"
   ]
  },
  {
   "cell_type": "code",
   "execution_count": 26,
   "id": "3946faaf",
   "metadata": {},
   "outputs": [],
   "source": [
    "# # # Export the result\n",
    "import os\n",
    "\n",
    "out_dir = os.path.join(os.path.expanduser('~'), 'Downloads')\n",
    "out_file = os.path.join(out_dir, 'landcover.tif')"
   ]
  },
  {
   "cell_type": "code",
   "execution_count": 43,
   "id": "716f8e3e",
   "metadata": {},
   "outputs": [
    {
     "name": "stdout",
     "output_type": "stream",
     "text": [
      "Generating URL ...\n",
      "Downloading data from https://earthengine.googleapis.com/v1alpha/projects/earthengine-legacy/thumbnails/676e2d1df6b0df0e1da296724ce39eab-cfc6ed8f554a9a85445db6da65dc7175:getPixels\n",
      "Please wait ...\n",
      "Data downloaded to C:\\Users\\Abolfazl\\Downloads\\landcover.tif\n"
     ]
    }
   ],
   "source": [
    "geemap.ee_export_image(classified, filename=out_file, scale=30)"
   ]
  },
  {
   "cell_type": "markdown",
   "id": "e777d9e5",
   "metadata": {},
   "source": [
    "<span style='background:yellow'> <span style=\"font-size:16.0pt\"> Exercise  </span>\n",
    "\n",
    "### Exercise 1 - Split GCPs into different ratio \n",
    "Try to choose different percentage of ratio for training/test samples and check how the classifcation results and accuracy of the model for test samples varies.\n",
    "\n",
    "#### Then try to answer the following questions:\n",
    "* What ratio did you choose?\n",
    "* Is the accuracy of the model changed?\n",
    "* What is your recommended ratio for splitting the samples?"
   ]
  },
  {
   "cell_type": "markdown",
   "id": "78242455",
   "metadata": {},
   "source": [
    "### Exercise 2 - Load another data \n",
    "Try to collect another dataset (e.g., Sentinel-2) using Imagecollection and apply the same/different ML technique to classify the image. You can check different data from <a href=\"https://developers.google.com/earth-engine/datasets\">data catalog</a>. \n",
    "\n",
    "#### Then try to answer the following questions:\n",
    "* What are the differences between both datasets (e.g., in terms of bands, resolution, etc.)?\n",
    "* For which dataset does the model achieve better results?\n",
    "* Is the accuracy of the model higher/lower for Sentinel-2, and why?"
   ]
  },
  {
   "cell_type": "markdown",
   "id": "fbc39e0c",
   "metadata": {},
   "source": [
    "## References\n",
    "This is where the references go. For exmaple:\n",
    "\n",
    "* Wu, Q., (2020). geemap: A Python package for interactive mapping with Google Earth Engine. The Journal of Open Source Software, 5(51), 2305. https://doi.org/10.21105/joss.02305\n",
    "\n",
    "* \"Earth Observation: Data, Processing and Applications\" book. Available through Wattle, or http://www.crcsi.com.au/earth-observation-series."
   ]
  },
  {
   "cell_type": "markdown",
   "id": "2a5901d2",
   "metadata": {},
   "source": [
    "## Additional information\n",
    "\n",
    "**License:** The code in this notebook was initially created by the team at [Digital Earth Australia](https://github.com/GeoscienceAustralia/dea-notebooks), and has been modified by Abolfazl Abdollahi. The code in this notebook is licensed under the [Apache License, Version 2.0](https://www.apache.org/licenses/LICENSE-2.0). \n",
    "\n",
    "**Contact:** If you need assistance, please post a question on the ENGN3903 Wattle site. \n",
    "\n",
    "**Last modified:** June 2022"
   ]
  },
  {
   "cell_type": "markdown",
   "id": "c7dd0875",
   "metadata": {},
   "source": [
    "### Exercise answers"
   ]
  },
  {
   "cell_type": "markdown",
   "id": "037381ac",
   "metadata": {},
   "source": [
    "<a name=\"ex1answer\">Answer to Exercise 1</a>"
   ]
  },
  {
   "cell_type": "code",
   "execution_count": 30,
   "id": "02b7bf76",
   "metadata": {},
   "outputs": [],
   "source": [
    "# # This property of the table stores the land cover labels.\n",
    "# label = 'landcover'\n",
    "# # # Add a random column and split the GCPs into training and validation set\n",
    "# gcp = training_data.randomColumn()\n",
    "\n",
    "# # # This being a simpler classification, we take 30% points\n",
    "# # # for validation. Normal recommended ratio is\n",
    "# # # 70% training, 30% validation\n",
    "# trainingGcp = gcp.filter(ee.Filter.lt('random', 0.6))\n",
    "# validationGcp = gcp.filter(ee.Filter.gte('random', 0.6))\n",
    "# Map.addLayer(validationGcp)\n",
    "# # # Overlay the point on the image to get training data.\n",
    "# composite = landsat.select(bands)\n",
    "# training = composite.sampleRegions(\n",
    "#     **{\n",
    "#   'collection': trainingGcp,\n",
    "#   'properties': [label],\n",
    "#   'scale': 30}\n",
    "# )\n",
    "# print(training.size().getInfo())"
   ]
  },
  {
   "cell_type": "markdown",
   "id": "d34f0005",
   "metadata": {},
   "source": [
    "<a name=\"ex1answer\">Answer to Exercise 2</a>"
   ]
  },
  {
   "cell_type": "code",
   "execution_count": 38,
   "id": "fed53103",
   "metadata": {},
   "outputs": [],
   "source": [
    "# #Import Imagery\n",
    "# sentinel2 = ee.ImageCollection('COPERNICUS/S2') \\\n",
    "#   .filter(ee.Filter.lt('CLOUDY_PIXEL_PERCENTAGE', 10)) \\\n",
    "#   .filterDate('2020-09-01','2020-09-30') \\\n",
    "#   .filterBounds(geometry) \\\n",
    "#   .select('B.*')\n",
    "# #\n",
    "# print(sentinel2.size().getInfo());"
   ]
  },
  {
   "cell_type": "code",
   "execution_count": 39,
   "id": "b882f727",
   "metadata": {},
   "outputs": [],
   "source": [
    "# # # # Visualize Image\n",
    "# composite = sentinel2.median().clip(geometry)\n",
    "# vis_params = {'min': 0, 'max': 3000, 'bands': ['B4', 'B3', 'B2']}\n",
    "\n",
    "# Map.addLayer(composite, vis_params, 'Sent-2 Image' );\n",
    "# Map"
   ]
  },
  {
   "cell_type": "code",
   "execution_count": null,
   "id": "4fc67fd9",
   "metadata": {},
   "outputs": [],
   "source": []
  }
 ],
 "metadata": {
  "kernelspec": {
   "display_name": "Python 3 (ipykernel)",
   "language": "python",
   "name": "python3"
  },
  "language_info": {
   "codemirror_mode": {
    "name": "ipython",
    "version": 3
   },
   "file_extension": ".py",
   "mimetype": "text/x-python",
   "name": "python",
   "nbconvert_exporter": "python",
   "pygments_lexer": "ipython3",
   "version": "3.9.12"
  }
 },
 "nbformat": 4,
 "nbformat_minor": 5
}
