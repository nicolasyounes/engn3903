{
 "cells": [
  {
   "cell_type": "markdown",
   "id": "e2356688",
   "metadata": {},
   "source": [
    "## Description\n",
    "Supervised classification is arguably the most important classical machine learning techniques in remote sensing. \n",
    "Applications range from generating Land Use/Land Cover maps to change detection. \n",
    "In this session, you will learn how to improve the results of classification technique to increase accuracy assessment.\n",
    "\n",
    "## Aims of the practical session\n",
    "* Load images for the region of interest\n",
    "* Collect training samples\n",
    "* Split smaples into training/validation data\n",
    "* Correspond training data with the data\n",
    "* Use classifier\n",
    "* Calculate spectral indices\n",
    "* Improve classifcaiton results\n",
    "* Accuracy assessement \n",
    "* Calculating area by class"
   ]
  },
  {
   "cell_type": "markdown",
   "id": "27153a18",
   "metadata": {},
   "source": [
    "## Getting started"
   ]
  },
  {
   "cell_type": "markdown",
   "id": "fe5b470e",
   "metadata": {},
   "source": [
    "### Load packages\n",
    "\n",
    "Import GEE packages that are needed for the analysis."
   ]
  },
  {
   "cell_type": "code",
   "execution_count": 1,
   "id": "456206ac",
   "metadata": {},
   "outputs": [],
   "source": [
    "import ee\n",
    "import geemap\n",
    "# ee.Authenticate()"
   ]
  },
  {
   "cell_type": "markdown",
   "id": "28229bc2",
   "metadata": {},
   "source": [
    "### Connect to Google Earth Engine (GEE)\n",
    "\n",
    "Connect to the GEE to have access computing tools and GEE datasets.\n",
    "You may be required to input your Google account for authorization."
   ]
  },
  {
   "cell_type": "code",
   "execution_count": 2,
   "id": "7cad1135",
   "metadata": {},
   "outputs": [
    {
     "data": {
      "application/vnd.jupyter.widget-view+json": {
       "model_id": "e20966ecb5d041a0bc86c61abd1f9ed8",
       "version_major": 2,
       "version_minor": 0
      },
      "text/plain": [
       "Map(center=[20, 0], controls=(WidgetControl(options=['position', 'transparent_bg'], widget=HBox(children=(Togg…"
      ]
     },
     "metadata": {},
     "output_type": "display_data"
    }
   ],
   "source": [
    "Map = geemap.Map()\n",
    "# Map.add_basemap('HYBRID')\n",
    "Map"
   ]
  },
  {
   "cell_type": "markdown",
   "id": "ed04637b",
   "metadata": {},
   "source": [
    "### Adding Region of Interest (ROI)\n",
    "\n",
    "Create ROI that we want to work on it and then add and display it on the GEE map.\n",
    "We can create ROI through manually drawing option in GEE or import the downloaded shapefile from your computer path. "
   ]
  },
  {
   "cell_type": "code",
   "execution_count": 3,
   "id": "c5ca9052",
   "metadata": {},
   "outputs": [],
   "source": [
    "#Map.user_rois.getInfo()"
   ]
  },
  {
   "cell_type": "code",
   "execution_count": 4,
   "id": "704c0c0b",
   "metadata": {},
   "outputs": [],
   "source": [
    "geometry = ee.Geometry.Polygon([[\n",
    "    [149.08169361455955, -35.32478551096885],\n",
    "    [149.1481265674404, -35.325065623240356],\n",
    "    [149.14829822881737, -35.27911424131675],\n",
    "    [149.08289524419823, -35.27855369756653]\n",
    "]])\n",
    "\n",
    "Map.addLayer(geometry, {}, 'Canberra ROI')\n",
    "Map.centerObject(geometry);"
   ]
  },
  {
   "cell_type": "markdown",
   "id": "19a253eb",
   "metadata": {},
   "source": [
    "### Training data\n",
    "Training data (or a training dataset) is the initial data used to train machine learning models. Import your pre-selected training dataset from your system."
   ]
  },
  {
   "cell_type": "code",
   "execution_count": 5,
   "id": "cda4aafc",
   "metadata": {},
   "outputs": [
    {
     "name": "stderr",
     "output_type": "stream",
     "text": [
      "C:\\Users\\Abolfazl\\Anaconda3\\envs\\gee\\lib\\site-packages\\geopandas\\io\\file.py:299: FutureWarning: pandas.Int64Index is deprecated and will be removed from pandas in a future version. Use pandas.Index with the appropriate dtype instead.\n",
      "  pd.Int64Index,\n"
     ]
    }
   ],
   "source": [
    "#### load training data\n",
    "trainingS_path = 'C:/Users/Abolfazl/Desktop/code/Google Earth Engine/training_data.shp'\n",
    "training_data = geemap.shp_to_ee(trainingS_path)\n",
    "Map.addLayer(training_data, {}, 'training_data')\n",
    "Map.centerObject(training_data)"
   ]
  },
  {
   "cell_type": "markdown",
   "id": "09f35459",
   "metadata": {},
   "source": [
    "### Image collection\n",
    "An ImageCollection is a stack or sequence of images. An ImageCollection can be loaded by pasting an Earth Engine asset ID into the ImageCollection constructor. You can find ImageCollection IDs in the <a href=\"https://developers.google.com/earth-engine/datasets\">data catalog</a>. \n",
    "\n",
    "We will:\n",
    "* Load Landsat-8 images for the anlysis\n",
    "* Filter a collection by date range\n",
    "* Stack images\n",
    "* Clip based on the geometry\n",
    "* Display it on Geemap"
   ]
  },
  {
   "cell_type": "code",
   "execution_count": 6,
   "id": "c3552b4d",
   "metadata": {},
   "outputs": [
    {
     "data": {
      "application/vnd.jupyter.widget-view+json": {
       "model_id": "e20966ecb5d041a0bc86c61abd1f9ed8",
       "version_major": 2,
       "version_minor": 0
      },
      "text/plain": [
       "Map(bottom=317228.0, center=[-35.30291509134112, 149.11238402028857], controls=(WidgetControl(options=['positi…"
      ]
     },
     "metadata": {},
     "output_type": "display_data"
    }
   ],
   "source": [
    "landsat = (\n",
    "    ee.ImageCollection('LANDSAT/LC08/C01/T1_SR')\n",
    "    .filterBounds(geometry)\n",
    "    .filterDate('2020-09-01','2020-09-30')\n",
    "#     .filter(ee.Filter.lessThan('CLOUD_COVER',10))\n",
    "    .median()\n",
    "    .clip(geometry)\n",
    ")\n",
    "\n",
    "vis_params = {'min': 0, 'max': 3000, 'bands': ['B5', 'B4', 'B3']}\n",
    "\n",
    "# Map.centerObject(point, 8)\n",
    "Map.addLayer(landsat, vis_params, \"Landsat-8\")\n",
    "Map"
   ]
  },
  {
   "cell_type": "code",
   "execution_count": 7,
   "id": "d4de8894",
   "metadata": {},
   "outputs": [],
   "source": [
    "# # select bands wanted to use in the classifcation\n",
    "bands = ['B2', 'B3', 'B4', 'B5', 'B6', 'B7', 'B10']"
   ]
  },
  {
   "cell_type": "markdown",
   "id": "79dc59ec",
   "metadata": {},
   "source": [
    "### Split the samples into training/test sets\n",
    "The goal is to split up the region of interest into training data and validation data (with a randomization). The training set is used to train the model and test set is used to validate it."
   ]
  },
  {
   "cell_type": "code",
   "execution_count": 8,
   "id": "1d9704ec",
   "metadata": {},
   "outputs": [],
   "source": [
    "# This property of the table stores the land cover labels.\n",
    "label = 'landcover'\n",
    "# # Add a random column and split the GCPs into training and validation set\n",
    "gcp = training_data.randomColumn()\n",
    "\n",
    "# # This being a simpler classification, we take 30% points\n",
    "# # for validation. Normal recommended ratio is\n",
    "# # 70% training, 30% validation\n",
    "trainingGcp = gcp.filter(ee.Filter.lt('random', 0.7))\n",
    "validationGcp = gcp.filter(ee.Filter.gte('random', 0.7))\n",
    "#Map.addLayer(trainingGcp)"
   ]
  },
  {
   "cell_type": "markdown",
   "id": "6fbb13de",
   "metadata": {},
   "source": [
    "### Calculate and add more inputs to the model\n",
    "The goal is to calculate some common spectral indices and then use those as inputs in the classification methods to improve the classification results.\n",
    "We will:\n",
    "* Calculate different spectral indices\n",
    "* Composite that information with the image's bands\n",
    "* Use all information as an input for the ML methods"
   ]
  },
  {
   "cell_type": "code",
   "execution_count": 9,
   "id": "83861586",
   "metadata": {},
   "outputs": [],
   "source": [
    "# # # calculate spectral indices\n",
    "composite = landsat.select(bands)\n",
    "\n",
    "def addIndices(image):\n",
    "    ndvi = image.normalizedDifference(['B5', 'B4']).rename(['ndvi'])\n",
    "    return image.addBands(ndvi)\n",
    "\n",
    "composite = addIndices(composite)"
   ]
  },
  {
   "cell_type": "markdown",
   "id": "7f35d714",
   "metadata": {},
   "source": [
    "### Sample imagery at training points to create training datasets\n",
    "Now that we have created the points and labels, we need to sample the imagery using image.sampleRegions(). This command will extract the reflectance in the designated bands for each of the points you have created. \n",
    "\n",
    "We will then:\n",
    "* Select the bands for training\n",
    "* Sample the input imagery to get a FeatureCollection of training data"
   ]
  },
  {
   "cell_type": "code",
   "execution_count": 10,
   "id": "bc0090cd",
   "metadata": {},
   "outputs": [
    {
     "name": "stdout",
     "output_type": "stream",
     "text": [
      "241\n"
     ]
    }
   ],
   "source": [
    "# # Overlay the point on the image to get training data.\n",
    "\n",
    "training = composite.sampleRegions(\n",
    "    **{\n",
    "  'collection': trainingGcp,\n",
    "  'properties': [label],\n",
    "  'scale': 30}\n",
    ")\n",
    "print(training.size().getInfo())"
   ]
  },
  {
   "cell_type": "markdown",
   "id": "3f3b33a5",
   "metadata": {},
   "source": [
    "### Classifcation method\n",
    "The <a href=\"https://developers.google.com/earth-engine/guides/classification\">Classifier</a> package in handles supervised classification by ML algorithms running in Earth Engine. Thus, in this part we will:\n",
    "* Instantiate a supervised classifier\n",
    "* Set its parameters if necessary\n",
    "* Train the classifier using the training data\n",
    "* Classify an image or feature collection\n",
    "* Display the classified map"
   ]
  },
  {
   "cell_type": "code",
   "execution_count": 11,
   "id": "83a96643",
   "metadata": {},
   "outputs": [
    {
     "data": {
      "application/vnd.jupyter.widget-view+json": {
       "model_id": "e20966ecb5d041a0bc86c61abd1f9ed8",
       "version_major": 2,
       "version_minor": 0
      },
      "text/plain": [
       "Map(bottom=1268932.0, center=[-35.302797817405796, 149.11262512207034], controls=(WidgetControl(options=['posi…"
      ]
     },
     "metadata": {},
     "output_type": "display_data"
    }
   ],
   "source": [
    "# # classifier\n",
    "classifier = ee.Classifier.libsvm().train(**{\n",
    "  'features' : training,\n",
    "  'classProperty' : 'landcover',\n",
    "  'inputProperties' : composite.bandNames()\n",
    "})\n",
    "\n",
    "classified = composite.classify(classifier)\n",
    "\n",
    "# # Display the clusters with random colors.\n",
    "Map.addLayer(classified.randomVisualizer(), {}, 'classified')\n",
    "Map"
   ]
  },
  {
   "cell_type": "markdown",
   "id": "deb44c49",
   "metadata": {},
   "source": [
    "### Accuracy assessment\n",
    "Use validation samples to assess the accuracy of a classifier, use a Confusion Matrix (<a href=\"http://www.sciencedirect.com/science/article/pii/S0034425797000837\">Stehman 1997</a>) to calculate overall accuracy (OA) and Kappa coefficient. "
   ]
  },
  {
   "cell_type": "code",
   "execution_count": 12,
   "id": "bcce5f10",
   "metadata": {},
   "outputs": [
    {
     "name": "stdout",
     "output_type": "stream",
     "text": [
      "108\n"
     ]
    }
   ],
   "source": [
    "# # # Accuracy Assessment\n",
    "test = classified.sampleRegions(\n",
    "    **{\n",
    "  'collection': validationGcp,\n",
    "  'properties': [label],\n",
    "  'scale': 30}\n",
    ")\n",
    "print(test.size().getInfo())"
   ]
  },
  {
   "cell_type": "code",
   "execution_count": 13,
   "id": "44137347",
   "metadata": {},
   "outputs": [
    {
     "data": {
      "text/plain": [
       "[[21, 1, 10, 0], [2, 22, 0, 0], [5, 2, 35, 0], [0, 0, 0, 10]]"
      ]
     },
     "execution_count": 13,
     "metadata": {},
     "output_type": "execute_result"
    }
   ],
   "source": [
    "# # # confusion matrix\n",
    "test_accuracy = test.errorMatrix('landcover', 'classification')\n",
    "test_accuracy.getInfo()"
   ]
  },
  {
   "cell_type": "code",
   "execution_count": 14,
   "id": "b3ef5166",
   "metadata": {},
   "outputs": [
    {
     "data": {
      "text/plain": [
       "0.8148148148148148"
      ]
     },
     "execution_count": 14,
     "metadata": {},
     "output_type": "execute_result"
    }
   ],
   "source": [
    "# # accuracy\n",
    "test_accuracy.accuracy().getInfo()"
   ]
  },
  {
   "cell_type": "code",
   "execution_count": 15,
   "id": "be777f89",
   "metadata": {},
   "outputs": [
    {
     "data": {
      "text/plain": [
       "0.7358767424798237"
      ]
     },
     "execution_count": 15,
     "metadata": {},
     "output_type": "execute_result"
    }
   ],
   "source": [
    "# # kappa\n",
    "test_accuracy.kappa().getInfo()"
   ]
  },
  {
   "cell_type": "markdown",
   "id": "58d5c768",
   "metadata": {},
   "source": [
    "### Calculating area by class\n",
    "This code shows how to calculate area covered by each class in a classified image. It also shows how to create a chart showing the area for each class."
   ]
  },
  {
   "cell_type": "code",
   "execution_count": 16,
   "id": "e4db6217",
   "metadata": {},
   "outputs": [],
   "source": [
    "######/ Calculating Area by Class\n",
    "\n",
    "# Create a 2 band image with the area image and the classified image\n",
    "# Divide the area image by 1e6 so area results are in Sq Km\n",
    "areaImage = ee.Image.pixelArea().divide(1e6).addBands(classified)"
   ]
  },
  {
   "cell_type": "code",
   "execution_count": 17,
   "id": "5b740dfc",
   "metadata": {},
   "outputs": [],
   "source": [
    "# Calculate Area by Class\n",
    "# Using a Grouped Reducer\n",
    "areas = areaImage.reduceRegion(**{\n",
    "      'reducer': ee.Reducer.sum().group(**{\n",
    "      'groupField': 1,\n",
    "      'groupName': 'classification',\n",
    "    }),\n",
    "    'geometry': geometry,\n",
    "    'scale': 30,\n",
    "    'maxPixels': 1e9\n",
    "    })"
   ]
  },
  {
   "cell_type": "code",
   "execution_count": 18,
   "id": "03fad413",
   "metadata": {},
   "outputs": [
    {
     "name": "stdout",
     "output_type": "stream",
     "text": [
      "[{'classification': 0, 'sum': 9.540741825102952}, {'classification': 1, 'sum': 4.290115072895818}, {'classification': 2, 'sum': 11.535381921957626}, {'classification': 3, 'sum': 5.294377632871187}]\n"
     ]
    }
   ],
   "source": [
    "classAreas = ee.List(areas.get('groups'))\n",
    "print(classAreas.getInfo())"
   ]
  },
  {
   "cell_type": "markdown",
   "id": "18195047",
   "metadata": {},
   "source": [
    "### Create a chart"
   ]
  },
  {
   "cell_type": "code",
   "execution_count": 19,
   "id": "93ecbfe7",
   "metadata": {},
   "outputs": [
    {
     "data": {
      "image/png": "[encoded data removed]",
      "text/plain": [
       "<Figure size 432x288 with 1 Axes>"
      ]
     },
     "metadata": {
      "needs_background": "light"
     },
     "output_type": "display_data"
    }
   ],
   "source": [
    "import matplotlib.pyplot as plt\n",
    "\n",
    "fig , ax = plt.subplots()\n",
    "\n",
    "classSum = [9.540741825102952, 4.290115072895818, 11.535381921957626, 5.294377632871187]\n",
    "classLabels = ['highveg', 'lowhveg', 'urban', 'water']\n",
    "\n",
    "plt.bar(classLabels, classSum)\n",
    "plt.xlabel('Classes')\n",
    "plt.ylabel('Area Km^2')\n",
    "ax.set_title('Area by class', fontsize=16);"
   ]
  },
  {
   "cell_type": "markdown",
   "id": "abfe5a20",
   "metadata": {},
   "source": [
    "<span style='background:yellow'> <span style=\"font-size:16.0pt\"> Exercise  </span>\n",
    "\n",
    "### Exercise 1 - Add other piece of information \n",
    "Try to calculate and add other information, such as more learned spectral indices to the model to see how the results will be changed. A list of spectral indices that can be used as expressions for computing spectral indices in GEE.\n",
    "\n",
    "#### Then try to answer the following questions:\n",
    "* what is the difference between various metrics?\n",
    "* What kind of indices information did you calculate?\n",
    "* try different indices for capturing information for different features to see how that index works and how the results change?\n",
    "* Is the accuracy of the model changed by adding more information or not and why?\n",
    "* recalculate area by class and check  the changes?"
   ]
  },
  {
   "cell_type": "markdown",
   "id": "edb098f3",
   "metadata": {},
   "source": [
    "## References\n",
    "This is where the references go. For exmaple:\n",
    "\n",
    "* Wu, Q., (2020). geemap: A Python package for interactive mapping with Google Earth Engine. The Journal of Open Source Software, 5(51), 2305. https://doi.org/10.21105/joss.02305\n",
    "\n",
    "* \"Earth Observation: Data, Processing and Applications\" book. Available through Wattle, or http://www.crcsi.com.au/earth-observation-series."
   ]
  },
  {
   "cell_type": "markdown",
   "id": "1aa737a6",
   "metadata": {},
   "source": [
    "## Additional information\n",
    "\n",
    "**License:** The code in this notebook was initially created by the team at [Digital Earth Australia](https://github.com/GeoscienceAustralia/dea-notebooks), and has been modified by Abolfazl Abdollahi. The code in this notebook is licensed under the [Apache License, Version 2.0](https://www.apache.org/licenses/LICENSE-2.0). \n",
    "\n",
    "**Contact:** If you need assistance, please post a question on the ENGN3903 Wattle site.\n",
    "\n",
    "**Last modified:** June 2022"
   ]
  },
  {
   "cell_type": "markdown",
   "id": "02b124b0",
   "metadata": {},
   "source": [
    "### Exercise answers"
   ]
  },
  {
   "cell_type": "markdown",
   "id": "b7a01b68",
   "metadata": {},
   "source": [
    "<a name=\"ex1answer\">Answer to Exercise 1</a>"
   ]
  },
  {
   "cell_type": "code",
   "execution_count": 16,
   "id": "45e2184d",
   "metadata": {},
   "outputs": [],
   "source": [
    "# def addIndices(image):\n",
    "#   ndvi = image.normalizedDifference(['B5', 'B4']).rename(['ndvi'])\n",
    "#   ndbi = image.normalizedDifference(['B6', 'B5']).rename(['ndbi'])\n",
    "#   ndwi = image.normalizedDifference(['B3', 'B5']).rename(['ndwi'])\n",
    "#   gndvi = image.normalizedDifference(['B5', 'B3']).rename(['gndvi'])\n",
    "#   return image.addBands(ndvi).addBands(ndbi).addBands(ndwi).addBands(gndvi)\n",
    "\n",
    "# composite = addIndices(composite)"
   ]
  },
  {
   "cell_type": "code",
   "execution_count": null,
   "id": "ecedb7fe",
   "metadata": {},
   "outputs": [],
   "source": []
  }
 ],
 "metadata": {
  "kernelspec": {
   "display_name": "Python 3 (ipykernel)",
   "language": "python",
   "name": "python3"
  },
  "language_info": {
   "codemirror_mode": {
    "name": "ipython",
    "version": 3
   },
   "file_extension": ".py",
   "mimetype": "text/x-python",
   "name": "python",
   "nbconvert_exporter": "python",
   "pygments_lexer": "ipython3",
   "version": "3.9.12"
  }
 },
 "nbformat": 4,
 "nbformat_minor": 5
}
