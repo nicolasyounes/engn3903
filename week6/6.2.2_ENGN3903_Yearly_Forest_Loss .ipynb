{
 "cells": [
  {
   "cell_type": "markdown",
   "id": "ff86ed4b",
   "metadata": {},
   "source": [
    "## Description\n",
    "The Hansen et al. (2013) Global Forest Change dataset represents forest change, at 30 meters resolution, globally, during the years. More information can be found here <a href=\"https://developers.google.com/earth-engine/datasets/catalog/UMD_hansen_global_forest_change_2015_v1_3\">Hansen Global Forest Change</a>. In this session, you will learn how to work with this data to analyse and quantifying forest change and compute the loss for each year.\n",
    "\n",
    "## Aims of the practical session\n",
    "* Load the data and select the bands of interest\n",
    "* Select the region of interest\n",
    "* Compute the loss for each year"
   ]
  },
  {
   "cell_type": "markdown",
   "id": "488be9ac",
   "metadata": {},
   "source": [
    "## Getting started"
   ]
  },
  {
   "cell_type": "markdown",
   "id": "c2452061",
   "metadata": {},
   "source": [
    "### Load packages\n",
    "\n",
    "Import GEE packages that are needed for the analysis."
   ]
  },
  {
   "cell_type": "code",
   "execution_count": 1,
   "id": "4fa63b06",
   "metadata": {},
   "outputs": [],
   "source": [
    "import ee\n",
    "import geemap\n",
    "# ee.Authenticate()"
   ]
  },
  {
   "cell_type": "markdown",
   "id": "ab7ed655",
   "metadata": {},
   "source": [
    "### Connect to Google Earth Engine (GEE)\n",
    "\n",
    "Connect to the GEE to have access computing tools and GEE datasets.\n",
    "You may be required to input your Google account for authorization."
   ]
  },
  {
   "cell_type": "code",
   "execution_count": 2,
   "id": "d8365e99",
   "metadata": {},
   "outputs": [
    {
     "data": {
      "application/vnd.jupyter.widget-view+json": {
       "model_id": "2921baf8c40f4bcc88202daf2550d265",
       "version_major": 2,
       "version_minor": 0
      },
      "text/plain": [
       "Map(center=[20, 0], controls=(WidgetControl(options=['position', 'transparent_bg'], widget=HBox(children=(Togg…"
      ]
     },
     "metadata": {},
     "output_type": "display_data"
    }
   ],
   "source": [
    "Map = geemap.Map()\n",
    "# Map.add_basemap('HYBRID')\n",
    "Map"
   ]
  },
  {
   "cell_type": "markdown",
   "id": "4049d73b",
   "metadata": {},
   "source": [
    "### Adding Region of Interest (ROI)\n",
    "\n",
    "Create ROI that we want to work on it and then add and display it on the GEE map.\n",
    "Import the downloaded shapefile for NSW from your computer path as ROI."
   ]
  },
  {
   "cell_type": "code",
   "execution_count": 3,
   "id": "219aeac5",
   "metadata": {},
   "outputs": [],
   "source": [
    "# # # load NSW shapefile\n",
    "shp_path = 'D:/Project files/NSW shp files/NSW.shp'\n",
    "geometry = geemap.shp_to_ee(shp_path)\n",
    "Map.addLayer(geometry, {}, 'NSW SHP')\n",
    "Map.centerObject(geometry);"
   ]
  },
  {
   "cell_type": "markdown",
   "id": "0871cff1",
   "metadata": {},
   "source": [
    "### Calculating Yearly Forest Loss\n",
    "In the previous section you learned how to calculate total forest area lost in the given region of interest using the reduceRegion method. Instead of calculating the total loss, it would be helpful to compute the loss for each year. The way to achieve this in Earth Engine is using a Grouped Reducer.\n",
    "\n",
    "We will:\n",
    "* Get the loss image\n",
    "* Add the lossYear band to the original image\n",
    "* Change the reducer to a grouped reducer\n",
    "* Calculate yearly forest loss"
   ]
  },
  {
   "cell_type": "code",
   "execution_count": 4,
   "id": "12b946f1",
   "metadata": {},
   "outputs": [],
   "source": [
    "# Get the loss image.\n",
    "# This dataset is updated yearly, so we get the latest version.\n",
    "gfc2017 = ee.Image('UMD/hansen/global_forest_change_2017_v1_5')\n",
    "lossImage = gfc2017.select(['loss'])\n",
    "lossAreaImage = lossImage.multiply(ee.Image.pixelArea())\n",
    "Map.addLayer(gfc2017.clip(geometry))"
   ]
  },
  {
   "cell_type": "code",
   "execution_count": 5,
   "id": "a68542d5",
   "metadata": {},
   "outputs": [
    {
     "name": "stdout",
     "output_type": "stream",
     "text": [
      "{'groups': [{'group': 0, 'sum': 0}, {'group': 1, 'sum': 145288336.9213951}, {'group': 2, 'sum': 178883235.89085126}, {'group': 3, 'sum': 643919384.435869}, {'group': 4, 'sum': 247707210.27778178}, {'group': 5, 'sum': 259980460.12285054}, {'group': 6, 'sum': 246175879.50054574}, {'group': 7, 'sum': 1178104828.401719}, {'group': 8, 'sum': 257753193.9792562}, {'group': 9, 'sum': 262997635.43411767}, {'group': 10, 'sum': 305068835.211534}, {'group': 11, 'sum': 191715191.22779277}, {'group': 12, 'sum': 337674773.50418836}, {'group': 13, 'sum': 906579077.4504043}, {'group': 14, 'sum': 574570048.0478629}, {'group': 15, 'sum': 550368866.2455821}, {'group': 16, 'sum': 1005612185.9576113}, {'group': 17, 'sum': 790498085.9891415}]}\n"
     ]
    }
   ],
   "source": [
    "lossYear = gfc2017.select(['lossyear'])\n",
    "lossByYear = lossAreaImage.addBands(lossYear).reduceRegion(**{\n",
    "  'reducer': ee.Reducer.sum().group(**{\n",
    "    'groupField': 1\n",
    "    }),\n",
    "  'geometry': geometry,\n",
    "  'scale': 30,\n",
    "  'maxPixels': 1e13\n",
    "})\n",
    "print(lossByYear.getInfo())"
   ]
  },
  {
   "cell_type": "code",
   "execution_count": 6,
   "id": "23346552",
   "metadata": {},
   "outputs": [],
   "source": [
    "# format the output to make the result a dictionary, with year as the key and loss area as the value.\n",
    "\n",
    "classAreas = ee.List(lossByYear.get('groups'))\n",
    "\n",
    "def func_rvd(item):\n",
    "  areaDict = ee.Dictionary(item)\n",
    "  classNumber = ee.Number(areaDict.get('group')).format(\"20%02d\")\n",
    "  area = ee.Number(\n",
    "    areaDict.get('sum')).divide(1e6)\n",
    "  return ee.List([classNumber, area])\n",
    "\n",
    "classAreaLists = classAreas.map(func_rvd)\n"
   ]
  },
  {
   "cell_type": "code",
   "execution_count": 7,
   "id": "5335d6e8",
   "metadata": {},
   "outputs": [
    {
     "name": "stdout",
     "output_type": "stream",
     "text": [
      "{'2000': 0, '2001': 145.28833692139509, '2002': 178.88323589085127, '2003': 643.919384435869, '2004': 247.7072102777818, '2005': 259.98046012285056, '2006': 246.17587950054573, '2007': 1178.104828401719, '2008': 257.7531939792562, '2009': 262.9976354341177, '2010': 305.068835211534, '2011': 191.71519122779276, '2012': 337.67477350418835, '2013': 906.5790774504043, '2014': 574.5700480478629, '2015': 550.3688662455821, '2016': 1005.6121859576114, '2017': 790.4980859891415}\n"
     ]
    }
   ],
   "source": [
    "result = ee.Dictionary(classAreaLists.flatten())\n",
    "print(result.getInfo())"
   ]
  },
  {
   "cell_type": "code",
   "execution_count": 26,
   "id": "7e587ad0",
   "metadata": {},
   "outputs": [
    {
     "name": "stdout",
     "output_type": "stream",
     "text": [
      "    Year         Area\n",
      "0   2000     0.000000\n",
      "1   2001   145.288337\n",
      "2   2002   178.883236\n",
      "3   2003   643.919384\n",
      "4   2004   247.707210\n",
      "5   2005   259.980460\n",
      "6   2006   246.175880\n",
      "7   2007  1178.104828\n",
      "8   2008   257.753194\n",
      "9   2009   262.997635\n",
      "10  2010   305.068835\n",
      "11  2011   191.715191\n",
      "12  2012   337.674774\n",
      "13  2013   906.579077\n",
      "14  2014   574.570048\n",
      "15  2015   550.368866\n",
      "16  2016  1005.612186\n",
      "17  2017   790.498086\n",
      "<class 'pandas.core.frame.DataFrame'>\n"
     ]
    }
   ],
   "source": [
    "import matplotlib.pyplot as plt\n",
    "\n",
    "import pandas as pd\n",
    "\n",
    "my_dict = {'2000': 0, '2001': 145.28833692139509, '2002': 178.88323589085127, '2003': 643.919384435869, '2004': 247.7072102777818,\n",
    "           '2005': 259.98046012285056, '2006': 246.17587950054573, '2007': 1178.104828401719, '2008': 257.7531939792562,\n",
    "           '2009': 262.9976354341177, '2010': 305.068835211534, '2011': 191.71519122779276, '2012': 337.67477350418835,\n",
    "           '2013': 906.5790774504043, '2014': 574.5700480478629, '2015': 550.3688662455821, '2016': 1005.6121859576114,\n",
    "           '2017': 790.4980859891415}\n",
    "df = pd.DataFrame(list(my_dict.items()),columns = ['Year','Area'])\n",
    "\n",
    "print (df)\n",
    "print (type(df))"
   ]
  },
  {
   "cell_type": "code",
   "execution_count": 28,
   "id": "23aaedd0",
   "metadata": {},
   "outputs": [
    {
     "data": {
      "image/png": "[encoded data removed]",
      "text/plain": [
       "<Figure size 432x288 with 1 Axes>"
      ]
     },
     "metadata": {
      "needs_background": "light"
     },
     "output_type": "display_data"
    }
   ],
   "source": [
    "# a scatter plot comparing num_children and num_pets\n",
    "df.plot(kind='bar',x='Year',y='Area',color='red')\n",
    "plt.show()"
   ]
  },
  {
   "cell_type": "markdown",
   "id": "52152197",
   "metadata": {},
   "source": [
    "### <a name=\"ex3\"></a> Challenge 1\n",
    "\n",
    "<div class=\"alert alert-block alert-danger\">\n",
    "\n",
    "- Use the same method to calculate forest gain in each year and then compare the results with forest loss to see how much forest is lost  and gained for the specific year.\n",
    "    \n",
    "</div>    "
   ]
  },
  {
   "cell_type": "markdown",
   "id": "058e26b0",
   "metadata": {},
   "source": [
    "### <a name=\"ex3\"></a> Challenge 2\n",
    "\n",
    "<div class=\"alert alert-block alert-danger\">\n",
    "\n",
    "- Try to improve the classLossAreas plot by setting options like selecting good title, changing font/font size, changing color, legend etc.\n",
    "- Also, try to plot class areas for forest gain.\n",
    "    \n",
    "    \n",
    "</div>    "
   ]
  },
  {
   "cell_type": "markdown",
   "id": "b5676d8f",
   "metadata": {},
   "source": [
    "### <a name=\"ex3\"></a> Challenge 3\n",
    "\n",
    "<div class=\"alert alert-block alert-danger\">\n",
    "\n",
    "- Select other regions/states in Australia or whole Australia feature as your ROI and then calculate forest loss and gain and plot the results. \n",
    "\n",
    "    Note: You can load country features from Large Scale International Boundary (LSIB) dataset and then subset the Australia feature from countries.\n",
    "    \n",
    "    \n",
    "</div>    "
   ]
  },
  {
   "cell_type": "markdown",
   "id": "67570c5f",
   "metadata": {},
   "source": [
    "## References\n",
    "This is where the references go. For exmaple:\n",
    "\n",
    "* Hansen, M. C., Potapov, P. V., Moore, R., Hancher, M., Turubanova, S. A., Tyukavina, A., ... & Townshend, J. (2013). High-resolution global maps of 21st-century forest cover change. science, 342(6160), 850-853.\n",
    "\n",
    "* Wu, Q., (2020). geemap: A Python package for interactive mapping with Google Earth Engine. The Journal of Open Source Software, 5(51), 2305. https://doi.org/10.21105/joss.02305"
   ]
  },
  {
   "cell_type": "markdown",
   "id": "ef6cc000",
   "metadata": {},
   "source": [
    "## Additional information\n",
    "\n",
    "**License:** The code in this notebook was initially created by the team at [Digital Earth Australia](https://github.com/GeoscienceAustralia/dea-notebooks), and has been modified by Abolfazl Abdollahi. The code in this notebook is licensed under the [Apache License, Version 2.0](https://www.apache.org/licenses/LICENSE-2.0). \n",
    "\n",
    "**Contact:** If you need assistance, please post a question on the ENGN3903 Wattle site.\n",
    "\n",
    "**Last modified:** June 2022"
   ]
  },
  {
   "cell_type": "code",
   "execution_count": null,
   "id": "ad8e21bf",
   "metadata": {},
   "outputs": [],
   "source": []
  }
 ],
 "metadata": {
  "kernelspec": {
   "display_name": "Python 3 (ipykernel)",
   "language": "python",
   "name": "python3"
  },
  "language_info": {
   "codemirror_mode": {
    "name": "ipython",
    "version": 3
   },
   "file_extension": ".py",
   "mimetype": "text/x-python",
   "name": "python",
   "nbconvert_exporter": "python",
   "pygments_lexer": "ipython3",
   "version": "3.8.13"
  }
 },
 "nbformat": 4,
 "nbformat_minor": 5
}
