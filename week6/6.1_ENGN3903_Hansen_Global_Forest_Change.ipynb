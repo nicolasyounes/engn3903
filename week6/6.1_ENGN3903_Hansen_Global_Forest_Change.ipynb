{
 "cells": [
  {
   "cell_type": "markdown",
   "id": "45b39d64",
   "metadata": {},
   "source": [
    "# Global Forest Change\n",
    "\n",
    "\n",
    "- **Special requirements:** A Google account, access to Google Earth Engine.\n",
    "\n",
    "- **Prerequisites:** You should have completed the \"Week 5 - Prac 1\" and \"Week 5 - Prac 2\" notebooks."
   ]
  },
  {
   "cell_type": "markdown",
   "id": "27421f0f",
   "metadata": {},
   "source": [
    "## Description\n",
    "The Hansen et al. (2013) Global Forest Change dataset represents forest change, at 30 meters resolution, globally, during the years (2000-2021). More information can be found [here](https://developers.google.com/earth-engine/datasets/catalog/UMD_hansen_global_forest_change_2021_v1_9). In this session, you will learn how to work with this data to analyse and quantify Forest Change.\n",
    "\n",
    "The paper describing this dataset can be found [here](https://www.science.org/doi/full/10.1126/science.1244693?casa_token=HKtLohSM6y4AAAAA%3AIgaZz5d3pLw4oipkk-HdMLSUbwPoM1XJlpHS9CpXFP_-BoVO0vRtRmAXlP4z0ls49gnkGBmIWDFq)\n",
    "\n",
    "## Aims of the practical session\n",
    "* Create ROI and load it\n",
    "* Load the Global Forest Change dataset and select the bands of interest\n",
    "* Calculate and display both forest loss and gain\n",
    "* Compute the loss/gain for each year"
   ]
  },
  {
   "cell_type": "markdown",
   "id": "9138f01f",
   "metadata": {},
   "source": [
    "## Load packages\n",
    "\n",
    "Import GEE packages that are needed for the analysis."
   ]
  },
  {
   "cell_type": "code",
   "execution_count": 1,
   "id": "1e81e750",
   "metadata": {},
   "outputs": [],
   "source": [
    "import ee\n",
    "import geemap\n",
    "import pandas as pd\n",
    "import matplotlib.pyplot as plt\n",
    "# ee.Authenticate()"
   ]
  },
  {
   "cell_type": "markdown",
   "id": "d2a5b8a8",
   "metadata": {},
   "source": [
    "## Connect to Google Earth Engine (GEE)\n",
    "\n",
    "Connect to the GEE to have access computing tools and GEE datasets.\n",
    "You may be required to input your Google account for authorization."
   ]
  },
  {
   "cell_type": "code",
   "execution_count": 2,
   "id": "9617cc93",
   "metadata": {},
   "outputs": [],
   "source": [
    "Map = geemap.Map()\n",
    "Map.add_basemap('SATELLITE')\n",
    "Map.addLayerControl()"
   ]
  },
  {
   "cell_type": "markdown",
   "id": "1db09a1c",
   "metadata": {},
   "source": [
    "## Adding Region of Interest (ROI)\n",
    "\n",
    "Create ROI that we want to work on it and then add and display it on the GEE map. In this example, we'll import a geojson from github that marks the boundary of NSW region."
   ]
  },
  {
   "cell_type": "code",
   "execution_count": 3,
   "id": "fb876a25",
   "metadata": {},
   "outputs": [],
   "source": [
    "# # # load NSW shapefile\n",
    "path = 'https://raw.githubusercontent.com/nicolasyounes/engn3903/week6update/figures/NSW.geojson'\n",
    "geometry = geemap.geojson_to_ee(path)\n",
    "# Map.addLayer(geometry, {}, 'NSW Region')\n",
    "Map.centerObject(geometry);"
   ]
  },
  {
   "cell_type": "markdown",
   "id": "570fd61e",
   "metadata": {},
   "source": [
    "## Load Global Forest Change layer\n",
    "Using the below code read the Global Forest Change layer and load it. Then, clip the layer based on ROI and visualize it on GEEmap.\n",
    "\n",
    "> Note: If we simply plotted the Forest Change layer with its default parameters, areas without forest would show up as black (areas were there the data is zero). For example, there are no trees in the ocean. To make these areas transparent, you can mask their values. Every pixel in Earth Engine has both a value and a mask. The image is rendered with transparency set by the mask, with zero being completely transparent and one being completely opaque.  You can mask an image with itself. For example, if you mask the `treecover2000` band with itself, all the areas in which forest cover is zero will be transparent"
   ]
  },
  {
   "cell_type": "code",
   "execution_count": 4,
   "id": "a0171434",
   "metadata": {},
   "outputs": [
    {
     "data": {
      "application/vnd.jupyter.widget-view+json": {
       "model_id": "d6814dad03ef401ebc2824addc56d150",
       "version_major": 2,
       "version_minor": 0
      },
      "text/plain": [
       "Map(center=[20, 0], controls=(WidgetControl(options=['position', 'transparent_bg'], widget=HBox(children=(Togg…"
      ]
     },
     "metadata": {},
     "output_type": "display_data"
    }
   ],
   "source": [
    "# # # load new version of Global Forest Change Layer \n",
    "gfc2021 = ee.Image('UMD/hansen/global_forest_change_2021_v1_9')\n",
    "\n",
    "# To display forest cover in the year 2000 as a grayscale image\n",
    "Map.addLayer(gfc2021.mask(gfc2021).clip(geometry),\n",
    "             {'bands': ['treecover2000'],\n",
    "             'palette': ['000000', '00FF00'],\n",
    "             'max':100\n",
    "             },\n",
    "             'treecover2000')\n",
    "Map"
   ]
  },
  {
   "cell_type": "markdown",
   "id": "5de9d565",
   "metadata": {},
   "source": [
    "### Display forest loss and forest gain\n",
    "We'd like forest **loss to show up as bright red** and **forest gain to show up as bright blue**. The best way to do this is to select each image (treecover, loss, gain) seperately and add them to the map. This is better than making a 3-band RGB image as each colour will show up more prominently."
   ]
  },
  {
   "cell_type": "code",
   "execution_count": 5,
   "id": "cbc19d33",
   "metadata": {},
   "outputs": [
    {
     "data": {
      "application/vnd.jupyter.widget-view+json": {
       "model_id": "d6814dad03ef401ebc2824addc56d150",
       "version_major": 2,
       "version_minor": 0
      },
      "text/plain": [
       "Map(center=[20, 0], controls=(WidgetControl(options=['position', 'transparent_bg'], widget=HBox(children=(Togg…"
      ]
     },
     "metadata": {},
     "output_type": "display_data"
    }
   ],
   "source": [
    "treeCover = gfc2021.select(['treecover2000']).clip(geometry)\n",
    "lossImage = gfc2021.select(['loss']).clip(geometry)\n",
    "gainImage = gfc2021.select(['gain']).clip(geometry)\n",
    "\n",
    "## Add the tree cover layer in green.\n",
    "Map.addLayer(treeCover.updateMask(treeCover),\n",
    "    {'palette': ['000000', '00FF00'], 'max': 100}, 'Forest Cover');\n",
    "\n",
    "## Add the loss layer in red.\n",
    "Map.addLayer(lossImage.updateMask(lossImage),\n",
    "            {'palette': ['FF0000']}, 'Loss');\n",
    "\n",
    "## Add the gain layer in blue.\n",
    "Map.addLayer(gainImage.updateMask(gainImage),\n",
    "            {'palette': ['0000FF']}, 'Gain');\n",
    "\n",
    "Map"
   ]
  },
  {
   "cell_type": "markdown",
   "id": "7fd6175f",
   "metadata": {},
   "source": [
    "<div class=\"alert alert-block alert-danger\"> \n",
    "\n",
    "## Exercise 1\n",
    "\n",
    "- For a country where you think forest loss and gain might be important, create a country-wide map of forest loss and gain.  You can use the [Large Scale International Boundary (LSIB)](https://developers.google.com/earth-engine/datasets/catalog/USDOS_LSIB_SIMPLE_2017) dataset to select the country of interest. \n",
    "\n",
    "- Use the and() method to create the lossAndGain image and display pixels where both loss and gain occur and then discuss if the area has undergone more changes in forest loss or gain.\n",
    "    \n",
    "More information: The Hansen et al. dataset has a band whose pixels are 1 where loss occurred and 0 otherwise (loss) and a band that is 1 where gain has occurred and a 0 otherwise (gain). To create a band where pixels in both the loss and the gain bands have a 1, you can use the and() logical method on images. The and() method is called like image1.and(image2) and returns an image in which pixels are 1 where both image1 and image2 are 1, and 0 elsewhere.\n",
    "    \n",
    "    \n",
    "</div>    "
   ]
  },
  {
   "cell_type": "markdown",
   "id": "0d8279a2",
   "metadata": {},
   "source": [
    "## Quantifying Forest Change in a Region of Interest\n",
    "To help compute areas, Earth Engine has the `ee.Image.pixelArea()` method which generates an image in which the value of each pixel is the pixel's area in square meters. Multiplying the loss image with this area image and then summing over the result gives us a measure of area."
   ]
  },
  {
   "cell_type": "code",
   "execution_count": 6,
   "id": "c5234c2d",
   "metadata": {},
   "outputs": [],
   "source": [
    "# Get the forest loss image.\n",
    "areaLossImage = lossImage.multiply(ee.Image.pixelArea())"
   ]
  },
  {
   "cell_type": "code",
   "execution_count": 7,
   "id": "67e0474a",
   "metadata": {},
   "outputs": [],
   "source": [
    "# Sum the values of forest loss pixels in the ROI.\n",
    "stats = areaLossImage.reduceRegion(**{\n",
    "  'reducer': ee.Reducer.sum(),\n",
    "  'geometry': geometry,\n",
    "  'scale': 30,\n",
    "  'maxPixels': 1e13\n",
    "})"
   ]
  },
  {
   "cell_type": "code",
   "execution_count": 8,
   "id": "cee8eac3",
   "metadata": {},
   "outputs": [
    {
     "name": "stdout",
     "output_type": "stream",
     "text": [
      "Total forest loss in NSW from 2000-2021:  33195.64 square km\n"
     ]
    }
   ],
   "source": [
    "classAreas = ee.List(stats.get('loss'))\n",
    "print('Total forest loss in NSW from 2000-2021: ', round(classAreas.getInfo() / 1000000, 2), 'square km')"
   ]
  },
  {
   "cell_type": "markdown",
   "id": "01f6b8ba",
   "metadata": {},
   "source": [
    "## Calculating Annual Forest Loss\n",
    "\n",
    "In the previous section you learned how to calculate total forest area lost over the entire study period (2000-2021) in the given region of interest (NSW) using the `reduceRegion` method. Instead of calculating the total loss, it would be helpful to compute the loss for each year. The way to achieve this in Earth Engine is using a `Grouped Reducer`.\n",
    "\n",
    "We will:\n",
    "\n",
    "* Using the `lossyear` band in the dataset, determine the area of forest loss in each year\n",
    "* Data wrangle the result into a pandas dataframe so we can make a niec plot of forest loss per year (in square kilometres)"
   ]
  },
  {
   "cell_type": "code",
   "execution_count": 9,
   "id": "9868ec65",
   "metadata": {},
   "outputs": [
    {
     "name": "stdout",
     "output_type": "stream",
     "text": [
      "{'groups': [{'group': 1, 'sum': 145288336.9213951}, {'group': 2, 'sum': 178883235.89085126}, {'group': 3, 'sum': 643919384.4358691}, {'group': 4, 'sum': 247707210.27778178}, {'group': 5, 'sum': 259980460.12285054}, {'group': 6, 'sum': 246175879.50054577}, {'group': 7, 'sum': 1178104828.401719}, {'group': 8, 'sum': 257753193.9792562}, {'group': 9, 'sum': 262997635.43411767}, {'group': 10, 'sum': 305068835.211534}, {'group': 11, 'sum': 191715191.22779277}, {'group': 12, 'sum': 337674773.50418836}, {'group': 13, 'sum': 906579077.4504043}, {'group': 14, 'sum': 574570048.0478629}, {'group': 15, 'sum': 550368866.2455821}, {'group': 16, 'sum': 1005612185.9576113}, {'group': 17, 'sum': 790498085.9891415}, {'group': 18, 'sum': 781363975.8471699}, {'group': 19, 'sum': 10285598816.1678}, {'group': 20, 'sum': 12971654840.810856}, {'group': 21, 'sum': 1074123532.1901712}]}\n"
     ]
    }
   ],
   "source": [
    "lossYear = gfc2021.select(['lossyear'])\n",
    "\n",
    "# Add the lossyear to the AreaLossImage and reduce over a 'group' (years)\n",
    "lossByYear = areaLossImage.addBands(lossYear).reduceRegion(**{\n",
    "  'reducer': ee.Reducer.sum().group(**{\n",
    "    'groupField': 1\n",
    "    }),\n",
    "  'geometry': geometry,\n",
    "  'scale': 30,\n",
    "  'maxPixels': 1e13\n",
    "})\n",
    "\n",
    "print(lossByYear.getInfo())"
   ]
  },
  {
   "cell_type": "markdown",
   "id": "bd91bda6-4977-4d6f-b7e6-0c8b6d363552",
   "metadata": {},
   "source": [
    "### Convert/format data for plotting"
   ]
  },
  {
   "cell_type": "code",
   "execution_count": 10,
   "id": "9734b4d4",
   "metadata": {},
   "outputs": [
    {
     "data": {
      "text/html": [
       "<div>\n",
       "<style scoped>\n",
       "    .dataframe tbody tr th:only-of-type {\n",
       "        vertical-align: middle;\n",
       "    }\n",
       "\n",
       "    .dataframe tbody tr th {\n",
       "        vertical-align: top;\n",
       "    }\n",
       "\n",
       "    .dataframe thead th {\n",
       "        text-align: right;\n",
       "    }\n",
       "</style>\n",
       "<table border=\"1\" class=\"dataframe\">\n",
       "  <thead>\n",
       "    <tr style=\"text-align: right;\">\n",
       "      <th></th>\n",
       "      <th>Year</th>\n",
       "      <th>Area</th>\n",
       "    </tr>\n",
       "  </thead>\n",
       "  <tbody>\n",
       "    <tr>\n",
       "      <th>0</th>\n",
       "      <td>2001</td>\n",
       "      <td>145.288337</td>\n",
       "    </tr>\n",
       "    <tr>\n",
       "      <th>1</th>\n",
       "      <td>2002</td>\n",
       "      <td>178.883236</td>\n",
       "    </tr>\n",
       "    <tr>\n",
       "      <th>2</th>\n",
       "      <td>2003</td>\n",
       "      <td>643.919384</td>\n",
       "    </tr>\n",
       "    <tr>\n",
       "      <th>3</th>\n",
       "      <td>2004</td>\n",
       "      <td>247.707210</td>\n",
       "    </tr>\n",
       "    <tr>\n",
       "      <th>4</th>\n",
       "      <td>2005</td>\n",
       "      <td>259.980460</td>\n",
       "    </tr>\n",
       "  </tbody>\n",
       "</table>\n",
       "</div>"
      ],
      "text/plain": [
       "   Year        Area\n",
       "0  2001  145.288337\n",
       "1  2002  178.883236\n",
       "2  2003  643.919384\n",
       "3  2004  247.707210\n",
       "4  2005  259.980460"
      ]
     },
     "execution_count": 10,
     "metadata": {},
     "output_type": "execute_result"
    }
   ],
   "source": [
    "# format the output to make the result a dictionary, with year as the key and loss area as the value.\n",
    "classAreas = ee.List(lossByYear.get('groups'))\n",
    "\n",
    "#funtion for creating a dictionary where year is the key and area is the value\n",
    "def func_dic(item):\n",
    "    areaDict = ee.Dictionary(item)\n",
    "    classNumber = ee.Number(areaDict.get('group')).format(\"20%02d\")\n",
    "    area = ee.Number(\n",
    "    areaDict.get('sum')).divide(1e6) #square kilometress\n",
    "    return ee.List([classNumber, area])\n",
    "\n",
    "#map the function over the result\n",
    "classAreaLists = classAreas.map(func_dic)\n",
    "result = ee.Dictionary(classAreaLists.flatten())\n",
    "\n",
    "#convert into a pandas dataframe\n",
    "class_areas = pd.DataFrame(classAreaLists.getInfo(), columns = ['Year','Area'])\n",
    "class_areas.head()"
   ]
  },
  {
   "cell_type": "markdown",
   "id": "7d736470-9e98-491b-b6d6-5216067c4e3a",
   "metadata": {},
   "source": [
    "### Plot annual forest loss"
   ]
  },
  {
   "cell_type": "code",
   "execution_count": 11,
   "id": "150c7242",
   "metadata": {},
   "outputs": [
    {
     "data": {
      "text/plain": [
       "Text(0, 0.5, 'Forest Loss (km2)')"
      ]
     },
     "execution_count": 11,
     "metadata": {},
     "output_type": "execute_result"
    },
    {
     "data": {
      "image/png": "[encoded data removed]",
      "text/plain": [
       "<Figure size 792x360 with 1 Axes>"
      ]
     },
     "metadata": {
      "needs_background": "light"
     },
     "output_type": "display_data"
    }
   ],
   "source": [
    "class_areas.plot(x ='Year', y='Area', kind='bar', figsize=(11,5))\n",
    "plt.ylabel('Forest Loss (km2)')"
   ]
  },
  {
   "cell_type": "markdown",
   "id": "76ea8ad0",
   "metadata": {},
   "source": [
    "<div class=\"alert alert-block alert-danger\"> \n",
    "\n",
    "## Exercise 2\n",
    "\n",
    "- Select all of Australia as your ROI and then calculate annual forest loss for the whole period of data availability (2000-2021) and plot the results. Then, discuss in which year the region shows more forest loss and why? \n",
    "    \n",
    "- After quantifying forest loss in Australia, compare the results with the country you selected in Exercise 1. Briefly discuss the drivers of forest loss in each country different?\n",
    "    \n",
    "    \n",
    "</div>    "
   ]
  },
  {
   "cell_type": "markdown",
   "id": "96ed2c93",
   "metadata": {},
   "source": [
    "<div class=\"alert alert-block alert-danger\"> \n",
    "\n",
    "## Exercise 3\n",
    "\n",
    "- Create a multitemporal color composite to highlight areas where there have experienced more deforestation in the resulting map. You can pick up the first year of the time series and the last year (or two consecutive years).\n",
    " \n",
    "    \n",
    "</div>    "
   ]
  },
  {
   "cell_type": "markdown",
   "id": "2b3bd2a1",
   "metadata": {},
   "source": [
    "## References\n",
    "This is where the references go. For exmaple:\n",
    "\n",
    "* Hansen, M. C., Potapov, P. V., Moore, R., Hancher, M., Turubanova, S. A., Tyukavina, A., ... & Townshend, J. (2013). High-resolution global maps of 21st-century forest cover change. science, 342(6160), 850-853.\n",
    "\n",
    "* Wu, Q., (2020). geemap: A Python package for interactive mapping with Google Earth Engine. The Journal of Open Source Software, 5(51), 2305. https://doi.org/10.21105/joss.02305"
   ]
  },
  {
   "cell_type": "markdown",
   "id": "91c490c4",
   "metadata": {},
   "source": [
    "## Additional information\n",
    "\n",
    "**License:** The code in this notebook was initially created by the team at [Digital Earth Australia](https://github.com/GeoscienceAustralia/dea-notebooks), and has been modified by Abolfazl Abdollahi. The code in this notebook is licensed under the [Apache License, Version 2.0](https://www.apache.org/licenses/LICENSE-2.0). \n",
    "\n",
    "**Contact:** If you need assistance, please post a question on the ENGN3903 Wattle (**check**) site \n",
    "\n",
    "**Last modified:** August 2022"
   ]
  }
 ],
 "metadata": {
  "kernelspec": {
   "display_name": "Python 3 (ipykernel)",
   "language": "python",
   "name": "python3"
  },
  "language_info": {
   "codemirror_mode": {
    "name": "ipython",
    "version": 3
   },
   "file_extension": ".py",
   "mimetype": "text/x-python",
   "name": "python",
   "nbconvert_exporter": "python",
   "pygments_lexer": "ipython3",
   "version": "3.9.12"
  }
 },
 "nbformat": 4,
 "nbformat_minor": 5
}
