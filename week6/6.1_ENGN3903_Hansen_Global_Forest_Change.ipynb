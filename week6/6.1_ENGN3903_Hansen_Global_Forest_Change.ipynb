{
 "cells": [
  {
   "cell_type": "markdown",
   "id": "27421f0f",
   "metadata": {},
   "source": [
    "## Description\n",
    "The Hansen et al. (2013) Global Forest Change dataset represents forest change, at 30 meters resolution, globally, bduring the years. More information can be found here <a href=\"https://developers.google.com/earth-engine/datasets/catalog/UMD_hansen_global_forest_change_2015_v1_3\">Hansen Global Forest Change</a>. In this session, you will learn how to work with this data to analyse and quantifying Forest Change\n",
    "\n",
    "## Aims of the practical session\n",
    "* Create ROI and load it\n",
    "* Load the data and select the bands of interest\n",
    "* Calculate and show both forest loss and gain "
   ]
  },
  {
   "cell_type": "markdown",
   "id": "637163e2",
   "metadata": {},
   "source": [
    "## Getting started"
   ]
  },
  {
   "cell_type": "markdown",
   "id": "9138f01f",
   "metadata": {},
   "source": [
    "### Load packages\n",
    "\n",
    "Import GEE packages that are needed for the analysis."
   ]
  },
  {
   "cell_type": "code",
   "execution_count": 1,
   "id": "1e81e750",
   "metadata": {},
   "outputs": [],
   "source": [
    "import ee\n",
    "import geemap\n",
    "# ee.Authenticate()"
   ]
  },
  {
   "cell_type": "markdown",
   "id": "d2a5b8a8",
   "metadata": {},
   "source": [
    "### Connect to Google Earth Engine (GEE)\n",
    "\n",
    "Connect to the GEE to have access computing tools and GEE datasets.\n",
    "You may be required to input your Google account for authorization."
   ]
  },
  {
   "cell_type": "code",
   "execution_count": 2,
   "id": "9617cc93",
   "metadata": {},
   "outputs": [
    {
     "data": {
      "application/vnd.jupyter.widget-view+json": {
       "model_id": "57bb01e054964599814ca0a8230ea861",
       "version_major": 2,
       "version_minor": 0
      },
      "text/plain": [
       "Map(center=[20, 0], controls=(WidgetControl(options=['position', 'transparent_bg'], widget=HBox(children=(Togg…"
      ]
     },
     "metadata": {},
     "output_type": "display_data"
    }
   ],
   "source": [
    "Map = geemap.Map()\n",
    "# Map.add_basemap('HYBRID')\n",
    "Map"
   ]
  },
  {
   "cell_type": "markdown",
   "id": "1db09a1c",
   "metadata": {},
   "source": [
    "### Adding Region of Interest (ROI)\n",
    "\n",
    "Create ROI that we want to work on it and then add and display it on the GEE map.\n",
    "Import the downloaded shapefile for NSW from your computer path as ROI."
   ]
  },
  {
   "cell_type": "code",
   "execution_count": 3,
   "id": "fb876a25",
   "metadata": {},
   "outputs": [],
   "source": [
    "# # # load NSW shapefile\n",
    "shp_path = 'D:/Project files/NSW shp files/NSW.shp'\n",
    "geometry = geemap.shp_to_ee(shp_path)\n",
    "Map.addLayer(geometry, {}, 'NSW SHP')\n",
    "Map.centerObject(geometry);"
   ]
  },
  {
   "cell_type": "markdown",
   "id": "570fd61e",
   "metadata": {},
   "source": [
    "### Load global forest change layer\n",
    "Using the below code read the global forest change layer and load it. Then,clip the layer based on ROI and map it on GEEmap."
   ]
  },
  {
   "cell_type": "code",
   "execution_count": 4,
   "id": "a0171434",
   "metadata": {},
   "outputs": [
    {
     "data": {
      "application/vnd.jupyter.widget-view+json": {
       "model_id": "57bb01e054964599814ca0a8230ea861",
       "version_major": 2,
       "version_minor": 0
      },
      "text/plain": [
       "Map(bottom=754.0, center=[-32.83477004596121, 147.34756087948904], controls=(WidgetControl(options=['position'…"
      ]
     },
     "metadata": {},
     "output_type": "display_data"
    }
   ],
   "source": [
    "# # # load global forest change layer\n",
    "gfc2014 = ee.Image('UMD/hansen/global_forest_change_2015')\n",
    "Map.addLayer(gfc2014.clip(geometry))\n",
    "Map"
   ]
  },
  {
   "cell_type": "markdown",
   "id": "7fd6175f",
   "metadata": {},
   "source": [
    "### <a name=\"ex3\"></a> Challenge 1\n",
    "\n",
    "<div class=\"alert alert-block alert-danger\">\n",
    "\n",
    "- Load country features from Large Scale International Boundary (LSIB) dataset and subset the Australia or any other country feature from countries. Then clip the global forest change layer based on new ROI. \n",
    "    \n",
    "    \n",
    "</div>    "
   ]
  },
  {
   "cell_type": "markdown",
   "id": "b35cb162",
   "metadata": {},
   "source": [
    "### Display forest cover\n",
    "To display forest cover in the year 2000 as a grayscale image, you can use the treecover2000 band, specified in the second argument to Map.addLayer():"
   ]
  },
  {
   "cell_type": "code",
   "execution_count": 5,
   "id": "6931d21e",
   "metadata": {},
   "outputs": [],
   "source": [
    "# # To display forest cover in the year 2000 as a grayscale image\n",
    "Map.addLayer(gfc2014.clip(geometry), {'bands': ['treecover2000']}, 'treecover2000')"
   ]
  },
  {
   "cell_type": "markdown",
   "id": "fad411a1",
   "metadata": {},
   "source": [
    "### Band combination\n",
    "Here's an image that uses 3 bands, Landsat bands 5, 4, and 3 for 2015. This band combination shows healthy vegetation as green and soil as mauve."
   ]
  },
  {
   "cell_type": "code",
   "execution_count": 7,
   "id": "bc7747f8",
   "metadata": {},
   "outputs": [],
   "source": [
    "# # use 3 bands, Landsat bands 5, 4, and 3\n",
    "Map.addLayer(gfc2014.clip(geometry), {'bands': ['last_b50', 'last_b40', 'last_b30']}, 'False color')"
   ]
  },
  {
   "cell_type": "markdown",
   "id": "5de9d565",
   "metadata": {},
   "source": [
    "### Stretch the data\n",
    "We'd like forest loss to show up as bright red and forest gain to show up as bright blue. To fix this, we can use the visualization parameter max to set the range to which the image data are stretched. Note that the max visualization parameter takes a list of values, corresponding to maxima for each band."
   ]
  },
  {
   "cell_type": "code",
   "execution_count": 9,
   "id": "cbc19d33",
   "metadata": {},
   "outputs": [
    {
     "data": {
      "application/vnd.jupyter.widget-view+json": {
       "model_id": "57bb01e054964599814ca0a8230ea861",
       "version_major": 2,
       "version_minor": 0
      },
      "text/plain": [
       "Map(bottom=10076.0, center=[-32.842673631954305, 147.30468750000003], controls=(WidgetControl(options=['positi…"
      ]
     },
     "metadata": {},
     "output_type": "display_data"
    }
   ],
   "source": [
    "# # max used to stretch the data and show up forest loss as bright red and forest gain as bright blue\n",
    "Map.addLayer(gfc2014.clip(geometry), {'bands': ['loss', 'treecover2000', 'gain'], max: [1, 255, 1]}, 'forest cover, loss, gain')\n",
    "Map"
   ]
  },
  {
   "cell_type": "code",
   "execution_count": 10,
   "id": "57b92d97",
   "metadata": {},
   "outputs": [
    {
     "data": {
      "application/vnd.jupyter.widget-view+json": {
       "model_id": "57bb01e054964599814ca0a8230ea861",
       "version_major": 2,
       "version_minor": 0
      },
      "text/plain": [
       "Map(bottom=10076.0, center=[-32.842673631954305, 147.30468750000003], controls=(WidgetControl(options=['positi…"
      ]
     },
     "metadata": {},
     "output_type": "display_data"
    }
   ],
   "source": [
    "# # To brighten the image, we can set the min and/or max parameters\n",
    "Map.addLayer(gfc2014.clip(geometry), {'bands': ['treecover2000'], 'palette': ['000000', '00FF00'], max: 100}, 'forest cover percent')\n",
    "Map"
   ]
  },
  {
   "cell_type": "markdown",
   "id": "5c18cde8",
   "metadata": {},
   "source": [
    "### <a name=\"ex3\"></a> Challenge 2\n",
    "\n",
    "<div class=\"alert alert-block alert-danger\">\n",
    "\n",
    "- Instead of specifying the bands parameter in the Map.addLayer call, use select() to create new images and to make a visualization. \n",
    "    \n",
    "    \n",
    "</div>    "
   ]
  },
  {
   "cell_type": "markdown",
   "id": "2b3bd2a1",
   "metadata": {},
   "source": [
    "## References\n",
    "This is where the references go. For exmaple:\n",
    "\n",
    "* Hansen, M. C., Potapov, P. V., Moore, R., Hancher, M., Turubanova, S. A., Tyukavina, A., ... & Townshend, J. (2013). High-resolution global maps of 21st-century forest cover change. science, 342(6160), 850-853.\n",
    "\n",
    "* Wu, Q., (2020). geemap: A Python package for interactive mapping with Google Earth Engine. The Journal of Open Source Software, 5(51), 2305. https://doi.org/10.21105/joss.02305"
   ]
  },
  {
   "cell_type": "markdown",
   "id": "91c490c4",
   "metadata": {},
   "source": [
    "## Additional information\n",
    "\n",
    "**License:** The code in this notebook was initially created by the team at [Digital Earth Australia](https://github.com/GeoscienceAustralia/dea-notebooks), and has been modified by Abolfazl Abdollahi. The code in this notebook is licensed under the [Apache License, Version 2.0](https://www.apache.org/licenses/LICENSE-2.0). \n",
    "\n",
    "**Contact:** If you need assistance, please post a question on the ENGN3903 Wattle (**check**) site \n",
    "\n",
    "**Last modified:** June 2022"
   ]
  },
  {
   "cell_type": "markdown",
   "id": "1502507e",
   "metadata": {},
   "source": [
    "### Challenge answers"
   ]
  },
  {
   "cell_type": "markdown",
   "id": "e41e9294",
   "metadata": {},
   "source": [
    "<a name=\"ex1answer\">Answer to challenge 1</a>"
   ]
  },
  {
   "cell_type": "code",
   "execution_count": 7,
   "id": "2bca365d",
   "metadata": {},
   "outputs": [],
   "source": [
    "# # Load country features from Large Scale International Boundary (LSIB) dataset.\n",
    "# countries = ee.FeatureCollection('USDOS/LSIB_SIMPLE/2017')\n",
    "\n",
    "# # Subset the Australia feature from countries.\n",
    "# AUS = countries.filter(ee.Filter.eq('country_na', 'Australia'))"
   ]
  },
  {
   "cell_type": "markdown",
   "id": "5d2a70c5",
   "metadata": {},
   "source": [
    "<a name=\"ex1answer\">Answer to challenge 2</a>"
   ]
  },
  {
   "cell_type": "code",
   "execution_count": 11,
   "id": "237fd035",
   "metadata": {},
   "outputs": [],
   "source": [
    "# # # Instead of specifying the bands parameter in the Map.addLayer call,\n",
    "# # #select() is used to create new images and to make a visualization\n",
    "# treeCover = gfc2014.select(['treecover2000']).clip(geometry)\n",
    "# lossImage = gfc2014.select(['loss']).clip(geometry)\n",
    "# gainImage = gfc2014.select(['gain']).clip(geometry)"
   ]
  },
  {
   "cell_type": "code",
   "execution_count": 13,
   "id": "adb8e0fd",
   "metadata": {},
   "outputs": [
    {
     "data": {
      "application/vnd.jupyter.widget-view+json": {
       "model_id": "57bb01e054964599814ca0a8230ea861",
       "version_major": 2,
       "version_minor": 0
      },
      "text/plain": [
       "Map(bottom=10076.0, center=[-32.842673631954305, 147.30468750000003], controls=(WidgetControl(options=['positi…"
      ]
     },
     "metadata": {},
     "output_type": "display_data"
    }
   ],
   "source": [
    "# # Add the tree cover layer in green.\n",
    "# # mask an image with itself make all the areas transparent in which forest cover is zero\n",
    "# Map.addLayer(treeCover.updateMask(treeCover),\n",
    "#     {'palette': ['000000',  '00FF00'], 'max': 100}, 'Forest Cover')\n",
    "\n",
    "# # Add the loss layer in red.\n",
    "# Map.addLayer(lossImage.updateMask(lossImage),\n",
    "#             {'palette': ['FF0000']}, 'Loss')\n",
    "\n",
    "# # Add the gain layer in blue.\n",
    "# Map.addLayer(gainImage.updateMask(gainImage),\n",
    "#             {'palette': ['0000FF']}, 'Gain')\n",
    "# Map"
   ]
  },
  {
   "cell_type": "code",
   "execution_count": null,
   "id": "3e0e8d45",
   "metadata": {},
   "outputs": [],
   "source": []
  }
 ],
 "metadata": {
  "kernelspec": {
   "display_name": "Python 3 (ipykernel)",
   "language": "python",
   "name": "python3"
  },
  "language_info": {
   "codemirror_mode": {
    "name": "ipython",
    "version": 3
   },
   "file_extension": ".py",
   "mimetype": "text/x-python",
   "name": "python",
   "nbconvert_exporter": "python",
   "pygments_lexer": "ipython3",
   "version": "3.8.13"
  }
 },
 "nbformat": 4,
 "nbformat_minor": 5
}
