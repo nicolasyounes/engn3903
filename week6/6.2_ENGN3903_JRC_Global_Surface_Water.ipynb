{
 "cells": [
  {
   "cell_type": "markdown",
   "id": "45b39d64",
   "metadata": {},
   "source": [
    "# JRC Global Surface Water \n",
    "\n",
    "\n",
    "- **Special requirements:** A Google account, access to Google Earth Engine.\n",
    "\n",
    "- **Prerequisites:** You should have completed the \"Week 5 - Prac 1\" and \"Week 5 - Prac 2\" notebooks."
   ]
  },
  {
   "cell_type": "markdown",
   "id": "27421f0f",
   "metadata": {},
   "source": [
    "## Description\n",
    "The Joint Research Centre's Global Surface Water (GSW) product (GEE data catalog page is [here](https://developers.google.com/earth-engine/datasets/catalog/JRC_GSW1_4_GlobalSurfaceWater)) contains maps of the location and temporal distribution of surface water from 1984 to 2022 and provides statistics on the extent and change of those water surfaces. It is built using the Landsat satellite suite. This practical will explore two uses of this dataset. Firstly, we create a binary map of where permanent water bodies exist in the landscape, and secondly we extract a monthly time-series of water extent for a Lake in Botswana.\n",
    "\n",
    "For more information see the associated journal article: [High-resolution mapping of global surface water and its long-term changes](https://www.nature.com/articles/nature20584.epdf?author_access_token=C5JSvooRop4jWxyp_qRPLNRgN0jAjWel9jnR3ZoTv0MqBuzCNsmw_DFxRd7sX93nfPzcbm_xTiPLlZMl7XrUhadm6EiT9cGdDNgn1s6EWrPWH3IeadLUjApplBoaS6xH).\n",
    "\n",
    "## Aims of the practical session\n",
    "* Load and display the GSW dataset over NSW\n",
    "* Threshold the `occurence` layer to make a water/no-water binary mask\n",
    "* Calcuate a time-series of water extent over a Lake in Botswana using the `JRC Monthly Water History` layer"
   ]
  },
  {
   "cell_type": "markdown",
   "id": "9138f01f",
   "metadata": {},
   "source": [
    "## Load packages\n",
    "\n",
    "Import GEE packages that are needed for the analysis."
   ]
  },
  {
   "cell_type": "code",
   "execution_count": null,
   "id": "1e81e750",
   "metadata": {},
   "outputs": [],
   "source": [
    "import ee\n",
    "import geemap\n",
    "import pandas as pd\n",
    "import matplotlib.pyplot as plt\n",
    "# ee.Authenticate()"
   ]
  },
  {
   "cell_type": "markdown",
   "id": "d2a5b8a8",
   "metadata": {},
   "source": [
    "## Connect to Google Earth Engine (GEE)\n",
    "\n",
    "Connect to the GEE to have access computing tools and GEE datasets.\n",
    "You may be required to input your Google account for authorization."
   ]
  },
  {
   "cell_type": "code",
   "execution_count": null,
   "id": "9617cc93",
   "metadata": {},
   "outputs": [],
   "source": [
    "Map = geemap.Map()\n",
    "Map.add_basemap('SATELLITE')\n",
    "Map.addLayerControl()"
   ]
  },
  {
   "cell_type": "markdown",
   "id": "1db09a1c",
   "metadata": {},
   "source": [
    "## Adding Region of Interest (ROI)\n",
    "\n",
    "Create ROI that we want to work on it and then add and display it on the GEE map. In this example, we'll import a geojson from github that marks the boundary of NSW region."
   ]
  },
  {
   "cell_type": "code",
   "execution_count": null,
   "id": "fb876a25",
   "metadata": {},
   "outputs": [],
   "source": [
    "# load NSW geojson\n",
    "path = 'https://raw.githubusercontent.com/nicolasyounes/engn3903/main/figures/NSW.geojson'\n",
    "geometry = geemap.geojson_to_ee(path)"
   ]
  },
  {
   "cell_type": "markdown",
   "id": "570fd61e",
   "metadata": {},
   "source": [
    "## Load and plot the GSW Occurrence layer\n",
    "\n",
    "The Water `Occurrence` layer shows the frequency with which surface water occurred between 1984 and 2022. This product captures both the intra and inter-annual variability and changes. Values range from 0 % (water never occurs here), to 100% where water always occurs.\n",
    "\n",
    "Water is a scarce feature in the landscape so zoom in to get a better look at the dataset."
   ]
  },
  {
   "cell_type": "code",
   "execution_count": null,
   "id": "a0171434",
   "metadata": {},
   "outputs": [],
   "source": [
    "# load latest version of GSW\n",
    "gsw = ee.Image('JRC/GSW1_4/GlobalSurfaceWater')\n",
    "\n",
    "# To display GSW Occurance layer\n",
    "Map.addLayer(gsw.clip(geometry),\n",
    "             {'bands': ['occurrence'],\n",
    "             'palette': ['red', 'blue'],\n",
    "             'max':100,\n",
    "             'min':0\n",
    "             },\n",
    "             'Water Occurrence (1984-2022')\n",
    "\n",
    "Map.centerObject(geometry)\n",
    "Map"
   ]
  },
  {
   "cell_type": "markdown",
   "id": "59910821-d628-4ff8-9d5d-06c804726e8c",
   "metadata": {},
   "source": [
    "## Create a map of permanent waterbodies\n",
    "\n",
    "Quite often in remote sensing we require maps that show us where permanent water bodies are. We often use these to mask other datasets (among many other uses). For example, when creating maps of vegetation condition, its often helpful to mask out water bodies. Below we threshold the `occurrence` layer to define pixels that are permanently water (or almost always water). Feel free to experiment with different thresholds.  It may help to zoom into a specific water body to see the impacts."
   ]
  },
  {
   "cell_type": "code",
   "execution_count": null,
   "id": "78186072-4b22-4710-9d0c-f8cc83758164",
   "metadata": {},
   "outputs": [],
   "source": [
    "#pixels whose value is greater than the threshold will be returned as 1.\n",
    "threshold=90 \n",
    "waterbodies = gsw.select('occurrence').gt(threshold)\n",
    "\n",
    "# To display GSW Occurance layer\n",
    "Map.addLayer(waterbodies.clip(geometry),\n",
    "             {\n",
    "             'palette': ['white', 'black']\n",
    "             },\n",
    "             '90% occurrence water mask')\n",
    "Map"
   ]
  },
  {
   "cell_type": "markdown",
   "id": "7fd6175f",
   "metadata": {},
   "source": [
    "<div class=\"alert alert-block alert-danger\"> \n",
    "\n",
    "## Exercise 1\n",
    "\n",
    "- For all of Australia, create a map of ephermeral water bodies. Define ephemeral as pixels where the water occurence value is less than 30 %. You can use the [Large Scale International Boundary (LSIB)](https://developers.google.com/earth-engine/datasets/catalog/USDOS_LSIB_SIMPLE_2017) dataset to define the Australian extent. If all of Australia takes too long to load, use another state boundary instead\n",
    "\n",
    "    \n",
    "</div>    "
   ]
  },
  {
   "cell_type": "markdown",
   "id": "4857a216-82ec-4d30-8400-5205eaa08988",
   "metadata": {},
   "source": [
    "## Monthly time series of water extent in Lake Ngami\n",
    "\n",
    "The [JRC Monthly Water History](https://developers.google.com/earth-engine/datasets/catalog/JRC_GSW1_4_MonthlyHistory?hl=en) dataset provides information on all the water detections at the monthly level from March 1984 to Jan 2022. It can be used to extract a time-series of water extent for a given waterbody.  In the code below we will learn how to produce a time-series of water-body extent for a Lake in Botswana"
   ]
  },
  {
   "cell_type": "markdown",
   "id": "28ee27ae-9593-427b-be04-f5ab505ce263",
   "metadata": {},
   "source": [
    "### Load JRC Monthly Water History\n",
    "\n",
    "Using a polygon that outlines Lake Ngami in Botswana, we will load the monthly history of water extent from 2013 to 2021."
   ]
  },
  {
   "cell_type": "code",
   "execution_count": null,
   "id": "5652ec3b-d519-48b1-abf8-75539d81a54a",
   "metadata": {},
   "outputs": [],
   "source": [
    "# load the geojson\n",
    "path =  'https://raw.githubusercontent.com/nicolasyounes/engn3903/main/figures/Lake_Ngami.geojson'\n",
    "geometry = geemap.geojson_to_ee(path)\n",
    "\n",
    "#load the jrc dataset, clip tp geometry and a time-range\n",
    "water_ts = ee.ImageCollection('JRC/GSW1_4/MonthlyHistory').filterDate('2013-06-01', '2021-12-31').map(lambda image: image.clip(geometry))"
   ]
  },
  {
   "cell_type": "markdown",
   "id": "31bb2eae-bf54-4fde-83e2-04acbc1dbdd1",
   "metadata": {},
   "source": [
    "### Reclassify the datasets\n",
    "\n",
    "Pixels in this dataset have one of three possible values:\n",
    "\n",
    "0 = No Observations, 1 = Not-Water, 2 = Water\n",
    "\n",
    "We will reclassify this dataset into a binary water/no-water dataset to make calculating area more simple. We can do that by simply thresholding the dataset"
   ]
  },
  {
   "cell_type": "code",
   "execution_count": null,
   "id": "5b231707-0025-4407-842b-0b664b0f5833",
   "metadata": {},
   "outputs": [],
   "source": [
    "#convert the water history dataset into a binary image 1=water\n",
    "water = water_ts.map(lambda image: image.gt(1))"
   ]
  },
  {
   "cell_type": "markdown",
   "id": "be7a721a-988d-4f4f-b0da-f33a74d34e96",
   "metadata": {},
   "source": [
    "### Plot the datasets\n",
    "\n",
    "Along with plotting the first image in the ImageCollection we just loaded, we will also plot a time-series of annual Landsat composites to give us an impression of how the Lake's extent is changing through time. This can give us a visualise expectation for the final graph of water-area through time."
   ]
  },
  {
   "cell_type": "code",
   "execution_count": null,
   "id": "19eb8011-dc6a-42d1-9ddd-3d8785a5a265",
   "metadata": {},
   "outputs": [],
   "source": [
    "# Create a new map object\n",
    "Map1 = geemap.Map()\n",
    "Map1.add_basemap('SATELLITE')\n",
    "Map1.addLayerControl()\n",
    "Map1.centerObject(geometry)\n",
    "\n",
    "# add the first water extent map to the map\n",
    "Map1.addLayer(water_ts.first().selfMask(), \n",
    "             {'bands': ['water'],\n",
    "              'min': 0.0,\n",
    "              'max': 2.0,\n",
    "              'palette': ['ffffff', 'fffcb8', '0905ff']\n",
    "\n",
    "             },\n",
    "             'Monthly Water Extent (first image)'\n",
    "             )\n",
    "\n",
    "# Add the reclassified water etxet to the map\n",
    "Map1.addLayer(water.first(), \n",
    "             {'bands': ['water'],\n",
    "              'min': 0.0,\n",
    "              'max': 1.0,\n",
    "              'palette': ['ffffff', 'black']\n",
    "\n",
    "             },\n",
    "             'Reclassified Water Extent (first image)'\n",
    "            )\n",
    "\n",
    "#add a GIF of Landsat to visualize how the lake's water extent is changing\n",
    "Map1.add_landsat_ts_gif(\n",
    "    roi=geometry,\n",
    "    label='Lake Ngami',\n",
    "    start_year=2013,\n",
    "    end_year=2021,\n",
    "    start_date='01-01',\n",
    "    end_date='12-31',\n",
    "    bands=['SWIR1', 'NIR', 'Red'],\n",
    "    font_color='white',\n",
    "    frames_per_second=3,\n",
    "    progress_bar_color='blue',\n",
    ")\n",
    "\n",
    "Map1"
   ]
  },
  {
   "cell_type": "markdown",
   "id": "7d46da75-eef3-480e-8941-9b7d54ff1fee",
   "metadata": {},
   "source": [
    "### Calculate Water Area through time"
   ]
  },
  {
   "cell_type": "code",
   "execution_count": null,
   "id": "38d65502-f5a8-409d-9405-99dc56378a8f",
   "metadata": {},
   "outputs": [],
   "source": [
    "#Function for converting the binary raster into vectors and calculating area of water \n",
    "def ras_to_vec(img):\n",
    "    vec = img.selfMask().reduceToVectors(geometry=geometry, scale=30, maxPixels=1e13)\n",
    "    vec = vec.filterBounds(geometry)\n",
    "    return vec.set({'area': vec.geometry().area(1).divide(1e6).round()})\n",
    "\n",
    "#apply the function to the image collection\n",
    "water_vectors = water.map(ras_to_vec)\n",
    "areas = water_vectors.aggregate_array('area')\n",
    "\n",
    "#Grab the dates from the imagecollection\n",
    "dates = water_ts.aggregate_array('system:time_start').map(\n",
    "    lambda d: ee.Date(d).format('YYYY-MM-dd')\n",
    ")\n",
    "\n",
    "# Add to Pandas dataframe\n",
    "x = dates.getInfo()\n",
    "y = areas.getInfo()\n",
    "df = pd.DataFrame({'Date':x,  'Area':y}).set_index('Date')"
   ]
  },
  {
   "cell_type": "markdown",
   "id": "e3ab3bb2-d810-4ba0-bbbc-fc966aed3cfb",
   "metadata": {},
   "source": [
    "### Plot water extent through time"
   ]
  },
  {
   "cell_type": "code",
   "execution_count": null,
   "id": "0a4ab5d8-7bc9-4259-928b-2181da49b542",
   "metadata": {},
   "outputs": [],
   "source": [
    "df.plot(figsize=(15, 5))\n",
    "plt.ylabel('Water Area (km2)')"
   ]
  },
  {
   "cell_type": "markdown",
   "id": "e64c6f6e-5130-40bf-9fb7-81c074dc57e4",
   "metadata": {},
   "source": [
    "<div class=\"alert alert-block alert-danger\"> \n",
    "\n",
    "## Exercise 2\n",
    "\n",
    "- Describe the water extent plot above. Can you hypothesize why there might be a trend? What other datasets might help elucidate the reasons for the trend you see? You may find it helpful to rerun the analysis over a longer time period (e.g. 2000-2020).\n",
    "\n",
    "    \n",
    "</div>    "
   ]
  },
  {
   "cell_type": "markdown",
   "id": "2b3bd2a1",
   "metadata": {},
   "source": [
    "## References\n",
    "This is where the references go. For exmaple:\n",
    "\n",
    "* Pekel, J.F., Cottam, A., Gorelick, N. and Belward, A.S., 2016. High-resolution mapping of global surface water and its long-term changes. Nature, 540(7633), pp.418-422.\n",
    "\n",
    "* Wu, Q., (2020). geemap: A Python package for interactive mapping with Google Earth Engine. The Journal of Open Source Software, 5(51), 2305. https://doi.org/10.21105/joss.02305"
   ]
  },
  {
   "cell_type": "markdown",
   "id": "91c490c4",
   "metadata": {},
   "source": [
    "## Additional information\n",
    "\n",
    "**License:** The code in this notebook is licensed under the [Apache License, Version 2.0](https://www.apache.org/licenses/LICENSE-2.0). \n",
    "\n",
    "**Contact:** If you need assistance, please post a question on the ENGN3903 Wattle (**check**) site \n",
    "\n",
    "**Last modified:** Sept. 2023"
   ]
  }
 ],
 "metadata": {
  "kernelspec": {
   "display_name": "Python 3 (ipykernel)",
   "language": "python",
   "name": "python3"
  },
  "language_info": {
   "codemirror_mode": {
    "name": "ipython",
    "version": 3
   },
   "file_extension": ".py",
   "mimetype": "text/x-python",
   "name": "python",
   "nbconvert_exporter": "python",
   "pygments_lexer": "ipython3",
   "version": "3.9.2"
  }
 },
 "nbformat": 4,
 "nbformat_minor": 5
}
