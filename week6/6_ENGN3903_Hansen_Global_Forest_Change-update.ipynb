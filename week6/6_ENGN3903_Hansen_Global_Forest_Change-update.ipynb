{
 "cells": [
  {
   "cell_type": "markdown",
   "id": "45b39d64",
   "metadata": {},
   "source": [
    "# Global Forest Change\n",
    "\n",
    "\n",
    "- **Special requirements:** A Google account, access to Google Earth Engine.\n",
    "\n",
    "- **Prerequisites:** You should have completed the \"Week 5 - Prac 1\" and \"Week 5 - Prac 2\" notebooks."
   ]
  },
  {
   "cell_type": "markdown",
   "id": "27421f0f",
   "metadata": {},
   "source": [
    "## Description\n",
    "The Hansen et al. (2013) Global Forest Change dataset represents forest change, at 30 meters resolution, globally, during the years (2000-2021). More information can be found here <a href=\"https://developers.google.com/earth-engine/datasets/catalog/UMD_hansen_global_forest_change_2015_v1_3\">Hansen Global Forest Change</a>. In this session, you will learn how to work with this data to analyse and quantify Forest Change\n",
    "\n",
    "## Aims of the practical session\n",
    "* Create ROI and load it\n",
    "* Load the Global Forest Change dataset and select the bands of interest\n",
    "* Calculate and display both forest loss and gain\n",
    "* Compute the loss/gain for each year"
   ]
  },
  {
   "cell_type": "markdown",
   "id": "637163e2",
   "metadata": {},
   "source": [
    "## Getting started"
   ]
  },
  {
   "cell_type": "markdown",
   "id": "9138f01f",
   "metadata": {},
   "source": [
    "### Load packages\n",
    "\n",
    "Import GEE packages that are needed for the analysis."
   ]
  },
  {
   "cell_type": "code",
   "execution_count": 1,
   "id": "1e81e750",
   "metadata": {},
   "outputs": [],
   "source": [
    "import ee\n",
    "import geemap\n",
    "# ee.Authenticate()"
   ]
  },
  {
   "cell_type": "markdown",
   "id": "d2a5b8a8",
   "metadata": {},
   "source": [
    "### Connect to Google Earth Engine (GEE)\n",
    "\n",
    "Connect to the GEE to have access computing tools and GEE datasets.\n",
    "You may be required to input your Google account for authorization."
   ]
  },
  {
   "cell_type": "code",
   "execution_count": 2,
   "id": "9617cc93",
   "metadata": {},
   "outputs": [
    {
     "data": {
      "application/vnd.jupyter.widget-view+json": {
       "model_id": "0021c770692a4decaa7fa4b93ca2b1bf",
       "version_major": 2,
       "version_minor": 0
      },
      "text/plain": [
       "Map(center=[20, 0], controls=(WidgetControl(options=['position', 'transparent_bg'], widget=HBox(children=(Togg…"
      ]
     },
     "metadata": {},
     "output_type": "display_data"
    }
   ],
   "source": [
    "Map = geemap.Map()\n",
    "# Map.add_basemap('HYBRID')\n",
    "Map.addLayerControl()\n",
    "Map"
   ]
  },
  {
   "cell_type": "markdown",
   "id": "1db09a1c",
   "metadata": {},
   "source": [
    "### Adding Region of Interest (ROI)\n",
    "\n",
    "Create ROI that we want to work on it and then add and display it on the GEE map. In this example, we'll import a geojson from github that marks the boundary of NSW region."
   ]
  },
  {
   "cell_type": "code",
   "execution_count": 3,
   "id": "fb876a25",
   "metadata": {},
   "outputs": [
    {
     "name": "stderr",
     "output_type": "stream",
     "text": [
      "Downloading...\n",
      "From: https://raw.githubusercontent.com/nicolasyounes/engn3903/week6update/figures/NSW.geojson\n",
      "To: C:\\Users\\abdollaa\\AppData\\Local\\Temp\\e5fe7fc7-8742-462d-b856-556c3168aa8e.geojson\n",
      "2.25MB [00:00, 27.6MB/s]                                                                                               \n"
     ]
    }
   ],
   "source": [
    "# # # load NSW shapefile\n",
    "shp_path = 'https://raw.githubusercontent.com/nicolasyounes/engn3903/week6update/figures/NSW.geojson'\n",
    "geometry = geemap.geojson_to_ee(shp_path)\n",
    "Map.addLayer(geometry, {}, 'NSW Region')\n",
    "Map.centerObject(geometry);"
   ]
  },
  {
   "cell_type": "markdown",
   "id": "570fd61e",
   "metadata": {},
   "source": [
    "### Load Global Forest Change layer\n",
    "Using the below code read the Global Forest Change layer and load it. Then, clip the layer based on ROI and visualize it on GEEmap."
   ]
  },
  {
   "cell_type": "code",
   "execution_count": 4,
   "id": "a0171434",
   "metadata": {},
   "outputs": [
    {
     "data": {
      "application/vnd.jupyter.widget-view+json": {
       "model_id": "0021c770692a4decaa7fa4b93ca2b1bf",
       "version_major": 2,
       "version_minor": 0
      },
      "text/plain": [
       "Map(center=[-32.83477004596121, 147.34756087948904], controls=(WidgetControl(options=['position', 'transparent…"
      ]
     },
     "metadata": {},
     "output_type": "display_data"
    }
   ],
   "source": [
    "# # # load new version of Global Forest Change Layer \n",
    "gfc2021 = ee.Image('UMD/hansen/global_forest_change_2021_v1_9')\n",
    "Map.addLayer(gfc2021.clip(geometry))\n",
    "Map"
   ]
  },
  {
   "cell_type": "markdown",
   "id": "b35cb162",
   "metadata": {},
   "source": [
    "### Display forest cover\n",
    "To display forest cover in the year 2000 as a grayscale image, you can use the treecover2000 band, specified in the second argument to Map.addLayer():"
   ]
  },
  {
   "cell_type": "code",
   "execution_count": 5,
   "id": "6931d21e",
   "metadata": {},
   "outputs": [],
   "source": [
    "# # To display forest cover in the year 2000 as a grayscale image\n",
    "Map.addLayer(gfc2021.clip(geometry), {'bands': ['treecover2000']}, 'treecover2000')"
   ]
  },
  {
   "cell_type": "markdown",
   "id": "5de9d565",
   "metadata": {},
   "source": [
    "### Stretch the data\n",
    "We'd like forest loss to show up as bright red and forest gain to show up as bright blue. To fix this, we can use the visualization parameter max to set the range to which the image data are stretched. Note that the max visualization parameter takes a list of values, corresponding to maxima for each band."
   ]
  },
  {
   "cell_type": "code",
   "execution_count": 6,
   "id": "cbc19d33",
   "metadata": {},
   "outputs": [
    {
     "data": {
      "application/vnd.jupyter.widget-view+json": {
       "model_id": "0021c770692a4decaa7fa4b93ca2b1bf",
       "version_major": 2,
       "version_minor": 0
      },
      "text/plain": [
       "Map(center=[-32.83477004596121, 147.34756087948904], controls=(WidgetControl(options=['position', 'transparent…"
      ]
     },
     "metadata": {},
     "output_type": "display_data"
    }
   ],
   "source": [
    "# # max used to stretch the data and show up forest loss as bright red and forest gain as bright blue\n",
    "Map.addLayer(gfc2021.clip(geometry), {'bands': ['loss', 'treecover2000', 'gain'], max: [1, 255, 1]}, 'forest cover, loss, gain')\n",
    "Map"
   ]
  },
  {
   "cell_type": "code",
   "execution_count": 7,
   "id": "57b92d97",
   "metadata": {},
   "outputs": [
    {
     "data": {
      "application/vnd.jupyter.widget-view+json": {
       "model_id": "0021c770692a4decaa7fa4b93ca2b1bf",
       "version_major": 2,
       "version_minor": 0
      },
      "text/plain": [
       "Map(center=[-32.83477004596121, 147.34756087948904], controls=(WidgetControl(options=['position', 'transparent…"
      ]
     },
     "metadata": {},
     "output_type": "display_data"
    }
   ],
   "source": [
    "# # To brighten the image, we can set the min and/or max parameters\n",
    "Map.addLayer(gfc2021.clip(geometry), {'bands': ['treecover2000'], 'palette': ['000000', '00FF00'], max: 100}, 'forest cover percent')\n",
    "Map"
   ]
  },
  {
   "cell_type": "markdown",
   "id": "7fd6175f",
   "metadata": {},
   "source": [
    "<div class=\"alert alert-block alert-danger\"> \n",
    "\n",
    "### Exercise 1\n",
    "\n",
    "- Load country features from Large Scale International Boundary (LSIB) dataset and subset any country feature from countries that you will be interested in knowing the forest lost (for example you can select a country were deforestation is a big challenge) . Then clip the Global Forest Change layer based on the new ROI. \n",
    "\n",
    "- Instead of specifying the bands parameter in the Map.addLayer call, use select() function to create new images and show the forest loss/gain for that country.\n",
    "\n",
    "- Use the and() method to create the lossAndGain image and display pixels where both loss and gain occur and then discuss if the area has undergone more changes in forest loss or gain.\n",
    "    \n",
    "    \n",
    "More information: The Hansen et al. dataset has a band whose pixels are 1 where loss occurred and 0 otherwise (loss) and a band that is 1 where gain has occurred and a 0 otherwise (gain). To create a band where pixels in both the loss and the gain bands have a 1, you can use the and() logical method on images. The and() method is called like image1.and(image2) and returns an image in which pixels are 1 where both image1 and image2 are 1, and 0 elsewhere.\n",
    "    \n",
    "    \n",
    "</div>    "
   ]
  },
  {
   "cell_type": "markdown",
   "id": "0d8279a2",
   "metadata": {},
   "source": [
    "### Quantifying Forest Change in a Region of Interest\n",
    "To help compute areas, Earth Engine has the ee.Image.pixelArea() method which generates an image in which the value of each pixel is the pixel's area in square meters. Multiplying the loss image with this area image and then summing over the result gives us a measure of area."
   ]
  },
  {
   "cell_type": "code",
   "execution_count": 8,
   "id": "c5234c2d",
   "metadata": {},
   "outputs": [],
   "source": [
    "# Get the forest loss image.\n",
    "gfc2021 = ee.Image('UMD/hansen/global_forest_change_2021_v1_9')\n",
    "lossImage = gfc2021.select(['loss'])\n",
    "areaImage = lossImage.multiply(ee.Image.pixelArea())"
   ]
  },
  {
   "cell_type": "code",
   "execution_count": 9,
   "id": "67e0474a",
   "metadata": {},
   "outputs": [],
   "source": [
    "# Sum the values of forest loss pixels in the ROI.\n",
    "stats = areaImage.reduceRegion(**{\n",
    "  'reducer': ee.Reducer.sum(),\n",
    "  'geometry': geometry,\n",
    "  'scale': 30,\n",
    "  'maxPixels': 1e13\n",
    "})"
   ]
  },
  {
   "cell_type": "code",
   "execution_count": 10,
   "id": "cee8eac3",
   "metadata": {},
   "outputs": [
    {
     "name": "stdout",
     "output_type": "stream",
     "text": [
      "pixels representing loss:  33195638393.614517 square meters\n"
     ]
    }
   ],
   "source": [
    "classAreas = ee.List(stats.get('loss'))\n",
    "print('pixels representing loss: ', classAreas.getInfo(), 'square meters')"
   ]
  },
  {
   "cell_type": "markdown",
   "id": "01f6b8ba",
   "metadata": {},
   "source": [
    "### Calculating Yearly Forest Loss\n",
    "In the previous section you learned how to calculate total forest area lost in the given region of interest (NSW) using the reduceRegion method. Instead of calculating the total loss, it would be helpful to compute the loss for each year. The way to achieve this in Earth Engine is using a Grouped Reducer.\n",
    "\n",
    "We will:\n",
    "* Get the loss image\n",
    "* Add the lossYear band to the original image\n",
    "* Change the reducer to a grouped reducer\n",
    "* Calculate yearly forest loss"
   ]
  },
  {
   "cell_type": "code",
   "execution_count": 12,
   "id": "c06f2801",
   "metadata": {},
   "outputs": [],
   "source": [
    "# Get the loss image.\n",
    "# This dataset is updated yearly, so we get the latest version.\n",
    "gfc2015 = ee.Image('UMD/hansen/global_forest_change_2015')\n",
    "lossImage = gfc2015.select(['loss'])\n",
    "lossAreaImage = lossImage.multiply(ee.Image.pixelArea())\n",
    "Map.addLayer(gfc2015.clip(geometry))"
   ]
  },
  {
   "cell_type": "code",
   "execution_count": 13,
   "id": "9868ec65",
   "metadata": {},
   "outputs": [
    {
     "name": "stdout",
     "output_type": "stream",
     "text": [
      "{'groups': [{'group': 0, 'sum': 0}, {'group': 1, 'sum': 9616033086.464401}, {'group': 2, 'sum': 5575742645.003246}, {'group': 3, 'sum': 9970540698.628675}, {'group': 4, 'sum': 2547689091.5245714}, {'group': 5, 'sum': 7371358921.2539835}, {'group': 6, 'sum': 3968912257.0648894}, {'group': 7, 'sum': 5939685061.879779}, {'group': 8, 'sum': 3551917467.100981}, {'group': 9, 'sum': 2889585440.688235}, {'group': 10, 'sum': 4810211947.952574}, {'group': 11, 'sum': 1660459891.7726712}, {'group': 12, 'sum': 1955572448.943995}, {'group': 13, 'sum': 3538194228.346691}, {'group': 14, 'sum': 4522319361.111459}]}\n"
     ]
    }
   ],
   "source": [
    "lossYear = gfc2015.select(['lossyear'])\n",
    "lossByYear = lossAreaImage.addBands(lossYear).reduceRegion(**{\n",
    "  'reducer': ee.Reducer.sum().group(**{\n",
    "    'groupField': 1\n",
    "    }),\n",
    "  'geometry': geometry,\n",
    "  'scale': 30,\n",
    "  'maxPixels': 1e13\n",
    "})\n",
    "print(lossByYear.getInfo())"
   ]
  },
  {
   "cell_type": "code",
   "execution_count": 14,
   "id": "9734b4d4",
   "metadata": {},
   "outputs": [],
   "source": [
    "# format the output to make the result a dictionary, with year as the key and loss area as the value.\n",
    "\n",
    "classAreas = ee.List(lossByYear.get('groups'))\n",
    "\n",
    "def func_dic(item):\n",
    "  areaDict = ee.Dictionary(item)\n",
    "  classNumber = ee.Number(areaDict.get('group')).format(\"20%02d\")\n",
    "  area = ee.Number(\n",
    "    areaDict.get('sum')).divide(1e6)\n",
    "  return ee.List([classNumber, area])\n",
    "\n",
    "classAreaLists = classAreas.map(func_dic)"
   ]
  },
  {
   "cell_type": "code",
   "execution_count": 15,
   "id": "ff379be0",
   "metadata": {},
   "outputs": [
    {
     "name": "stdout",
     "output_type": "stream",
     "text": [
      "{'2000': 0, '2001': 9616.033086464402, '2002': 5575.742645003246, '2003': 9970.540698628676, '2004': 2547.6890915245713, '2005': 7371.358921253984, '2006': 3968.912257064889, '2007': 5939.685061879779, '2008': 3551.9174671009814, '2009': 2889.585440688235, '2010': 4810.211947952574, '2011': 1660.4598917726712, '2012': 1955.572448943995, '2013': 3538.194228346691, '2014': 4522.319361111458}\n"
     ]
    }
   ],
   "source": [
    "result = ee.Dictionary(classAreaLists.flatten())\n",
    "print(result.getInfo())"
   ]
  },
  {
   "cell_type": "code",
   "execution_count": 16,
   "id": "de27f654",
   "metadata": {},
   "outputs": [
    {
     "data": {
      "text/html": [
       "<div>\n",
       "<style scoped>\n",
       "    .dataframe tbody tr th:only-of-type {\n",
       "        vertical-align: middle;\n",
       "    }\n",
       "\n",
       "    .dataframe tbody tr th {\n",
       "        vertical-align: top;\n",
       "    }\n",
       "\n",
       "    .dataframe thead th {\n",
       "        text-align: right;\n",
       "    }\n",
       "</style>\n",
       "<table border=\"1\" class=\"dataframe\">\n",
       "  <thead>\n",
       "    <tr style=\"text-align: right;\">\n",
       "      <th></th>\n",
       "      <th>Year</th>\n",
       "      <th>Area</th>\n",
       "    </tr>\n",
       "  </thead>\n",
       "  <tbody>\n",
       "    <tr>\n",
       "      <th>0</th>\n",
       "      <td>2000</td>\n",
       "      <td>0.000000</td>\n",
       "    </tr>\n",
       "    <tr>\n",
       "      <th>1</th>\n",
       "      <td>2001</td>\n",
       "      <td>9616.033086</td>\n",
       "    </tr>\n",
       "    <tr>\n",
       "      <th>2</th>\n",
       "      <td>2002</td>\n",
       "      <td>5575.742645</td>\n",
       "    </tr>\n",
       "    <tr>\n",
       "      <th>3</th>\n",
       "      <td>2003</td>\n",
       "      <td>9970.540699</td>\n",
       "    </tr>\n",
       "    <tr>\n",
       "      <th>4</th>\n",
       "      <td>2004</td>\n",
       "      <td>2547.689092</td>\n",
       "    </tr>\n",
       "    <tr>\n",
       "      <th>5</th>\n",
       "      <td>2005</td>\n",
       "      <td>7371.358921</td>\n",
       "    </tr>\n",
       "    <tr>\n",
       "      <th>6</th>\n",
       "      <td>2006</td>\n",
       "      <td>3968.912257</td>\n",
       "    </tr>\n",
       "    <tr>\n",
       "      <th>7</th>\n",
       "      <td>2007</td>\n",
       "      <td>5939.685062</td>\n",
       "    </tr>\n",
       "    <tr>\n",
       "      <th>8</th>\n",
       "      <td>2008</td>\n",
       "      <td>3551.917467</td>\n",
       "    </tr>\n",
       "    <tr>\n",
       "      <th>9</th>\n",
       "      <td>2009</td>\n",
       "      <td>2889.585441</td>\n",
       "    </tr>\n",
       "    <tr>\n",
       "      <th>10</th>\n",
       "      <td>2010</td>\n",
       "      <td>4810.211948</td>\n",
       "    </tr>\n",
       "    <tr>\n",
       "      <th>11</th>\n",
       "      <td>2011</td>\n",
       "      <td>1660.459892</td>\n",
       "    </tr>\n",
       "    <tr>\n",
       "      <th>12</th>\n",
       "      <td>2012</td>\n",
       "      <td>1955.572449</td>\n",
       "    </tr>\n",
       "    <tr>\n",
       "      <th>13</th>\n",
       "      <td>2013</td>\n",
       "      <td>3538.194228</td>\n",
       "    </tr>\n",
       "    <tr>\n",
       "      <th>14</th>\n",
       "      <td>2014</td>\n",
       "      <td>4522.319361</td>\n",
       "    </tr>\n",
       "  </tbody>\n",
       "</table>\n",
       "</div>"
      ],
      "text/plain": [
       "    Year         Area\n",
       "0   2000     0.000000\n",
       "1   2001  9616.033086\n",
       "2   2002  5575.742645\n",
       "3   2003  9970.540699\n",
       "4   2004  2547.689092\n",
       "5   2005  7371.358921\n",
       "6   2006  3968.912257\n",
       "7   2007  5939.685062\n",
       "8   2008  3551.917467\n",
       "9   2009  2889.585441\n",
       "10  2010  4810.211948\n",
       "11  2011  1660.459892\n",
       "12  2012  1955.572449\n",
       "13  2013  3538.194228\n",
       "14  2014  4522.319361"
      ]
     },
     "execution_count": 16,
     "metadata": {},
     "output_type": "execute_result"
    }
   ],
   "source": [
    "import pandas as pd\n",
    "\n",
    "class_areas = pd.DataFrame(classAreaLists.getInfo(), columns = ['Year','Area'])\n",
    "class_areas"
   ]
  },
  {
   "cell_type": "code",
   "execution_count": 17,
   "id": "150c7242",
   "metadata": {},
   "outputs": [
    {
     "data": {
      "text/plain": [
       "<AxesSubplot:xlabel='Year'>"
      ]
     },
     "execution_count": 17,
     "metadata": {},
     "output_type": "execute_result"
    },
    {
     "data": {
      "image/png": "[encoded data removed]",
      "text/plain": [
       "<Figure size 640x480 with 1 Axes>"
      ]
     },
     "metadata": {},
     "output_type": "display_data"
    }
   ],
   "source": [
    "class_areas.plot(x ='Year', y='Area', kind = 'bar')"
   ]
  },
  {
   "cell_type": "markdown",
   "id": "76ea8ad0",
   "metadata": {},
   "source": [
    "<div class=\"alert alert-block alert-danger\"> \n",
    "\n",
    "### Exercise 2\n",
    "\n",
    "- Select the Australia feature as your ROI and then calculate forest loss for the whole period of data availability (2000-2021) and plot the results. Then, discuss in which year the region shows more forest loss and why? \n",
    "- After quantifying forest loss in Australia, compare the results with the earlier selected country to see in which country were deforestation is a big challenge, why? \n",
    "    \n",
    "    \n",
    "</div>    "
   ]
  },
  {
   "cell_type": "markdown",
   "id": "96ed2c93",
   "metadata": {},
   "source": [
    "<div class=\"alert alert-block alert-danger\"> \n",
    "\n",
    "### Exercise 3\n",
    "\n",
    "- Create a multitemporal color composite to highlight areas where there have experienced more deforestation in the resulting map. You can pick up the first year of the time series and the last year (or two consecutive years).\n",
    " \n",
    "    \n",
    "</div>    "
   ]
  },
  {
   "cell_type": "markdown",
   "id": "9c8e0624",
   "metadata": {},
   "source": [
    "<div class=\"alert alert-block alert-danger\"> \n",
    "\n",
    "### Challenge 1\n",
    "\n",
    "<div class=\"alert alert-block alert-danger\">\n",
    "\n",
    "- Use the same method to calculate forest gain in each year and then compare the results with forest loss to see how much forest is lost  and gained for the specific year.\n",
    "    \n",
    "</div>    "
   ]
  },
  {
   "cell_type": "markdown",
   "id": "2b3bd2a1",
   "metadata": {},
   "source": [
    "## References\n",
    "This is where the references go. For exmaple:\n",
    "\n",
    "* Hansen, M. C., Potapov, P. V., Moore, R., Hancher, M., Turubanova, S. A., Tyukavina, A., ... & Townshend, J. (2013). High-resolution global maps of 21st-century forest cover change. science, 342(6160), 850-853.\n",
    "\n",
    "* Wu, Q., (2020). geemap: A Python package for interactive mapping with Google Earth Engine. The Journal of Open Source Software, 5(51), 2305. https://doi.org/10.21105/joss.02305"
   ]
  },
  {
   "cell_type": "markdown",
   "id": "91c490c4",
   "metadata": {},
   "source": [
    "## Additional information\n",
    "\n",
    "**License:** The code in this notebook was initially created by the team at [Digital Earth Australia](https://github.com/GeoscienceAustralia/dea-notebooks), and has been modified by Abolfazl Abdollahi. The code in this notebook is licensed under the [Apache License, Version 2.0](https://www.apache.org/licenses/LICENSE-2.0). \n",
    "\n",
    "**Contact:** If you need assistance, please post a question on the ENGN3903 Wattle (**check**) site \n",
    "\n",
    "**Last modified:** August 2022"
   ]
  }
 ],
 "metadata": {
  "kernelspec": {
   "display_name": "Python 3 (ipykernel)",
   "language": "python",
   "name": "python3"
  },
  "language_info": {
   "codemirror_mode": {
    "name": "ipython",
    "version": 3
   },
   "file_extension": ".py",
   "mimetype": "text/x-python",
   "name": "python",
   "nbconvert_exporter": "python",
   "pygments_lexer": "ipython3",
   "version": "3.10.4"
  }
 },
 "nbformat": 4,
 "nbformat_minor": 5
}
