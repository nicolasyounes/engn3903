{
 "cells": [
  {
   "cell_type": "markdown",
   "id": "1347f2af",
   "metadata": {},
   "source": [
    "## Description\n",
    "* The Hansen et al. (2013) Global Forest Change dataset represents forest change, at 30 meters resolution, globally, during the years. More information can be found here <a href=\"https://developers.google.com/earth-engine/datasets/catalog/UMD_hansen_global_forest_change_2015_v1_3\">Hansen Global Forest Change</a>. In this session, you will learn how to work with this data to analyse and quantifying forest change and how to calculate total forest area lost.\n",
    "\n",
    "## Aims of the practical session\n",
    "* Create ROI and load it\n",
    "* Load the data and select the bands of interest\n",
    "* Calculate and show both forest loss and gain\n",
    "* Quantifying forest change"
   ]
  },
  {
   "cell_type": "markdown",
   "id": "a31d385b",
   "metadata": {},
   "source": [
    "## Getting started"
   ]
  },
  {
   "cell_type": "markdown",
   "id": "a935d9cd",
   "metadata": {},
   "source": [
    "### Load packages\n",
    "\n",
    "Import GEE packages that are needed for the analysis."
   ]
  },
  {
   "cell_type": "code",
   "execution_count": 1,
   "id": "dbe2c72c",
   "metadata": {},
   "outputs": [],
   "source": [
    "import ee\n",
    "import geemap\n",
    "# ee.Authenticate()"
   ]
  },
  {
   "cell_type": "markdown",
   "id": "d45fc3da",
   "metadata": {},
   "source": [
    "### Connect to Google Earth Engine (GEE)\n",
    "\n",
    "Connect to the GEE to have access computing tools and GEE datasets.\n",
    "You may be required to input your Google account for authorization."
   ]
  },
  {
   "cell_type": "code",
   "execution_count": 2,
   "id": "62a14a1b",
   "metadata": {},
   "outputs": [
    {
     "data": {
      "application/vnd.jupyter.widget-view+json": {
       "model_id": "8492f729492c442394a05e761e388e25",
       "version_major": 2,
       "version_minor": 0
      },
      "text/plain": [
       "Map(center=[20, 0], controls=(WidgetControl(options=['position', 'transparent_bg'], widget=HBox(children=(Togg…"
      ]
     },
     "metadata": {},
     "output_type": "display_data"
    }
   ],
   "source": [
    "Map = geemap.Map()\n",
    "# Map.add_basemap('HYBRID')\n",
    "Map"
   ]
  },
  {
   "cell_type": "markdown",
   "id": "7a08bc19",
   "metadata": {},
   "source": [
    "### Adding Region of Interest (ROI)\n",
    "\n",
    "Create ROI that we want to work on it and then add and display it on the GEE map.\n",
    "Import the downloaded shapefile for NSW from your computer path as ROI."
   ]
  },
  {
   "cell_type": "code",
   "execution_count": 3,
   "id": "b839f606",
   "metadata": {},
   "outputs": [],
   "source": [
    "# # # load NSW shapefile\n",
    "shp_path = 'D:/Project files/NSW shp files/NSW.shp'\n",
    "geometry = geemap.shp_to_ee(shp_path)\n",
    "Map.addLayer(geometry, {}, 'NSW SHP')\n",
    "Map.centerObject(geometry);"
   ]
  },
  {
   "cell_type": "markdown",
   "id": "f23754d8",
   "metadata": {},
   "source": [
    "### Displaying forest, loss, and gain\n",
    "Use select() to create images and to make a visualization. "
   ]
  },
  {
   "cell_type": "code",
   "execution_count": 4,
   "id": "71310ebc",
   "metadata": {},
   "outputs": [],
   "source": [
    "# Displaying forest, loss, gain\n",
    "gfc2014 = ee.Image('UMD/hansen/global_forest_change_2015')\n",
    "lossImage = gfc2014.select(['loss']).clip(geometry)\n",
    "gainImage = gfc2014.select(['gain']).clip(geometry)\n",
    "treeCover = gfc2014.select(['treecover2000']).clip(geometry)"
   ]
  },
  {
   "cell_type": "code",
   "execution_count": 5,
   "id": "c30ec520",
   "metadata": {},
   "outputs": [],
   "source": [
    "# Add the tree cover layer in green.\n",
    "Map.addLayer(treeCover.updateMask(treeCover),\n",
    "    {'palette': ['000000',  '00FF00'], 'max': 100}, 'Forest Cover')"
   ]
  },
  {
   "cell_type": "code",
   "execution_count": 6,
   "id": "e9b1a2fa",
   "metadata": {},
   "outputs": [],
   "source": [
    "# Add the loss layer in red.\n",
    "Map.addLayer(lossImage.updateMask(lossImage),\n",
    "    {'palette': ['FF0000']}, 'Loss')"
   ]
  },
  {
   "cell_type": "code",
   "execution_count": 7,
   "id": "811885e6",
   "metadata": {},
   "outputs": [
    {
     "data": {
      "application/vnd.jupyter.widget-view+json": {
       "model_id": "8492f729492c442394a05e761e388e25",
       "version_major": 2,
       "version_minor": 0
      },
      "text/plain": [
       "Map(bottom=10076.0, center=[-32.842673631954305, 147.30468750000003], controls=(WidgetControl(options=['positi…"
      ]
     },
     "metadata": {},
     "output_type": "display_data"
    },
    {
     "data": {
      "application/javascript": [
       "\n",
       "        var code = IPython.notebook.insert_cell_below('code');\n",
       "        code.set_text(atob(\"aW1wb3J0IGdlZW1hcAoKTWFwID0gZ2VlbWFwLk1hcCgpCgojIEdldCB0aGUgZm9yZXN0IGxvc3MgaW1hZ2UuCmdmYzIwMTQgPSBlZS5JbWFnZSgnVU1EL2hhbnNlbi9nbG9iYWxfZm9yZXN0X2NoYW5nZV8yMDE1JykKbG9zc0ltYWdlID0gZ2ZjMjAxNC5zZWxlY3QoWydsb3NzJ10pCmFyZWFJbWFnZSA9IGxvc3NJbWFnZS5tdWx0aXBseShlZS5JbWFnZS5waXhlbEFyZWEoKSkKTWFw\"));\n",
       "    "
      ],
      "text/plain": [
       "<IPython.core.display.Javascript object>"
      ]
     },
     "metadata": {},
     "output_type": "display_data"
    }
   ],
   "source": [
    "# Add the gain layer in blue.\n",
    "Map.addLayer(gainImage.updateMask(gainImage),\n",
    "    {'palette': ['0000FF']}, 'Gain');\n",
    "Map"
   ]
  },
  {
   "cell_type": "markdown",
   "id": "c58ab73a",
   "metadata": {},
   "source": [
    "### <a name=\"ex3\"></a> Challenge 1\n",
    "\n",
    "<div class=\"alert alert-block alert-danger\">\n",
    "\n",
    "- Use the and() method to create the lossAndGain image and displaying pixels where both loss and gain occur. \n",
    "\n",
    "More information: The Hansen et al. dataset has a band whose pixels are 1 where loss occurred and 0 otherwise (loss) and a band that is 1 where gain has occurred and a 0 otherwise (gain). To create a band where pixels in both the loss and the gain bands have a 1, you can use the and() logical method on images. The and() method is called like image1.and(image2) and returns an image in which pixels are 1 where both image1 and image2 are 1, and 0 elsewhere.\n",
    "    \n",
    "</div>    "
   ]
  },
  {
   "cell_type": "markdown",
   "id": "311e0082",
   "metadata": {},
   "source": [
    "### Quantifying Forest Change in a Region of Interest\n",
    "To help compute areas, Earth Engine has the ee.Image.pixelArea() method which generates an image in which the value of each pixel is the pixel's area in square meters. Multiplying the loss image with this area image and then summing over the result gives us a measure of area."
   ]
  },
  {
   "cell_type": "code",
   "execution_count": 8,
   "id": "256a5e73",
   "metadata": {},
   "outputs": [],
   "source": [
    "# Get the forest loss image.\n",
    "gfc2014 = ee.Image('UMD/hansen/global_forest_change_2015')\n",
    "lossImage = gfc2014.select(['loss'])\n",
    "areaImage = lossImage.multiply(ee.Image.pixelArea())"
   ]
  },
  {
   "cell_type": "code",
   "execution_count": 9,
   "id": "faadd377",
   "metadata": {},
   "outputs": [],
   "source": [
    "# Sum the values of forest loss pixels in the ROI.\n",
    "stats = areaImage.reduceRegion(**{\n",
    "  'reducer': ee.Reducer.sum(),\n",
    "  'geometry': geometry,\n",
    "  'scale': 30,\n",
    "  'maxPixels': 1e13\n",
    "})"
   ]
  },
  {
   "cell_type": "code",
   "execution_count": 10,
   "id": "6d7045fe",
   "metadata": {},
   "outputs": [
    {
     "name": "stdout",
     "output_type": "stream",
     "text": [
      "pixels representing loss:  5620170645.178694 square meters\n"
     ]
    }
   ],
   "source": [
    "classAreas = ee.List(stats.get('loss'))\n",
    "print('pixels representing loss: ', classAreas.getInfo(), 'square meters')"
   ]
  },
  {
   "cell_type": "markdown",
   "id": "43ac38df",
   "metadata": {},
   "source": [
    "## References\n",
    "This is where the references go. For exmaple:\n",
    "\n",
    "* Hansen, M. C., Potapov, P. V., Moore, R., Hancher, M., Turubanova, S. A., Tyukavina, A., ... & Townshend, J. (2013). High-resolution global maps of 21st-century forest cover change. science, 342(6160), 850-853.\n",
    "\n",
    "* Wu, Q., (2020). geemap: A Python package for interactive mapping with Google Earth Engine. The Journal of Open Source Software, 5(51), 2305. https://doi.org/10.21105/joss.02305"
   ]
  },
  {
   "cell_type": "markdown",
   "id": "b7bf6b5b",
   "metadata": {},
   "source": [
    "## Additional information\n",
    "\n",
    "**License:** The code in this notebook was initially created by the team at [Digital Earth Australia](https://github.com/GeoscienceAustralia/dea-notebooks), and has been modified by Abolfazl Abdollahi. The code in this notebook is licensed under the [Apache License, Version 2.0](https://www.apache.org/licenses/LICENSE-2.0). \n",
    "\n",
    "**Contact:** If you need assistance, please post a question on the ENGN3903 Wattle site.\n",
    "\n",
    "**Last modified:** June 2022"
   ]
  },
  {
   "cell_type": "markdown",
   "id": "065b596a",
   "metadata": {},
   "source": [
    "### Challenge answers"
   ]
  },
  {
   "cell_type": "markdown",
   "id": "f9c75965",
   "metadata": {},
   "source": [
    "<a name=\"ex1answer\">Answer to challenge 1</a>"
   ]
  },
  {
   "cell_type": "code",
   "execution_count": 5,
   "id": "d1e2c466",
   "metadata": {},
   "outputs": [],
   "source": [
    "# # Use the and() method to create the lossAndGain image.\n",
    "# gainAndLoss = gainImage.And(lossImage)"
   ]
  },
  {
   "cell_type": "code",
   "execution_count": 9,
   "id": "d271ddf6",
   "metadata": {},
   "outputs": [],
   "source": [
    "# # Show the loss and gain image.\n",
    "# Map.addLayer(gainAndLoss.updateMask(gainAndLoss),\n",
    "#     {'palette': 'FF00FF'}, 'Gain and Loss');"
   ]
  },
  {
   "cell_type": "code",
   "execution_count": null,
   "id": "2a51a806",
   "metadata": {},
   "outputs": [],
   "source": []
  }
 ],
 "metadata": {
  "kernelspec": {
   "display_name": "Python 3 (ipykernel)",
   "language": "python",
   "name": "python3"
  },
  "language_info": {
   "codemirror_mode": {
    "name": "ipython",
    "version": 3
   },
   "file_extension": ".py",
   "mimetype": "text/x-python",
   "name": "python",
   "nbconvert_exporter": "python",
   "pygments_lexer": "ipython3",
   "version": "3.8.13"
  }
 },
 "nbformat": 4,
 "nbformat_minor": 5
}
