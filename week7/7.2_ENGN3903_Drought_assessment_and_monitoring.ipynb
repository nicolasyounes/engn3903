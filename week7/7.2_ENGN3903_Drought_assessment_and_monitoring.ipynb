{
 "cells": [
  {
   "cell_type": "markdown",
   "metadata": {},
   "source": [
    "# Drought assessment and monitoring \n",
    "\n",
    "\n",
    "* **Special requirements:** A Google account, access to Google Earth Engine; \n",
    "* **Prerequisites:** lecture of the week"
   ]
  },
  {
   "cell_type": "markdown",
   "metadata": {},
   "source": [
    "## Background\n",
    "To help with **drought** classification and monitoring, scientists have defined several types of drought. **Meteorological drought** is based on the degree of dryness or rainfall deficit and the length of the dry period. **Hydrological drought** is based on the impact of rainfall deficits on the water supply such as stream flow, reservoir and lake levels, and ground water table decline. **Agricultural drought** is when crops become affected by drought.\n",
    "\n",
    "**Palmer Drought Severity Index (PDSI)** uses readily available temperature and precipitation data to estimate relative dryness. It is a standardized index that generally spans -10 (dry) to +10 (wet). Read more about PDSI [here](https://journals.ametsoc.org/view/journals/apme/23/7/1520-0450_1984_023_1100_tpdsil_2_0_co_2.xml). It is a commonly used meteorological drought indicator.\n",
    "\n",
    "The **GRACE** twin satellite was launched in 2002 to map the Earth's gravity field changes. The observed monthly changes in gravity are caused by monthly changes in mass. The mass changes can be thought of as concentrated in a very thin layer of water thickness changes near the Earth's surface. In reality, most of the monthly gravity changes are indeed caused by changes in water storage in hydrologic reservoirs, by moving ocean, atmospheric and land ice masses, and by mass exchanges between these Earth system compartments. Therefore, the change over the land is mainly caused by the change in total water storage including change in snow, surface water, soil water, groundwater and water in the vegetation. The GRACE-based drought indicator is a indicator of hydrological drought.   "
   ]
  },
  {
   "cell_type": "markdown",
   "metadata": {},
   "source": [
    "## Aims of the practical session\n",
    "\n",
    "1. Explore the commonly used drought index, PDSI, to identify the drought events in Australia\n",
    "2. Understand the observation of total water storage \n",
    "3. Understand different drought indices "
   ]
  },
  {
   "cell_type": "markdown",
   "metadata": {},
   "source": [
    "## Description\n",
    "\n",
    "1. Firstly, we explore the PDSI data and extract the values for a basin and identify dry and wet periods from the PDSI\n",
    "2. Secondly, we explore the GRACE total water storage observations and calculate GRACE-based drought index (GRACE-DSI)\n",
    "3. Finally we compare the difference between PDSI and GRACE-DSI\n",
    "\n",
    "***"
   ]
  },
  {
   "cell_type": "markdown",
   "metadata": {},
   "source": [
    "## Load packages\n",
    "Import Python packages that are used for the analysis.\n",
    "\n",
    "Use standard import commands; some are shown below. \n",
    "Begin with any `iPython` magic commands, followed by standard Python packages, then any additional functionality you need from the `Scripts` directory."
   ]
  },
  {
   "cell_type": "code",
   "execution_count": null,
   "metadata": {},
   "outputs": [],
   "source": [
    "%matplotlib inline\n",
    "\n",
    "import matplotlib.pyplot as plt\n",
    "import numpy as np\n",
    "import pandas as pd\n",
    "import xarray as xr\n",
    "import geemap as gmap\n",
    "import ee\n",
    "import geemap.colormaps as cm"
   ]
  },
  {
   "cell_type": "markdown",
   "metadata": {},
   "source": [
    "### Connect to Google Earth Engine (GEE)\n",
    "\n",
    "Connect to the GEE so we can access GEE datasets and computing assets."
   ]
  },
  {
   "cell_type": "markdown",
   "metadata": {},
   "source": [
    "## Part 1 - Explore PDSI for meteorological drought\n",
    "\n",
    "The PDSI product we are going to use is the [TerraClimate](https://developers.google.com/earth-engine/datasets/catalog/IDAHO_EPSCOR_TERRACLIMATE?hl=en#description). It is a dataset of monthly climate and climatic water balance for global terrestial surface. \n"
   ]
  },
  {
   "cell_type": "code",
   "execution_count": null,
   "metadata": {},
   "outputs": [],
   "source": [
    "# get the Palmer Drought Severity Index (PDSI) from the TerraClimate dataset for 2002 to 2016\n",
    "Map = gmap.Map(center=[-31,150], zoom=5)\n",
    "Map.addLayerControl()\n",
    "\n",
    "PDSI = ee.ImageCollection('IDAHO_EPSCOR/TERRACLIMATE').filter(ee.Filter.date('2002-01-01', '2017-01-01')).select('pdsi')\n",
    "PDSIimages = PDSI.toBands().multiply(0.01); #0.01 is the scale factor \n",
    "\n",
    "vis_params = {\n",
    "  'min':-10,\n",
    "  'max': 10,\n",
    "  'palette': cm.palettes.RdBu\n",
    "};\n",
    "\n",
    "Map.add_time_slider(PDSIimages, vis_params,  layer_name=\"PDSI\")\n",
    "\n",
    "Map.add_colorbar_branca(colors=vis_params['palette'],\n",
    "                        vmin=vis_params['min'],\n",
    "                        vmax=vis_params['max'],\n",
    "                        layer_name=\"PDSI\")\n",
    "Map\n"
   ]
  },
  {
   "cell_type": "markdown",
   "metadata": {},
   "source": [
    "#### Use the plotting tool to plot the PDSI values for a point or a region in Australia\n",
    "\n",
    "Are there more dry or wet years in your time series plot?"
   ]
  },
  {
   "cell_type": "markdown",
   "metadata": {},
   "source": [
    "### Let's extract the PDSI values for a basin."
   ]
  },
  {
   "cell_type": "code",
   "execution_count": null,
   "metadata": {},
   "outputs": [],
   "source": [
    "# we get the basin boundary from the Feature collection of global Basins \n",
    "basins = ee.FeatureCollection('WWF/HydroSHEDS/v1/Basins/hybas_3')\n",
    "Map.addLayer(basins, {}, 'Basins')\n",
    "Map\n"
   ]
  },
  {
   "cell_type": "markdown",
   "metadata": {},
   "source": [
    "### Select one Basin in Australia for this exercise\n",
    "\n",
    "Here we can use the Murray-Darling Basin as the example. The HYBAS_ID is 5030073410"
   ]
  },
  {
   "cell_type": "code",
   "execution_count": null,
   "metadata": {},
   "outputs": [],
   "source": [
    "# select the feature by filtering with HYBAS_ID\n",
    "mdb = ee.FeatureCollection('WWF/HydroSHEDS/v1/Basins/hybas_3').filter(ee.Filter.eq(\"HYBAS_ID\", 5030073410))\n",
    "\n",
    "Map.addLayer(mdb, {}, 'Murray-Darling Basin')\n",
    "props = mdb.first().toDictionary().getInfo()\n",
    "print(props)\n",
    "Map"
   ]
  },
  {
   "cell_type": "markdown",
   "metadata": {},
   "source": [
    "<div class=\"alert alert-block alert-danger\"> \n",
    "\n",
    "## Exercise 1: Identify the drought events from 2002 to 2016\n",
    "\n",
    "1. Extract the average (zonal average of all pixels in the basin) PDSI value for Murray-Darling basin in Australia and plot the time series. Most of the code is written for you, but you need to complete the `poi_extract` function by writing a line of code that returns the mean of all pixels in the basin at each time-step.\n",
    "\n",
    "2. Identify the driest and wettest periods from the time series,\n",
    "\n",
    "</div>  \n",
    "\n",
    "<!-- img.reduceRegion(reducer=ee.Reducer.mean(), geometry=mdb).get('pdsi') -->"
   ]
  },
  {
   "cell_type": "code",
   "execution_count": null,
   "metadata": {},
   "outputs": [],
   "source": [
    "# Here is an example of extracting the PDSI value for the Murray-Darling Basin\n",
    "\n",
    "# here we define a function to extract the value for a region or a point\n",
    "def poi_extract(img):\n",
    "    #mean = # ADD YOUR REDUCING CODE HERE\n",
    "    return img.set('date', img.date().format()).set('PDSI', mean) \n",
    "\n",
    "poi_reduced_imgs = PDSI.map(poi_extract)\n",
    "\n",
    "# create a dataframe for the PDSI values\n",
    "nested_list = poi_reduced_imgs.reduceColumns(ee.Reducer.toList(2), ['date','PDSI']).values().get(0)\n",
    "df_pdsi = pd.DataFrame(nested_list.getInfo(), columns=['date','PDSI'])\n",
    "df_pdsi.PDSI = df_pdsi.PDSI*0.01 # 0.01 is the scale factor\n",
    "dates_pdsi = df_pdsi['date']\n",
    "df_pdsi['date'] = pd.to_datetime(dates_pdsi).dt.date #This step is to keep only the date in the index for plotting\n",
    "\n",
    "# plot the time series\n",
    "df_pdsi.plot(x='date',y = 'PDSI',ylabel='PDSI',figsize=(15,5))\n",
    "plt.axhline(y=0, color='grey', linestyle='--')\n"
   ]
  },
  {
   "cell_type": "code",
   "execution_count": null,
   "metadata": {},
   "outputs": [],
   "source": [
    "# Can you identify driest and wettest period from the time sereis?\n",
    "\n",
    "# Answer: "
   ]
  },
  {
   "cell_type": "markdown",
   "metadata": {},
   "source": [
    "## Explore GRACE observations for hydrological drought monitoring\n",
    "The product we are going to use is the monthly CSR spherical harmonic solution. Details of the product can be found [here](https://developers.google.com/earth-engine/datasets/catalog/NASA_GRACE_MASS_GRIDS_LAND?hl=en#description). We are going to use the 'lwe_thickness_csr' band"
   ]
  },
  {
   "cell_type": "code",
   "execution_count": null,
   "metadata": {},
   "outputs": [],
   "source": [
    "# Let's have a look at GRACE observed total water storage\n",
    "Map2 = gmap.Map(center=[-31,150], zoom=4)\n",
    "GRACE = ee.ImageCollection('NASA/GRACE/MASS_GRIDS/LAND').filter(ee.Filter.date('2002-01-01', '2017-01-01')).select('lwe_thickness_csr');\n",
    "\n",
    "vis_params = {\n",
    "  'min':-10,\n",
    "  'max': 10,\n",
    "  'palette': cm.palettes.RdBu\n",
    "};\n",
    "\n",
    "# we add the surface soil moisture data as a new 'layer' in our map.\n",
    "Map2.addLayer(GRACE, vis_params, 'GRACE-TWS', True, 1)\n",
    "Map2.add_colorbar_branca(colors=vis_params['palette'],\n",
    "                        vmin=vis_params['min'],\n",
    "                        vmax=vis_params['max'],\n",
    "                        layer_name=\"GRACE-TWS\")\n",
    "Map2"
   ]
  },
  {
   "cell_type": "markdown",
   "metadata": {},
   "source": [
    "<div class=\"alert alert-block alert-danger\"> \n",
    "\n",
    "## Exersice 2 Drought index calculation\n",
    "\n",
    "1. Plot the average total water storage (TWS) anomaly observed by GRACE for the Murray darling basin.\n",
    "\n",
    "2. Identify dry years from the time series.\n",
    "\n",
    "3. Calculate the GRACE-based drought index using the formula below. More information about the index can be found [here](https://www.ess.uci.edu/~velicogna/drought_data.html)\n",
    "\n",
    "    $GRACE-DSI_{i,j} = \\frac{TWS_{i,j}-\\overline{TWS_j}}{\\sigma_j}$\n",
    "\n",
    "where *i* is the year, *j* is the month ranging from January to December, $\\overline{TWS_j}$ and $\\sigma_j$ are the mean and standard deviation of TWS anomalies in month *j*.\n",
    "\n",
    "4. Compare GRACE-DSI with the PDSI and explain the possible reasons for the difference.\n",
    "    \n",
    "</div>  \n"
   ]
  },
  {
   "cell_type": "code",
   "execution_count": null,
   "metadata": {},
   "outputs": [],
   "source": [
    "# Q2.1 Can you plot the average total water storage (TWS) anomaly observed by GRACE for the Murray darling basin?\n",
    "\n",
    "# Extract the GRACE TWS values for basin average, you can follow the previous example\n",
    "# CALL THE DATAFRAME \"df_grace\"\n",
    "\n",
    "# Your code here \n",
    "\n"
   ]
  },
  {
   "cell_type": "code",
   "execution_count": null,
   "metadata": {},
   "outputs": [],
   "source": [
    "# Q2.2 Can you identify dry and wet years from this time series?\n",
    "\n",
    "# Answer: "
   ]
  },
  {
   "cell_type": "markdown",
   "metadata": {},
   "source": [
    "### Function for calculating standardised anomalies"
   ]
  },
  {
   "cell_type": "code",
   "execution_count": null,
   "metadata": {},
   "outputs": [],
   "source": [
    "#function for calculating standarised anomalies (using xarray)\n",
    "def standardised_anomalies(ds, rename_dict={}):\n",
    "    '''\n",
    "    Computes standaradised anomalies on xarray datasets.\n",
    "    Assumes \"ds\" has a 'time' coordinate.\n",
    "    \n",
    "    Will return an opininated dataframe so will only work\n",
    "    on the GRACE/PDSI data used for this example.\n",
    "\n",
    "    Use the 'rename_dict' parameter to change the \n",
    "    name of the variable on the dataframe\n",
    "    '''\n",
    "    \n",
    "    #Calculate the climatologies\n",
    "    clim_mean = ds.groupby('time.month').mean()\n",
    "    clim_std = ds.groupby('time.month').std()\n",
    "\n",
    "    #calculate the anomaly\n",
    "    std_anom = xr.apply_ufunc(lambda x, m, s: (x - m) / s,\n",
    "                              ds.groupby(\"time.month\"), clim_mean, clim_std)\n",
    "    \n",
    "    #tidy up and return dataframe\n",
    "    std_anom = std_anom.rename(rename_dict).drop('month').to_dataframe()\n",
    "    \n",
    "    return std_anom"
   ]
  },
  {
   "cell_type": "code",
   "execution_count": null,
   "metadata": {},
   "outputs": [],
   "source": [
    "# Q2.3 Can you calculate the GRACE-based drought index? \n",
    "\n",
    "#First convert GRACE dataset to an xarray object (for easier anomaly calculation - it then works with our function above)\n",
    "df_grace['date'] = pd.to_datetime(df_grace['date'])\n",
    "ds_grace = df_grace.rename({'date':'time'},axis=1).set_index('time').to_xarray()"
   ]
  },
  {
   "cell_type": "code",
   "execution_count": null,
   "metadata": {},
   "outputs": [],
   "source": [
    "# Can you use the function provided above to get the GRACE DSI and plot the results?\n",
    "# YOU WILL NEED TO PROVIDE A RENAMING DICTIONARY - CHANGE THE 'GRACE-TWS' NAME TO 'GRACE-DSI'\n",
    "\n",
    "# Your code here\n",
    "grace_std_anom = #CALL FUNCTION HERE\n",
    "\n",
    "# add some plotting code below\n"
   ]
  },
  {
   "cell_type": "markdown",
   "metadata": {},
   "source": [
    "Check the values and categories of GRACE-DSI and identify the driest period. What is the category of this event?\n",
    "\n",
    "<Img src='https://www.ess.uci.edu/~velicogna/images/table1.jpeg' width=500>"
   ]
  },
  {
   "cell_type": "code",
   "execution_count": null,
   "metadata": {},
   "outputs": [],
   "source": [
    "# Q2.4 Compare GRACE-DSI with the PDSI \n",
    "\n",
    "# Calculate standarised anomalies for the PDSI to be comparable to GRACE-DSI using the same function\n",
    "\n",
    "#convert to xarray\n",
    "df_pdsi['date'] = pd.to_datetime(df_pdsi['date'])\n",
    "ds_pdsi = df_pdsi.rename({'date':'time'},axis=1).set_index('time').to_xarray()\n",
    "\n",
    "#calculate the anomalies, providing a renaming dict, call it 'PDSI-Z'\n",
    "pdsi_std_anom = #ADD YOUR CODE HERE\n",
    "\n",
    "# plot two time series together\n",
    "fig, ax = plt.subplots(figsize=(15,5))\n",
    "pdsi_std_anom.plot(ax=ax, label='PDSI-Z')\n",
    "grace_std_anom.plot(ax=ax, label='GRACE-DSI')\n",
    "ax.legend()\n",
    "ax.set_ylabel('Standardized Anomalies')\n",
    "ax.axhline(0, color='grey', linestyle='--')"
   ]
  },
  {
   "cell_type": "code",
   "execution_count": null,
   "metadata": {},
   "outputs": [],
   "source": [
    "# Can you identify dry and wet periods consistently from those two time series? Can you list one possible reason for the difference?\n",
    "\n",
    "# Answer: \n",
    "\n",
    " "
   ]
  },
  {
   "cell_type": "markdown",
   "metadata": {},
   "source": [
    "## References\n",
    "\n",
    "This is where the references go. For exmaple:\n",
    "- Alley, W.M., 1984: The Palmer Drought Severity Index: limitations and assumptions. Journal of Climate and Applied Meteorology, 23: 1100–1109. DOI: 10.1175/1520-0450(1984)023<1100:TPDSIL>2.0.CO;2.\n",
    "- Zhao, M., G. A., I. Velicogna, and J. S. Kimball, 2017: A global gridded dataset of GRACE drought severity index for 2002-2014: Comparison with PDSI and SPEI and a case study of the Australia Millennium drought. J. Hydrometeorol., 18, 2117-2129, DOI: https://doi.org/10.1175/JHM-D-16-0182.1\n",
    "- Wu, Q., (2020). geemap: A Python package for interactive mapping with Google Earth Engine. The Journal of Open Source Software, 5(51), 2305. https://doi.org/10.21105/joss.02305"
   ]
  },
  {
   "cell_type": "markdown",
   "metadata": {},
   "source": [
    "***\n",
    "\n",
    "## Additional information\n",
    "\n",
    "**License:** The code in this notebook was initially created by Siyuan Tian. The code in this notebook is licensed under the [Apache License, Version 2.0](https://www.apache.org/licenses/LICENSE-2.0). \n",
    "\n",
    "**Contact:** If you need assistance, please post a question on the ENGN3903 Wattle (**check**) site \n",
    "\n",
    "**Last modified:** August 2023"
   ]
  }
 ],
 "metadata": {
  "kernelspec": {
   "display_name": "Python 3 (ipykernel)",
   "language": "python",
   "name": "python3"
  },
  "language_info": {
   "codemirror_mode": {
    "name": "ipython",
    "version": 3
   },
   "file_extension": ".py",
   "mimetype": "text/x-python",
   "name": "python",
   "nbconvert_exporter": "python",
   "pygments_lexer": "ipython3",
   "version": "3.9.2"
  },
  "widgets": {
   "application/vnd.jupyter.widget-state+json": {
    "state": {},
    "version_major": 2,
    "version_minor": 0
   }
  }
 },
 "nbformat": 4,
 "nbformat_minor": 4
}
