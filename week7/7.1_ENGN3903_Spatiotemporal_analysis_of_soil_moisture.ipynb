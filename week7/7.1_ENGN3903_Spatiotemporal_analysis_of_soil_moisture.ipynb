{
 "cells": [
  {
   "cell_type": "markdown",
   "metadata": {},
   "source": [
    "# Spatiotemporal analysis of soil moisture observations and estimations\n",
    "\n",
    "\n",
    "\n",
    "* **Special requirements:** A Google account, access to Google Earth Engine; \n",
    "* **Prerequisites:** Knowledge of microwave remote sensing and basic statistics\n"
   ]
  },
  {
   "cell_type": "markdown",
   "metadata": {},
   "source": [
    "## Background\n",
    "**Microwave remote sensing** provides a unique capability for direct observation of soil moisture. The microwave portion of the spectrum covers the range from approximately 1cm to 1m in wavelength. The longer wavelength microwave radiation can penetrate through cloud cover, haze and dust and allows detection of microwave energy under almost all weather and environmental conditions. \n",
    "\n",
    "<img src=\"https://github.com/nicolasyounes/engn3903/blob/main/figures/7_1_fig1.PNG?raw=true\" width=\"800\" />\n",
    "\n",
    "\n",
    "The **satellite soil moisture** product we are going to use in this exerise is the NASA-USDA Enhanced **SMAP(Soil Moisture Active and Passive)** Global Soil Moisture Data. SMAP is a NASA environmental monitoring satellite launched on 31 January 2015. Soil moisture content can be mapped via the radiometer data at a spatial resolution of 36 km every 2-3 days. You can read more about the mission here https://smap.jpl.nasa.gov/\n",
    "\n",
    "The **estimated soil moisture** we are going to use is from the **GLDAS (Global Land Data Assimilation System)**. GLDAS ingests satellite- and ground-based observations using advanced land surface modelling and data assimilation techniques to generate optimal fields of land surface states and fluxes. You can read more about the system here https://ldas.gsfc.nasa.gov/gldas\n"
   ]
  },
  {
   "cell_type": "markdown",
   "metadata": {},
   "source": [
    "## Aims of the practical session\n",
    "\n",
    "1. Understand the spatial and temporal resolution of satellite soil moisture observations\n",
    "2. Understand the spatial and temporal resolution of soil moisture estimates from land surface model\n",
    "3. Compare soil moisture observations from satellite and land surface model\n"
   ]
  },
  {
   "cell_type": "markdown",
   "metadata": {},
   "source": [
    "## Description\n",
    "\n",
    "1. First we visualise surface soil moisture observed by SMAP satellite for the Eastern Australian floods in Feb 2022\n",
    "2. Then we compare the soil moisture estimates from land surface model \n",
    "3. Finally we extract the soil moisture time series at one point from the land surface model and calculate the correlation with corresponding SMAP observations\n",
    "\n",
    "***"
   ]
  },
  {
   "cell_type": "markdown",
   "metadata": {},
   "source": [
    "## Getting started\n",
    "\n",
    "To run this analysis, run all the cells in the notebook, starting with the \"Load packages\" cell. \n"
   ]
  },
  {
   "cell_type": "markdown",
   "metadata": {},
   "source": [
    "### Load packages\n",
    "Import Python packages that are used for the analysis.\n",
    "\n",
    "Use standard import commands; some are shown below. \n",
    "Begin with any `iPython` magic commands, followed by standard Python packages, then any additional functionality you need from the `Scripts` directory."
   ]
  },
  {
   "cell_type": "code",
   "execution_count": null,
   "metadata": {},
   "outputs": [],
   "source": [
    "%matplotlib inline\n",
    "\n",
    "import matplotlib.pyplot as plt\n",
    "import numpy as np\n",
    "import pandas as pd\n",
    "import geemap as gmap\n",
    "import ee\n",
    "import geemap.colormaps as cm"
   ]
  },
  {
   "cell_type": "markdown",
   "metadata": {},
   "source": [
    "### Connect to Google Earth Engine (GEE)\n",
    "\n",
    "Connect to the GEE so we can access GEE datasets and computing assets.\n",
    "You may be required to input your Google account name and password. Please keep those safe and don't share them with anyone."
   ]
  },
  {
   "cell_type": "markdown",
   "metadata": {},
   "source": [
    "## Visualise satellite soil moisture map for eastern Australia floods in 2022\n",
    "\n",
    "Let's look at soil moisture map from `NASA's Enhanced SMAP Global soil moisture data` in February 2022 for the recent eastern Australia floods. Note that the product we used is a level3 data and the moisture content is in `mm` unit. Details of the product can be found [here](https://developers.google.com/earth-engine/datasets/catalog/NASA_USDA_HSL_SMAP10KM_soil_moisture?hl=en). "
   ]
  },
  {
   "cell_type": "code",
   "execution_count": null,
   "metadata": {},
   "outputs": [],
   "source": [
    "# Create an interactive map. \n",
    "Map = gmap.Map(center=[-31,150], zoom=5)\n",
    "Map.addLayerControl()"
   ]
  },
  {
   "cell_type": "code",
   "execution_count": null,
   "metadata": {},
   "outputs": [],
   "source": [
    "# Tell GEE which dataset we want, and select a data layer within the dataset.\n",
    "# Here we're selecting the 'ssm' layer from the dataset for the surface soil moisture.\n",
    "ssm = ee.ImageCollection('NASA_USDA/HSL/SMAP10KM_soil_moisture').filterDate('2022-02-12',\"2022-03-01\").select('ssm');\n",
    "\n",
    "# Then we tell GEE how we want to visualize the data.\n",
    "\n",
    "# here we use the colormaps from the geemap\n",
    "palette = cm.palettes.gist_earth_r\n",
    "vis_params = {\n",
    "#     We give minimum and maximum values,\n",
    "  'min':0,\n",
    "  'max': 28,\n",
    "    \n",
    "#   And we select the collor palette  \n",
    "  'palette': palette\n",
    "};\n",
    "\n",
    "# we add the surface soil moisture data as a new 'layer' in our map.\n",
    "Map.addLayer(ssm, vis_params, 'surface soil moisture', True, 1)\n",
    "\n",
    "# here we want to include the colorbar to interpretate the values\n",
    "colors = vis_params['palette']\n",
    "vmin = vis_params['min']\n",
    "vmax = vis_params['max']\n",
    "Map.add_colorbar_branca(colors=colors, vmin=vmin, vmax=vmax, layer_name=\"surface soil moisture\")\n"
   ]
  },
  {
   "cell_type": "markdown",
   "metadata": {},
   "source": [
    "### Create a time slider to visualize the change in soil moisture"
   ]
  },
  {
   "cell_type": "code",
   "execution_count": null,
   "metadata": {},
   "outputs": [],
   "source": [
    "# firstly we need to convert image collection to image for time series\n",
    "SSMimage = ssm.toBands()\n",
    "\n",
    "# to visualise the soil moisture change within the two weeks time, we create a time slider here\n",
    "# you can pause to see the map for each date\n",
    "Map.add_time_slider(SSMimage, vis_params)\n",
    "Map"
   ]
  },
  {
   "cell_type": "markdown",
   "metadata": {},
   "source": [
    "<div class=\"alert alert-block alert-danger\"> \n",
    "    \n",
    "## Exercise 1 Understand the spatial and temporal dynamics of satellite soil moisture\n",
    "\n",
    "You are going to answer the following questions:\n",
    "\n",
    "1. What is the temporal resolution of this product? \n",
    "\n",
    "2. Can you tell the rough start date (wettest date) of the floods around Brisbane? You can plot the soil moisture values for some points near Brisbane using the plotting tool.\n",
    "\n",
    "3. Can you extract the soil moisture values for a point (152.75,-27.15) for this two-week period and compare the it with 12th - 28th Feb 2019?\n",
    "\n",
    "\n",
    "> Note: Work through the cells below to answer the questions, some of the code has been written for you.    \n",
    "\n",
    "</div>  \n"
   ]
  },
  {
   "cell_type": "markdown",
   "metadata": {},
   "source": [
    "Q1.1 What is the temporal resolution of this product?\n",
    "\n",
    "**Tips**: you find out the temporal resolution of this product from the time slider or from the information for each band"
   ]
  },
  {
   "cell_type": "code",
   "execution_count": null,
   "metadata": {},
   "outputs": [],
   "source": [
    "# you can get to see the information of each band as follow\n",
    "SSMimage.getInfo()"
   ]
  },
  {
   "cell_type": "code",
   "execution_count": null,
   "metadata": {},
   "outputs": [],
   "source": [
    "# From the band 'id', we can see that each band contains two dates. \n",
    "# For example: 'NASA_USDA_SMAP_SM20220212_20220214_ssm' means the map represents the soil moisture condition from 2022-02-12 to 2022-02-14\n",
    "\n",
    "# let's save the end date of each band\n",
    "numbands = len(SSMimage.getInfo().get('bands')) # number of bands\n",
    "bandid  = [SSMimage.getInfo().get('bands')[di].get('id') for di in range(numbands)]\n",
    "dates = [id.split('_')[4] for id in bandid] #get split the string with '_' and get the enddate\n",
    "dates"
   ]
  },
  {
   "cell_type": "markdown",
   "metadata": {},
   "source": [
    "So, what is the temporal resolution? "
   ]
  },
  {
   "cell_type": "code",
   "execution_count": null,
   "metadata": {},
   "outputs": [],
   "source": [
    "# Your answer here\n"
   ]
  },
  {
   "cell_type": "markdown",
   "metadata": {},
   "source": [
    "Let's visualise the second image in the image collections"
   ]
  },
  {
   "cell_type": "code",
   "execution_count": null,
   "metadata": {},
   "outputs": [],
   "source": [
    "Map2 = gmap.Map(center=[-31,150], zoom=5)\n",
    "Map2.addLayer(SSMimage.select(1), vis_params, 'soil moisture map for 2022-02-15 to 2022-02-17', True, 1)\n",
    "Map2"
   ]
  },
  {
   "cell_type": "markdown",
   "metadata": {},
   "source": [
    "Q1.2 Can you tell the rough start date (wettest date) of the floods around Brisbane? And visualise the soil moisture map for that date\n",
    "\n",
    "**Tips**: you can determin the wettest day from the 6 images in the time slider and plot the wettest date by plotting the soil moisture values for some points near Brisbane you can use the interactive plotting tool\n"
   ]
  },
  {
   "cell_type": "code",
   "execution_count": null,
   "metadata": {},
   "outputs": [],
   "source": [
    "# Your code here\n"
   ]
  },
  {
   "cell_type": "markdown",
   "metadata": {},
   "source": [
    "Q1.3 Can you extract the soil moisture values for a point (152.75,-27.15) for this two-week period and compare the it with 12-28 Feb 2019?"
   ]
  },
  {
   "cell_type": "code",
   "execution_count": null,
   "metadata": {},
   "outputs": [],
   "source": [
    "# First, let's create a point\n",
    "point = ee.Geometry.Point(152.75,-27.15)\n",
    "\n",
    "Map2.addLayer(point,{'color':'red'},'point')\n",
    "Map2"
   ]
  },
  {
   "cell_type": "code",
   "execution_count": null,
   "metadata": {},
   "outputs": [],
   "source": [
    "# extract the soil moisture values for the selected point and save it in a dataframe\n",
    "ssm2022 = SSMimage.sampleRegions(point,geometries=True)\n",
    "df_22 = gmap.ee_to_df(ssm2022,columns=bandid)\n",
    "df_22"
   ]
  },
  {
   "cell_type": "code",
   "execution_count": null,
   "metadata": {},
   "outputs": [],
   "source": [
    "# plot the time series of the soil moisture value of this point\n",
    "plt.plot(dates,df_22.values[0],'-o',label='ssm 2022')\n",
    "plt.ylabel('surface soil moisture (mm)')\n",
    "plt.legend()"
   ]
  },
  {
   "cell_type": "markdown",
   "metadata": {},
   "source": [
    "NOW, can you extract the same period in 2019 for the same point and plot the two time series together?\n",
    "\n",
    "**Tips:** we only loaded the data for Feb 2022, you need to load the data for the period from 2019-02-12 to 2019-03-01"
   ]
  },
  {
   "cell_type": "code",
   "execution_count": null,
   "metadata": {},
   "outputs": [],
   "source": [
    "# your code here (name the new variable \"df_19\")\n"
   ]
  },
  {
   "cell_type": "markdown",
   "metadata": {},
   "source": [
    "Plot the two time series together, can you see the difference? which year is wetter?"
   ]
  },
  {
   "cell_type": "code",
   "execution_count": null,
   "metadata": {},
   "outputs": [],
   "source": [
    "plt.plot(df_22.values[0],'-o',label='ssm 2022')\n",
    "plt.plot(df_19.values[0],'-o',label='ssm 2019')\n",
    "plt.ylabel('surface soil moisture (mm)')\n",
    "plt.xlabel('Time-steps')\n",
    "plt.legend()"
   ]
  },
  {
   "cell_type": "markdown",
   "metadata": {},
   "source": [
    "## Compare model estimated surface soil moisture with satellite soil moisture\n",
    "\n",
    "Let's look at the surface soil moisture estimates from the `NOAH Global Land Data Assimilation System (GLDAS) model`. The details of this product can be found [here](https://developers.google.com/earth-engine/datasets/catalog/NASA_GLDAS_V021_NOAH_G025_T3H#description)\n"
   ]
  },
  {
   "cell_type": "code",
   "execution_count": null,
   "metadata": {},
   "outputs": [],
   "source": [
    "# let's create a map to visualise the model estimates \n",
    "Map3 = gmap.Map(center=[-31,150], zoom=5)\n",
    "\n",
    "# Here we're selecting the 'SoilMoi0_10cm_inst' from the dataset for the surface soil moisture at 0-10cm.\n",
    "gldas = ee.ImageCollection('NASA/GLDAS/V021/NOAH/G025/T3H').filterDate('2022-02-24',\"2022-02-25\").select('SoilMoi0_10cm_inst');\n",
    "\n",
    "# Then we tell GEE how we want to visualize the data.\n",
    "\n",
    "# here we use the colormaps from the geemap\n",
    "palette = cm.palettes.gist_earth_r\n",
    "vis_params = {\n",
    "#     We give minimum and maximum values,\n",
    "  'min':2,\n",
    "  'max': 48,\n",
    "    \n",
    "#   And we select the collor palette  \n",
    "  'palette': palette\n",
    "};\n",
    "\n",
    "# we add the modelled surface soil moisture data as a new 'layer' in our map.\n",
    "Map3.addLayer(gldas, vis_params, 'SoilMoi0_10cm_inst', True, 1)\n",
    "\n",
    "# here we want to include the colorbar to interpretate the values\n",
    "colors = vis_params['palette']\n",
    "vmin = vis_params['min']\n",
    "vmax = vis_params['max']\n",
    "Map3.add_colorbar_branca(colors=colors, vmin=vmin, vmax=vmax, layer_name=\"SoilMoi0_10cm_inst\")\n",
    "\n",
    "# to view the series of images, we create the time slider again \n",
    "GLDASimages = gldas.toBands()\n",
    "Map3.add_time_slider(GLDASimages, vis_params)\n",
    "Map3"
   ]
  },
  {
   "cell_type": "markdown",
   "metadata": {},
   "source": [
    "<div class=\"alert alert-block alert-danger\"> \n",
    "    \n",
    "## Exercise 2 Compare model estimated surface soil moisture with satellite soil moisture\n",
    "\n",
    "You are going to answer the following questions:\n",
    "\n",
    "1. What is the temporal resolution of this model outputs? Which product has better spatial details?\n",
    "\n",
    "2. Can you visualise the moisture change within one day for the same point (152.75,-27.15)? When was the moisture content the highest?\n",
    "\n",
    "3. Can you calculate the daily average soil moisture map for 24 Feb 2022? What is the difference to the satellite product?\n",
    "\n",
    "> Note: Work through the cells below to answer the questions, some of the code has been written for you.    \n",
    "\n",
    "</div>  \n"
   ]
  },
  {
   "cell_type": "markdown",
   "metadata": {},
   "source": [
    "Q2.1 What is the temporal resolution of this model outputs? Which product has better spatial details?\n",
    "\n",
    "**Tips**: get the information from the band id, check the previous exercise 0000,0600 means time 00:00, 06:00"
   ]
  },
  {
   "cell_type": "code",
   "execution_count": null,
   "metadata": {},
   "outputs": [],
   "source": [
    "# Your Code Here\n"
   ]
  },
  {
   "cell_type": "markdown",
   "metadata": {},
   "source": [
    "Q2.2 Can you visualise the moisture change within one day for the same point (152.75, -27.15)? When did the moisture content reach the highest value?\n",
    "\n",
    "**Extract the soil moisture values for the point and save it in a dataframe called: `df_gldas`**"
   ]
  },
  {
   "cell_type": "code",
   "execution_count": null,
   "metadata": {},
   "outputs": [],
   "source": [
    "# Your code here\n",
    "# extract the soil moisture values for the point and save it in a dataframe called: df_gldas\n"
   ]
  },
  {
   "cell_type": "markdown",
   "metadata": {},
   "source": [
    "Let's calculate the average value of moisture at this point"
   ]
  },
  {
   "cell_type": "code",
   "execution_count": null,
   "metadata": {},
   "outputs": [],
   "source": [
    "meansm = df_gldas.mean(axis=1)\n",
    "print('The average soil moisture for 24-02-2022 at (-27.15,152.75) is %3.2f mm' %meansm.values)"
   ]
  },
  {
   "cell_type": "markdown",
   "metadata": {},
   "source": [
    "Let's compare the value from SMAP"
   ]
  },
  {
   "cell_type": "code",
   "execution_count": null,
   "metadata": {},
   "outputs": [],
   "source": [
    "# get the soil moisture value for the fifth time step\n",
    "df_22['NASA_USDA_SMAP_SM20220224_20220226_ssm'].values"
   ]
  },
  {
   "cell_type": "markdown",
   "metadata": {},
   "source": [
    "Can you get the maximum value at this point?\n"
   ]
  },
  {
   "cell_type": "code",
   "execution_count": null,
   "metadata": {},
   "outputs": [],
   "source": [
    "# Your code here\n"
   ]
  },
  {
   "cell_type": "markdown",
   "metadata": {},
   "source": [
    "Q2.3 Can you get the daily average soil moisture map for Australia at 24 Feb 2022? "
   ]
  },
  {
   "cell_type": "code",
   "execution_count": null,
   "metadata": {},
   "outputs": [],
   "source": [
    "# Now visualise the average map of soil moisture for Australia?\n",
    "Map4 = gmap.Map(center=[-31,150], zoom=5)\n",
    "\n",
    "# Here we're selecting the 'SoilMoi0_10cm_inst' from the dataset for the surface soil moisture at 0-10cm.\n",
    "gldas_avg = ee.ImageCollection('NASA/GLDAS/V021/NOAH/G025/T3H').filterDate('2022-02-24',\"2022-02-25\").select('SoilMoi0_10cm_inst')\n",
    "\n",
    "#calculate a temporal mean\n",
    "gldas_avg = gldas_avg.mean()\n",
    "\n",
    "# Then we tell GEE how we want to visualize the data.\n",
    "\n",
    "# here we use the colormaps from the geemap\n",
    "palette = cm.palettes.gist_earth_r\n",
    "vis_params = {\n",
    "#     We give minimum and maximum values,\n",
    "  'min':2,\n",
    "  'max': 48,\n",
    "    \n",
    "#   And we select the collor palette  \n",
    "  'palette': palette\n",
    "};\n",
    "\n",
    "# we add the modelled surface soil moisture data as a new 'layer' in our map.\n",
    "Map4.addLayer(gldas_avg, vis_params, 'Daily_Average_SoilMoi0_10cm_inst', True, 1)\n",
    "\n",
    "# here we want to include the colorbar to interpretate the values\n",
    "colors = vis_params['palette']\n",
    "vmin = vis_params['min']\n",
    "vmax = vis_params['max']\n",
    "Map4.add_colorbar_branca(colors=colors, vmin=vmin, vmax=vmax, layer_name=\"Daily_Average_SoilMoi0_10cm_inst\")\n",
    "Map4"
   ]
  },
  {
   "cell_type": "code",
   "execution_count": null,
   "metadata": {},
   "outputs": [],
   "source": [
    "# now let's creat a split map to compare two products\n",
    "\n",
    "vis_params = {\n",
    "#     We give minimum and maximum values,\n",
    "  'min':0,\n",
    "  'max': 48,\n",
    "    \n",
    "#   And we select the collor palette  \n",
    "  'palette': cm.palettes.gist_earth_r\n",
    "};\n",
    "# create the left and right layer map for display\n",
    "left_layer = gmap.ee_tile_layer(gldas_avg,vis_params,'Daily_Average_SoilMoi0_10cm_inst')\n",
    "\n",
    "vis_params = {\n",
    "#     We give minimum and maximum values,\n",
    "  'min':0,\n",
    "  'max': 48,\n",
    "    \n",
    "#   And we select the collor palette  \n",
    "  'palette': cm.palettes.gist_earth_r\n",
    "};\n",
    "\n",
    "# add a split to the map to faciltate comparison\n",
    "right_layer = gmap.ee_tile_layer(SSMimage.select(4),vis_params,'Satellite_observed_soil_moisture_24022022')\n",
    "\n",
    "Map4 = gmap.Map(center=[-30,145], zoom=4)\n",
    "Map4.split_map(left_layer,right_layer)\n",
    "\n",
    "Map4.add_colorbar_branca(colors=colors, vmin=vmin, vmax=vmax, layer_name=\"Daily_Average_SoilMoi0_10cm_inst\")\n",
    "Map4"
   ]
  },
  {
   "cell_type": "markdown",
   "metadata": {},
   "source": [
    "Can you describe the differences in spatial pattern between these two products? Which one has better spatial details?"
   ]
  },
  {
   "cell_type": "code",
   "execution_count": null,
   "metadata": {},
   "outputs": [],
   "source": []
  },
  {
   "cell_type": "markdown",
   "metadata": {},
   "source": [
    "## Statistical analysis\n",
    "\n",
    "Let's calculate the root-mean-square deviation (RMSD) and the correlation between the model estimates and observations. \n",
    "\n",
    "\n",
    "Root-mean-square deviation (RMSD) is a frequently used measure of the differences between values predicted by a model and the values observed. When measuring the average difference between two time series $x, y$, the formular is\n",
    "\n",
    "$ RMSE = \\sqrt{\\frac{\\sum \\limits _{t=1}^{T}(x-y)^2}{T}}$\n",
    "\n",
    "Pearson correlation coeffcient (*r*) is a measure of linear correlation between two sets of data. It is the ratio between the covariance of two variables and the product of their standard deviations\n",
    "\n",
    "$ r = \\frac{cov(x,y)}{\\sigma_x\\sigma_y}$\n"
   ]
  },
  {
   "cell_type": "markdown",
   "metadata": {},
   "source": [
    "<div class=\"alert alert-block alert-danger\"> \n",
    "    \n",
    "\n",
    "## Exercise 3 time series analysis\n",
    "\n",
    "You are going to answer the following questions:\n",
    "\n",
    "1. Can you extract the modelled soil moisture and satellite soil moisture at the same point for a three-year period from 2019-2021\n",
    "\n",
    "2. Can you resample the modelled 3-hourly data to 3-day data to be consistent with SMAP observations? Plot the resampled data\n",
    "\n",
    "2. What is the RMSE and correlation between model outputs and SMAP observations?\n",
    "    \n",
    "<div>"
   ]
  },
  {
   "cell_type": "code",
   "execution_count": null,
   "metadata": {},
   "outputs": [],
   "source": [
    "# Q3.1 Can you extract the modelled soil moisture and satellite soil moisture at the same point for a three-year period from 2019-2021\n",
    "\n",
    "# Now let's extract the modelled soil moisture from GLDAS for a three year period from 2019-2021 for the given point\n",
    "\n",
    "# Here we're loading the 'SoilMoi0_10cm_inst' from the dataset for the surface soil moisture at 0-10cm.\n",
    "# it may take a while to load the three year data \n",
    "\n",
    "startDate = ee.Date('2019-01-01')\n",
    "endDate = ee.Date('2021-12-31')\n",
    "gldas = ee.ImageCollection('NASA/GLDAS/V021/NOAH/G025/T3H').filterDate(startDate,endDate).select('SoilMoi0_10cm_inst')\n"
   ]
  },
  {
   "cell_type": "code",
   "execution_count": null,
   "metadata": {},
   "outputs": [],
   "source": [
    "# here we define a function to extract the value for a region or a point\n",
    "def poi_extract_model(img):\n",
    "    mean = img.reduceRegion(reducer=ee.Reducer.mean(), geometry=point).get('SoilMoi0_10cm_inst')\n",
    "    return img.set('date', img.date().format()).set('model_ssm',mean)\n",
    "\n",
    "poi_reduced_imgs_mod = gldas.map(poi_extract_model)\n",
    "\n",
    "# create a dataframe for the soil moisture values\n",
    "nested_list_mod = poi_reduced_imgs_mod.reduceColumns(ee.Reducer.toList(2), ['date','model_ssm']).values().get(0)\n",
    "df_mod = pd.DataFrame(nested_list_mod.getInfo(), columns=['date','model_ssm'])\n",
    "df_mod"
   ]
  },
  {
   "cell_type": "markdown",
   "metadata": {},
   "source": [
    "**Can you exract the values from the SMAP product at this point to a dataframe here? Call the dataframe `df_smap`**"
   ]
  },
  {
   "cell_type": "code",
   "execution_count": null,
   "metadata": {},
   "outputs": [],
   "source": [
    "# Can you exract the values from the SMAP product at this point to a dataframe here? \n",
    "# Your Code Here\n"
   ]
  },
  {
   "cell_type": "markdown",
   "metadata": {},
   "source": [
    "We want to compare satellite observed soil moisture with modelled soil moisture, but we know they have different temporal resolution. So we need to resample the 3-hourly outputs from the GLDAS model to match the 3-day SMAP observations"
   ]
  },
  {
   "cell_type": "code",
   "execution_count": null,
   "metadata": {},
   "outputs": [],
   "source": [
    "# Q3.2 Can you resample the modelled 3-hourly data to 3-day data to be consistent with SMAP observations? Plot the resampled data\n",
    "\n",
    "df_mod['date'] = pd.to_datetime(df_mod['date']) #the date in the dataframe is RangeIndex, and need to be converted to datetimeindex\n",
    "df_smap['date'] = pd.to_datetime(df_smap['date'])\n",
    "#check the start date of smap\n",
    "df_smap.date"
   ]
  },
  {
   "cell_type": "code",
   "execution_count": null,
   "metadata": {},
   "outputs": [],
   "source": [
    "df_mod_1d = df_mod.resample('1D',on='date').mean() #because the start date of a three-day period is not from the first day of the year, we get daily average first\n",
    "df_mod_1d"
   ]
  },
  {
   "cell_type": "code",
   "execution_count": null,
   "metadata": {},
   "outputs": [],
   "source": [
    "# then resample the daily data to the 3-day average as SMAP data\n",
    "newperiod = pd.date_range('2019-01-02','2021-12-31') # this is to ensure they start from the same date for each 3-day period\n",
    "df_mod_3d = df_mod_1d.reindex(newperiod).resample('3D').mean()\n",
    "df_mod_3d['obs_ssm'] = df_smap['obs_ssm'].values #append the SMAP observations in the same dataframe\n",
    "df_mod_3d"
   ]
  },
  {
   "cell_type": "code",
   "execution_count": null,
   "metadata": {},
   "outputs": [],
   "source": [
    "# let's plot the two time series\n",
    "\n",
    "# Your code here\n"
   ]
  },
  {
   "cell_type": "code",
   "execution_count": null,
   "metadata": {},
   "outputs": [],
   "source": [
    "# Do you think the model simulations agree with the observations? Can you calculate the RMSE and correlation coefficient?\n",
    "\n",
    "# You can check the formular above"
   ]
  },
  {
   "cell_type": "code",
   "execution_count": null,
   "metadata": {},
   "outputs": [],
   "source": [
    "# Q3.3 What is the RMSE and correlation between model outputs and SMAP observations?\n",
    "\n",
    "# RMSE calculation \n",
    "\n",
    "# Your code here\n"
   ]
  },
  {
   "cell_type": "code",
   "execution_count": null,
   "metadata": {},
   "outputs": [],
   "source": [
    "# Pearson r calculation \n",
    "r = df_mod_3d.corr(method='pearson') # you can call the function in dataframe\n",
    "r"
   ]
  },
  {
   "cell_type": "code",
   "execution_count": null,
   "metadata": {},
   "outputs": [],
   "source": [
    "# can you write your own? \n",
    "# Your code here\n",
    "\n"
   ]
  },
  {
   "cell_type": "markdown",
   "metadata": {},
   "source": [
    "## References\n",
    "\n",
    "This is where the references go. For exmaple:\n",
    "- Wu, Q., (2020). geemap: A Python package for interactive mapping with Google Earth Engine. The Journal of Open Source Software, 5(51), 2305. https://doi.org/10.21105/joss.02305"
   ]
  },
  {
   "cell_type": "markdown",
   "metadata": {},
   "source": [
    "***\n",
    "\n",
    "## Additional information\n",
    "\n",
    "**License:** The code in this notebook is prepared by Siyuan Tian. The code in this notebook is licensed under the [Apache License, Version 2.0](https://www.apache.org/licenses/LICENSE-2.0). \n",
    "\n",
    "**Contact:** If you need assistance, please post a question on the ENGN3903 Wattle (**check**) site or contact Siyuan (siyuan.tian@anu.edu.au)\n",
    "\n",
    "**Last modified:** August 2023"
   ]
  }
 ],
 "metadata": {
  "kernelspec": {
   "display_name": "Python 3 (ipykernel)",
   "language": "python",
   "name": "python3"
  },
  "language_info": {
   "codemirror_mode": {
    "name": "ipython",
    "version": 3
   },
   "file_extension": ".py",
   "mimetype": "text/x-python",
   "name": "python",
   "nbconvert_exporter": "python",
   "pygments_lexer": "ipython3",
   "version": "3.10.0"
  },
  "widgets": {
   "application/vnd.jupyter.widget-state+json": {
    "state": {},
    "version_major": 2,
    "version_minor": 0
   }
  }
 },
 "nbformat": 4,
 "nbformat_minor": 4
}
