{
 "cells": [
  {
   "cell_type": "markdown",
   "metadata": {},
   "source": [
    "# Removing Clouds, and using image collections\n",
    "\n",
    "* **Special requirements:** A Google account, access to Google Earth Engine.\n",
    "* **Prerequisites:** You should have completed the \"Week 2 - Prac 1\" notebook.\n"
   ]
  },
  {
   "cell_type": "markdown",
   "metadata": {},
   "source": [
    "## Background\n",
    "\n",
    "Filtering Clouds, \n",
    "Filter by location, \n",
    "Filter by date\n",
    "\n",
    "There are many ways to remove clouds and cloud shadows from images, however not all algorithms to do this are available in GEE. In this notebook you'll learn to remove (i.e. 'filter') clouds and cloud shadows from Landsat images using available algorithms. \n",
    "\n",
    "Likewise, sometimes we need images from one region of interest (ROI) or from a certain date or date range. Here we'll see how to search the Landsat archive to filter for those images, but you can do the same with other optical sensors such as Sentinel 2 or MODIS (although filtering methods will vary).\n",
    "\n",
    "\n",
    "***"
   ]
  },
  {
   "cell_type": "markdown",
   "metadata": {},
   "source": [
    "## Aims of the practical session\n",
    "\n",
    "This practical has three aims:\n",
    "1. to demonstrate how to filter clouds using Landsat images,\n",
    "1. to demonstrate how to filter image collections by location, and\n",
    "1. to demonstrate how to filter images by date.\n",
    "\n",
    "\n",
    "***"
   ]
  },
  {
   "cell_type": "markdown",
   "metadata": {},
   "source": [
    "## Description\n",
    "\n",
    "In this notebook you'll learn to remove (i.e. 'filter') clouds filter images by location and by date. \n",
    "\n",
    "First:\n",
    "- Create a Region of Interest (ROI). This can be a polygon or a single point.\n",
    "\n",
    "Then:\n",
    "- load an image collection from the Canberra region (filter by location based on created ROI) and visualize some images corresponding to the year 2022 (filter by date), and\n",
    "\n",
    "Finally:\n",
    "- remove the clouds and evaluate the result.\n",
    "\n",
    "**Challenge:**\n",
    "- replicate the workflow for the Amazon region and compare the results to check the effectiveness of different filtering approaches in the different regions.\n",
    "\n",
    "<div class=\"alert alert-block alert-warning\">\n",
    "<b>Assessment:</b> Once you finish the practical and the excercises, remember to submit your notebook through Wattle.\n",
    "Challenges are optional and will not be part of the assessment.\n",
    "</div>\n",
    "\n",
    "***"
   ]
  },
  {
   "cell_type": "markdown",
   "metadata": {},
   "source": [
    "## Getting started\n"
   ]
  },
  {
   "cell_type": "markdown",
   "metadata": {},
   "source": [
    "### Load packages\n",
    "\n",
    "Import Python packages that are used for the analysis.\n"
   ]
  },
  {
   "cell_type": "code",
   "execution_count": 9,
   "metadata": {
    "ExecuteTime": {
     "end_time": "2022-06-08T05:57:14.093530Z",
     "start_time": "2022-06-08T05:57:10.238092Z"
    }
   },
   "outputs": [],
   "source": [
    "%matplotlib inline\n",
    "\n",
    "import geemap as gmap\n",
    "import ee\n",
    "import matplotlib.pyplot as plt"
   ]
  },
  {
   "cell_type": "markdown",
   "metadata": {},
   "source": [
    "### Connect to Google Earth Engine (GEE)\n",
    "\n",
    "Connect to the GEE so we can access GEE datasets and computing assets.\n",
    "You may be required to input your Google account name and password. Please keep those safe and don't share them with anyone."
   ]
  },
  {
   "cell_type": "code",
   "execution_count": 10,
   "metadata": {
    "ExecuteTime": {
     "end_time": "2022-06-08T05:57:19.159586Z",
     "start_time": "2022-06-08T05:57:14.100515Z"
    },
    "scrolled": true
   },
   "outputs": [],
   "source": [
    "m = gmap.Map()"
   ]
  },
  {
   "cell_type": "markdown",
   "metadata": {},
   "source": [
    "***"
   ]
  },
  {
   "cell_type": "markdown",
   "metadata": {},
   "source": [
    "## Load a satellite image of the ACT region.\n"
   ]
  },
  {
   "cell_type": "markdown",
   "metadata": {},
   "source": [
    "Use a Landsat 8 image."
   ]
  },
  {
   "cell_type": "markdown",
   "metadata": {},
   "source": [
    "First, let's display the image in 'True color'. True Color means that we display the Red, Green, and Blue (RGB) bands. This makes it more intuitive to distinguish the features in the image.\n",
    "\n",
    "You can find more information about the spectral bands of the Landsat 8 sensor [here](https://www.usgs.gov/media/images/landsat-8-band-designations)\n",
    "\n",
    "**GEE TIP:** be mindful if you're using *collection 1* or *collection 2* images because the band names are different. You'll have to adjust your code accordingly."
   ]
  },
  {
   "cell_type": "code",
   "execution_count": 11,
   "metadata": {
    "ExecuteTime": {
     "end_time": "2022-06-08T05:57:21.350084Z",
     "start_time": "2022-06-08T05:57:19.163501Z"
    },
    "scrolled": true
   },
   "outputs": [
    {
     "data": {
      "application/vnd.jupyter.widget-view+json": {
       "model_id": "4e48444805f2448c9afdc30188fc12c2",
       "version_major": 2,
       "version_minor": 0
      },
      "text/plain": [
       "Map(center=[-35.2041, 149.2721], controls=(WidgetControl(options=['position', 'transparent_bg'], widget=HBox(c…"
      ]
     },
     "metadata": {},
     "output_type": "display_data"
    }
   ],
   "source": [
    "# We give the 'center' location, and a 'zoom' level.\n",
    "Map = gmap.Map(center=[-35.2041, 149.2721], zoom=9)\n",
    "\n",
    "# Search for a specific landsat 8 image collection 1\n",
    "clearC1 = ee.Image('LANDSAT/LC08/C01/T1_SR/LC08_090084_20210219')\n",
    "\n",
    "# Now we select the bands we want to display for the collection 1 image\n",
    "landsatC1_vis = {'bands': ['B4', 'B3', 'B2'],\n",
    "              'min': 0,\n",
    "              'max': 3000}\n",
    "\n",
    "# Search for a landsat 8 image collection 2\n",
    "clearC2 = ee.Image('LANDSAT/LC08/C02/T1_L2/LC08_090085_20210118')\n",
    "\n",
    "# Now we select the bands we want to display for the collection 2 image\n",
    "landsatC2_vis = {'bands': ['SR_B4', 'SR_B3', 'SR_B2'],\n",
    "              'min': -0.10,\n",
    "              'max': 65000}\n",
    "\n",
    "# Add the landsat 8 image to our map\n",
    "Map.addLayer(clearC1, landsatC1_vis, 'a clear Landsat 8 collection 1 img')\n",
    "Map.addLayer(clearC2, landsatC2_vis, 'a clear Landsat 8 collection 2 img')\n",
    "\n",
    "Map"
   ]
  },
  {
   "cell_type": "markdown",
   "metadata": {},
   "source": [
    "Let's have a look at the metadata of each image."
   ]
  },
  {
   "cell_type": "code",
   "execution_count": 12,
   "metadata": {
    "ExecuteTime": {
     "end_time": "2022-06-08T05:57:22.065396Z",
     "start_time": "2022-06-08T05:57:21.355197Z"
    },
    "scrolled": true
   },
   "outputs": [
    {
     "data": {
      "text/plain": [
       "{'CLOUD_COVER': 3.81,\n",
       " 'CLOUD_COVER_LAND': 3.98,\n",
       " 'EARTH_SUN_DISTANCE': 0.988715,\n",
       " 'ESPA_VERSION': '2_23_0_1b',\n",
       " 'GEOMETRIC_RMSE_MODEL': 6.224,\n",
       " 'GEOMETRIC_RMSE_MODEL_X': 3.977,\n",
       " 'GEOMETRIC_RMSE_MODEL_Y': 4.787,\n",
       " 'IMAGE_DATE': '2021-02-19',\n",
       " 'IMAGE_QUALITY_OLI': 9,\n",
       " 'IMAGE_QUALITY_TIRS': 9,\n",
       " 'LANDSAT_ID': 'LC08_L1TP_090084_20210219_20210304_01_T1',\n",
       " 'LEVEL1_PRODUCTION_DATE': 1614856179000,\n",
       " 'NOMINAL_SCALE': 30,\n",
       " 'PIXEL_QA_VERSION': 'generate_pixel_qa_1.6.0',\n",
       " 'SATELLITE': 'LANDSAT_8',\n",
       " 'SENSING_TIME': '2021-02-19T23:50:20.9151729Z',\n",
       " 'SOLAR_AZIMUTH_ANGLE': 62.88945,\n",
       " 'SOLAR_ZENITH_ANGLE': 40.404987,\n",
       " 'SR_APP_VERSION': 'LaSRC_1.3.0',\n",
       " 'WRS_PATH': 90,\n",
       " 'WRS_ROW': 84,\n",
       " 'system:asset_size': '621.984133 MB',\n",
       " 'system:band_names': ['B1',\n",
       "  'B2',\n",
       "  'B3',\n",
       "  'B4',\n",
       "  'B5',\n",
       "  'B6',\n",
       "  'B7',\n",
       "  'B10',\n",
       "  'B11',\n",
       "  'sr_aerosol',\n",
       "  'pixel_qa',\n",
       "  'radsat_qa'],\n",
       " 'system:id': 'LANDSAT/LC08/C01/T1_SR/LC08_090084_20210219',\n",
       " 'system:index': 'LC08_090084_20210219',\n",
       " 'system:time_end': '2021-02-19 23:50:20',\n",
       " 'system:time_start': '2021-02-19 23:50:20',\n",
       " 'system:version': 1615109307014904}"
      ]
     },
     "execution_count": 12,
     "metadata": {},
     "output_type": "execute_result"
    }
   ],
   "source": [
    "gmap.image_props(clearC1).getInfo()"
   ]
  },
  {
   "cell_type": "code",
   "execution_count": 13,
   "metadata": {
    "ExecuteTime": {
     "end_time": "2022-06-08T05:57:23.344493Z",
     "start_time": "2022-06-08T05:57:22.069540Z"
    }
   },
   "outputs": [
    {
     "data": {
      "text/plain": [
       "{'ALGORITHM_SOURCE_SURFACE_REFLECTANCE': 'LaSRC_1.5.0',\n",
       " 'ALGORITHM_SOURCE_SURFACE_TEMPERATURE': 'st_1.3.0',\n",
       " 'CLOUD_COVER': 4.7,\n",
       " 'CLOUD_COVER_LAND': 4.74,\n",
       " 'COLLECTION_CATEGORY': 'T1',\n",
       " 'COLLECTION_NUMBER': 2,\n",
       " 'DATA_SOURCE_AIR_TEMPERATURE': 'MODIS',\n",
       " 'DATA_SOURCE_ELEVATION': 'GLS2000',\n",
       " 'DATA_SOURCE_OZONE': 'MODIS',\n",
       " 'DATA_SOURCE_PRESSURE': 'Calculated',\n",
       " 'DATA_SOURCE_REANALYSIS': 'GEOS-5 FP-IT',\n",
       " 'DATA_SOURCE_TIRS_STRAY_LIGHT_CORRECTION': 'TIRS',\n",
       " 'DATA_SOURCE_WATER_VAPOR': 'MODIS',\n",
       " 'DATE_ACQUIRED': '2021-01-18',\n",
       " 'DATE_PRODUCT_GENERATED': 1615075141000,\n",
       " 'DATUM': 'WGS84',\n",
       " 'EARTH_SUN_DISTANCE': 0.9839023,\n",
       " 'ELLIPSOID': 'WGS84',\n",
       " 'GEOMETRIC_RMSE_MODEL': 7.166,\n",
       " 'GEOMETRIC_RMSE_MODEL_X': 4.107,\n",
       " 'GEOMETRIC_RMSE_MODEL_Y': 5.872,\n",
       " 'GEOMETRIC_RMSE_VERIFY': 3.9,\n",
       " 'GRID_CELL_SIZE_REFLECTIVE': 30,\n",
       " 'GRID_CELL_SIZE_THERMAL': 30,\n",
       " 'GROUND_CONTROL_POINTS_MODEL': 1157,\n",
       " 'GROUND_CONTROL_POINTS_VERIFY': 286,\n",
       " 'GROUND_CONTROL_POINTS_VERSION': 5,\n",
       " 'IMAGE_DATE': '2021-01-18',\n",
       " 'IMAGE_QUALITY_OLI': 9,\n",
       " 'IMAGE_QUALITY_TIRS': 9,\n",
       " 'L1_DATE_PRODUCT_GENERATED': '2021-03-06T23:45:22Z',\n",
       " 'L1_LANDSAT_PRODUCT_ID': 'LC08_L1TP_090085_20210118_20210306_02_T1',\n",
       " 'L1_PROCESSING_LEVEL': 'L1TP',\n",
       " 'L1_PROCESSING_SOFTWARE_VERSION': 'LPGS_15.4.0',\n",
       " 'L1_REQUEST_ID': 'P700oqyn6ajwv_00012',\n",
       " 'LANDSAT_PRODUCT_ID': 'LC08_L2SP_090085_20210118_20210306_02_T1',\n",
       " 'LANDSAT_SCENE_ID': 'LC80900852021018LGN00',\n",
       " 'MAP_PROJECTION': 'UTM',\n",
       " 'NADIR_OFFNADIR': 'NADIR',\n",
       " 'NOMINAL_SCALE': 30,\n",
       " 'ORIENTATION': 'NORTH_UP',\n",
       " 'PROCESSING_LEVEL': 'L2SP',\n",
       " 'PROCESSING_SOFTWARE_VERSION': 'LPGS_15.4.0',\n",
       " 'REFLECTANCE_ADD_BAND_1': -0.2,\n",
       " 'REFLECTANCE_ADD_BAND_2': -0.2,\n",
       " 'REFLECTANCE_ADD_BAND_3': -0.2,\n",
       " 'REFLECTANCE_ADD_BAND_4': -0.2,\n",
       " 'REFLECTANCE_ADD_BAND_5': -0.2,\n",
       " 'REFLECTANCE_ADD_BAND_6': -0.2,\n",
       " 'REFLECTANCE_ADD_BAND_7': -0.2,\n",
       " 'REFLECTANCE_MULT_BAND_1': 2.75e-05,\n",
       " 'REFLECTANCE_MULT_BAND_2': 2.75e-05,\n",
       " 'REFLECTANCE_MULT_BAND_3': 2.75e-05,\n",
       " 'REFLECTANCE_MULT_BAND_4': 2.75e-05,\n",
       " 'REFLECTANCE_MULT_BAND_5': 2.75e-05,\n",
       " 'REFLECTANCE_MULT_BAND_6': 2.75e-05,\n",
       " 'REFLECTANCE_MULT_BAND_7': 2.75e-05,\n",
       " 'REFLECTIVE_LINES': 7951,\n",
       " 'REFLECTIVE_SAMPLES': 7901,\n",
       " 'REQUEST_ID': 'P700oqyn6ajwv_00012',\n",
       " 'ROLL_ANGLE': -0.001,\n",
       " 'SATURATION_BAND_1': 'N',\n",
       " 'SATURATION_BAND_2': 'N',\n",
       " 'SATURATION_BAND_3': 'N',\n",
       " 'SATURATION_BAND_4': 'N',\n",
       " 'SATURATION_BAND_5': 'N',\n",
       " 'SATURATION_BAND_6': 'Y',\n",
       " 'SATURATION_BAND_7': 'Y',\n",
       " 'SATURATION_BAND_8': 'N',\n",
       " 'SATURATION_BAND_9': 'N',\n",
       " 'SCENE_CENTER_TIME': '23:50:50.4011140Z',\n",
       " 'SENSOR_ID': 'OLI_TIRS',\n",
       " 'SPACECRAFT_ID': 'LANDSAT_8',\n",
       " 'STATION_ID': 'LGN',\n",
       " 'SUN_AZIMUTH': 72.82205922,\n",
       " 'SUN_ELEVATION': 55.26472683,\n",
       " 'TARGET_WRS_PATH': 90,\n",
       " 'TARGET_WRS_ROW': 85,\n",
       " 'TEMPERATURE_ADD_BAND_ST_B10': 149,\n",
       " 'TEMPERATURE_MAXIMUM_BAND_ST_B10': 372.999941,\n",
       " 'TEMPERATURE_MINIMUM_BAND_ST_B10': 149.003418,\n",
       " 'TEMPERATURE_MULT_BAND_ST_B10': 0.00341802,\n",
       " 'THERMAL_LINES': 7951,\n",
       " 'THERMAL_SAMPLES': 7901,\n",
       " 'TIRS_SSM_MODEL': 'FINAL',\n",
       " 'TIRS_SSM_POSITION_STATUS': 'ESTIMATED',\n",
       " 'TRUNCATION_OLI': 'UPPER',\n",
       " 'UTM_ZONE': 55,\n",
       " 'WRS_PATH': 90,\n",
       " 'WRS_ROW': 85,\n",
       " 'WRS_TYPE': 2,\n",
       " 'system:asset_size': '975.926693 MB',\n",
       " 'system:band_names': ['SR_B1',\n",
       "  'SR_B2',\n",
       "  'SR_B3',\n",
       "  'SR_B4',\n",
       "  'SR_B5',\n",
       "  'SR_B6',\n",
       "  'SR_B7',\n",
       "  'SR_QA_AEROSOL',\n",
       "  'ST_B10',\n",
       "  'ST_ATRAN',\n",
       "  'ST_CDIST',\n",
       "  'ST_DRAD',\n",
       "  'ST_EMIS',\n",
       "  'ST_EMSD',\n",
       "  'ST_QA',\n",
       "  'ST_TRAD',\n",
       "  'ST_URAD',\n",
       "  'QA_PIXEL',\n",
       "  'QA_RADSAT'],\n",
       " 'system:id': 'LANDSAT/LC08/C02/T1_L2/LC08_090085_20210118',\n",
       " 'system:index': 'LC08_090085_20210118',\n",
       " 'system:time_end': '2021-01-18 23:50:50',\n",
       " 'system:time_start': '2021-01-18 23:50:50',\n",
       " 'system:version': 1629928606979602}"
      ]
     },
     "execution_count": 13,
     "metadata": {},
     "output_type": "execute_result"
    }
   ],
   "source": [
    "gmap.image_props(clearC2).getInfo()"
   ]
  },
  {
   "cell_type": "markdown",
   "metadata": {},
   "source": [
    "### <a name=\"ex1\"></a> Exercise 1 - Answer the following questions using the information above\n",
    "\n",
    "<div class=\"alert alert-block alert-danger\">\n",
    "    \n",
    "1. What are the main differences in the metadata of the two images? \n",
    "1. why is the metadata so different if they both images come from the same Landsat 8 sensor?\n",
    "\n",
    "Answer these questions in the cell below.\n",
    "</div>"
   ]
  },
  {
   "cell_type": "markdown",
   "metadata": {},
   "source": [
    "."
   ]
  },
  {
   "cell_type": "markdown",
   "metadata": {},
   "source": [
    "These images looks very clear. As you zoom in and out, you can easily distinguish some landscape features.\n",
    "\n",
    "However, not all satellite images are as good as this one. So lets' look at another image and its metadata:\n"
   ]
  },
  {
   "cell_type": "code",
   "execution_count": 14,
   "metadata": {
    "ExecuteTime": {
     "end_time": "2022-06-08T05:57:24.296231Z",
     "start_time": "2022-06-08T05:57:23.348483Z"
    },
    "scrolled": true
   },
   "outputs": [
    {
     "data": {
      "application/vnd.jupyter.widget-view+json": {
       "model_id": "bba82319695b4bfb82533e382335dad8",
       "version_major": 2,
       "version_minor": 0
      },
      "text/plain": [
       "Map(center=[-35.2041, 149.2721], controls=(WidgetControl(options=['position', 'transparent_bg'], widget=HBox(c…"
      ]
     },
     "metadata": {},
     "output_type": "display_data"
    }
   ],
   "source": [
    "# Get a Landsat Image\n",
    "cloudy = ee.Image('LANDSAT/LC08/C02/T1_L2/LC08_090084_20190622') \n",
    "\n",
    "Map1 = gmap.Map(center=[-35.2041, 149.2721], zoom=9)\n",
    "\n",
    "# Add the image to the map\n",
    "Map1.addLayer(cloudy, landsatC2_vis, 'a cloudy Landsat 8 image')\n",
    "\n",
    "# Display the map\n",
    "Map1"
   ]
  },
  {
   "cell_type": "code",
   "execution_count": 15,
   "metadata": {
    "ExecuteTime": {
     "end_time": "2022-06-08T05:57:25.556368Z",
     "start_time": "2022-06-08T05:57:24.300172Z"
    }
   },
   "outputs": [
    {
     "data": {
      "text/plain": [
       "{'ALGORITHM_SOURCE_SURFACE_REFLECTANCE': 'LaSRC_1.5.0',\n",
       " 'ALGORITHM_SOURCE_SURFACE_TEMPERATURE': 'st_1.3.0',\n",
       " 'CLOUD_COVER': 71.31,\n",
       " 'CLOUD_COVER_LAND': 71.36,\n",
       " 'COLLECTION_CATEGORY': 'T1',\n",
       " 'COLLECTION_NUMBER': 2,\n",
       " 'DATA_SOURCE_AIR_TEMPERATURE': 'MODIS',\n",
       " 'DATA_SOURCE_ELEVATION': 'GLS2000',\n",
       " 'DATA_SOURCE_OZONE': 'MODIS',\n",
       " 'DATA_SOURCE_PRESSURE': 'Calculated',\n",
       " 'DATA_SOURCE_REANALYSIS': 'GEOS-5 FP-IT',\n",
       " 'DATA_SOURCE_TIRS_STRAY_LIGHT_CORRECTION': 'TIRS',\n",
       " 'DATA_SOURCE_WATER_VAPOR': 'MODIS',\n",
       " 'DATE_ACQUIRED': '2019-06-22',\n",
       " 'DATE_PRODUCT_GENERATED': 1598554331000,\n",
       " 'DATUM': 'WGS84',\n",
       " 'EARTH_SUN_DISTANCE': 1.0163335,\n",
       " 'ELLIPSOID': 'WGS84',\n",
       " 'GEOMETRIC_RMSE_MODEL': 7.397,\n",
       " 'GEOMETRIC_RMSE_MODEL_X': 4.717,\n",
       " 'GEOMETRIC_RMSE_MODEL_Y': 5.698,\n",
       " 'GEOMETRIC_RMSE_VERIFY': 4.466,\n",
       " 'GRID_CELL_SIZE_REFLECTIVE': 30,\n",
       " 'GRID_CELL_SIZE_THERMAL': 30,\n",
       " 'GROUND_CONTROL_POINTS_MODEL': 489,\n",
       " 'GROUND_CONTROL_POINTS_VERIFY': 134,\n",
       " 'GROUND_CONTROL_POINTS_VERSION': 5,\n",
       " 'IMAGE_DATE': '2019-06-22',\n",
       " 'IMAGE_QUALITY_OLI': 9,\n",
       " 'IMAGE_QUALITY_TIRS': 9,\n",
       " 'L1_DATE_PRODUCT_GENERATED': '2020-08-27T18:43:15Z',\n",
       " 'L1_LANDSAT_PRODUCT_ID': 'LC08_L1TP_090084_20190622_20200827_02_T1',\n",
       " 'L1_PROCESSING_LEVEL': 'L1TP',\n",
       " 'L1_PROCESSING_SOFTWARE_VERSION': 'LPGS_15.3.1c',\n",
       " 'L1_REQUEST_ID': 'L2',\n",
       " 'LANDSAT_PRODUCT_ID': 'LC08_L2SP_090084_20190622_20200827_02_T1',\n",
       " 'LANDSAT_SCENE_ID': 'LC80900842019173LGN00',\n",
       " 'MAP_PROJECTION': 'UTM',\n",
       " 'NADIR_OFFNADIR': 'NADIR',\n",
       " 'NOMINAL_SCALE': 30,\n",
       " 'ORIENTATION': 'NORTH_UP',\n",
       " 'PROCESSING_LEVEL': 'L2SP',\n",
       " 'PROCESSING_SOFTWARE_VERSION': 'LPGS_15.3.1c',\n",
       " 'REFLECTANCE_ADD_BAND_1': -0.2,\n",
       " 'REFLECTANCE_ADD_BAND_2': -0.2,\n",
       " 'REFLECTANCE_ADD_BAND_3': -0.2,\n",
       " 'REFLECTANCE_ADD_BAND_4': -0.2,\n",
       " 'REFLECTANCE_ADD_BAND_5': -0.2,\n",
       " 'REFLECTANCE_ADD_BAND_6': -0.2,\n",
       " 'REFLECTANCE_ADD_BAND_7': -0.2,\n",
       " 'REFLECTANCE_MULT_BAND_1': 2.75e-05,\n",
       " 'REFLECTANCE_MULT_BAND_2': 2.75e-05,\n",
       " 'REFLECTANCE_MULT_BAND_3': 2.75e-05,\n",
       " 'REFLECTANCE_MULT_BAND_4': 2.75e-05,\n",
       " 'REFLECTANCE_MULT_BAND_5': 2.75e-05,\n",
       " 'REFLECTANCE_MULT_BAND_6': 2.75e-05,\n",
       " 'REFLECTANCE_MULT_BAND_7': 2.75e-05,\n",
       " 'REFLECTIVE_LINES': 7951,\n",
       " 'REFLECTIVE_SAMPLES': 7911,\n",
       " 'REQUEST_ID': 'L2',\n",
       " 'ROLL_ANGLE': -0.001,\n",
       " 'SATURATION_BAND_1': 'N',\n",
       " 'SATURATION_BAND_2': 'N',\n",
       " 'SATURATION_BAND_3': 'N',\n",
       " 'SATURATION_BAND_4': 'N',\n",
       " 'SATURATION_BAND_5': 'N',\n",
       " 'SATURATION_BAND_6': 'Y',\n",
       " 'SATURATION_BAND_7': 'Y',\n",
       " 'SATURATION_BAND_8': 'N',\n",
       " 'SATURATION_BAND_9': 'N',\n",
       " 'SCENE_CENTER_TIME': '23:50:09.9958750Z',\n",
       " 'SENSOR_ID': 'OLI_TIRS',\n",
       " 'SPACECRAFT_ID': 'LANDSAT_8',\n",
       " 'STATION_ID': 'LGN',\n",
       " 'SUN_AZIMUTH': 33.30999211,\n",
       " 'SUN_ELEVATION': 23.97677572,\n",
       " 'TARGET_WRS_PATH': 90,\n",
       " 'TARGET_WRS_ROW': 84,\n",
       " 'TEMPERATURE_ADD_BAND_ST_B10': 149,\n",
       " 'TEMPERATURE_MAXIMUM_BAND_ST_B10': 372.999941,\n",
       " 'TEMPERATURE_MINIMUM_BAND_ST_B10': 149.003418,\n",
       " 'TEMPERATURE_MULT_BAND_ST_B10': 0.00341802,\n",
       " 'THERMAL_LINES': 7951,\n",
       " 'THERMAL_SAMPLES': 7911,\n",
       " 'TIRS_SSM_MODEL': 'FINAL',\n",
       " 'TIRS_SSM_POSITION_STATUS': 'ESTIMATED',\n",
       " 'TRUNCATION_OLI': 'UPPER',\n",
       " 'UTM_ZONE': 55,\n",
       " 'WRS_PATH': 90,\n",
       " 'WRS_ROW': 84,\n",
       " 'WRS_TYPE': 2,\n",
       " 'system:asset_size': '1037.193083 MB',\n",
       " 'system:band_names': ['SR_B1',\n",
       "  'SR_B2',\n",
       "  'SR_B3',\n",
       "  'SR_B4',\n",
       "  'SR_B5',\n",
       "  'SR_B6',\n",
       "  'SR_B7',\n",
       "  'SR_QA_AEROSOL',\n",
       "  'ST_B10',\n",
       "  'ST_ATRAN',\n",
       "  'ST_CDIST',\n",
       "  'ST_DRAD',\n",
       "  'ST_EMIS',\n",
       "  'ST_EMSD',\n",
       "  'ST_QA',\n",
       "  'ST_TRAD',\n",
       "  'ST_URAD',\n",
       "  'QA_PIXEL',\n",
       "  'QA_RADSAT'],\n",
       " 'system:id': 'LANDSAT/LC08/C02/T1_L2/LC08_090084_20190622',\n",
       " 'system:index': 'LC08_090084_20190622',\n",
       " 'system:time_end': '2019-06-22 23:50:09',\n",
       " 'system:time_start': '2019-06-22 23:50:09',\n",
       " 'system:version': 1629928535951828}"
      ]
     },
     "execution_count": 15,
     "metadata": {},
     "output_type": "execute_result"
    }
   ],
   "source": [
    "gmap.image_props(cloudy).getInfo()"
   ]
  },
  {
   "cell_type": "markdown",
   "metadata": {},
   "source": [
    "<div class=\"alert alert-block alert-danger\">\n",
    "\n",
    "Based on the metadata above, can you tell if this is a Collection 1 or Collection 2 image?\n",
    "</div>\n"
   ]
  },
  {
   "cell_type": "markdown",
   "metadata": {},
   "source": [
    "There are several ways to remove clouds from satellite images, but for now, you must know that (*most*) Landsat images has a pixel quality band called `pixel_qa` or `QA_PIXEL`.\n",
    "\n",
    "**GEE TIP:** again, be mindful of the image(s) you're loading; for example, Landsat 4,5, and 7 will have different coefficients to Landsat 8 and 9. If you get any errors in applying coulds filtering, inspect the metadata to search for the information on the image you are downloading and adjust your code accordingly."
   ]
  },
  {
   "cell_type": "markdown",
   "metadata": {},
   "source": [
    "You can learn more about the differnt Landsat processing levels [here](https://www.usgs.gov/landsat-missions/landsat-collection-2), and about the contents of the `pixel_qa` band [here](https://www.usgs.gov/landsat-missions/landsat-collection-2-quality-assessment-bands)\n",
    "\n",
    "Ok, let's try to remove the clouds from the `cloudy` and the `clear` images. To do that, we'll have to create a function, and then we'll apply that function to the images."
   ]
  },
  {
   "cell_type": "code",
   "execution_count": 16,
   "metadata": {
    "ExecuteTime": {
     "end_time": "2022-06-08T05:57:25.571327Z",
     "start_time": "2022-06-08T05:57:25.560360Z"
    },
    "scrolled": true
   },
   "outputs": [],
   "source": [
    "# This example demonstrates the use of the Landsat 8 Collection 2, Level 2\n",
    "# QA_PIXEL band (CFMask) to mask unwanted pixels.\n",
    "# First, we define a function to mask the clouds .\n",
    "\n",
    "def cloudMaskL8Collection2(image):\n",
    "  # Bit 0 - Fill\n",
    "  # Bit 1 - Dilated Cloud\n",
    "  # Bit 2 - Cirrus\n",
    "  # Bit 3 - Cloud\n",
    "  # Bit 4 - Cloud Shadow\n",
    "    qaMask = image.select('QA_PIXEL').bitwiseAnd(int('11111',2)).eq(0)\n",
    "#  QA_RADSAT.eq(0) = Valid data\n",
    "    saturationMask = image.select('QA_RADSAT').eq(0)\n",
    "\n",
    "  # Apply the scaling factors to the appropriate bands.\n",
    "    opticalBands = image.select('SR_B.').multiply(0.0000275).add(-0.2)\n",
    "    thermalBands = image.select('ST_B.*').multiply(0.00341802).add(149.0)\n",
    "\n",
    "  # Replace the original bands with the scaled ones and apply the masks.\n",
    "    return image.addBands(opticalBands, None, True) \\\n",
    "          .addBands(thermalBands, None, True) \\\n",
    "          .updateMask(qaMask) \\\n",
    "          .updateMask(saturationMask)"
   ]
  },
  {
   "cell_type": "markdown",
   "metadata": {},
   "source": [
    "Let's apply the function and display the images to see the result.\n",
    "\n",
    "Change the opacity of the images so you can see the differences more clearly."
   ]
  },
  {
   "cell_type": "code",
   "execution_count": 17,
   "metadata": {
    "ExecuteTime": {
     "end_time": "2022-06-08T05:57:28.757513Z",
     "start_time": "2022-06-08T05:57:25.575316Z"
    },
    "scrolled": true
   },
   "outputs": [
    {
     "data": {
      "application/vnd.jupyter.widget-view+json": {
       "model_id": "dfc84f15c39a48c58e52df214320c132",
       "version_major": 2,
       "version_minor": 0
      },
      "text/plain": [
       "Map(center=[-35.2041, 149.2721], controls=(WidgetControl(options=['position', 'transparent_bg'], widget=HBox(c…"
      ]
     },
     "metadata": {},
     "output_type": "display_data"
    }
   ],
   "source": [
    "Map2 = gmap.Map(center=[-35.2041, 149.2721], zoom=9)\n",
    "\n",
    "# Apply the function to the images\n",
    "clearMasked = cloudMaskL8Collection2(clearC2)\n",
    "cloudyMasked = cloudMaskL8Collection2(cloudy)\n",
    "\n",
    "# Display the results.\n",
    "Map2.addLayer(clearMasked, landsatC2_vis,'clearMasked')\n",
    "Map2.addLayer(cloudyMasked, landsatC2_vis,'cloudyMasked')\n",
    "Map2.addLayer(clearC2, landsatC2_vis, 'a clear Landsat 8 image')\n",
    "Map2.addLayer(cloudy, landsatC2_vis, 'a cloudy Landsat 8 image')\n",
    "\n",
    "Map2"
   ]
  },
  {
   "cell_type": "markdown",
   "metadata": {},
   "source": [
    "It's your turn to code.\n",
    "\n",
    "### <a name=\"ex2\"></a> Exercise 2 -  Create a cloud masking function for a Landsat 8 Collection 1 image. \n"
   ]
  },
  {
   "cell_type": "code",
   "execution_count": 18,
   "metadata": {
    "ExecuteTime": {
     "end_time": "2022-06-08T05:57:28.788434Z",
     "start_time": "2022-06-08T05:57:28.768488Z"
    },
    "scrolled": true
   },
   "outputs": [],
   "source": [
    "# Your code goes here.\n",
    "\n",
    "def cloudMaskL8Collection1(image):\n",
    "  \n",
    "    return "
   ]
  },
  {
   "cell_type": "code",
   "execution_count": 19,
   "metadata": {
    "ExecuteTime": {
     "end_time": "2022-06-08T05:57:29.787929Z",
     "start_time": "2022-06-08T05:57:28.794423Z"
    }
   },
   "outputs": [
    {
     "data": {
      "application/vnd.jupyter.widget-view+json": {
       "model_id": "f1973d65d1744f1f8f5b2bec310a0a25",
       "version_major": 2,
       "version_minor": 0
      },
      "text/plain": [
       "Map(center=[-35.2041, 149.2721], controls=(WidgetControl(options=['position', 'transparent_bg'], widget=HBox(c…"
      ]
     },
     "metadata": {},
     "output_type": "display_data"
    }
   ],
   "source": [
    "Map3 = gmap.Map(center=[-35.2041, 149.2721], zoom=9)\n",
    "\n",
    "\n",
    "\n",
    "Map3"
   ]
  },
  {
   "cell_type": "markdown",
   "metadata": {},
   "source": [
    "<a href=\"#ex2answer\">Answer to Exercise 2</a>"
   ]
  },
  {
   "cell_type": "markdown",
   "metadata": {},
   "source": [
    "***"
   ]
  },
  {
   "cell_type": "markdown",
   "metadata": {},
   "source": [
    "## Add multiple images at once (i.e. and Image Collection)"
   ]
  },
  {
   "cell_type": "markdown",
   "metadata": {},
   "source": [
    "We are now going to use the `ImageCollection` command to call the Landsat 8 image collection.\n",
    "\n",
    "This shows *all available* Landsat 8 images for all the globe. Under some circumstances this could be good, but we don't want (or need) all those images."
   ]
  },
  {
   "cell_type": "code",
   "execution_count": 22,
   "metadata": {
    "ExecuteTime": {
     "end_time": "2022-06-08T05:57:30.955495Z",
     "start_time": "2022-06-08T05:57:29.791870Z"
    }
   },
   "outputs": [
    {
     "data": {
      "application/vnd.jupyter.widget-view+json": {
       "model_id": "9edf7e79503c4720bd07e69d8ca3fb90",
       "version_major": 2,
       "version_minor": 0
      },
      "text/plain": [
       "Map(center=[-35.2041, 149.2721], controls=(WidgetControl(options=['position', 'transparent_bg'], widget=HBox(c…"
      ]
     },
     "metadata": {},
     "output_type": "display_data"
    }
   ],
   "source": [
    "Map4 = gmap.Map(center=[-35.2041, 149.2721], zoom=8)\n",
    "\n",
    "# Map the function over one year of data.\n",
    "collection = ee.ImageCollection('LANDSAT/LC08/C02/T1_L2')\n",
    "\n",
    "# Display the results.\n",
    "Map4.addLayer(collection, landsatC2_vis, 'collection')\n",
    "Map4"
   ]
  },
  {
   "attachments": {
    "2.2_ROI.PNG": {
     "image/png": "[encoded data removed]"
    }
   },
   "cell_type": "markdown",
   "metadata": {},
   "source": [
    "But we dont need *all* Landsat 8 images; we only want those directly above the ACT.\n",
    "Let's filter the image collection using a polygon (i.e. Region of Interest)\n",
    "\n",
    "You can create a ROI using the menus on the left of your map (see below), or you can upload your own vector file (not shown in this notebook).\n",
    "![2.2_ROI.PNG](attachment:2.2_ROI.PNG)\n",
    "\n",
    "Once we have a polygon, we need to extract its coordinates so we can tell GEE that we want *only the images that intersect that polygon*. We do that by using the `user_roi` command:"
   ]
  },
  {
   "cell_type": "code",
   "execution_count": 25,
   "metadata": {
    "ExecuteTime": {
     "end_time": "2022-06-08T05:58:03.767414Z",
     "start_time": "2022-06-08T05:58:03.491404Z"
    },
    "scrolled": true
   },
   "outputs": [],
   "source": [
    "Map4.user_roi.getInfo()\n",
    "# Note that this will be different for you because my polygon is not the same as yours.\n",
    "# Also note the 'BaseMap' you're using to create the polygon"
   ]
  },
  {
   "cell_type": "markdown",
   "metadata": {},
   "source": [
    "## Filter an image collection by location\n",
    "\n",
    "To filter the image, we use the `filterBounds` method in GEE. Read more [here](https://developers.google.com/earth-engine/apidocs/ee-imagecollection-filterbounds)"
   ]
  },
  {
   "cell_type": "code",
   "execution_count": 27,
   "metadata": {
    "ExecuteTime": {
     "end_time": "2022-06-08T05:58:09.318483Z",
     "start_time": "2022-06-08T05:58:07.229018Z"
    },
    "scrolled": true
   },
   "outputs": [],
   "source": [
    "Map5 = gmap.Map(center=[-35,149], zoom=8)\n",
    "\n",
    "# Filter the image collection to select only the images within the ROI boundaries\n",
    "filtered = collection.filterBounds(Map4.user_roi.getInfo())\n",
    "\n",
    "# Add all landsat 8 images to our map\n",
    "Map5.addLayer(filtered, landsatC2_vis, 'only images from the ACT')\n",
    "\n",
    "Map5"
   ]
  },
  {
   "cell_type": "code",
   "execution_count": null,
   "metadata": {
    "ExecuteTime": {
     "end_time": "2022-06-08T05:58:09.646746Z",
     "start_time": "2022-06-08T05:58:09.325160Z"
    },
    "scrolled": true
   },
   "outputs": [],
   "source": [
    "# we can see how many Landsat 8 images there are over the ACT:\n",
    "print(f'there are: {filtered.size().getInfo()} Landsat 8 images that intersect our ROI')"
   ]
  },
  {
   "cell_type": "markdown",
   "metadata": {},
   "source": [
    "Now let's use a point to filter the image collection:"
   ]
  },
  {
   "cell_type": "code",
   "execution_count": null,
   "metadata": {
    "ExecuteTime": {
     "end_time": "2022-06-08T05:58:11.278602Z",
     "start_time": "2022-06-08T05:58:09.650738Z"
    },
    "scrolled": true
   },
   "outputs": [],
   "source": [
    "Map5 = gmap.Map(center=[-35,149], zoom=8)\n",
    "\n",
    "# Create a point with set coordinates\n",
    "point = ee.Geometry.Point([149.158494, -35.156445])\n",
    "    \n",
    "# Filter the image collection to select only the images within the ROI boundaries\n",
    "filteredByPoint = collection.filterBounds(point)\n",
    "\n",
    "# Add all landsat 8 images to our map\n",
    "Map5.addLayer(filteredByPoint, {}, 'Landsat 8 images that intersect our point')\n",
    "Map5.addLayer(point,{},'The point')\n",
    "Map5"
   ]
  },
  {
   "cell_type": "markdown",
   "metadata": {},
   "source": [
    "***"
   ]
  },
  {
   "cell_type": "markdown",
   "metadata": {},
   "source": [
    "## Filter an image collection by date\n",
    "\n",
    "Similar to `filterBounds`, GEE has a `filterDate` method. Let's see it in action.\n",
    "You can learn more [here](https://developers.google.com/earth-engine/apidocs/ee-imagecollection-filterdate)"
   ]
  },
  {
   "cell_type": "code",
   "execution_count": null,
   "metadata": {
    "ExecuteTime": {
     "end_time": "2022-06-08T05:58:13.753442Z",
     "start_time": "2022-06-08T05:58:11.285818Z"
    },
    "scrolled": true
   },
   "outputs": [],
   "source": [
    "Map6 = gmap.Map(center=[-35,149], zoom=8)\n",
    "\n",
    "# Note we're still using the whole Landsat 8 collection from above, and\n",
    "# the same ROI.\n",
    "filteredByDate = collection \\\n",
    "                        .filterBounds(Map4.user_roi.getInfo()) \\\n",
    "                        .filterDate('2021', '2022')\n",
    "\n",
    "# we can see how many Landsat 8 images were collected :\n",
    "print(f'there are: {filteredByDate.size().getInfo()} Landsat 8 images over the ACT for 2019-2020')\n",
    "\n",
    "Map6.addLayer(filteredByDate, landsatC2_vis, 'Landsat 8 images over the ACT for 2019-2020')\n",
    "\n",
    "Map6"
   ]
  },
  {
   "cell_type": "markdown",
   "metadata": {},
   "source": [
    "But we can be much more specific than just giving the years, we can filter the image Collection using the years and months, or we can use specific dates.\n",
    "\n",
    "In the cells below, try using the following:\n",
    ">- `startDate = '2014-01'`,  `endDate = '2014-12'`, and\n",
    ">- `startDate = '2021-04-16'`,  `endDate = '2021-04-30'`"
   ]
  },
  {
   "cell_type": "code",
   "execution_count": null,
   "metadata": {
    "ExecuteTime": {
     "end_time": "2022-06-08T05:58:13.768906Z",
     "start_time": "2022-06-08T05:58:13.757433Z"
    },
    "scrolled": true
   },
   "outputs": [],
   "source": [
    "# Your code goes here.\n"
   ]
  },
  {
   "cell_type": "code",
   "execution_count": null,
   "metadata": {
    "ExecuteTime": {
     "end_time": "2022-06-08T05:58:13.800383Z",
     "start_time": "2022-06-08T05:58:13.772402Z"
    },
    "scrolled": true
   },
   "outputs": [],
   "source": [
    "# Your code goes here.\n"
   ]
  },
  {
   "cell_type": "markdown",
   "metadata": {},
   "source": [
    "***"
   ]
  },
  {
   "cell_type": "code",
   "execution_count": null,
   "metadata": {},
   "outputs": [],
   "source": []
  },
  {
   "cell_type": "markdown",
   "metadata": {},
   "source": [
    "## Put everything together\n",
    "\n",
    "It's time to put all the things we've learned together:\n",
    "\n",
    "1. Load a Landsat 8 image collection\n",
    "1. Filter the collection by any date,\n",
    "1. Filter the collection by location\n",
    "1. Remove the clouds of the image Collection, and add the masked collection to the map."
   ]
  },
  {
   "cell_type": "code",
   "execution_count": null,
   "metadata": {
    "ExecuteTime": {
     "end_time": "2022-06-08T06:03:25.178214Z",
     "start_time": "2022-06-08T06:03:23.928079Z"
    },
    "scrolled": true
   },
   "outputs": [],
   "source": [
    "Map6 = gmap.Map(center=[-35.2041, 149.2721], zoom=7)\n",
    "\n",
    "# Get the image collection\n",
    "actImages = (ee.ImageCollection('LANDSAT/LC08/C02/T1_L2')\n",
    "             # Filter by date \n",
    "             .filterDate('2021-01-10','2021-01-30') \\\n",
    "                # Filter by location                \n",
    "                .filterBounds(Map4.user_roi.getInfo()) \\\n",
    "                # Remove the clouds from the selected images\n",
    "                .map(cloudMaskL8Collection2) )\n",
    "\n",
    "# Display the results.\n",
    "Map6.addLayer(actImages, {'bands': ['SR_B4',  'SR_B3',  'SR_B2'], 'min': 0, 'max': 0.9},'ACT Images')\n",
    "Map6"
   ]
  },
  {
   "cell_type": "markdown",
   "metadata": {},
   "source": [
    "***"
   ]
  },
  {
   "cell_type": "markdown",
   "metadata": {},
   "source": [
    "## Summary\n",
    "\n",
    "In this notebook you have learned about:\n",
    "- Different Landsat collections, by loading images from Collection 1 and Collection 2. They're similar, but not exactly the same, so be mindful of which images/collections you're using. This **will** affect your code.\n",
    "- Single images and image collections. A single image is a single 'photo' of earth, while image collections are all the images taken by a single satellite, and processed to a certain quality.\n",
    "- Filtering images and image collections by date and location. You did this by using specific dates, specific months, or just the years you're interested in. You also drew polygons (regions of interest) and gathered the images that intersected those regions of interest."
   ]
  },
  {
   "cell_type": "markdown",
   "metadata": {},
   "source": [
    "***"
   ]
  },
  {
   "cell_type": "markdown",
   "metadata": {},
   "source": [
    "## References and useful readings\n",
    "\n",
    "- Chapters 12, 13, and 14 form the \"Earth Observation: Data, Processing and Applications\" book, Volume 1A: Data—Basics and Acquisition\". Available through Wattle, or  http://www.crcsi.com.au/earth-observation-series.\n",
    "- https://geemap.org/\n",
    "- http://dx.doi.org/10.1016/j.rse.2015.11.032\n",
    "- https://doi.org/10.3390/rs1030184\n",
    "- https://doi.org/10.1016/j.rse.2014.02.001\n",
    "- 10.1016/j.rse.2019.05.024 "
   ]
  },
  {
   "cell_type": "markdown",
   "metadata": {},
   "source": [
    "***\n",
    "\n",
    "## Additional information\n",
    "\n",
    "**Sources:** The code in this notebook as several sources, including:\n",
    "https://github.com/giswqs/geemap; \n",
    "\n",
    "**License:** Some of the code in this notebook was initially created by [Qiusheng Wu](https://github.com/giswqs), and has been modified by Nicolas Younes. The code in this notebook is licensed under a [Creative Commons Attribution 4.0 International License](https://creativecommons.org/licenses/by/4.0/), and an [MIT Licence](https://mit-license.org/). \n",
    "\n",
    "**Contact:** If you need assistance, please post a question on the ENGN3903 Wattle course forum\n",
    "\n",
    "**Last modified:** July 2022"
   ]
  },
  {
   "cell_type": "markdown",
   "metadata": {},
   "source": [
    "***"
   ]
  }
 ],
 "metadata": {
  "kernelspec": {
   "display_name": "Python 3 (ipykernel)",
   "language": "python",
   "name": "python3"
  },
  "language_info": {
   "codemirror_mode": {
    "name": "ipython",
    "version": 3
   },
   "file_extension": ".py",
   "mimetype": "text/x-python",
   "name": "python",
   "nbconvert_exporter": "python",
   "pygments_lexer": "ipython3",
   "version": "3.9.12"
  },
  "latex_envs": {
   "LaTeX_envs_menu_present": true,
   "autoclose": true,
   "autocomplete": true,
   "bibliofile": "biblio.bib",
   "cite_by": "apalike",
   "current_citInitial": 1,
   "eqLabelWithNumbers": true,
   "eqNumInitial": 1,
   "hotkeys": {
    "equation": "Ctrl-E",
    "itemize": "Ctrl-I"
   },
   "labels_anchors": false,
   "latex_user_defs": false,
   "report_style_numbering": false,
   "user_envs_cfg": false
  },
  "toc": {
   "base_numbering": 1,
   "nav_menu": {},
   "number_sections": true,
   "sideBar": true,
   "skip_h1_title": false,
   "title_cell": "Table of Contents",
   "title_sidebar": "Contents",
   "toc_cell": false,
   "toc_position": {
    "height": "calc(100% - 180px)",
    "left": "10px",
    "top": "150px",
    "width": "396.667px"
   },
   "toc_section_display": true,
   "toc_window_display": true
  },
  "varInspector": {
   "cols": {
    "lenName": 16,
    "lenType": 16,
    "lenVar": 40
   },
   "kernels_config": {
    "python": {
     "delete_cmd_postfix": "",
     "delete_cmd_prefix": "del ",
     "library": "var_list.py",
     "varRefreshCmd": "print(var_dic_list())"
    },
    "r": {
     "delete_cmd_postfix": ") ",
     "delete_cmd_prefix": "rm(",
     "library": "var_list.r",
     "varRefreshCmd": "cat(var_dic_list()) "
    }
   },
   "types_to_exclude": [
    "module",
    "function",
    "builtin_function_or_method",
    "instance",
    "_Feature"
   ],
   "window_display": false
  },
  "widgets": {
   "application/vnd.jupyter.widget-state+json": {
    "state": {},
    "version_major": 2,
    "version_minor": 0
   }
  }
 },
 "nbformat": 4,
 "nbformat_minor": 4
}
