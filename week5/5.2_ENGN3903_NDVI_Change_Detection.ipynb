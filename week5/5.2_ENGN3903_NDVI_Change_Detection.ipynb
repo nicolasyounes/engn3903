{
 "cells": [
  {
   "cell_type": "markdown",
   "id": "a26f18a7",
   "metadata": {},
   "source": [
    "## Description\n",
    "Many earth observation datasets are available at regular intervals over long periods of time. This enables us to detect changes on the Earth’s surface. In this session, you will learn how to apply change detection technique in remote sensing used to create NDVI change detection maps. \n",
    "\n",
    "## Aims of the practical session\n",
    "* Create ROI and load it\n",
    "* Collect images \n",
    "* Calculate NDVI for before and after Image\n",
    "* Comparing two classified images to see the changes of NDVI during the time"
   ]
  },
  {
   "cell_type": "markdown",
   "id": "eaf3fa16",
   "metadata": {},
   "source": [
    "## Getting started"
   ]
  },
  {
   "cell_type": "markdown",
   "id": "cbe360ac",
   "metadata": {},
   "source": [
    "### Load packages\n",
    "\n",
    "Import GEE packages that are needed for the analysis."
   ]
  },
  {
   "cell_type": "code",
   "execution_count": 1,
   "id": "d0d5e4d7",
   "metadata": {},
   "outputs": [],
   "source": [
    "import ee\n",
    "import geemap\n",
    "# ee.Authenticate()"
   ]
  },
  {
   "cell_type": "markdown",
   "id": "eae84dc8",
   "metadata": {},
   "source": [
    "### Connect to Google Earth Engine (GEE)\n",
    "\n",
    "Connect to the GEE to have access computing tools and GEE datasets.\n",
    "You may be required to input your Google account for authorization."
   ]
  },
  {
   "cell_type": "code",
   "execution_count": 2,
   "id": "05956534",
   "metadata": {},
   "outputs": [
    {
     "data": {
      "application/vnd.jupyter.widget-view+json": {
       "model_id": "f83f4c6d5af64ca898f54506f28e0cef",
       "version_major": 2,
       "version_minor": 0
      },
      "text/plain": [
       "Map(center=[20, 0], controls=(WidgetControl(options=['position', 'transparent_bg'], widget=HBox(children=(Togg…"
      ]
     },
     "metadata": {},
     "output_type": "display_data"
    }
   ],
   "source": [
    "Map = geemap.Map()\n",
    "# Map.add_basemap('HYBRID')\n",
    "Map"
   ]
  },
  {
   "cell_type": "markdown",
   "id": "72146f69",
   "metadata": {},
   "source": [
    "### Adding Region of Interest (ROI)\n",
    "\n",
    "Create ROI that we want to work on it and then add and display it on the GEE map.\n",
    "Import the downloaded shapefile for Canberra central from your computer path as ROI."
   ]
  },
  {
   "cell_type": "code",
   "execution_count": 3,
   "id": "c1e77b9f",
   "metadata": {},
   "outputs": [
    {
     "name": "stderr",
     "output_type": "stream",
     "text": [
      "C:\\Users\\Abolfazl\\Anaconda3\\envs\\gee\\lib\\site-packages\\geopandas\\io\\file.py:299: FutureWarning: pandas.Int64Index is deprecated and will be removed from pandas in a future version. Use pandas.Index with the appropriate dtype instead.\n",
      "  pd.Int64Index,\n"
     ]
    }
   ],
   "source": [
    "# # # load shapefile (ROI)\n",
    "shp_path = 'D:/GEE Tutorials/NOV21_ACT_LOC_POLYGON_shp/Canberra_central.shp'\n",
    "geometry = geemap.shp_to_ee(shp_path)\n",
    "Map.addLayer(geometry, {}, 'Canberra central SHP')\n",
    "Map.centerObject(geometry);"
   ]
  },
  {
   "cell_type": "markdown",
   "id": "4944db52",
   "metadata": {},
   "source": [
    "### Post Image collection \n",
    "An ImageCollection is a stack or sequence of images. An ImageCollection can be loaded by pasting an Earth Engine asset ID into the ImageCollection constructor. You can find ImageCollection IDs in the <a href=\"https://developers.google.com/earth-engine/datasets\">data catalog</a>. \n",
    "\n",
    "We will:\n",
    "* Load post Sentinel-2 images for the anlysis\n",
    "* Filter a collection by date range\n",
    "* Select bands\n",
    "* Clip based on geometry\n",
    "* Visualize Image"
   ]
  },
  {
   "cell_type": "code",
   "execution_count": 4,
   "id": "7e8c440c",
   "metadata": {},
   "outputs": [
    {
     "name": "stdout",
     "output_type": "stream",
     "text": [
      "49\n"
     ]
    }
   ],
   "source": [
    "#Import Post-Event Imagery\n",
    "imagePo = ee.ImageCollection('COPERNICUS/S2') \\\n",
    "  .filter(ee.Filter.lt('CLOUDY_PIXEL_PERCENTAGE', 10)) \\\n",
    "  .filterDate('2021-01-01', '2021-12-31') \\\n",
    "  .filterBounds(geometry) \\\n",
    "  .select('B.*')\n",
    "\n",
    "print(imagePo.size().getInfo());"
   ]
  },
  {
   "cell_type": "code",
   "execution_count": 5,
   "id": "dcbe85ce",
   "metadata": {},
   "outputs": [
    {
     "data": {
      "application/vnd.jupyter.widget-view+json": {
       "model_id": "f83f4c6d5af64ca898f54506f28e0cef",
       "version_major": 2,
       "version_minor": 0
      },
      "text/plain": [
       "Map(bottom=158764.0, center=[-35.17380831799957, 149.06250000000003], controls=(WidgetControl(options=['positi…"
      ]
     },
     "metadata": {},
     "output_type": "display_data"
    }
   ],
   "source": [
    "# # # Visualize Image\n",
    "vis_params = {'min': 0, 'max': 3000, 'bands': ['B4', 'B3', 'B2']}\n",
    "\n",
    "Map.addLayer(imagePo.median().clip(geometry), vis_params, 'Sent-2 After Image' );\n",
    "Map"
   ]
  },
  {
   "cell_type": "markdown",
   "id": "e30f5ed7",
   "metadata": {},
   "source": [
    "### Calculate NDVI time-series for post image\n",
    "The purpose of this part is to calculate time series NDVI on remotely sensed data. The NDVI is a vegetation index that describes the difference between visible and near-infrared reflectance of vegetation cover and can be used to estimate the density of green on an area of land.\n",
    "\n",
    "We will:\n",
    "* Define a function to calculate NDVI\n",
    "* Perform time series of the study area based on post imagery\n",
    "* Clip based on geometry\n",
    "* Map the results"
   ]
  },
  {
   "cell_type": "markdown",
   "id": "2b238a21",
   "metadata": {},
   "source": [
    "### Create post-NDVI map"
   ]
  },
  {
   "cell_type": "code",
   "execution_count": 6,
   "id": "d7517493",
   "metadata": {},
   "outputs": [],
   "source": [
    "#Create Post-NDVI Map\n",
    "\n",
    "def func_ndvipo(img):\n",
    "  index = img.normalizedDifference(['B8', 'B4'])\n",
    "  clip = index.clip(geometry);#for more regions is not necessary\n",
    "  return clip.rename('Ndvi').copyProperties(img,['system:time_start','system:time_end'])\n",
    "\n",
    "ndviPo = imagePo.map(func_ndvipo);"
   ]
  },
  {
   "cell_type": "code",
   "execution_count": 7,
   "id": "bb1e8b11",
   "metadata": {},
   "outputs": [],
   "source": [
    "# mean value composite for Before image(calculate mean value of ndvi in every pixel)\n",
    "mvcPo = ndviPo.mean();"
   ]
  },
  {
   "cell_type": "code",
   "execution_count": 8,
   "id": "3042b419",
   "metadata": {},
   "outputs": [
    {
     "data": {
      "application/vnd.jupyter.widget-view+json": {
       "model_id": "f83f4c6d5af64ca898f54506f28e0cef",
       "version_major": 2,
       "version_minor": 0
      },
      "text/plain": [
       "Map(bottom=158764.0, center=[-35.17380831799957, 149.06250000000003], controls=(WidgetControl(options=['positi…"
      ]
     },
     "metadata": {},
     "output_type": "display_data"
    }
   ],
   "source": [
    "Map.addLayer(mvcPo, {min: -1, max: 1, 'palette': ['white', 'red']}, 'NDVI After Event');\n",
    "Map"
   ]
  },
  {
   "cell_type": "code",
   "execution_count": 9,
   "id": "0d76cf86",
   "metadata": {},
   "outputs": [],
   "source": [
    "#print(mvcPo.getInfo())"
   ]
  },
  {
   "cell_type": "markdown",
   "id": "9833f66e",
   "metadata": {},
   "source": [
    "### Create chart for post image\n",
    "We can use ipygee to generate a chart of the NDVI variation in the analysis period for any point in the ROI:"
   ]
  },
  {
   "cell_type": "code",
   "execution_count": 10,
   "id": "35c224a5",
   "metadata": {},
   "outputs": [
    {
     "data": {
      "application/vnd.jupyter.widget-view+json": {
       "model_id": "3f4ac056bd2b47729980a2590401c654",
       "version_major": 2,
       "version_minor": 0
      },
      "text/plain": [
       "HTML(value='<embed src=data:image/svg+xml;charset=utf-8;base64,PD94bWwgdmVyc2lvbj0nMS4wJyBlbmNvZGluZz0ndXRmLTg…"
      ]
     },
     "metadata": {},
     "output_type": "display_data"
    }
   ],
   "source": [
    "from ipygee import chart\n",
    "\n",
    "ndviPo = chart.Image.series(**{\n",
    "    'imageCollection': ndviPo,\n",
    "    'region': geometry,\n",
    "    'reducer': ee.Reducer.mean(),\n",
    "    'scale': 10,\n",
    "    'xProperty': 'system:time_start'})\n",
    "ndviPo.renderWidget(width='100%')"
   ]
  },
  {
   "cell_type": "code",
   "execution_count": 11,
   "id": "b91188ed",
   "metadata": {},
   "outputs": [],
   "source": [
    "# # # create chart for post image\n",
    "# chartPo = ui.Chart.image.series(\n",
    "#   ndviPo,table, ee.Reducer.median(),10,'system:time_start'\n",
    "# ).setChartType('ScatterChart') \\\n",
    "# .setOptions({\n",
    "#   'title' : 'Ndvi changes over a year',\n",
    "#    'vAxis':  {title: 'Ndvi values'},\n",
    "#    'hAxis':  {title: 'Date'},\n",
    "#   'lineWidth' : 1,\n",
    "#   'pointSize' : 2,\n",
    "#   'series' : {\n",
    "#      '0':  {color: 'red'}\n",
    "#   }\n",
    "# })\n",
    "\n",
    "# print(chartPo)"
   ]
  },
  {
   "cell_type": "markdown",
   "id": "45a43b58",
   "metadata": {},
   "source": [
    "### Pre Image collection \n",
    "\n",
    "We will:\n",
    "* Load pre Sentinel-2 images for the anlysis\n",
    "* Filter a collection by date range\n",
    "* Select bands\n",
    "* Clip based on geometry\n",
    "* Visualize Image"
   ]
  },
  {
   "cell_type": "code",
   "execution_count": 12,
   "id": "a34b5744",
   "metadata": {},
   "outputs": [
    {
     "name": "stdout",
     "output_type": "stream",
     "text": [
      "34\n"
     ]
    }
   ],
   "source": [
    "#Import Pre-Event Imagery\n",
    "imagePre = ee.ImageCollection('COPERNICUS/S2') \\\n",
    "  .filter(ee.Filter.lt('CLOUDY_PIXEL_PERCENTAGE', 10)) \\\n",
    "  .filterDate('2017-01-01', '2017-12-31') \\\n",
    "  .filterBounds(geometry) \\\n",
    "  .select('B.*')\n",
    "\n",
    "print(imagePre.size().getInfo())"
   ]
  },
  {
   "cell_type": "code",
   "execution_count": 13,
   "id": "f1607f14",
   "metadata": {},
   "outputs": [
    {
     "data": {
      "application/vnd.jupyter.widget-view+json": {
       "model_id": "f83f4c6d5af64ca898f54506f28e0cef",
       "version_major": 2,
       "version_minor": 0
      },
      "text/plain": [
       "Map(bottom=158764.0, center=[-35.17380831799957, 149.06250000000003], controls=(WidgetControl(options=['positi…"
      ]
     },
     "metadata": {},
     "output_type": "display_data"
    }
   ],
   "source": [
    "# # # Visualize Image\n",
    "vis_params = {'min': 0, 'max': 3000, 'bands': ['B4', 'B3', 'B2']}\n",
    "\n",
    "Map.addLayer(imagePre.median().clip(geometry), vis_params, 'Sent-2 Before Image' );\n",
    "Map"
   ]
  },
  {
   "cell_type": "markdown",
   "id": "a28d2403",
   "metadata": {},
   "source": [
    "### Calculate NDVI time-series for pre image\n",
    "\n",
    "We will:\n",
    "* Define a function to calculate NDVI\n",
    "* Perform time series of the study area based on pre imagery\n",
    "* Clip based on geometry\n",
    "* Map the results"
   ]
  },
  {
   "cell_type": "code",
   "execution_count": 14,
   "id": "1af7a84a",
   "metadata": {},
   "outputs": [],
   "source": [
    "#Create pre-NDVI Map\n",
    "\n",
    "def func_ndvipre(img):\n",
    "  index = img.normalizedDifference(['B8', 'B4'])\n",
    "  clip = index.clip(geometry);#for more regions is not necessary\n",
    "  return clip.rename('Ndvi').copyProperties(img,['system:time_start','system:time_end'])\n",
    "\n",
    "ndviPre = imagePre.map(func_ndvipre)"
   ]
  },
  {
   "cell_type": "code",
   "execution_count": 15,
   "id": "791ab5b9",
   "metadata": {},
   "outputs": [],
   "source": [
    "# mean value composite for Before image(calculate mean value of ndvi in every pixel)\n",
    "mvcPre = ndviPre.mean();"
   ]
  },
  {
   "cell_type": "code",
   "execution_count": 16,
   "id": "67bcd980",
   "metadata": {},
   "outputs": [
    {
     "data": {
      "application/vnd.jupyter.widget-view+json": {
       "model_id": "f83f4c6d5af64ca898f54506f28e0cef",
       "version_major": 2,
       "version_minor": 0
      },
      "text/plain": [
       "Map(bottom=158764.0, center=[-35.17380831799957, 149.06250000000003], controls=(WidgetControl(options=['positi…"
      ]
     },
     "metadata": {},
     "output_type": "display_data"
    }
   ],
   "source": [
    "Map.addLayer(mvcPre, {min: -1, max: 1, 'palette': ['white', 'red']}, 'NDVI Before Event');\n",
    "Map"
   ]
  },
  {
   "cell_type": "markdown",
   "id": "cc09e922",
   "metadata": {},
   "source": [
    "### Create chart for pre image\n",
    "We can use ipygee to generate a chart of the NDVI variation in the analysis period for any point in the ROI:"
   ]
  },
  {
   "cell_type": "code",
   "execution_count": 17,
   "id": "e544eb59",
   "metadata": {},
   "outputs": [
    {
     "data": {
      "application/vnd.jupyter.widget-view+json": {
       "model_id": "b5171eb5f9b1456e9538b69620ffb7d5",
       "version_major": 2,
       "version_minor": 0
      },
      "text/plain": [
       "HTML(value='<embed src=data:image/svg+xml;charset=utf-8;base64,PD94bWwgdmVyc2lvbj0nMS4wJyBlbmNvZGluZz0ndXRmLTg…"
      ]
     },
     "metadata": {},
     "output_type": "display_data"
    }
   ],
   "source": [
    "from ipygee import chart\n",
    "\n",
    "ndviPre = chart.Image.series(**{\n",
    "    'imageCollection': ndviPre,\n",
    "    'region': geometry,\n",
    "    'reducer': ee.Reducer.mean(),\n",
    "    'scale': 10,\n",
    "    'xProperty': 'system:time_start'})\n",
    "ndviPre.renderWidget(width='100%')"
   ]
  },
  {
   "cell_type": "code",
   "execution_count": 18,
   "id": "72a5f6c2",
   "metadata": {},
   "outputs": [],
   "source": [
    "# # # \n",
    "# chartPre = ui.Chart.image.series(\n",
    "#   ndviPre,table, ee.Reducer.median(),10,'system:time_start'\n",
    "# ).setChartType('ScatterChart') \\\n",
    "# .setOptions({\n",
    "#   'title' : 'Ndvi changes over a year',\n",
    "#    'vAxis':  {title: 'Ndvi values'},\n",
    "#    'hAxis':  {title: 'Date'},\n",
    "#   'lineWidth' : 1,\n",
    "#   'pointSize' : 2,\n",
    "#   'series' : {\n",
    "#      '0':  {color: 'red'}\n",
    "#   }\n",
    "# })\n",
    "\n",
    "# print(chartPre)"
   ]
  },
  {
   "cell_type": "markdown",
   "id": "0f638bd2",
   "metadata": {},
   "source": [
    "### <a name=\"ex3\"></a> Challenge\n",
    "\n",
    "<div class=\"alert alert-block alert-danger\">\n",
    "\n",
    "- Try to improve the NDVI plots by setting options like changing xlabel/ylabel, select good title, change font/font size etc.\n",
    "    \n",
    "    \n",
    "</div>    "
   ]
  },
  {
   "cell_type": "markdown",
   "id": "4cdd3a09",
   "metadata": {},
   "source": [
    "### Create NDVI Difference Map\n",
    "Here, we apply codes to create NDVI difference map based on pre and post results.\n",
    "We will: \n",
    "* Create NDVI Difference Map\n",
    "* show differences\n",
    "* Map diff results"
   ]
  },
  {
   "cell_type": "code",
   "execution_count": 19,
   "id": "f251a621",
   "metadata": {},
   "outputs": [],
   "source": [
    "# # # Create NDVI Difference Map\n",
    "diff = mvcPo.subtract(mvcPre);\n",
    "#print(diff.getInfo())"
   ]
  },
  {
   "cell_type": "code",
   "execution_count": 20,
   "id": "e1934d43",
   "metadata": {},
   "outputs": [
    {
     "data": {
      "application/vnd.jupyter.widget-view+json": {
       "model_id": "f83f4c6d5af64ca898f54506f28e0cef",
       "version_major": 2,
       "version_minor": 0
      },
      "text/plain": [
       "Map(bottom=158764.0, center=[-35.17380831799957, 149.06250000000003], controls=(WidgetControl(options=['positi…"
      ]
     },
     "metadata": {},
     "output_type": "display_data"
    }
   ],
   "source": [
    "Map.addLayer(diff,\n",
    "            {min: -2, max: 2, 'palette': ['white', 'red']},\n",
    "            'NDVI Difference');\n",
    "Map"
   ]
  },
  {
   "cell_type": "markdown",
   "id": "787e861f",
   "metadata": {},
   "source": [
    "### Export the result\n",
    "Export the result directly to your computer"
   ]
  },
  {
   "cell_type": "code",
   "execution_count": 21,
   "id": "76d352c9",
   "metadata": {},
   "outputs": [],
   "source": [
    "# # # Export the result\n",
    "import os\n",
    "\n",
    "out_dir = os.path.join(os.path.expanduser('~'), 'Downloads')\n",
    "out_file = os.path.join(out_dir, 'NDVI_Diff.tif')"
   ]
  },
  {
   "cell_type": "code",
   "execution_count": 22,
   "id": "a5cabe7d",
   "metadata": {},
   "outputs": [],
   "source": [
    "diffClip = diff.clipToBoundsAndScale(**{\n",
    "  'geometry': geometry,\n",
    "  'scale': 10,  # meters\n",
    "})"
   ]
  },
  {
   "cell_type": "code",
   "execution_count": 114,
   "id": "0aa1a586",
   "metadata": {},
   "outputs": [
    {
     "name": "stdout",
     "output_type": "stream",
     "text": [
      "Generating URL ...\n",
      "Downloading data from https://earthengine.googleapis.com/v1alpha/projects/earthengine-legacy/thumbnails/1935ab6f99068682bc0d5891036fd04e-d182bfd0c900114970fd4180acd29c58:getPixels\n",
      "Please wait ...\n",
      "Data downloaded to C:\\Users\\Abolfazl\\Downloads\\NDVI_Diff.tif\n"
     ]
    }
   ],
   "source": [
    "geemap.ee_export_image(diffClip, filename=out_file)"
   ]
  },
  {
   "cell_type": "markdown",
   "id": "c17cfb64",
   "metadata": {},
   "source": [
    "<span style='background:yellow'> <span style=\"font-size:16.0pt\"> Exercise  </span>\n",
    "\n",
    "### Exercise 1 - NDVI change detection on other datasets\n",
    "Try to use image collection to load Landsat-8 images and calculate NDVI for pre and post-events, and show the differences. \n",
    "\n",
    "#### Then try to check the following exercises:\n",
    "* What are the differences between NDVI for Sentinel-2 and Landsat-8?\n",
    "* Is the results of NDVI varied?\n",
    "* How is the change detection map based on NDVI of Landsat-8?\n",
    "* Show the differences between two different data. \n",
    "* How spatially different the change detection maps of two different data?"
   ]
  },
  {
   "cell_type": "markdown",
   "id": "f9fde667",
   "metadata": {},
   "source": [
    "## References\n",
    "This is where the references go. For exmaple:\n",
    "\n",
    "* Wu, Q., (2020). geemap: A Python package for interactive mapping with Google Earth Engine. The Journal of Open Source Software, 5(51), 2305. https://doi.org/10.21105/joss.02305\n",
    "* \"Earth Observation: Data, Processing and Applications\" book. Available through Wattle, or http://www.crcsi.com.au/earth-observation-series."
   ]
  },
  {
   "cell_type": "markdown",
   "id": "a703a232",
   "metadata": {},
   "source": [
    "## Additional information\n",
    "\n",
    "**License:** The code in this notebook was initially created by the team at [Digital Earth Australia](https://github.com/GeoscienceAustralia/dea-notebooks), and has been modified by Abolfazl Abdollahi. The code in this notebook is licensed under the [Apache License, Version 2.0](https://www.apache.org/licenses/LICENSE-2.0). \n",
    "\n",
    "**Contact:** If you need assistance, please post a question on the ENGN3903 Wattle site.\n",
    "\n",
    "**Last modified:** June 2022"
   ]
  },
  {
   "cell_type": "markdown",
   "id": "513bdae6",
   "metadata": {},
   "source": [
    "### Exercise answers"
   ]
  },
  {
   "cell_type": "markdown",
   "id": "af4151cc",
   "metadata": {},
   "source": [
    "<a name=\"ex1answer\">Answer to Exercise 1</a>"
   ]
  },
  {
   "cell_type": "code",
   "execution_count": 27,
   "id": "abfbc3e2",
   "metadata": {},
   "outputs": [],
   "source": [
    "# # # Make a cloud-free Landsat 8 TOA composite (Before imagery).\n",
    "# landsatPre = ee.ImageCollection('LANDSAT/LC08/C01/T1') \\\n",
    "#     .filterDate('2018-01-01', '2018-12-31')\\\n",
    "#     .filterBounds(geometry) \\\n",
    "\n",
    "\n",
    "\n",
    "# vis_params = {'min': 0, 'max': 3000, 'bands': ['B5', 'B4', 'B3']}\n",
    "\n",
    "# # Map.centerObject(point, 8)\n",
    "# Map.addLayer(landsatPre.median().clip(geometry), vis_params, \"Landsat-8\")\n",
    "# Map"
   ]
  },
  {
   "cell_type": "code",
   "execution_count": 21,
   "id": "68c23d69",
   "metadata": {},
   "outputs": [],
   "source": [
    "#print(landsatPre.getInfo());"
   ]
  },
  {
   "cell_type": "code",
   "execution_count": 22,
   "id": "7a9562e1",
   "metadata": {},
   "outputs": [],
   "source": [
    "# # # # Use these bands for prediction.\n",
    "# bands = ['B2', 'B3', 'B4', 'B5', 'B6', 'B7', 'B10', 'B11']"
   ]
  },
  {
   "cell_type": "code",
   "execution_count": 23,
   "id": "96804608",
   "metadata": {},
   "outputs": [],
   "source": [
    "# #Create Pre-NDVI Map\n",
    "# compositePre = landsatPre.select(bands)\n",
    "\n",
    "# def func_ndvipre(img):\n",
    "#   index = img.normalizedDifference(['B5', 'B4'])\n",
    "#   clip = index.clip(geometry);#for more regions is not necessary\n",
    "#   return clip.rename('Ndvi').copyProperties(img,['system:time_start','system:time_end'])\n",
    "\n",
    "# ndviPre = compositePre.map(func_ndvipre);"
   ]
  },
  {
   "cell_type": "code",
   "execution_count": 24,
   "id": "634cb900",
   "metadata": {},
   "outputs": [],
   "source": [
    "# # maximum value composite for Before image(calculate maximum value of ndvi in every pixel)\n",
    "# mvcPre = ndviPre.max();"
   ]
  },
  {
   "cell_type": "code",
   "execution_count": 26,
   "id": "ad7a2ddb",
   "metadata": {},
   "outputs": [],
   "source": [
    "# Map.addLayer(mvcPre, {min: -1, max: 1, 'palette': ['white', 'red']}, 'NDVI Before Event');\n",
    "# Map"
   ]
  },
  {
   "cell_type": "markdown",
   "id": "78fa0048",
   "metadata": {},
   "source": [
    "### <a name=\"ex3\"></a> Challenge\n",
    "\n",
    "<div class=\"alert alert-block alert-danger\">\n",
    "\n",
    "- Need to also calculate NDVI for post image and then map the changes.\n",
    "    \n",
    "    \n",
    "</div> "
   ]
  },
  {
   "cell_type": "code",
   "execution_count": null,
   "id": "c88584e0",
   "metadata": {},
   "outputs": [],
   "source": []
  }
 ],
 "metadata": {
  "kernelspec": {
   "display_name": "Python 3 (ipykernel)",
   "language": "python",
   "name": "python3"
  },
  "language_info": {
   "codemirror_mode": {
    "name": "ipython",
    "version": 3
   },
   "file_extension": ".py",
   "mimetype": "text/x-python",
   "name": "python",
   "nbconvert_exporter": "python",
   "pygments_lexer": "ipython3",
   "version": "3.8.13"
  }
 },
 "nbformat": 4,
 "nbformat_minor": 5
}
