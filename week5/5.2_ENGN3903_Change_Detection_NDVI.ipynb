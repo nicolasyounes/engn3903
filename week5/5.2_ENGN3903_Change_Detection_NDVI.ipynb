{
 "cells": [
  {
   "cell_type": "markdown",
   "id": "4329ad91",
   "metadata": {},
   "source": [
    "# NDVI Change Detection\n",
    "\n",
    "\n",
    "- **Special requirements:** A Google account, access to Google Earth Engine.\n",
    "\n",
    "- **Prerequisites:** You should have completed the \"Week 4 - Prac 1\" and \"Week 5 - Prac 1\" notebooks."
   ]
  },
  {
   "cell_type": "markdown",
   "id": "a26f18a7",
   "metadata": {},
   "source": [
    "## Description\n",
    "Many earth observation datasets are available at regular intervals over long periods of time. This enables us to detect changes on the Earth’s surface. In this session, you will learn how to apply change detection technique in remote sensing used to create NDVI change detection maps. \n",
    "\n",
    "## Aims of the practical session\n",
    "* Create ROI and load it\n",
    "* Collect images \n",
    "* Calculate NDVI for before and after Image\n",
    "* Comparing two classified images to see the changes of NDVI during the time"
   ]
  },
  {
   "cell_type": "markdown",
   "id": "eaf3fa16",
   "metadata": {},
   "source": [
    "## Getting started"
   ]
  },
  {
   "cell_type": "markdown",
   "id": "cbe360ac",
   "metadata": {},
   "source": [
    "### Load packages\n",
    "\n",
    "Import GEE packages that are needed for the analysis."
   ]
  },
  {
   "cell_type": "code",
   "execution_count": 1,
   "id": "d0d5e4d7",
   "metadata": {},
   "outputs": [],
   "source": [
    "import ee\n",
    "import geemap\n",
    "# ee.Authenticate()"
   ]
  },
  {
   "cell_type": "markdown",
   "id": "eae84dc8",
   "metadata": {},
   "source": [
    "### Connect to Google Earth Engine (GEE)\n",
    "\n",
    "Connect to the GEE to have access computing tools and GEE datasets.\n",
    "You may be required to input your Google account for authorization."
   ]
  },
  {
   "cell_type": "code",
   "execution_count": 2,
   "id": "05956534",
   "metadata": {},
   "outputs": [
    {
     "data": {
      "application/vnd.jupyter.widget-view+json": {
       "model_id": "46658970635c4093a3980c2abc4ae5c1",
       "version_major": 2,
       "version_minor": 0
      },
      "text/plain": [
       "Map(center=[20, 0], controls=(WidgetControl(options=['position', 'transparent_bg'], widget=HBox(children=(Togg…"
      ]
     },
     "metadata": {},
     "output_type": "display_data"
    }
   ],
   "source": [
    "Map = geemap.Map()\n",
    "# Map.add_basemap('HYBRID')\n",
    "Map.addLayerControl()\n",
    "\n",
    "Map"
   ]
  },
  {
   "cell_type": "markdown",
   "id": "72146f69",
   "metadata": {},
   "source": [
    "### Adding Region of Interest (ROI)\n",
    "\n",
    "Create ROI that we want to work on it and then add and display it on the GEE map.\n",
    "Import the downloaded shapefile for Canberra central from your computer path as ROI."
   ]
  },
  {
   "cell_type": "code",
   "execution_count": 3,
   "id": "c1e77b9f",
   "metadata": {},
   "outputs": [],
   "source": [
    "# # # load shapefile (ROI)\n",
    "shp_path = 'C:/UserData/abdollaa/OneDrive - Australian National University/Tutorials/GEE/NOV21_ACT_LOC_POLYGON_shp/Canberra_central.shp'\n",
    "geometry = geemap.shp_to_ee(shp_path)\n",
    "Map.addLayer(geometry, {}, 'Canberra central SHP')\n",
    "Map.centerObject(geometry);"
   ]
  },
  {
   "cell_type": "markdown",
   "id": "4944db52",
   "metadata": {},
   "source": [
    "### Post Image collection \n",
    "An ImageCollection is a stack or sequence of images. An ImageCollection can be loaded by pasting an Earth Engine asset ID into the ImageCollection constructor. You can find ImageCollection IDs in the <a href=\"https://developers.google.com/earth-engine/datasets\">data catalog</a>. \n",
    "\n",
    "We will:\n",
    "* Load post Sentinel-2 images for the anlysis\n",
    "* Filter a collection by date range\n",
    "* Select bands\n",
    "* Clip based on geometry\n",
    "* Visualize Image"
   ]
  },
  {
   "cell_type": "code",
   "execution_count": 4,
   "id": "d831f87c",
   "metadata": {},
   "outputs": [],
   "source": [
    "# def maskS2clouds(image):\n",
    "#     qa = image.select('QA60')\n",
    "#     # Bits 10 and 11 are clouds and cirrus, respectively.\n",
    "#     cloudBitMask = 1 << 10\n",
    "#     cirrusBitMask = 1 << 11\n",
    "#     # Both flags should be set to zero, indicating clear conditions.\n",
    "#     mask = qa.bitwiseAnd(cloudBitMask).eq(0) \\\n",
    "#         .And(qa.bitwiseAnd(cirrusBitMask).eq(0))\n",
    "    \n",
    "#     return image.updateMask(mask).divide(10000) #re-scale "
   ]
  },
  {
   "cell_type": "code",
   "execution_count": 5,
   "id": "5f2a6109",
   "metadata": {},
   "outputs": [],
   "source": [
    "## collect before event images \n",
    "imagePo = (\n",
    "    ee.ImageCollection('COPERNICUS/S2')\n",
    "    .filterBounds(geometry)\n",
    "    .filterDate('2021-01-01', '2021-12-31') ### Note: you can try different dates\n",
    "    #.map(maskS2clouds) #map the cloudmasking/rescaling function\n",
    "    .filter(ee.Filter.lt('CLOUDY_PIXEL_PERCENTAGE', 10))  #filter the collection by the CLOUD_COVER property\n",
    "    .select('B.*')\n",
    ")"
   ]
  },
  {
   "cell_type": "code",
   "execution_count": 6,
   "id": "7e8c440c",
   "metadata": {},
   "outputs": [
    {
     "name": "stdout",
     "output_type": "stream",
     "text": [
      "49\n"
     ]
    }
   ],
   "source": [
    "print(imagePo.size().getInfo());"
   ]
  },
  {
   "cell_type": "code",
   "execution_count": 7,
   "id": "dcbe85ce",
   "metadata": {},
   "outputs": [
    {
     "data": {
      "application/vnd.jupyter.widget-view+json": {
       "model_id": "46658970635c4093a3980c2abc4ae5c1",
       "version_major": 2,
       "version_minor": 0
      },
      "text/plain": [
       "Map(center=[-35.28672794816286, 149.1314839394662], controls=(WidgetControl(options=['position', 'transparent_…"
      ]
     },
     "metadata": {},
     "output_type": "display_data"
    }
   ],
   "source": [
    "# # # Visualize Image\n",
    "vis_params = {'min': 0, 'max':  3000, 'bands': ['B4', 'B3', 'B2']}\n",
    "\n",
    "Map.addLayer(imagePo.median().clip(geometry), vis_params, 'Sent-2 After Image' );\n",
    "Map"
   ]
  },
  {
   "cell_type": "markdown",
   "id": "e30f5ed7",
   "metadata": {},
   "source": [
    "### Calculate NDVI time-series for post image\n",
    "The purpose of this part is to calculate time series NDVI on remotely sensed data. The NDVI is a vegetation index that describes the difference between visible and near-infrared reflectance of vegetation cover and can be used to estimate the density of green on an area of land.\n",
    "\n",
    "We will:\n",
    "* Define a function to calculate NDVI\n",
    "* Perform time series of the study area based on post imagery\n",
    "* Clip based on geometry\n",
    "* Map the results"
   ]
  },
  {
   "cell_type": "markdown",
   "id": "2b238a21",
   "metadata": {},
   "source": [
    "### Create post-NDVI map"
   ]
  },
  {
   "cell_type": "code",
   "execution_count": 8,
   "id": "d7517493",
   "metadata": {},
   "outputs": [],
   "source": [
    "#Create Post-NDVI Map\n",
    "\n",
    "def func_ndvipo(img):\n",
    "  index = img.normalizedDifference(['B8', 'B4'])\n",
    "  clip = index.clip(geometry);\n",
    "  return clip.rename('Ndvi').copyProperties(img,['system:time_start','system:time_end'])\n",
    "\n",
    "ndviPo = imagePo.map(func_ndvipo);"
   ]
  },
  {
   "cell_type": "code",
   "execution_count": 9,
   "id": "bb1e8b11",
   "metadata": {},
   "outputs": [],
   "source": [
    "# mean value composite for Before image(calculate mean value of ndvi in every pixel)\n",
    "mvcPo = ndviPo.mean();"
   ]
  },
  {
   "cell_type": "code",
   "execution_count": 10,
   "id": "3042b419",
   "metadata": {},
   "outputs": [
    {
     "data": {
      "application/vnd.jupyter.widget-view+json": {
       "model_id": "46658970635c4093a3980c2abc4ae5c1",
       "version_major": 2,
       "version_minor": 0
      },
      "text/plain": [
       "Map(center=[-35.28672794816286, 149.1314839394662], controls=(WidgetControl(options=['position', 'transparent_…"
      ]
     },
     "metadata": {},
     "output_type": "display_data"
    }
   ],
   "source": [
    "Map.addLayer(mvcPo, {min: -1, max: 1, 'palette': ['white', 'red']}, 'NDVI After Event');\n",
    "Map"
   ]
  },
  {
   "cell_type": "code",
   "execution_count": 11,
   "id": "0d76cf86",
   "metadata": {},
   "outputs": [],
   "source": [
    "#print(mvcPo.getInfo())"
   ]
  },
  {
   "cell_type": "markdown",
   "id": "9833f66e",
   "metadata": {},
   "source": [
    "### Create chart for post image\n",
    "We can use ipygee to generate a chart of the NDVI variation in the analysis period for any point in the ROI:"
   ]
  },
  {
   "cell_type": "code",
   "execution_count": 12,
   "id": "35c224a5",
   "metadata": {},
   "outputs": [
    {
     "data": {
      "application/vnd.jupyter.widget-view+json": {
       "model_id": "8fb04dbb1c3248d2bbe32c801ca10f1d",
       "version_major": 2,
       "version_minor": 0
      },
      "text/plain": [
       "HTML(value='<embed src=data:image/svg+xml;charset=utf-8;base64,PD94bWwgdmVyc2lvbj0nMS4wJyBlbmNvZGluZz0ndXRmLTg…"
      ]
     },
     "metadata": {},
     "output_type": "display_data"
    }
   ],
   "source": [
    "from ipygee import chart\n",
    "\n",
    "ndviPo = chart.Image.series(**{\n",
    "    'imageCollection': ndviPo,\n",
    "    'region': geometry,\n",
    "    'reducer': ee.Reducer.mean(),\n",
    "    'scale': 20,\n",
    "    'xProperty': 'system:time_start'})\n",
    "ndviPo.renderWidget(width='100%')"
   ]
  },
  {
   "cell_type": "markdown",
   "id": "45a43b58",
   "metadata": {},
   "source": [
    "### Pre Image collection \n",
    "\n",
    "We will:\n",
    "* Load pre Sentinel-2 images for the anlysis\n",
    "* Filter a collection by date range\n",
    "* Select bands\n",
    "* Clip based on geometry\n",
    "* Visualize Image"
   ]
  },
  {
   "cell_type": "code",
   "execution_count": 13,
   "id": "97a3540a",
   "metadata": {},
   "outputs": [
    {
     "name": "stdout",
     "output_type": "stream",
     "text": [
      "34\n"
     ]
    }
   ],
   "source": [
    "#Import Pre-Event Imagery\n",
    "imagePre = (\n",
    "    ee.ImageCollection('COPERNICUS/S2')\n",
    "    .filterBounds(geometry)\n",
    "    .filterDate('2017-01-01', '2017-12-31') ### Note: you can try different dates\n",
    "    #.map(maskS2clouds) #map the cloudmasking/rescaling function\n",
    "    .filter(ee.Filter.lt('CLOUDY_PIXEL_PERCENTAGE', 10)) \\\n",
    "    .select('B.*')\n",
    ")\n",
    "\n",
    "print(imagePre.size().getInfo())"
   ]
  },
  {
   "cell_type": "code",
   "execution_count": 14,
   "id": "f1607f14",
   "metadata": {},
   "outputs": [
    {
     "data": {
      "application/vnd.jupyter.widget-view+json": {
       "model_id": "46658970635c4093a3980c2abc4ae5c1",
       "version_major": 2,
       "version_minor": 0
      },
      "text/plain": [
       "Map(center=[-35.28672794816286, 149.1314839394662], controls=(WidgetControl(options=['position', 'transparent_…"
      ]
     },
     "metadata": {},
     "output_type": "display_data"
    }
   ],
   "source": [
    "# # # Visualize Image\n",
    "vis_params = {'min': 0, 'max': 3000, 'bands': ['B4', 'B3', 'B2']}\n",
    "\n",
    "Map.addLayer(imagePre.median().clip(geometry), vis_params, 'Sent-2 Before Image' );\n",
    "Map"
   ]
  },
  {
   "cell_type": "markdown",
   "id": "a28d2403",
   "metadata": {},
   "source": [
    "### Calculate NDVI time-series for pre image\n",
    "\n",
    "We will:\n",
    "* Define a function to calculate NDVI\n",
    "* Perform time series of the study area based on pre imagery\n",
    "* Clip based on geometry\n",
    "* Map the results"
   ]
  },
  {
   "cell_type": "code",
   "execution_count": 15,
   "id": "1af7a84a",
   "metadata": {},
   "outputs": [],
   "source": [
    "#Create pre-NDVI Map\n",
    "\n",
    "def func_ndvipre(img):\n",
    "  index = img.normalizedDifference(['B8', 'B4'])\n",
    "  clip = index.clip(geometry);#for more regions is not necessary\n",
    "  return clip.rename('Ndvi').copyProperties(img,['system:time_start','system:time_end'])\n",
    "\n",
    "ndviPre = imagePre.map(func_ndvipre)"
   ]
  },
  {
   "cell_type": "code",
   "execution_count": 16,
   "id": "791ab5b9",
   "metadata": {},
   "outputs": [],
   "source": [
    "# mean value composite for Before image(calculate mean value of ndvi in every pixel)\n",
    "mvcPre = ndviPre.mean();"
   ]
  },
  {
   "cell_type": "code",
   "execution_count": 17,
   "id": "67bcd980",
   "metadata": {},
   "outputs": [
    {
     "data": {
      "application/vnd.jupyter.widget-view+json": {
       "model_id": "46658970635c4093a3980c2abc4ae5c1",
       "version_major": 2,
       "version_minor": 0
      },
      "text/plain": [
       "Map(center=[-35.28672794816286, 149.1314839394662], controls=(WidgetControl(options=['position', 'transparent_…"
      ]
     },
     "metadata": {},
     "output_type": "display_data"
    }
   ],
   "source": [
    "Map.addLayer(mvcPre, {min: -1, max: 1, 'palette': ['white', 'red']}, 'NDVI Before Event');\n",
    "Map"
   ]
  },
  {
   "cell_type": "markdown",
   "id": "cc09e922",
   "metadata": {},
   "source": [
    "### Create chart for pre image\n",
    "We can use ipygee to generate a chart of the NDVI variation in the analysis period for any point in the ROI:"
   ]
  },
  {
   "cell_type": "code",
   "execution_count": 18,
   "id": "e544eb59",
   "metadata": {},
   "outputs": [
    {
     "data": {
      "application/vnd.jupyter.widget-view+json": {
       "model_id": "02c0393ffc6b419bb282450d3d3bbdff",
       "version_major": 2,
       "version_minor": 0
      },
      "text/plain": [
       "HTML(value='<embed src=data:image/svg+xml;charset=utf-8;base64,PD94bWwgdmVyc2lvbj0nMS4wJyBlbmNvZGluZz0ndXRmLTg…"
      ]
     },
     "metadata": {},
     "output_type": "display_data"
    }
   ],
   "source": [
    "from ipygee import chart\n",
    "\n",
    "ndviPre = chart.Image.series(**{\n",
    "    'imageCollection': ndviPre,\n",
    "    'region': geometry,\n",
    "    'reducer': ee.Reducer.mean(),\n",
    "    'scale': 20,\n",
    "    'xProperty': 'system:time_start'})\n",
    "ndviPre.renderWidget(width='100%')"
   ]
  },
  {
   "cell_type": "markdown",
   "id": "0f638bd2",
   "metadata": {},
   "source": [
    "### <a name=\"ex3\"></a> Challenge\n",
    "\n",
    "<div class=\"alert alert-block alert-danger\">\n",
    "\n",
    "- Try to improve the NDVI plots by setting options like changing xlabel/ylabel, select good title, change font/font size etc.\n",
    "    \n",
    "    \n",
    "</div>    "
   ]
  },
  {
   "cell_type": "markdown",
   "id": "4cdd3a09",
   "metadata": {},
   "source": [
    "### Create NDVI Difference Map\n",
    "Here, we apply codes to create NDVI difference map based on pre and post results.\n",
    "We will: \n",
    "* Create NDVI Difference Map\n",
    "* show differences\n",
    "* Map diff results"
   ]
  },
  {
   "cell_type": "code",
   "execution_count": 19,
   "id": "f251a621",
   "metadata": {},
   "outputs": [],
   "source": [
    "# # # Create NDVI Difference Map\n",
    "diff = mvcPo.subtract(mvcPre);\n",
    "#print(diff.getInfo())"
   ]
  },
  {
   "cell_type": "code",
   "execution_count": 20,
   "id": "e1934d43",
   "metadata": {},
   "outputs": [
    {
     "data": {
      "application/vnd.jupyter.widget-view+json": {
       "model_id": "46658970635c4093a3980c2abc4ae5c1",
       "version_major": 2,
       "version_minor": 0
      },
      "text/plain": [
       "Map(center=[-35.28672794816286, 149.1314839394662], controls=(WidgetControl(options=['position', 'transparent_…"
      ]
     },
     "metadata": {},
     "output_type": "display_data"
    }
   ],
   "source": [
    "Map.addLayer(diff,\n",
    "            {min: -2, max: 2, 'palette': ['white', 'red']},\n",
    "            'NDVI Difference');\n",
    "Map"
   ]
  },
  {
   "cell_type": "markdown",
   "id": "787e861f",
   "metadata": {},
   "source": [
    "### Export the result\n",
    "Export the result directly to your computer"
   ]
  },
  {
   "cell_type": "code",
   "execution_count": 21,
   "id": "76d352c9",
   "metadata": {},
   "outputs": [],
   "source": [
    "# # # Export the result\n",
    "import os\n",
    "\n",
    "out_dir = os.path.join(os.path.expanduser('~'), 'Downloads')\n",
    "out_file = os.path.join(out_dir, 'NDVI_Diff.tif')"
   ]
  },
  {
   "cell_type": "code",
   "execution_count": 22,
   "id": "a5cabe7d",
   "metadata": {},
   "outputs": [],
   "source": [
    "diffClip = diff.clipToBoundsAndScale(**{\n",
    "  'geometry': geometry,\n",
    "  'scale': 20,  # meters\n",
    "})"
   ]
  },
  {
   "cell_type": "code",
   "execution_count": 24,
   "id": "0aa1a586",
   "metadata": {},
   "outputs": [],
   "source": [
    "geemap.ee_export_image(diffClip, filename=out_file)"
   ]
  },
  {
   "cell_type": "markdown",
   "id": "c17cfb64",
   "metadata": {},
   "source": [
    "<div class=\"alert alert-block alert-danger\"> \n",
    "\n",
    "### Exercise 1 - NDVI change detection\n",
    "Try to analyze trend change detection in NDVI time series and then try to check the following exercises:\n",
    "* What wavelengths are used in NDVI?\n",
    "* How do you analyze NDVI data?\n",
    "* Is the results of NDVI varied in two different times? Why?\n",
    "* What are the factors affecting NDVI value with respect to time change?\n",
    "<div>"
   ]
  },
  {
   "cell_type": "markdown",
   "id": "f9fde667",
   "metadata": {},
   "source": [
    "## References\n",
    "This is where the references go. For exmaple:\n",
    "\n",
    "* Wu, Q., (2020). geemap: A Python package for interactive mapping with Google Earth Engine. The Journal of Open Source Software, 5(51), 2305. https://doi.org/10.21105/joss.02305\n",
    "* \"Earth Observation: Data, Processing and Applications\" book. Available through Wattle, or http://www.crcsi.com.au/earth-observation-series."
   ]
  },
  {
   "cell_type": "markdown",
   "id": "a703a232",
   "metadata": {},
   "source": [
    "## Additional information\n",
    "\n",
    "**License:** The code in this notebook was initially created by the team at [Digital Earth Australia](https://github.com/GeoscienceAustralia/dea-notebooks), and has been modified by Abolfazl Abdollahi. The code in this notebook is licensed under the [Apache License, Version 2.0](https://www.apache.org/licenses/LICENSE-2.0). \n",
    "\n",
    "**Contact:** If you need assistance, please post a question on the ENGN3903 Wattle site.\n",
    "\n",
    "**Last modified:** August 2022"
   ]
  }
 ],
 "metadata": {
  "kernelspec": {
   "display_name": "Python 3 (ipykernel)",
   "language": "python",
   "name": "python3"
  },
  "language_info": {
   "codemirror_mode": {
    "name": "ipython",
    "version": 3
   },
   "file_extension": ".py",
   "mimetype": "text/x-python",
   "name": "python",
   "nbconvert_exporter": "python",
   "pygments_lexer": "ipython3",
   "version": "3.10.4"
  }
 },
 "nbformat": 4,
 "nbformat_minor": 5
}
