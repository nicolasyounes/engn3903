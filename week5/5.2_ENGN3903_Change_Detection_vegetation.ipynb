{
 "cells": [
  {
   "cell_type": "markdown",
   "id": "4329ad91",
   "metadata": {},
   "source": [
    "# Vegetation Change Detection\n",
    "\n",
    "\n",
    "- **Special requirements:** A Google account, access to Google Earth Engine.\n",
    "\n",
    "- **Prerequisites:** You should have completed the \"Week 4 - Prac 1\" and \"Week 5 - Prac 1\" notebooks."
   ]
  },
  {
   "cell_type": "markdown",
   "id": "a26f18a7",
   "metadata": {},
   "source": [
    "## Description\n",
    "\n",
    "In this practical we will conduct change detection using the band indice NDVI to identify area burnt during the Namadgi bush fires of 2020. \n",
    "\n",
    "## Aims of the practical session\n",
    "* Create image composites from before and after the bush fire event\n",
    "* Calculate NDVI on both image compsites\n",
    "* Calculate the difference in NDVI between events"
   ]
  },
  {
   "cell_type": "markdown",
   "id": "cbe360ac",
   "metadata": {},
   "source": [
    "## Load packages\n",
    "\n",
    "Import GEE packages that are needed for the analysis."
   ]
  },
  {
   "cell_type": "code",
   "execution_count": null,
   "id": "d0d5e4d7",
   "metadata": {},
   "outputs": [],
   "source": [
    "import ee\n",
    "import geemap\n",
    "# ee.Authenticate()"
   ]
  },
  {
   "cell_type": "markdown",
   "id": "eae84dc8",
   "metadata": {},
   "source": [
    "## Connect to Google Earth Engine (GEE)\n",
    "\n",
    "Connect to the GEE to have access computing tools and GEE datasets.\n",
    "You may be required to input your Google account for authorization."
   ]
  },
  {
   "cell_type": "code",
   "execution_count": null,
   "id": "05956534",
   "metadata": {},
   "outputs": [],
   "source": [
    "Map = geemap.Map()\n",
    "Map.addLayerControl()"
   ]
  },
  {
   "cell_type": "markdown",
   "id": "72146f69",
   "metadata": {},
   "source": [
    "## Loading Region of Interest (ROI)\n",
    "\n",
    "Create ROI that we want to work on it and then add and display it on the GEE map. In this example, we'll import a geojson from github that marks the boundary of Namadagi National Park region."
   ]
  },
  {
   "cell_type": "code",
   "execution_count": null,
   "id": "c1e77b9f",
   "metadata": {},
   "outputs": [],
   "source": [
    "path = '../figures/namadgi_region.geojson'\n",
    "geometry = geemap.geojson_to_ee(path)\n",
    "Map.addLayer(geometry, {}, 'Namadgi Region')\n",
    "Map.centerObject(geometry);"
   ]
  },
  {
   "cell_type": "markdown",
   "id": "4944db52",
   "metadata": {},
   "source": [
    "### Load Landsat 8 and calculate an image composite from 2018 \n",
    "\n",
    "In the next few code cells we will extract training data from Landsat 8 images over the region specified by the ROI\n",
    "\n",
    "We will:\n",
    "* Define a function for cloud masking and rescaling Landsat 8 images\n",
    "* Load Landsat 8 images for the analysis\n",
    "* Filter a collection by date range\n",
    "* Calculate a temporal median to collapse the time dimension\n",
    "* Clip based on the geometry"
   ]
  },
  {
   "cell_type": "code",
   "execution_count": null,
   "id": "d831f87c",
   "metadata": {},
   "outputs": [],
   "source": [
    "def rescale_landsatC2(image):\n",
    "    # Apply the scaling factors to the appropriate bands.\n",
    "    opticalBands = image.select('SR_B.').multiply(0.0000275).add(-0.2)\n",
    "    thermalBands = image.select('ST_B.*').multiply(0.00341802).add(149.0)\n",
    "    # Replace the original bands with the scaled ones\n",
    "    return image.addBands(opticalBands, None, True) \\\n",
    "        .addBands(thermalBands, None, True)\n",
    "\n",
    "def cloudMaskL8Collection2(image):\n",
    "  # Bit 0 - Fill\n",
    "  # Bit 1 - Dilated Cloud\n",
    "  # Bit 2 - Cirrus\n",
    "  # Bit 3 - Cloud\n",
    "  # Bit 4 - Cloud Shadow\n",
    "    qaMask = image.select('QA_PIXEL').bitwiseAnd(int('11111',2)).eq(0)\n",
    "    saturationMask = image.select('QA_RADSAT').eq(0)\n",
    "\n",
    "  # Replace the original bands with the scaled ones and apply the masks.\n",
    "    return image.updateMask(qaMask) \\\n",
    "          .updateMask(saturationMask)"
   ]
  },
  {
   "cell_type": "code",
   "execution_count": null,
   "id": "5f2a6109",
   "metadata": {},
   "outputs": [],
   "source": [
    "## collect before event images \n",
    "ls8_before = (\n",
    "    ee.ImageCollection('LANDSAT/LC08/C02/T1_L2')\n",
    "    .filterBounds(geometry)\n",
    "    .filterDate('2018-01-01', '2018-12-31') \n",
    "    .map(rescale_landsatC2) #map the cloudmasking/rescaling function\n",
    "    .map(cloudMaskL8Collection2)\n",
    "    .median() #temporal composite\n",
    "    .clip(geometry)\n",
    ")"
   ]
  },
  {
   "cell_type": "markdown",
   "id": "4d5bd453-cdf3-42fd-80db-b4e74518722b",
   "metadata": {},
   "source": [
    "### Visualize the 2018 Landsat Composite"
   ]
  },
  {
   "cell_type": "code",
   "execution_count": null,
   "id": "dcbe85ce",
   "metadata": {},
   "outputs": [],
   "source": [
    "vis_params = {'min': 0, 'max': 0.4, 'bands': ['SR_B4', 'SR_B3', 'SR_B2']}\n",
    "\n",
    "#Map.centerObject(point, 8)\n",
    "Map.addLayer(ls8_before, vis_params, \"Landsat8_before\")\n",
    "Map.addLayerControl()\n",
    "Map"
   ]
  },
  {
   "cell_type": "markdown",
   "id": "e30f5ed7",
   "metadata": {},
   "source": [
    "## Calculate NDVI for 2018\n",
    "\n",
    "We can use the earth engine function `normalizedDifference()`, we just need to pass it the `NIR` and `Red` bands. Refer to your lecture notes for the theory on NDVI"
   ]
  },
  {
   "cell_type": "code",
   "execution_count": null,
   "id": "d7517493",
   "metadata": {},
   "outputs": [],
   "source": [
    "ndvi_before = ls8_before.normalizedDifference(['SR_B5', 'SR_B4']).rename('NDVI_before')"
   ]
  },
  {
   "cell_type": "markdown",
   "id": "d5535c4d-346c-4b92-8cc4-de7247176a5a",
   "metadata": {},
   "source": [
    "### Add the NDVI image to the map"
   ]
  },
  {
   "cell_type": "code",
   "execution_count": null,
   "id": "3042b419",
   "metadata": {},
   "outputs": [],
   "source": [
    "#define a pretty palette for NDVI\n",
    "ndvi_palette=['FFFFFF', 'CE7E45', 'DF923D', 'F1B555', 'FCD163', '99B718',\n",
    "               '74A901', '66A000', '529400', '3E8601', '207401', '056201',\n",
    "               '004C00', '023B01', '012E01', '011D01', '011301']\n",
    "\n",
    "Map.addLayer(ndvi_before, {'min': 0, 'max': 1, 'palette': ndvi_palette}, 'NDVI Before');\n",
    "Map"
   ]
  },
  {
   "cell_type": "markdown",
   "id": "45a43b58",
   "metadata": {},
   "source": [
    "## Load Landsat 8 and calculate an image composite from 2020 \n",
    "\n",
    "In the next few code cells we will extract training data from Landsat 8 images over the region specified by the ROI\n",
    "\n",
    "We will:\n",
    "* Define a function for cloud masking and rescaling Landsat 8 images\n",
    "* Load Landsat 8 images for the analysis\n",
    "* Filter a collection by date range\n",
    "* Calculate a temporal median to collapse the time dimension\n",
    "* Clip based on the geometry"
   ]
  },
  {
   "cell_type": "code",
   "execution_count": null,
   "id": "97a3540a",
   "metadata": {},
   "outputs": [],
   "source": [
    "# # After Images.\n",
    "ls8_after = (\n",
    "    ee.ImageCollection('LANDSAT/LC08/C02/T1_L2')\n",
    "    .filterBounds(geometry)\n",
    "    .filterDate('2020-01-01', '2020-12-31')\n",
    "    .map(rescale_landsatC2) #map the cloudmasking/rescaling function\n",
    "    .map(cloudMaskL8Collection2)\n",
    "    .median() #temporal composite\n",
    "    .clip(geometry)\n",
    ")"
   ]
  },
  {
   "cell_type": "code",
   "execution_count": null,
   "id": "f1607f14",
   "metadata": {},
   "outputs": [],
   "source": [
    "Map.addLayer(ls8_after, vis_params, \"Landsat8_after\")\n",
    "Map.addLayerControl()\n",
    "Map"
   ]
  },
  {
   "cell_type": "markdown",
   "id": "a28d2403",
   "metadata": {},
   "source": [
    "## Calculate NDVI for 2020"
   ]
  },
  {
   "cell_type": "code",
   "execution_count": null,
   "id": "1af7a84a",
   "metadata": {},
   "outputs": [],
   "source": [
    "ndvi_after = ls8_after.normalizedDifference(['SR_B5', 'SR_B4']).rename('NDVI_after')\n",
    "\n",
    "Map.addLayer(ndvi_after, {'min': 0, 'max': 1, 'palette': ndvi_palette}, 'NDVI After Event');\n",
    "Map"
   ]
  },
  {
   "cell_type": "markdown",
   "id": "4cdd3a09",
   "metadata": {},
   "source": [
    "## Create NDVI Difference Map\n",
    "\n",
    "To identify areas of change, we will difference (subtract) the two NDVI maps. Areas that have undergone large negative change (lower NDVI in 2020 compared with 2018) will be highlighted in red, while regions that are greener than 2018 will display in blue. Areas that have seen little change will be white(ish)"
   ]
  },
  {
   "cell_type": "code",
   "execution_count": null,
   "id": "f251a621",
   "metadata": {},
   "outputs": [],
   "source": [
    "# # # Create NDVI Difference Map\n",
    "diff = ndvi_before.subtract(ndvi_after);"
   ]
  },
  {
   "cell_type": "code",
   "execution_count": null,
   "id": "e1934d43",
   "metadata": {},
   "outputs": [],
   "source": [
    "Map.addLayer(diff,\n",
    "            {'min': -1, 'max': 1, 'palette': ['blue', 'white', 'red']},\n",
    "            'NDVI Difference');\n",
    "Map"
   ]
  },
  {
   "cell_type": "markdown",
   "id": "c17cfb64",
   "metadata": {},
   "source": [
    "<div class=\"alert alert-block alert-danger\"> \n",
    "\n",
    "## Exercise 1 - NDVI change detection\n",
    "\n",
    "1. Which areas underwent a reduction in NDVI between 2018 and 2020, and why? Which areas saw a postive increase in NDVI, and why?\n",
    "2. Create a new map that thresholds the `diff` map to isolate areas that have seen a large change in NDVI due to the fires (ie. not a minor fluctuation). e.g You might use a theshold such as -0.2, where any area that saw a NDVI change larger than -0.2 would count as 'significant' change. You can test different thresholds to determine one that best delineates the burnt areas. The final map will be a binary map of 0 and 1s, where pixels labelled as 1 will be areas where the NDVI difference is 'significant', and 0 where the change in 'non-significant'.\n",
    "3. Calculate the burnt area (in square kilometers) using the thresholded difference map you just created.\n",
    "4. What other band indices might be useful for delineating the burnt area?  \n",
    "    \n",
    "<div>"
   ]
  },
  {
   "cell_type": "markdown",
   "id": "6d6ca8ad-419b-4a94-b6cf-0ca2dac79512",
   "metadata": {},
   "source": [
    "Your code goes here:"
   ]
  },
  {
   "cell_type": "code",
   "execution_count": null,
   "id": "bc7bc7d7-0d49-47c7-90c1-1fae393399f2",
   "metadata": {},
   "outputs": [],
   "source": []
  },
  {
   "cell_type": "markdown",
   "id": "3bcb8320-87c0-438b-8b12-0690ba7cd67c",
   "metadata": {},
   "source": [
    "<div class=\"alert alert-block alert-danger\"> \n",
    "\n",
    "## Challenge\n",
    "\n",
    "Create a map of burnt area over Namadgi using one of the alternative band indices you identified in question 4 of Exercise 1. Calculate the area and compare it with the area you calculated using NDVI.\n",
    "    \n",
    "<div>"
   ]
  },
  {
   "cell_type": "markdown",
   "id": "f9fde667",
   "metadata": {},
   "source": [
    "## References\n",
    "This is where the references go. For exmaple:\n",
    "\n",
    "* Wu, Q., (2020). geemap: A Python package for interactive mapping with Google Earth Engine. The Journal of Open Source Software, 5(51), 2305. https://doi.org/10.21105/joss.02305\n",
    "* \"Earth Observation: Data, Processing and Applications\" book. Available through Wattle, or http://www.crcsi.com.au/earth-observation-series."
   ]
  },
  {
   "cell_type": "markdown",
   "id": "a703a232",
   "metadata": {},
   "source": [
    "## Additional information\n",
    "\n",
    "**License:** The code in this notebook was initially created by the team at [Digital Earth Australia](https://github.com/GeoscienceAustralia/dea-notebooks), and has been modified by Abolfazl Abdollahi. The code in this notebook is licensed under the [Apache License, Version 2.0](https://www.apache.org/licenses/LICENSE-2.0). \n",
    "\n",
    "**Contact:** If you need assistance, please post a question on the ENGN3903 Wattle site.\n",
    "\n",
    "**Last modified:** August 2022"
   ]
  }
 ],
 "metadata": {
  "kernelspec": {
   "display_name": "Python 3 (ipykernel)",
   "language": "python",
   "name": "python3"
  },
  "language_info": {
   "codemirror_mode": {
    "name": "ipython",
    "version": 3
   },
   "file_extension": ".py",
   "mimetype": "text/x-python",
   "name": "python",
   "nbconvert_exporter": "python",
   "pygments_lexer": "ipython3",
   "version": "3.10.4"
  },
  "widgets": {
   "application/vnd.jupyter.widget-state+json": {
    "state": {},
    "version_major": 2,
    "version_minor": 0
   }
  }
 },
 "nbformat": 4,
 "nbformat_minor": 5
}
