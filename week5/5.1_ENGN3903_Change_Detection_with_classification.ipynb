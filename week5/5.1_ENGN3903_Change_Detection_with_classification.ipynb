{
 "cells": [
  {
   "cell_type": "markdown",
   "id": "6979f92a",
   "metadata": {},
   "source": [
    "# Change Detection using classification\n",
    "\n",
    "\n",
    "- **Special requirements:** A Google account, access to Google Earth Engine.\n",
    "\n",
    "- **Prerequisites:** You should have completed the \"Week 4 - Prac 1\" notebook."
   ]
  },
  {
   "cell_type": "markdown",
   "id": "ad4cd69c",
   "metadata": {},
   "source": [
    "## Description\n",
    "Many earth observation datasets are available at regular intervals over long periods of time. This enables us to detect changes on the Earth’s surface. In this session, you will learn how to apply change detection technique in remote sensing by conducting a supervised classification on two images composites seperated years apart.\n",
    "\n",
    "## Aims of the practical session\n",
    "\n",
    "* Apply classification algorithms to classify land cover classes before and after an event\n",
    "* Comparing two classified images to see the changes during the time"
   ]
  },
  {
   "cell_type": "markdown",
   "id": "16e1de05",
   "metadata": {},
   "source": [
    "## Load packages\n",
    "\n",
    "Import GEE packages that are needed for the analysis."
   ]
  },
  {
   "cell_type": "code",
   "execution_count": null,
   "id": "a31431e4",
   "metadata": {},
   "outputs": [],
   "source": [
    "import ee\n",
    "import geemap\n",
    "# ee.Authenticate()"
   ]
  },
  {
   "cell_type": "markdown",
   "id": "7c9e0220",
   "metadata": {},
   "source": [
    "## Connect to Google Earth Engine (GEE)\n",
    "\n",
    "Connect to the GEE to have access computing tools and GEE datasets.\n",
    "You may be required to input your Google account for authorization."
   ]
  },
  {
   "cell_type": "code",
   "execution_count": null,
   "id": "df8c7dc5",
   "metadata": {},
   "outputs": [],
   "source": [
    "Map = geemap.Map()\n",
    "# Map.add_basemap('HYBRID')"
   ]
  },
  {
   "cell_type": "markdown",
   "id": "0fe0e75a",
   "metadata": {},
   "source": [
    "## Adding Region of Interest (ROI)\n",
    "\n",
    "Create ROI that we want to work on it and then add and display it on the GEE map. In this example, we'll import a geojson from github that marks the boundary of the ACT urban area."
   ]
  },
  {
   "cell_type": "code",
   "execution_count": null,
   "id": "d87f35e8",
   "metadata": {},
   "outputs": [],
   "source": [
    "# # # load shapefile (ROI)\n",
    "path = 'https://raw.githubusercontent.com/nicolasyounes/engn3903/week5update/figures/ACT_urban_region.geojson'\n",
    "geometry = geemap.geojson_to_ee(path)\n",
    "Map.addLayer(geometry, {}, 'Canberra region')\n",
    "Map.centerObject(geometry);"
   ]
  },
  {
   "cell_type": "markdown",
   "id": "2e19d464",
   "metadata": {},
   "source": [
    "## Load the training data\n",
    "Training data (or a training dataset) is the initial data used to train machine learning models. Import your pre-selected training dataset from your system."
   ]
  },
  {
   "cell_type": "code",
   "execution_count": null,
   "id": "3912f232",
   "metadata": {},
   "outputs": [],
   "source": [
    "#### load training data\n",
    "training_path = \"https://raw.githubusercontent.com/nicolasyounes/engn3903/main/figures/training_data.geojson\"\n",
    "training_data = geemap.geojson_to_ee(training_path)\n",
    "\n",
    "#print how many classes there are in the TD\n",
    "df = geemap.ee_to_geopandas(training_data)\n",
    "n_classes = len(df['landcover'].unique())\n",
    "print(f'There are {n_classes} landcover classes in the training dataset')"
   ]
  },
  {
   "cell_type": "markdown",
   "id": "a9971a18",
   "metadata": {},
   "source": [
    "## Load and composite a Landsat 8 Image collection from 2014\n",
    "\n",
    "In the next few code cells we will extract training data from Landsat 8 images over the region specified by the ROI\n",
    "\n",
    "We will:\n",
    "* Define a function for cloud masking and rescaling Landsat 8 images\n",
    "* Load Landsat 8 images for the analysis\n",
    "* Filter a collection by date range\n",
    "* Calculate a temporal median to collapse the time dimension\n",
    "* Clip based on the geometry"
   ]
  },
  {
   "cell_type": "code",
   "execution_count": null,
   "id": "b1ba70a8",
   "metadata": {},
   "outputs": [],
   "source": [
    "def rescale_landsatC2(image):\n",
    "    # Apply the scaling factors to the appropriate bands.\n",
    "    opticalBands = image.select('SR_B.').multiply(0.0000275).add(-0.2)\n",
    "    thermalBands = image.select('ST_B.*').multiply(0.00341802).add(149.0)\n",
    "    # Replace the original bands with the scaled ones\n",
    "    return image.addBands(opticalBands, None, True) \\\n",
    "        .addBands(thermalBands, None, True)\n",
    "\n",
    "def cloudMaskL8Collection2(image):\n",
    "  # Bit 0 - Fill\n",
    "  # Bit 1 - Dilated Cloud\n",
    "  # Bit 2 - Cirrus\n",
    "  # Bit 3 - Cloud\n",
    "  # Bit 4 - Cloud Shadow\n",
    "    qaMask = image.select('QA_PIXEL').bitwiseAnd(int('11111',2)).eq(0)\n",
    "    saturationMask = image.select('QA_RADSAT').eq(0)\n",
    "\n",
    "  # Replace the original bands with the scaled ones and apply the masks.\n",
    "    return image.updateMask(qaMask) \\\n",
    "          .updateMask(saturationMask)"
   ]
  },
  {
   "cell_type": "code",
   "execution_count": null,
   "id": "bc55b29f",
   "metadata": {},
   "outputs": [],
   "source": [
    "## collect before event images \n",
    "ls8_before = (\n",
    "    ee.ImageCollection('LANDSAT/LC08/C02/T1_L2')\n",
    "    .filterBounds(geometry)\n",
    "    .filterDate('2014-01-01', '2014-12-31') ### Note: you can try different dates\n",
    "    .map(rescale_landsatC2) #map the cloudmasking/rescaling function\n",
    "    .map(cloudMaskL8Collection2)\n",
    "    .median() #temporal composite\n",
    "    .clip(geometry)\n",
    ")"
   ]
  },
  {
   "cell_type": "markdown",
   "id": "3a2b8de1",
   "metadata": {},
   "source": [
    "### Visualize the composite\n",
    "* Clip based on the geometry\n",
    "* Display it on Geemap"
   ]
  },
  {
   "cell_type": "code",
   "execution_count": null,
   "id": "52b51c58",
   "metadata": {},
   "outputs": [],
   "source": [
    "vis_params = {'min': 0, 'max': 0.4, 'bands': ['SR_B4', 'SR_B3', 'SR_B2']}\n",
    "\n",
    "#Map.centerObject(point, 8)\n",
    "Map.addLayer(ls8_before, vis_params, \"Landsat8_before\")\n",
    "Map.addLayerControl()\n",
    "Map"
   ]
  },
  {
   "cell_type": "markdown",
   "id": "0574462a",
   "metadata": {},
   "source": [
    "## Extract pixel values from the image using the training data\n",
    "Now that we have created the points and labels, we need to sample the imagery using image.sampleRegions(). This command will extract the reflectance in the designated bands for each of the points you have created. "
   ]
  },
  {
   "cell_type": "code",
   "execution_count": null,
   "id": "d4bf21dc",
   "metadata": {},
   "outputs": [],
   "source": [
    "# Overlay the point on the image to get training data.\n",
    "training = ls8_before.sampleRegions(**{\n",
    "  'collection': training_data,\n",
    "  'properties': ['landcover'],\n",
    "  'scale': 30\n",
    "})"
   ]
  },
  {
   "cell_type": "markdown",
   "id": "5d72535d",
   "metadata": {},
   "source": [
    "## Supervised Classification\n",
    "\n",
    "The <a href=\"https://developers.google.com/earth-engine/guides/classification\">Classifier</a> package in handles supervised classification by ML algorithms running in Earth Engine. Thus, in this part we will:\n",
    "* Instantiate a supervised classifier\n",
    "* Set its parameters if necessary\n",
    "* Train the classifier using the training data\n",
    "* Classify an image or feature collection\n",
    "* Display the classified map"
   ]
  },
  {
   "cell_type": "code",
   "execution_count": null,
   "id": "def4cce5",
   "metadata": {},
   "outputs": [],
   "source": [
    "# Train a classifier.\n",
    "# # select bands wanted to use in the classification\n",
    "bands = ['SR_B2','SR_B3','SR_B4','SR_B5','SR_B6','SR_B7']\n",
    "\n",
    "classifier = ee.Classifier.smileRandomForest(50).train(**{\n",
    "  'features': training,\n",
    "  'classProperty': 'landcover',\n",
    "  'inputProperties': bands\n",
    "})"
   ]
  },
  {
   "cell_type": "code",
   "execution_count": null,
   "id": "a3b12b5b",
   "metadata": {},
   "outputs": [],
   "source": [
    "# # Classify the image.\n",
    "beforeClassified = ls8_before.classify(classifier)\n",
    "Map.addLayer(beforeClassified,{'min': 0, 'max': 3, 'palette': ['yellow', 'green', 'red', 'blue']}, 'before_classified')\n",
    "Map"
   ]
  },
  {
   "cell_type": "markdown",
   "id": "adb52e56",
   "metadata": {},
   "source": [
    "## Load and composite an Image collection from 2021\n",
    "We will:\n",
    "* Load after Landsat-8 images for the analysis\n",
    "* Filter a collection by date range\n",
    "* Make a cloud-free composite "
   ]
  },
  {
   "cell_type": "code",
   "execution_count": null,
   "id": "3bad4cd0",
   "metadata": {},
   "outputs": [],
   "source": [
    "# # After Images.\n",
    "ls8_after = (\n",
    "    ee.ImageCollection('LANDSAT/LC08/C02/T1_L2')\n",
    "    .filterBounds(geometry)\n",
    "    .filterDate('2021-01-01', '2021-12-31')\n",
    "    .map(rescale_landsatC2) #map the cloudmasking/rescaling function\n",
    "    .map(cloudMaskL8Collection2)\n",
    "    .median() #temporal composite\n",
    "    .clip(geometry)\n",
    ")"
   ]
  },
  {
   "cell_type": "markdown",
   "id": "b3a5f2bb",
   "metadata": {},
   "source": [
    "### Visualize the composite\n",
    "* Clip based on the geometry\n",
    "* Display it on Geemap"
   ]
  },
  {
   "cell_type": "code",
   "execution_count": null,
   "id": "664c68ad",
   "metadata": {},
   "outputs": [],
   "source": [
    "Map.addLayer(ls8_after, vis_params, \"Landsat8_after\")\n",
    "Map.addLayerControl()\n",
    "Map"
   ]
  },
  {
   "cell_type": "markdown",
   "id": "8b9762e5",
   "metadata": {},
   "source": [
    "## Classify the later image collection\n",
    "* Apply the same supervised classifier on after image\n",
    "* Classify an image or feature collection\n",
    "* Display the classified map"
   ]
  },
  {
   "cell_type": "code",
   "execution_count": null,
   "id": "9dfd8ffa",
   "metadata": {},
   "outputs": [],
   "source": [
    "# Classify the image.\n",
    "afterClassified= ls8_after.classify(classifier)\n",
    "Map.addLayer(afterClassified,{'min': 0, 'max': 3, 'palette': ['yellow', 'green', 'red', 'blue']}, 'after_classified')\n",
    "Map"
   ]
  },
  {
   "cell_type": "markdown",
   "id": "41b3cdbd-9d18-4f52-8f05-8d70003c6f6d",
   "metadata": {},
   "source": [
    "### Reclassify the images to make change detection easier\n",
    "\n",
    "In the next step we will subtract one image from another to visualize areas that have changed. This is easier if we reclassify the 0-4 land cover classes to 1-4"
   ]
  },
  {
   "cell_type": "code",
   "execution_count": null,
   "id": "b480925f",
   "metadata": {},
   "outputs": [],
   "source": [
    "# Reclassify from 0-3 to 1-4\n",
    "beforeClasses = beforeClassified.remap([0, 1, 2, 3], [1, 2, 3, 4])\n",
    "afterClasses = afterClassified.remap([0, 1, 2, 3], [1, 2, 3, 4])"
   ]
  },
  {
   "cell_type": "markdown",
   "id": "51a77f6f",
   "metadata": {},
   "source": [
    "## Change Detection\n",
    "We are dealing with multi-class images. A useful metric for change detection is to know how many pixels from class X changed to class Y. \n",
    "In the `changed` image below, areas mapped with a `1` have undergone a change in landcover class, areas with `0` are the same as earlier."
   ]
  },
  {
   "cell_type": "code",
   "execution_count": null,
   "id": "1deed67e",
   "metadata": {},
   "outputs": [],
   "source": [
    "# Show all changed areas\n",
    "changed = afterClasses.subtract(beforeClasses).neq(0)\n",
    "Map.addLayer(changed, {'min':0, 'max':1, 'palette': ['white', 'red']}, 'Change')\n",
    "Map"
   ]
  },
  {
   "cell_type": "markdown",
   "id": "b74afe04",
   "metadata": {},
   "source": [
    "<div class=\"alert alert-block alert-danger\"> \n",
    "    \n",
    "## Exercise 1 \n",
    "\n",
    "1. Using the `changed` image, calculate the total area that has undergone change (the sum of all values equal to 1 in the `changed` image, muliplied by the area of a pixel.) \n",
    "1. Create bar graphs showing the area of each class in both classified images. \n",
    "2. Discuss which classes changed and by how much. Were all the pixels that changed related to real changes in land use? Or were there errors in the change detection?\n",
    "3. What other methods might we use to help us distinguish 'real' change from spurious change (or mere variability in a land cover class)?\n",
    "\n",
    "<div>"
   ]
  },
  {
   "cell_type": "markdown",
   "id": "c2bdc079",
   "metadata": {},
   "source": [
    "## References\n",
    "This is where the references go. For exmaple:\n",
    "\n",
    "* Wu, Q., (2020). geemap: A Python package for interactive mapping with Google Earth Engine. The Journal of Open Source Software, 5(51), 2305. https://doi.org/10.21105/joss.02305\n",
    "* \"Earth Observation: Data, Processing and Applications\" book. Available through Wattle, or http://www.crcsi.com.au/earth-observation-series."
   ]
  },
  {
   "cell_type": "markdown",
   "id": "3c86f987",
   "metadata": {},
   "source": [
    "## Additional information\n",
    "\n",
    "**License:** The code in this notebook was initially created by the team at [Digital Earth Australia](https://github.com/GeoscienceAustralia/dea-notebooks), and has been modified by Abolfazl Abdollahi. The code in this notebook is licensed under the [Apache License, Version 2.0](https://www.apache.org/licenses/LICENSE-2.0). \n",
    "\n",
    "**Contact:** If you need assistance, please post a question on the ENGN3903 Wattle site.\n",
    "\n",
    "**Last modified:** August 2022"
   ]
  }
 ],
 "metadata": {
  "kernelspec": {
   "display_name": "Python 3 (ipykernel)",
   "language": "python",
   "name": "python3"
  },
  "language_info": {
   "codemirror_mode": {
    "name": "ipython",
    "version": 3
   },
   "file_extension": ".py",
   "mimetype": "text/x-python",
   "name": "python",
   "nbconvert_exporter": "python",
   "pygments_lexer": "ipython3",
   "version": "3.10.4"
  },
  "widgets": {
   "application/vnd.jupyter.widget-state+json": {
    "state": {},
    "version_major": 2,
    "version_minor": 0
   }
  }
 },
 "nbformat": 4,
 "nbformat_minor": 5
}
