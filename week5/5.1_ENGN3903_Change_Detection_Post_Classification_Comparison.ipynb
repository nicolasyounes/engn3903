{
 "cells": [
  {
   "cell_type": "markdown",
   "id": "ad4cd69c",
   "metadata": {},
   "source": [
    "## Description\n",
    "Many earth observation datasets are available at regular intervals over long periods of time. This enables us to detect changes on the Earth’s surface. In this session, you will learn how to apply change detection technique in remote sensing.\n",
    "\n",
    "## Aims of the practical session\n",
    "* Create ROI and load it\n",
    "* Collect images and training samples\n",
    "* Apply classification algorithms to classify images before and after an event\n",
    "* Comparing two classified images to see the changes during the time"
   ]
  },
  {
   "cell_type": "markdown",
   "id": "76e23b83",
   "metadata": {},
   "source": [
    "## Getting started"
   ]
  },
  {
   "cell_type": "markdown",
   "id": "16e1de05",
   "metadata": {},
   "source": [
    "### Load packages\n",
    "\n",
    "Import GEE packages that are needed for the analysis."
   ]
  },
  {
   "cell_type": "code",
   "execution_count": 1,
   "id": "a31431e4",
   "metadata": {},
   "outputs": [],
   "source": [
    "import ee\n",
    "import geemap\n",
    "# ee.Authenticate()"
   ]
  },
  {
   "cell_type": "markdown",
   "id": "7c9e0220",
   "metadata": {},
   "source": [
    "### Connect to Google Earth Engine (GEE)\n",
    "\n",
    "Connect to the GEE to have access computing tools and GEE datasets.\n",
    "You may be required to input your Google account for authorization."
   ]
  },
  {
   "cell_type": "code",
   "execution_count": 2,
   "id": "df8c7dc5",
   "metadata": {},
   "outputs": [
    {
     "data": {
      "application/vnd.jupyter.widget-view+json": {
       "model_id": "3325775dcdf44c9abd256a0553b587f1",
       "version_major": 2,
       "version_minor": 0
      },
      "text/plain": [
       "Map(center=[20, 0], controls=(WidgetControl(options=['position', 'transparent_bg'], widget=HBox(children=(Togg…"
      ]
     },
     "metadata": {},
     "output_type": "display_data"
    }
   ],
   "source": [
    "import geemap\n",
    "Map = geemap.Map()\n",
    "# Map.add_basemap('HYBRID')\n",
    "Map"
   ]
  },
  {
   "cell_type": "markdown",
   "id": "0fe0e75a",
   "metadata": {},
   "source": [
    "### Adding Region of Interest (ROI)\n",
    "\n",
    "Create ROI that we want to work on it and then add and display it on the GEE map.\n",
    "Import the downloaded shapefile for Canberra central from your computer path as ROI."
   ]
  },
  {
   "cell_type": "code",
   "execution_count": 3,
   "id": "d87f35e8",
   "metadata": {},
   "outputs": [
    {
     "name": "stderr",
     "output_type": "stream",
     "text": [
      "C:\\Users\\Abolfazl\\Anaconda3\\envs\\gee\\lib\\site-packages\\geopandas\\io\\file.py:299: FutureWarning: pandas.Int64Index is deprecated and will be removed from pandas in a future version. Use pandas.Index with the appropriate dtype instead.\n",
      "  pd.Int64Index,\n"
     ]
    }
   ],
   "source": [
    "# # # load shapefile (ROI)\n",
    "shp_path = 'D:/GEE Tutorials/NOV21_ACT_LOC_POLYGON_shp/Canberra_central.shp'\n",
    "geometry = geemap.shp_to_ee(shp_path)\n",
    "Map.addLayer(geometry, {}, 'Canberra central SHP')\n",
    "Map.centerObject(geometry);"
   ]
  },
  {
   "cell_type": "markdown",
   "id": "2e19d464",
   "metadata": {},
   "source": [
    "### Training data\n",
    "Training data (or a training dataset) is the initial data used to train machine learning models. Import your pre-selected training dataset from your system."
   ]
  },
  {
   "cell_type": "code",
   "execution_count": 4,
   "id": "3912f232",
   "metadata": {},
   "outputs": [
    {
     "name": "stderr",
     "output_type": "stream",
     "text": [
      "C:\\Users\\Abolfazl\\Anaconda3\\envs\\gee\\lib\\site-packages\\geopandas\\io\\file.py:299: FutureWarning: pandas.Int64Index is deprecated and will be removed from pandas in a future version. Use pandas.Index with the appropriate dtype instead.\n",
      "  pd.Int64Index,\n"
     ]
    }
   ],
   "source": [
    "#### load training data\n",
    "trainingS_path = 'C:/Users/Abolfazl/Desktop/code/Google Earth Engine/training_data.shp'\n",
    "training_data = geemap.shp_to_ee(trainingS_path)\n",
    "Map.addLayer(training_data, {}, 'training_data')\n",
    "Map.centerObject(training_data)"
   ]
  },
  {
   "cell_type": "markdown",
   "id": "a9971a18",
   "metadata": {},
   "source": [
    "### Before Image collection \n",
    "An ImageCollection is a stack or sequence of images. An ImageCollection can be loaded by pasting an Earth Engine asset ID into the ImageCollection constructor. You can find ImageCollection IDs in the <a href=\"https://developers.google.com/earth-engine/datasets\">data catalog</a>. \n",
    "\n",
    "We will:\n",
    "* Load before Landsat-8 images for the anlysis\n",
    "* Filter a collection by date range\n",
    "* Make a cloud-free composite "
   ]
  },
  {
   "cell_type": "code",
   "execution_count": 5,
   "id": "b1ba70a8",
   "metadata": {},
   "outputs": [],
   "source": [
    "# # Make a cloud-free Landsat 8 TOA composite (Before imagery).\n",
    "landsatCollectionB = ee.ImageCollection('LANDSAT/LC08/C01/T1') \\\n",
    "    .filterDate('2015-03-01', '2015-03-31')\\\n",
    "    .filterBounds(geometry)\n",
    "    #.filter(ee.Filter.lt('CLOUDY_PIXEL_PERCENTAGE', 10))\n",
    "    #.sort('CLOUD_COVER')\n",
    "    #.first()"
   ]
  },
  {
   "cell_type": "code",
   "execution_count": 6,
   "id": "bc55b29f",
   "metadata": {},
   "outputs": [
    {
     "name": "stdout",
     "output_type": "stream",
     "text": [
      "4\n"
     ]
    }
   ],
   "source": [
    "print(landsatCollectionB.size().getInfo());"
   ]
  },
  {
   "cell_type": "code",
   "execution_count": 7,
   "id": "cabec05d",
   "metadata": {},
   "outputs": [],
   "source": [
    "# # # Use these bands for prediction.\n",
    "bands = ['B2', 'B3', 'B4', 'B5', 'B6', 'B7', 'B10', 'B11']"
   ]
  },
  {
   "cell_type": "markdown",
   "id": "57884666",
   "metadata": {},
   "source": [
    "### Make a cloud-free composite\n",
    "Computes a Landsat TOA composite from a collection of raw Landsat scenes. It applies standard TOA calibration and then assigns a cloud score to each pixel using the SimpleLandsatCloudScore algorithm. It selects the lowest possible range of cloud scores at each point and then computes per-band percentile values from the accepted pixels. This algorithm also uses the LandsatPathRowLimit algorithm to select only the least-cloudy scenes in regions where more than maxDepth input scenes are available. More information can be found <a href=\"https://developers.google.com/earth-engine/apidocs/ee-algorithms-landsat-simplecomposite\">simpleComposite</a>. "
   ]
  },
  {
   "cell_type": "code",
   "execution_count": 8,
   "id": "3ff9293a",
   "metadata": {},
   "outputs": [],
   "source": [
    "# Make a cloud-free composite.\n",
    "compositeB = ee.Algorithms.Landsat.simpleComposite(**{\n",
    "  'collection': landsatCollectionB,\n",
    "  'asFloat': True\n",
    "})"
   ]
  },
  {
   "cell_type": "markdown",
   "id": "3a2b8de1",
   "metadata": {},
   "source": [
    "### Visualize the composite\n",
    "* Clip based on the geometry\n",
    "* Display it on Geemap"
   ]
  },
  {
   "cell_type": "code",
   "execution_count": 9,
   "id": "52b51c58",
   "metadata": {},
   "outputs": [
    {
     "data": {
      "application/vnd.jupyter.widget-view+json": {
       "model_id": "3325775dcdf44c9abd256a0553b587f1",
       "version_major": 2,
       "version_minor": 0
      },
      "text/plain": [
       "Map(bottom=20298425.0, center=[-35.17380831799957, 149.06250000000003], controls=(WidgetControl(options=['posi…"
      ]
     },
     "metadata": {},
     "output_type": "display_data"
    }
   ],
   "source": [
    "# Visualize the Composite\n",
    "compositeB = compositeB.clip(geometry).select(bands)\n",
    "Map.addLayer(compositeB, {'bands': ['B4',  'B3',  'B2'], 'max': 0.5, 'gamma': 2}, 'L8 Image Before', True)\n",
    "Map"
   ]
  },
  {
   "cell_type": "markdown",
   "id": "0574462a",
   "metadata": {},
   "source": [
    "### Overlay the point on the image to get training data\n",
    "Now that we have created the points and labels, we need to sample the imagery using image.sampleRegions(). This command will extract the reflectance in the designated bands for each of the points you have created. "
   ]
  },
  {
   "cell_type": "code",
   "execution_count": 10,
   "id": "d4bf21dc",
   "metadata": {},
   "outputs": [],
   "source": [
    "# Overlay the point on the image to get training data.\n",
    "training = compositeB.sampleRegions(**{\n",
    "  'collection': training_data,\n",
    "  'properties': ['landcover'],\n",
    "  'scale': 30\n",
    "})"
   ]
  },
  {
   "cell_type": "markdown",
   "id": "5d72535d",
   "metadata": {},
   "source": [
    "### Classifcation method\n",
    "The <a href=\"https://developers.google.com/earth-engine/guides/classification\">Classifier</a> package in handles supervised classification by ML algorithms running in Earth Engine. Thus, in this part we will:\n",
    "* Instantiate a supervised classifier\n",
    "* Set its parameters if necessary\n",
    "* Train the classifier using the training data\n",
    "* Classify an image or feature collection\n",
    "* Display the classified map"
   ]
  },
  {
   "cell_type": "code",
   "execution_count": 11,
   "id": "def4cce5",
   "metadata": {},
   "outputs": [],
   "source": [
    "# Train a classifier.\n",
    "classifier = ee.Classifier.smileRandomForest(50).train(**{\n",
    "  'features': training,\n",
    "  'classProperty': 'landcover',\n",
    "  'inputProperties': compositeB.bandNames()\n",
    "})"
   ]
  },
  {
   "cell_type": "code",
   "execution_count": 12,
   "id": "a3b12b5b",
   "metadata": {},
   "outputs": [
    {
     "data": {
      "application/vnd.jupyter.widget-view+json": {
       "model_id": "3325775dcdf44c9abd256a0553b587f1",
       "version_major": 2,
       "version_minor": 0
      },
      "text/plain": [
       "Map(bottom=20298425.0, center=[-35.17380831799957, 149.06250000000003], controls=(WidgetControl(options=['posi…"
      ]
     },
     "metadata": {},
     "output_type": "display_data"
    }
   ],
   "source": [
    "# # Classify the image.\n",
    "beforeClassified = compositeB.classify(classifier)\n",
    "Map.addLayer(beforeClassified,{'min': 0, 'max': 3, 'palette': ['blue', 'green', 'yellow', 'red']}, 'before_classified')\n",
    "Map"
   ]
  },
  {
   "cell_type": "markdown",
   "id": "adb52e56",
   "metadata": {},
   "source": [
    "### After Image collection \n",
    "We will:\n",
    "* Load after Landsat-8 images for the anlysis\n",
    "* Filter a collection by date range\n",
    "* Make a cloud-free composite "
   ]
  },
  {
   "cell_type": "code",
   "execution_count": 13,
   "id": "3bad4cd0",
   "metadata": {},
   "outputs": [],
   "source": [
    "# # After Images.\n",
    "landsatCollectionA = ee.ImageCollection('LANDSAT/LC08/C01/T1') \\\n",
    "    .filterDate('2021-03-01', '2021-03-31') \\\n",
    "    .filterBounds(geometry)\n",
    "    #.filter(ee.Filter.lt('CLOUDY_PIXEL_PERCENTAGE', 10))\n",
    "    #.sort('CLOUD_COVER')\n",
    "    #.first()"
   ]
  },
  {
   "cell_type": "code",
   "execution_count": 14,
   "id": "ce779a77",
   "metadata": {},
   "outputs": [
    {
     "name": "stdout",
     "output_type": "stream",
     "text": [
      "4\n"
     ]
    }
   ],
   "source": [
    "print(landsatCollectionB.size().getInfo());"
   ]
  },
  {
   "cell_type": "markdown",
   "id": "80f77634",
   "metadata": {},
   "source": [
    "### Make a cloud-free composite\n",
    "Use SimpleLandsatCloudScore algorithm to computes a Landsat TOA composite from a collection of raw Landsat scenes. It applies standard TOA calibration and then assigns a cloud score to each pixel. More information can be found <a href=\"https://developers.google.com/earth-engine/apidocs/ee-algorithms-landsat-simplecomposite\">simpleComposite</a>. "
   ]
  },
  {
   "cell_type": "code",
   "execution_count": 15,
   "id": "c3936852",
   "metadata": {},
   "outputs": [],
   "source": [
    "# Make a cloud-free composite.\n",
    "compositeA = ee.Algorithms.Landsat.simpleComposite(**{\n",
    "  'collection': landsatCollectionA,\n",
    "  'asFloat': True\n",
    "})"
   ]
  },
  {
   "cell_type": "markdown",
   "id": "b3a5f2bb",
   "metadata": {},
   "source": [
    "### Visualize the composite\n",
    "* Clip based on the geometry\n",
    "* Display it on Geemap"
   ]
  },
  {
   "cell_type": "code",
   "execution_count": 16,
   "id": "664c68ad",
   "metadata": {},
   "outputs": [
    {
     "data": {
      "application/vnd.jupyter.widget-view+json": {
       "model_id": "3325775dcdf44c9abd256a0553b587f1",
       "version_major": 2,
       "version_minor": 0
      },
      "text/plain": [
       "Map(bottom=20298425.0, center=[-35.17380831799957, 149.06250000000003], controls=(WidgetControl(options=['posi…"
      ]
     },
     "metadata": {},
     "output_type": "display_data"
    }
   ],
   "source": [
    "# Visualize the Composite\n",
    "compositeA = compositeA.clip(geometry).select(bands)\n",
    "Map.addLayer(compositeA, {'bands': ['B4',  'B3',  'B2'], 'max': 0.5, 'gamma': 2}, 'L8 Image After', True)\n",
    "Map"
   ]
  },
  {
   "cell_type": "markdown",
   "id": "8b9762e5",
   "metadata": {},
   "source": [
    "### Classify the image\n",
    "* Apply the same supervised classifier on after image\n",
    "* Classify an image or feature collection\n",
    "* Display the classified map"
   ]
  },
  {
   "cell_type": "code",
   "execution_count": 17,
   "id": "9dfd8ffa",
   "metadata": {},
   "outputs": [
    {
     "data": {
      "application/vnd.jupyter.widget-view+json": {
       "model_id": "3325775dcdf44c9abd256a0553b587f1",
       "version_major": 2,
       "version_minor": 0
      },
      "text/plain": [
       "Map(bottom=20298425.0, center=[-35.17380831799957, 149.06250000000003], controls=(WidgetControl(options=['posi…"
      ]
     },
     "metadata": {},
     "output_type": "display_data"
    }
   ],
   "source": [
    "# Classify the image.\n",
    "afterClassified= compositeA.classify(classifier)\n",
    "Map.addLayer(afterClassified,{'min': 0, 'max': 3, 'palette': ['blue', 'green', 'yellow', 'red']}, 'after_classified')\n",
    "Map"
   ]
  },
  {
   "cell_type": "markdown",
   "id": "471f34c5",
   "metadata": {},
   "source": [
    "### <a name=\"ex3\"></a> Challenge\n",
    "\n",
    "<div class=\"alert alert-block alert-danger\">\n",
    "\n",
    "- Try to calculate the accuracy of the method for both pre and post-classifcation results to see if the performance of the model is satisfactory. \n",
    "    \n",
    "    \n",
    "</div> "
   ]
  },
  {
   "cell_type": "code",
   "execution_count": 18,
   "id": "b480925f",
   "metadata": {},
   "outputs": [],
   "source": [
    "# Reclassify from 0-3 to 1-4\n",
    "beforeClasses = beforeClassified.remap([0, 1, 2, 3], [1, 2, 3, 4])\n",
    "afterClasses = afterClassified.remap([0, 1, 2, 3], [1, 2, 3, 4])"
   ]
  },
  {
   "cell_type": "markdown",
   "id": "51a77f6f",
   "metadata": {},
   "source": [
    "### Post-classification comparison\n",
    "We dealing with multi-class images, a useful metric for change detection is to know how many pixels from class X changed to class Y. "
   ]
  },
  {
   "cell_type": "code",
   "execution_count": 19,
   "id": "1deed67e",
   "metadata": {},
   "outputs": [
    {
     "data": {
      "application/vnd.jupyter.widget-view+json": {
       "model_id": "3325775dcdf44c9abd256a0553b587f1",
       "version_major": 2,
       "version_minor": 0
      },
      "text/plain": [
       "Map(bottom=20298425.0, center=[-35.17380831799957, 149.06250000000003], controls=(WidgetControl(options=['posi…"
      ]
     },
     "metadata": {},
     "output_type": "display_data"
    }
   ],
   "source": [
    "# Show all changed areas\n",
    "changed = afterClasses.subtract(beforeClasses).neq(0)\n",
    "Map.addLayer(changed, {'min':0, 'max':1, 'palette': ['white', 'red']}, 'Change')\n",
    "Map"
   ]
  },
  {
   "cell_type": "markdown",
   "id": "b74afe04",
   "metadata": {},
   "source": [
    "<span style='background:yellow'> <span style=\"font-size:16.0pt\"> Exercise  </span>\n",
    "\n",
    "### Exercise 1 - Calculate area by each transition class \n",
    "Try to add the before image with the after image to represent each unique transition of pixel values\n",
    "\n",
    "#### Then try to check the following exercises:\n",
    "* Calculate the area of each class transition?\n",
    "* You can use a grouped reducer\n",
    "* Show all areas where each class became other class and display the result\n",
    "* Post-process the result to generate a clean output"
   ]
  },
  {
   "cell_type": "markdown",
   "id": "c2bdc079",
   "metadata": {},
   "source": [
    "## References\n",
    "This is where the references go. For exmaple:\n",
    "\n",
    "* Wu, Q., (2020). geemap: A Python package for interactive mapping with Google Earth Engine. The Journal of Open Source Software, 5(51), 2305. https://doi.org/10.21105/joss.02305\n",
    "* \"Earth Observation: Data, Processing and Applications\" book. Available through Wattle, or http://www.crcsi.com.au/earth-observation-series."
   ]
  },
  {
   "cell_type": "markdown",
   "id": "3c86f987",
   "metadata": {},
   "source": [
    "## Additional information\n",
    "\n",
    "**License:** The code in this notebook was initially created by the team at [Digital Earth Australia](https://github.com/GeoscienceAustralia/dea-notebooks), and has been modified by Abolfazl Abdollahi. The code in this notebook is licensed under the [Apache License, Version 2.0](https://www.apache.org/licenses/LICENSE-2.0). \n",
    "\n",
    "**Contact:** If you need assistance, please post a question on the ENGN3903 Wattle site.\n",
    "\n",
    "**Last modified:** June 2022"
   ]
  },
  {
   "cell_type": "markdown",
   "id": "4b1e723e",
   "metadata": {},
   "source": [
    "### Exercise answers"
   ]
  },
  {
   "cell_type": "markdown",
   "id": "3c4a9724",
   "metadata": {},
   "source": [
    "<a name=\"ex1answer\">Answer to Exercise 1</a>"
   ]
  },
  {
   "cell_type": "code",
   "execution_count": 20,
   "id": "c970f17e",
   "metadata": {},
   "outputs": [],
   "source": [
    "# # We multiply the before image with 100 and add the after image\n",
    "# # The resulting pixel values will be unique and will represent each unique transition\n",
    "# merged = beforeClasses.multiply(100).add(afterClasses).rename('transitions')"
   ]
  },
  {
   "cell_type": "code",
   "execution_count": 21,
   "id": "604ec298",
   "metadata": {},
   "outputs": [],
   "source": [
    "# # Calculate Area by each Transition Class\n",
    "# # using a Grouped Reducer\n",
    "# # Divide by 1e6 to get the area in sq.km.\n",
    "# areaImage = ee.Image.pixelArea().divide(1e6).addBands(merged)\n",
    "\n",
    "# areas = areaImage.reduceRegion(**{\n",
    "#       'reducer': ee.Reducer.sum().group(**{\n",
    "#       'groupField': 1,\n",
    "#       'groupName': 'transitions',\n",
    "#     }),\n",
    "#     'geometry': geometry,\n",
    "#     'scale': 30,\n",
    "#     'maxPixels': 1e9\n",
    "#     })"
   ]
  },
  {
   "cell_type": "code",
   "execution_count": 22,
   "id": "00d67a1d",
   "metadata": {},
   "outputs": [
    {
     "name": "stdout",
     "output_type": "stream",
     "text": [
      "{'101': 28, '102': 0, '103': 1, '104': 0, '201': 9, '202': 6, '203': 2, '204': 0, '301': 15, '302': 2, '303': 19, '304': 0, '401': 0, '402': 0, '403': 0, '404': 6}\n"
     ]
    }
   ],
   "source": [
    "# # Post-process the result to generate a clean output\n",
    "# classAreas = ee.List(areas.get('groups'))\n",
    "\n",
    "# def cleanOutput(item):\n",
    "#       areaDict = ee.Dictionary(item)\n",
    "#       classNumber = ee.Number(areaDict.get('transitions')).format()\n",
    "#       area = ee.Number(areaDict.get('sum')).round()\n",
    "#       return ee.List([classNumber, area])\n",
    "\n",
    "# classAreaLists = classAreas.map(cleanOutput)\n",
    "\n",
    "# classTransitionsAreaDict = ee.Dictionary(classAreaLists.flatten())\n",
    "# print(classTransitionsAreaDict.getInfo())"
   ]
  },
  {
   "cell_type": "code",
   "execution_count": 23,
   "id": "6bc10156",
   "metadata": {},
   "outputs": [
    {
     "name": "stdout",
     "output_type": "stream",
     "text": [
      "   Transition  Area\n",
      "0         101    28\n",
      "1         102     0\n",
      "2         103     1\n",
      "3         104     0\n",
      "4         201     9\n",
      "5         202     6\n",
      "6         203     2\n",
      "7         204     0\n",
      "8         301    15\n",
      "9         302     2\n",
      "10        303    19\n",
      "11        304     0\n",
      "12        401     0\n",
      "13        402     0\n",
      "14        403     0\n",
      "15        404     6\n",
      "<class 'pandas.core.frame.DataFrame'>\n"
     ]
    }
   ],
   "source": [
    "# ## Plot the results\n",
    "# import matplotlib.pyplot as plt\n",
    "\n",
    "# import pandas as pd\n",
    "\n",
    "# my_dict = {'101': 28, '102': 0, '103': 1, '104': 0, '201': 9, '202': 6, '203': 2, '204': 0, '301': 15, '302': 2, '303': 19,\n",
    "#            '304': 0, '401': 0, '402': 0, '403': 0, '404': 6}\n",
    "# df = pd.DataFrame(list(my_dict.items()),columns = ['Transition','Area'])\n",
    "\n",
    "# print (df)\n",
    "# print (type(df))"
   ]
  },
  {
   "cell_type": "code",
   "execution_count": 24,
   "id": "cfa19bd1",
   "metadata": {},
   "outputs": [
    {
     "data": {
      "image/png": "[encoded data removed]",
      "text/plain": [
       "<Figure size 432x288 with 1 Axes>"
      ]
     },
     "metadata": {
      "needs_background": "light"
     },
     "output_type": "display_data"
    }
   ],
   "source": [
    "# # a scatter plot comparing num_children and num_pets\n",
    "# df.plot(kind='bar',x='Transition',y='Area',color='red')\n",
    "# plt.show()"
   ]
  },
  {
   "cell_type": "code",
   "execution_count": null,
   "id": "8b5a6e8a",
   "metadata": {},
   "outputs": [],
   "source": []
  }
 ],
 "metadata": {
  "kernelspec": {
   "display_name": "Python 3 (ipykernel)",
   "language": "python",
   "name": "python3"
  },
  "language_info": {
   "codemirror_mode": {
    "name": "ipython",
    "version": 3
   },
   "file_extension": ".py",
   "mimetype": "text/x-python",
   "name": "python",
   "nbconvert_exporter": "python",
   "pygments_lexer": "ipython3",
   "version": "3.8.13"
  }
 },
 "nbformat": 4,
 "nbformat_minor": 5
}
