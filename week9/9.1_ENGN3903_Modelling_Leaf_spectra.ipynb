{
 "cells": [
  {
   "cell_type": "markdown",
   "metadata": {},
   "source": [
    "# Field methods in remote sensing: Modelling leaf spectra\n",
    "\n",
    "- **Prerequisites:** None.\n"
   ]
  },
  {
   "cell_type": "markdown",
   "metadata": {},
   "source": [
    "## Background\n",
    "\n",
    "Quantitative remote sensing is the process of developing models that relate measured biophysical variables to the pixel values in an image. For example, after going to the field and working in the lab you now have a range of measured variables of individual trees that tell you a lot about the potential of the trees to catch fire. We call this 'Flammability', and flammability is driven by the water content in the leaves, and the leaf mass. The normalized difference water index (`NDWI`) is used to monitor changes in water content of vegetation (Gao, 1996), therefore it might be useful to monitor the flammability of eucalyptus trees. \n",
    "\n",
    "Over the past few days you measured the water content and the mass of many leaves, and you used these biophysical variables to quantify the Fuel Moisture Content (FMC) of eucalyptus trees in two plots in the National Arboretum Canberra. However we are interested in estimating the FMC of eucalyptus trees in the Canberra region not just in the Arboretum.\n",
    "\n",
    "To estimate the FMC of eucalyptus trees in the Canberra region, we need to create a model that relates the measured FMC, and a larger dataset like a Sentinel 2 image.\n",
    "\n",
    "\n",
    "## Aims of the practical session\n",
    "\n",
    "The aim of this session is to: \n",
    "- determine how different biophysical variables change the reflectance of the leaves (using simulated spectra),"
   ]
  },
  {
   "cell_type": "markdown",
   "metadata": {},
   "source": [
    "## Description\n",
    "\n",
    "To achieve the aims above, \n",
    "\n",
    "First we will:\n",
    "- Use the simulated leaf spectra to describe how each biochemical component changes the leaf spectra,\n",
    "\n",
    "\n",
    "For this activity, we will use spectra simulated using PROSPECT-D which is a software program that simulates directional–hemispherical reflectance and transmittance from live and senesced leaves over the 400 nm to 2500 nm range of the electromagnetic spectrum (Jacquemoud & Baret, 1990, Fourty et al., 1996, Jacquemoud et al., 1996 and Jacquemoud et al., 2000). ). \n",
    "\n",
    "The absorption of light by photosynthetic pigments which predominates in the visible (VIS) spectrum was long assumed to be entirely caused by chlorophylls, although carotenoids and anthocyanins may also be significant. The absorption of light by water and the leaf structural components (e.g. cellulose and lignin) affects the near infrared (NIR) and short-wave infrared (SWIR) regions of the spectrum. \n",
    "\n",
    "you'll look at them in turn.\n",
    "\n",
    "Let's do it!\n",
    "***"
   ]
  },
  {
   "cell_type": "markdown",
   "metadata": {},
   "source": [
    "## Modelling leaf spectra"
   ]
  },
  {
   "cell_type": "markdown",
   "metadata": {},
   "source": [
    "For this section I've used PROSPECT-D to simulate the reflectance of leaves with different biochemical concentrations. I used the `prosail` python package (https://github.com/jgomezdans/prosail).\n",
    "\n",
    "The parameters used in the models and their units are shown below:\n",
    "\n",
    "|Parameter|Description of parameter|Units|min| max|\n",
    "| --- | --- | --- | --- | --- |\n",
    "|N \t|Leaf structure parameter| \tN/A| \t0.8| \t2.5|\n",
    "|cab \t|Chlorophyll a+b concentration| \tug/cm2| \t0| \t80|\n",
    "|caw \t|Equivalent water thickiness| \tcm| \t0.001| \t0.05|\n",
    "|car \t|Carotenoid concentration| \tug/cm2| \t0.01| \t21|\n",
    "|cm \t|Dry matter content| \tg/cm2| \t0.001| 0.05 |"
   ]
  },
  {
   "cell_type": "markdown",
   "metadata": {},
   "source": [
    "Some useful equations to remember are shown below. I used these equations to calculate `FMC` from the simulated data, and you will have to use them later on.\n",
    "\n",
    "1. Equivalent water thickness (EWT):\n",
    "$$EWT=\\frac{Weight_{(fresh)} - Weight_{(dry)}}{Leaf surface area}$$\n",
    "\n",
    "\n",
    "\n",
    "2. Dry Matter Content (DMC):\n",
    "$$DMC=\\frac{Weight_{(dry)}}{Leaf surface area}$$\n",
    "\n",
    "\n",
    "\n",
    "3. Fuel Moisture Content (FMC):\n",
    "$$FMC = \\frac{Weight_{(fresh)} - Weight_{(dry)}}{Weight_{(dry)}} * 100$$\n",
    "\n",
    "\n",
    "\n",
    "$$FMC = \\frac{EWT}{DMC}$$\n"
   ]
  },
  {
   "cell_type": "markdown",
   "metadata": {},
   "source": [
    "## Load packages\n",
    "Import Python packages that are used for the analysis."
   ]
  },
  {
   "cell_type": "code",
   "execution_count": 1,
   "metadata": {
    "ExecuteTime": {
     "end_time": "2023-10-02T19:40:07.875546Z",
     "start_time": "2023-10-02T19:40:06.873308Z"
    }
   },
   "outputs": [],
   "source": [
    "%matplotlib inline\n",
    "\n",
    "import matplotlib.pyplot as plt\n",
    "import pandas as pd\n",
    "import numpy as np\n",
    "import os"
   ]
  },
  {
   "cell_type": "markdown",
   "metadata": {},
   "source": [
    "## Load the data\n",
    "\n",
    "Here, we'll load the simulated data into a dataframe and plot it; then you will have to answer a couple of questions.\n",
    "\n",
    "You will use the following files:\n",
    "\n",
    "`prospectSimulatedSpectra_Cab.csv` - leaf reflectance using different Chlorophyll a and Chlorophyll b concentrations.\n",
    "\n",
    "`prospectSimulatedSpectra_Car.csv` - leaf reflectance using different Carotenoid concentrations\n",
    "\n",
    "`prospectSimulatedSpectra_DMC.csv` - leaf reflectance using different Dry Matter Content (DMC) values\n",
    "\n",
    "`prospectSimulatedSpectra_EWT.csv` - leaf reflectance using different Equivalent Water Thickness (EWT) values\n",
    "\n",
    "`prospectSimulatedSpectra_FMC.csv` - leaf reflectance using different Fuel Moisture Content (EWT) calculated using the DMC and EWT."
   ]
  },
  {
   "cell_type": "code",
   "execution_count": 2,
   "metadata": {
    "ExecuteTime": {
     "end_time": "2023-10-02T19:40:07.940476Z",
     "start_time": "2023-10-02T19:40:07.875546Z"
    }
   },
   "outputs": [
    {
     "data": {
      "text/html": [
       "<div>\n",
       "<style scoped>\n",
       "    .dataframe tbody tr th:only-of-type {\n",
       "        vertical-align: middle;\n",
       "    }\n",
       "\n",
       "    .dataframe tbody tr th {\n",
       "        vertical-align: top;\n",
       "    }\n",
       "\n",
       "    .dataframe thead th {\n",
       "        text-align: right;\n",
       "    }\n",
       "</style>\n",
       "<table border=\"1\" class=\"dataframe\">\n",
       "  <thead>\n",
       "    <tr style=\"text-align: right;\">\n",
       "      <th></th>\n",
       "      <th>Wavelength</th>\n",
       "      <th>Chloro_0</th>\n",
       "      <th>Chloro_1</th>\n",
       "      <th>Chloro_2</th>\n",
       "      <th>Chloro_3</th>\n",
       "      <th>Chloro_4</th>\n",
       "      <th>Chloro_5</th>\n",
       "      <th>Chloro_6</th>\n",
       "      <th>Chloro_7</th>\n",
       "      <th>Chloro_8</th>\n",
       "      <th>...</th>\n",
       "      <th>Chloro_71</th>\n",
       "      <th>Chloro_72</th>\n",
       "      <th>Chloro_73</th>\n",
       "      <th>Chloro_74</th>\n",
       "      <th>Chloro_75</th>\n",
       "      <th>Chloro_76</th>\n",
       "      <th>Chloro_77</th>\n",
       "      <th>Chloro_78</th>\n",
       "      <th>Chloro_79</th>\n",
       "      <th>Chloro_80</th>\n",
       "    </tr>\n",
       "  </thead>\n",
       "  <tbody>\n",
       "    <tr>\n",
       "      <th>0</th>\n",
       "      <td>400</td>\n",
       "      <td>0.043078</td>\n",
       "      <td>0.043078</td>\n",
       "      <td>0.043078</td>\n",
       "      <td>0.043078</td>\n",
       "      <td>0.043078</td>\n",
       "      <td>0.043078</td>\n",
       "      <td>0.043078</td>\n",
       "      <td>0.043078</td>\n",
       "      <td>0.043078</td>\n",
       "      <td>...</td>\n",
       "      <td>0.043078</td>\n",
       "      <td>0.043078</td>\n",
       "      <td>0.043078</td>\n",
       "      <td>0.043078</td>\n",
       "      <td>0.043078</td>\n",
       "      <td>0.043078</td>\n",
       "      <td>0.043078</td>\n",
       "      <td>0.043078</td>\n",
       "      <td>0.043078</td>\n",
       "      <td>0.043078</td>\n",
       "    </tr>\n",
       "    <tr>\n",
       "      <th>1</th>\n",
       "      <td>401</td>\n",
       "      <td>0.043078</td>\n",
       "      <td>0.043078</td>\n",
       "      <td>0.043078</td>\n",
       "      <td>0.043078</td>\n",
       "      <td>0.043078</td>\n",
       "      <td>0.043078</td>\n",
       "      <td>0.043078</td>\n",
       "      <td>0.043078</td>\n",
       "      <td>0.043078</td>\n",
       "      <td>...</td>\n",
       "      <td>0.043078</td>\n",
       "      <td>0.043078</td>\n",
       "      <td>0.043078</td>\n",
       "      <td>0.043078</td>\n",
       "      <td>0.043078</td>\n",
       "      <td>0.043078</td>\n",
       "      <td>0.043078</td>\n",
       "      <td>0.043078</td>\n",
       "      <td>0.043078</td>\n",
       "      <td>0.043078</td>\n",
       "    </tr>\n",
       "    <tr>\n",
       "      <th>2</th>\n",
       "      <td>402</td>\n",
       "      <td>0.043078</td>\n",
       "      <td>0.043078</td>\n",
       "      <td>0.043078</td>\n",
       "      <td>0.043078</td>\n",
       "      <td>0.043078</td>\n",
       "      <td>0.043078</td>\n",
       "      <td>0.043078</td>\n",
       "      <td>0.043078</td>\n",
       "      <td>0.043078</td>\n",
       "      <td>...</td>\n",
       "      <td>0.043078</td>\n",
       "      <td>0.043078</td>\n",
       "      <td>0.043078</td>\n",
       "      <td>0.043078</td>\n",
       "      <td>0.043078</td>\n",
       "      <td>0.043078</td>\n",
       "      <td>0.043078</td>\n",
       "      <td>0.043078</td>\n",
       "      <td>0.043078</td>\n",
       "      <td>0.043078</td>\n",
       "    </tr>\n",
       "    <tr>\n",
       "      <th>3</th>\n",
       "      <td>403</td>\n",
       "      <td>0.043078</td>\n",
       "      <td>0.043078</td>\n",
       "      <td>0.043078</td>\n",
       "      <td>0.043078</td>\n",
       "      <td>0.043078</td>\n",
       "      <td>0.043078</td>\n",
       "      <td>0.043078</td>\n",
       "      <td>0.043078</td>\n",
       "      <td>0.043078</td>\n",
       "      <td>...</td>\n",
       "      <td>0.043078</td>\n",
       "      <td>0.043078</td>\n",
       "      <td>0.043078</td>\n",
       "      <td>0.043078</td>\n",
       "      <td>0.043078</td>\n",
       "      <td>0.043078</td>\n",
       "      <td>0.043078</td>\n",
       "      <td>0.043078</td>\n",
       "      <td>0.043078</td>\n",
       "      <td>0.043078</td>\n",
       "    </tr>\n",
       "    <tr>\n",
       "      <th>4</th>\n",
       "      <td>404</td>\n",
       "      <td>0.043078</td>\n",
       "      <td>0.043078</td>\n",
       "      <td>0.043078</td>\n",
       "      <td>0.043078</td>\n",
       "      <td>0.043078</td>\n",
       "      <td>0.043078</td>\n",
       "      <td>0.043078</td>\n",
       "      <td>0.043078</td>\n",
       "      <td>0.043078</td>\n",
       "      <td>...</td>\n",
       "      <td>0.043078</td>\n",
       "      <td>0.043078</td>\n",
       "      <td>0.043078</td>\n",
       "      <td>0.043078</td>\n",
       "      <td>0.043078</td>\n",
       "      <td>0.043078</td>\n",
       "      <td>0.043078</td>\n",
       "      <td>0.043078</td>\n",
       "      <td>0.043078</td>\n",
       "      <td>0.043078</td>\n",
       "    </tr>\n",
       "    <tr>\n",
       "      <th>...</th>\n",
       "      <td>...</td>\n",
       "      <td>...</td>\n",
       "      <td>...</td>\n",
       "      <td>...</td>\n",
       "      <td>...</td>\n",
       "      <td>...</td>\n",
       "      <td>...</td>\n",
       "      <td>...</td>\n",
       "      <td>...</td>\n",
       "      <td>...</td>\n",
       "      <td>...</td>\n",
       "      <td>...</td>\n",
       "      <td>...</td>\n",
       "      <td>...</td>\n",
       "      <td>...</td>\n",
       "      <td>...</td>\n",
       "      <td>...</td>\n",
       "      <td>...</td>\n",
       "      <td>...</td>\n",
       "      <td>...</td>\n",
       "      <td>...</td>\n",
       "    </tr>\n",
       "    <tr>\n",
       "      <th>2096</th>\n",
       "      <td>2496</td>\n",
       "      <td>0.015303</td>\n",
       "      <td>0.015303</td>\n",
       "      <td>0.015303</td>\n",
       "      <td>0.015303</td>\n",
       "      <td>0.015303</td>\n",
       "      <td>0.015303</td>\n",
       "      <td>0.015303</td>\n",
       "      <td>0.015303</td>\n",
       "      <td>0.015303</td>\n",
       "      <td>...</td>\n",
       "      <td>0.015303</td>\n",
       "      <td>0.015303</td>\n",
       "      <td>0.015303</td>\n",
       "      <td>0.015303</td>\n",
       "      <td>0.015303</td>\n",
       "      <td>0.015303</td>\n",
       "      <td>0.015303</td>\n",
       "      <td>0.015303</td>\n",
       "      <td>0.015303</td>\n",
       "      <td>0.015303</td>\n",
       "    </tr>\n",
       "    <tr>\n",
       "      <th>2097</th>\n",
       "      <td>2497</td>\n",
       "      <td>0.015323</td>\n",
       "      <td>0.015323</td>\n",
       "      <td>0.015323</td>\n",
       "      <td>0.015323</td>\n",
       "      <td>0.015323</td>\n",
       "      <td>0.015323</td>\n",
       "      <td>0.015323</td>\n",
       "      <td>0.015323</td>\n",
       "      <td>0.015323</td>\n",
       "      <td>...</td>\n",
       "      <td>0.015323</td>\n",
       "      <td>0.015323</td>\n",
       "      <td>0.015323</td>\n",
       "      <td>0.015323</td>\n",
       "      <td>0.015323</td>\n",
       "      <td>0.015323</td>\n",
       "      <td>0.015323</td>\n",
       "      <td>0.015323</td>\n",
       "      <td>0.015323</td>\n",
       "      <td>0.015323</td>\n",
       "    </tr>\n",
       "    <tr>\n",
       "      <th>2098</th>\n",
       "      <td>2498</td>\n",
       "      <td>0.015342</td>\n",
       "      <td>0.015342</td>\n",
       "      <td>0.015342</td>\n",
       "      <td>0.015342</td>\n",
       "      <td>0.015342</td>\n",
       "      <td>0.015342</td>\n",
       "      <td>0.015342</td>\n",
       "      <td>0.015342</td>\n",
       "      <td>0.015342</td>\n",
       "      <td>...</td>\n",
       "      <td>0.015342</td>\n",
       "      <td>0.015342</td>\n",
       "      <td>0.015342</td>\n",
       "      <td>0.015342</td>\n",
       "      <td>0.015342</td>\n",
       "      <td>0.015342</td>\n",
       "      <td>0.015342</td>\n",
       "      <td>0.015342</td>\n",
       "      <td>0.015342</td>\n",
       "      <td>0.015342</td>\n",
       "    </tr>\n",
       "    <tr>\n",
       "      <th>2099</th>\n",
       "      <td>2499</td>\n",
       "      <td>0.015361</td>\n",
       "      <td>0.015361</td>\n",
       "      <td>0.015361</td>\n",
       "      <td>0.015361</td>\n",
       "      <td>0.015361</td>\n",
       "      <td>0.015361</td>\n",
       "      <td>0.015361</td>\n",
       "      <td>0.015361</td>\n",
       "      <td>0.015361</td>\n",
       "      <td>...</td>\n",
       "      <td>0.015361</td>\n",
       "      <td>0.015361</td>\n",
       "      <td>0.015361</td>\n",
       "      <td>0.015361</td>\n",
       "      <td>0.015361</td>\n",
       "      <td>0.015361</td>\n",
       "      <td>0.015361</td>\n",
       "      <td>0.015361</td>\n",
       "      <td>0.015361</td>\n",
       "      <td>0.015361</td>\n",
       "    </tr>\n",
       "    <tr>\n",
       "      <th>2100</th>\n",
       "      <td>2500</td>\n",
       "      <td>0.015381</td>\n",
       "      <td>0.015381</td>\n",
       "      <td>0.015381</td>\n",
       "      <td>0.015381</td>\n",
       "      <td>0.015381</td>\n",
       "      <td>0.015381</td>\n",
       "      <td>0.015381</td>\n",
       "      <td>0.015381</td>\n",
       "      <td>0.015381</td>\n",
       "      <td>...</td>\n",
       "      <td>0.015381</td>\n",
       "      <td>0.015381</td>\n",
       "      <td>0.015381</td>\n",
       "      <td>0.015381</td>\n",
       "      <td>0.015381</td>\n",
       "      <td>0.015381</td>\n",
       "      <td>0.015381</td>\n",
       "      <td>0.015381</td>\n",
       "      <td>0.015381</td>\n",
       "      <td>0.015381</td>\n",
       "    </tr>\n",
       "  </tbody>\n",
       "</table>\n",
       "<p>2101 rows × 82 columns</p>\n",
       "</div>"
      ],
      "text/plain": [
       "      Wavelength  Chloro_0  Chloro_1  Chloro_2  Chloro_3  Chloro_4  Chloro_5  \\\n",
       "0            400  0.043078  0.043078  0.043078  0.043078  0.043078  0.043078   \n",
       "1            401  0.043078  0.043078  0.043078  0.043078  0.043078  0.043078   \n",
       "2            402  0.043078  0.043078  0.043078  0.043078  0.043078  0.043078   \n",
       "3            403  0.043078  0.043078  0.043078  0.043078  0.043078  0.043078   \n",
       "4            404  0.043078  0.043078  0.043078  0.043078  0.043078  0.043078   \n",
       "...          ...       ...       ...       ...       ...       ...       ...   \n",
       "2096        2496  0.015303  0.015303  0.015303  0.015303  0.015303  0.015303   \n",
       "2097        2497  0.015323  0.015323  0.015323  0.015323  0.015323  0.015323   \n",
       "2098        2498  0.015342  0.015342  0.015342  0.015342  0.015342  0.015342   \n",
       "2099        2499  0.015361  0.015361  0.015361  0.015361  0.015361  0.015361   \n",
       "2100        2500  0.015381  0.015381  0.015381  0.015381  0.015381  0.015381   \n",
       "\n",
       "      Chloro_6  Chloro_7  Chloro_8  ...  Chloro_71  Chloro_72  Chloro_73  \\\n",
       "0     0.043078  0.043078  0.043078  ...   0.043078   0.043078   0.043078   \n",
       "1     0.043078  0.043078  0.043078  ...   0.043078   0.043078   0.043078   \n",
       "2     0.043078  0.043078  0.043078  ...   0.043078   0.043078   0.043078   \n",
       "3     0.043078  0.043078  0.043078  ...   0.043078   0.043078   0.043078   \n",
       "4     0.043078  0.043078  0.043078  ...   0.043078   0.043078   0.043078   \n",
       "...        ...       ...       ...  ...        ...        ...        ...   \n",
       "2096  0.015303  0.015303  0.015303  ...   0.015303   0.015303   0.015303   \n",
       "2097  0.015323  0.015323  0.015323  ...   0.015323   0.015323   0.015323   \n",
       "2098  0.015342  0.015342  0.015342  ...   0.015342   0.015342   0.015342   \n",
       "2099  0.015361  0.015361  0.015361  ...   0.015361   0.015361   0.015361   \n",
       "2100  0.015381  0.015381  0.015381  ...   0.015381   0.015381   0.015381   \n",
       "\n",
       "      Chloro_74  Chloro_75  Chloro_76  Chloro_77  Chloro_78  Chloro_79  \\\n",
       "0      0.043078   0.043078   0.043078   0.043078   0.043078   0.043078   \n",
       "1      0.043078   0.043078   0.043078   0.043078   0.043078   0.043078   \n",
       "2      0.043078   0.043078   0.043078   0.043078   0.043078   0.043078   \n",
       "3      0.043078   0.043078   0.043078   0.043078   0.043078   0.043078   \n",
       "4      0.043078   0.043078   0.043078   0.043078   0.043078   0.043078   \n",
       "...         ...        ...        ...        ...        ...        ...   \n",
       "2096   0.015303   0.015303   0.015303   0.015303   0.015303   0.015303   \n",
       "2097   0.015323   0.015323   0.015323   0.015323   0.015323   0.015323   \n",
       "2098   0.015342   0.015342   0.015342   0.015342   0.015342   0.015342   \n",
       "2099   0.015361   0.015361   0.015361   0.015361   0.015361   0.015361   \n",
       "2100   0.015381   0.015381   0.015381   0.015381   0.015381   0.015381   \n",
       "\n",
       "      Chloro_80  \n",
       "0      0.043078  \n",
       "1      0.043078  \n",
       "2      0.043078  \n",
       "3      0.043078  \n",
       "4      0.043078  \n",
       "...         ...  \n",
       "2096   0.015303  \n",
       "2097   0.015323  \n",
       "2098   0.015342  \n",
       "2099   0.015361  \n",
       "2100   0.015381  \n",
       "\n",
       "[2101 rows x 82 columns]"
      ]
     },
     "execution_count": 2,
     "metadata": {},
     "output_type": "execute_result"
    }
   ],
   "source": [
    "# Change the folder path to whereever you saved the spectra from PROSPECT\n",
    "folder = 'simulated/' \n",
    "df_cab = pd.read_csv(folder+'prospectSimulatedSpectra_Cab.csv')\n",
    "df_cab"
   ]
  },
  {
   "cell_type": "markdown",
   "metadata": {},
   "source": [
    "## Plotting the simulated spectra\n",
    "\n",
    "We recommend creating a plot for each individual parameter first, before combining them.\n",
    "\n",
    "Use the following cell as a guide for plotting the simulated spectra and remember that you can choose to plot more columns than what we've selected below."
   ]
  },
  {
   "cell_type": "code",
   "execution_count": 3,
   "metadata": {
    "ExecuteTime": {
     "end_time": "2023-10-02T19:40:08.307405Z",
     "start_time": "2023-10-02T19:40:07.941547Z"
    },
    "scrolled": true
   },
   "outputs": [
    {
     "data": {
      "image/png": "[encoded data removed]",
      "text/plain": [
       "<Figure size 864x360 with 1 Axes>"
      ]
     },
     "metadata": {
      "needs_background": "light"
     },
     "output_type": "display_data"
    }
   ],
   "source": [
    "fig, ax = plt.subplots(figsize=(12,5))\n",
    "\n",
    "df_cab.plot.line(x='Wavelength', y=['Chloro_4', \n",
    "       'Chloro_10', \n",
    "       'Chloro_15',\n",
    "       'Chloro_20', \n",
    "       'Chloro_25', \n",
    "       'Chloro_30',\n",
    "       'Chloro_35',\n",
    "       'Chloro_40', \n",
    "       'Chloro_45',\n",
    "       'Chloro_50', \n",
    "       'Chloro_55', \n",
    "       'Chloro_60', \n",
    "       'Chloro_65', \n",
    "       'Chloro_70', \n",
    "       'Chloro_75', \n",
    "       'Chloro_80'], ax=ax)\n",
    "ax.set_xlim(400,2300)\n",
    "plt.show()"
   ]
  },
  {
   "cell_type": "markdown",
   "metadata": {},
   "source": [
    "<div class=\"alert alert-block alert-danger\">\n",
    "    Exercise 1: describe the changes in the spectra.\n",
    "    \n",
    "- Describe the effect of changing each biochemical compound on the simulated spectra.\n",
    "- Describe the Wavelength range that is affected by each biochemical compound.\n",
    "- Finally, describe ***why*** this happens\n",
    "</div>  "
   ]
  },
  {
   "cell_type": "markdown",
   "metadata": {},
   "source": [
    "Your answer goes here:\n",
    "\n",
    "\n",
    "\n",
    "."
   ]
  },
  {
   "cell_type": "markdown",
   "metadata": {},
   "source": [
    "Above you had a look only at the dataset with changing Chlorophyll values. Repeat the process for the remaining datasets:\n",
    "`prospectSimulatedSpectra_Car.csv`, `prospectSimulatedSpectra_DMC.csv`, and `prospectSimulatedSpectra_EWT.csv`\n",
    "\n",
    "Plot these spectra and answer the questions.\n",
    "Add as many cells below as needed."
   ]
  },
  {
   "cell_type": "code",
   "execution_count": 4,
   "metadata": {
    "ExecuteTime": {
     "end_time": "2023-10-02T19:40:08.312091Z",
     "start_time": "2023-10-02T19:40:08.308153Z"
    }
   },
   "outputs": [],
   "source": [
    "# load and plot the next dataset.\n",
    "\n"
   ]
  },
  {
   "cell_type": "markdown",
   "metadata": {},
   "source": [
    "***"
   ]
  },
  {
   "cell_type": "markdown",
   "metadata": {},
   "source": [
    "## Load measured spectra\n",
    "\n",
    "We will use measured spectra from previous years to compare with the simulated spectra. These measurements come from the work that Jackson Taylor (former ANU student) collected at the National Arboretum as part of his honours project.\n",
    "\n",
    "We'll now load the measured spectra, plot it, and compare it with the simulated spectra. \n",
    "\n",
    "In the `measured` folder, there are several spectra you can use. Plot more spectra if you desire."
   ]
  },
  {
   "cell_type": "code",
   "execution_count": 5,
   "metadata": {
    "ExecuteTime": {
     "end_time": "2023-10-02T19:40:08.344375Z",
     "start_time": "2023-10-02T19:40:08.312539Z"
    }
   },
   "outputs": [
    {
     "data": {
      "text/html": [
       "<div>\n",
       "<style scoped>\n",
       "    .dataframe tbody tr th:only-of-type {\n",
       "        vertical-align: middle;\n",
       "    }\n",
       "\n",
       "    .dataframe tbody tr th {\n",
       "        vertical-align: top;\n",
       "    }\n",
       "\n",
       "    .dataframe thead th {\n",
       "        text-align: right;\n",
       "    }\n",
       "</style>\n",
       "<table border=\"1\" class=\"dataframe\">\n",
       "  <thead>\n",
       "    <tr style=\"text-align: right;\">\n",
       "      <th></th>\n",
       "      <th>MAC_ARB_098_334_210602_L00004.asd</th>\n",
       "    </tr>\n",
       "    <tr>\n",
       "      <th>Wavelength</th>\n",
       "      <th></th>\n",
       "    </tr>\n",
       "  </thead>\n",
       "  <tbody>\n",
       "    <tr>\n",
       "      <th>350</th>\n",
       "      <td>0.020072</td>\n",
       "    </tr>\n",
       "    <tr>\n",
       "      <th>351</th>\n",
       "      <td>-0.407955</td>\n",
       "    </tr>\n",
       "    <tr>\n",
       "      <th>352</th>\n",
       "      <td>-0.427037</td>\n",
       "    </tr>\n",
       "    <tr>\n",
       "      <th>353</th>\n",
       "      <td>0.085457</td>\n",
       "    </tr>\n",
       "    <tr>\n",
       "      <th>354</th>\n",
       "      <td>0.180162</td>\n",
       "    </tr>\n",
       "  </tbody>\n",
       "</table>\n",
       "</div>"
      ],
      "text/plain": [
       "            MAC_ARB_098_334_210602_L00004.asd\n",
       "Wavelength                                   \n",
       "350                                  0.020072\n",
       "351                                 -0.407955\n",
       "352                                 -0.427037\n",
       "353                                  0.085457\n",
       "354                                  0.180162"
      ]
     },
     "execution_count": 5,
     "metadata": {},
     "output_type": "execute_result"
    }
   ],
   "source": [
    "# Lets read the first file and see what it looks like\n",
    "# remember to change the names of the files you're using.\n",
    "\n",
    "measured_spectra1 = pd.read_csv('measured/MAC_ARB_098_334_210602_L00004.asd.txt',\n",
    "                                      sep='\\t',)\n",
    "\n",
    "measured_spectra2 = pd.read_csv('measured/MCL_ARB_055_234_210422_L00002.asd.txt',\n",
    "                               sep='\\t')\n",
    "\n",
    "measured_spectra3 = pd.read_csv('measured/TRI_ARB_099_264_210422_L00003.asd.txt',\n",
    "                               sep='\\t')\n",
    "\n",
    "measured_spectra1.set_index('Wavelength', inplace=True)\n",
    "measured_spectra2.set_index('Wavelength', inplace=True)\n",
    "measured_spectra3.set_index('Wavelength', inplace=True)\n",
    "\n",
    "measured_spectra1.head()"
   ]
  },
  {
   "cell_type": "code",
   "execution_count": 6,
   "metadata": {
    "ExecuteTime": {
     "end_time": "2023-10-02T19:40:08.540491Z",
     "start_time": "2023-10-02T19:40:08.345373Z"
    }
   },
   "outputs": [
    {
     "data": {
      "text/plain": [
       "Text(0.5, 1.0, 'Measured leaf spectra using a field spectroradiometer')"
      ]
     },
     "execution_count": 6,
     "metadata": {},
     "output_type": "execute_result"
    },
    {
     "data": {
      "image/png": "[encoded data removed]",
      "text/plain": [
       "<Figure size 864x576 with 1 Axes>"
      ]
     },
     "metadata": {
      "needs_background": "light"
     },
     "output_type": "display_data"
    }
   ],
   "source": [
    "fig, ax = plt.subplots(figsize = (12,8))\n",
    "measured_spectra1.plot.line(ax=ax)\n",
    "measured_spectra2.plot.line(ax=ax)\n",
    "measured_spectra3.plot.line(ax=ax)\n",
    "\n",
    "ax.set_xlim(400,2300)\n",
    "ax.set_ylim(0,0.6)\n",
    "plt.title('Measured leaf spectra using a field spectroradiometer')"
   ]
  },
  {
   "cell_type": "markdown",
   "metadata": {},
   "source": [
    "<div class=\"alert alert-block alert-danger\">\n",
    "    Exercise 2: compare the simulated spectra with the real spectra\n",
    "    \n",
    "- Describe the main differences between the measured and the simulated spectra.\n",
    "- Where do the spectra differ the most? What do you think the main causes of discrepancy between the two?\n",
    "\n",
    "</div>  "
   ]
  },
  {
   "cell_type": "code",
   "execution_count": 7,
   "metadata": {
    "ExecuteTime": {
     "end_time": "2023-10-02T19:40:08.558060Z",
     "start_time": "2023-10-02T19:40:08.541622Z"
    }
   },
   "outputs": [],
   "source": [
    "# Plot the simulated and the measured spectra\n",
    "\n"
   ]
  },
  {
   "cell_type": "code",
   "execution_count": null,
   "metadata": {},
   "outputs": [],
   "source": []
  },
  {
   "cell_type": "code",
   "execution_count": null,
   "metadata": {},
   "outputs": [],
   "source": []
  },
  {
   "cell_type": "markdown",
   "metadata": {},
   "source": [
    "## References\n",
    "\n",
    "Jacquemoud, S., and Ustin, S. (2019). Leaf optical properties. Cambridge University Press.\n",
    "\n",
    "Feret, J.B., Francois, C., Asner, G.P., Gitelson, A.A., Martin, R.E., Bidel, L.P.R., Ustin, S.L., le Maire, G., Jacquemoud, S. (2008), PROSPECT-4 and 5: Advances in the leaf optical properties model separating photosynthetic pigments. Remote Sens. Environ. 112, 3030-3043.\n",
    "\n",
    "Gao, B. (1996), NDWI—A normalized difference water index for remote sensing of vegetation liquid water from space, Remote Sensing of Environment, Volume 58, Issue 3, https://doi.org/10.1016/S0034-4257(96)00067-3\n",
    "\n",
    "Allen W.A., Gausman H.W., Richardson A.J., Thomas J.R. (1969), Interaction of isotropic ligth with a compact plant leaf, Journal of the Optical Society of American, 59:1376-1379.\n",
    "\n",
    "Stokes G.G. (1862), On the intensity of the light reflected from or transmitted through a pile of plates, Proceedings of the Royal Society of London, 11:545-556.\n",
    "\n",
    "Ritchie, R. J. (2006) ‘Consistent sets of spectrophotometric chlorophyll equations for acetone, methanol and ethanol solvents’, Photosynthesis Research, 89(1), pp. 27–41. doi: 10.1007/s11120-006-9065-9.\n",
    "\n",
    "Sumanta, N. et al. (2014) ‘Spectrophotometric Analysis of Chlorophylls and Carotenoids from Commonly Grown Fern Species by Using Various Extracting Solvents’, Research Journal of Chemical Sciences Res. J. Chem. Sci, 4(9), pp. 2231–606.\n"
   ]
  },
  {
   "cell_type": "markdown",
   "metadata": {},
   "source": [
    "***\n",
    "## Additional information\n",
    "\n",
    "**License:** The code in this notebook was modified by Nicolas Younes.\n",
    "The code in this notebook is licensed under the [Apache License, Version 2.0](https://www.apache.org/licenses/LICENSE-2.0). \n",
    "\n",
    "**Contact:** If you need assistance, please post a question on the ENGN3903 Wattle site \n",
    "\n",
    "**Last modified:** October 2022"
   ]
  }
 ],
 "metadata": {
  "kernelspec": {
   "display_name": "Python 3 (ipykernel)",
   "language": "python",
   "name": "python3"
  },
  "language_info": {
   "codemirror_mode": {
    "name": "ipython",
    "version": 3
   },
   "file_extension": ".py",
   "mimetype": "text/x-python",
   "name": "python",
   "nbconvert_exporter": "python",
   "pygments_lexer": "ipython3",
   "version": "3.9.7"
  },
  "latex_envs": {
   "LaTeX_envs_menu_present": true,
   "autoclose": true,
   "autocomplete": true,
   "bibliofile": "biblio.bib",
   "cite_by": "apalike",
   "current_citInitial": 1,
   "eqLabelWithNumbers": true,
   "eqNumInitial": 1,
   "hotkeys": {
    "equation": "Ctrl-E",
    "itemize": "Ctrl-I"
   },
   "labels_anchors": false,
   "latex_user_defs": false,
   "report_style_numbering": false,
   "user_envs_cfg": false
  },
  "toc": {
   "base_numbering": 1,
   "nav_menu": {
    "height": "339px",
    "width": "378px"
   },
   "number_sections": true,
   "sideBar": true,
   "skip_h1_title": false,
   "title_cell": "Table of Contents",
   "title_sidebar": "Contents",
   "toc_cell": false,
   "toc_position": {
    "height": "calc(100% - 180px)",
    "left": "10px",
    "top": "150px",
    "width": "384px"
   },
   "toc_section_display": true,
   "toc_window_display": true
  },
  "varInspector": {
   "cols": {
    "lenName": 16,
    "lenType": 16,
    "lenVar": 40
   },
   "kernels_config": {
    "python": {
     "delete_cmd_postfix": "",
     "delete_cmd_prefix": "del ",
     "library": "var_list.py",
     "varRefreshCmd": "print(var_dic_list())"
    },
    "r": {
     "delete_cmd_postfix": ") ",
     "delete_cmd_prefix": "rm(",
     "library": "var_list.r",
     "varRefreshCmd": "cat(var_dic_list()) "
    }
   },
   "position": {
    "height": "461.85px",
    "left": "1425.83px",
    "right": "20px",
    "top": "120px",
    "width": "314.167px"
   },
   "types_to_exclude": [
    "module",
    "function",
    "builtin_function_or_method",
    "instance",
    "_Feature"
   ],
   "window_display": false
  },
  "widgets": {
   "application/vnd.jupyter.widget-state+json": {
    "state": {},
    "version_major": 2,
    "version_minor": 0
   }
  }
 },
 "nbformat": 4,
 "nbformat_minor": 4
}
