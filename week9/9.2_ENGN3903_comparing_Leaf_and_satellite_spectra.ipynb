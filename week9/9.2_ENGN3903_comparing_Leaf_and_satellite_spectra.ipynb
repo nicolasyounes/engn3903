{
 "cells": [
  {
   "cell_type": "markdown",
   "metadata": {},
   "source": [
    "# Field methods in remote sensing: Modelling of leaf spectra\n",
    "\n",
    "- **Prerequisites:** You should have access to the data collected in the field and in the laboratory. You should have finished practical 9.1_ENGN3903_Modelling_Leaf_spectra, and should have access to Google Earth Engine.\n"
   ]
  },
  {
   "cell_type": "markdown",
   "metadata": {},
   "source": [
    "## Aims of the practical session\n",
    "\n",
    "The aim of this practical is to show the differences between satellite spectra, simulated leaf spectra, and leaf spectra collected in the field.\n",
    "\n",
    "For this activity, we will use the data you collected in the field, the simulated spectra from previous the practical, and Sentinel 2 data from Google Earth Engine.  "
   ]
  },
  {
   "cell_type": "markdown",
   "metadata": {},
   "source": [
    "## Description\n",
    "\n",
    "To achieve the aims above, \n",
    "\n",
    "First we will:\n",
    "- Load a Sentinel 2 image of the Arboretum region.\n",
    "- Plot the leaf spectra collected in the field,\n",
    "- Plot the simulated leaf spectra from PROSPECT\n",
    "\n",
    "Then we will:\n",
    "- Compare the simulated spectra and spectra collected in the field with the spectral signature of a Sentinel 2 image collected over the Arboretum.\n",
    "\n",
    "Finally you will answer some questions.\n",
    "\n",
    "Let's do it!\n",
    "\n",
    "***"
   ]
  },
  {
   "cell_type": "markdown",
   "metadata": {},
   "source": [
    "## Load packages\n",
    "Import Python packages that are used for the analysis."
   ]
  },
  {
   "cell_type": "code",
   "execution_count": null,
   "metadata": {
    "ExecuteTime": {
     "end_time": "2022-10-05T03:29:54.417131Z",
     "start_time": "2022-10-05T03:29:53.362327Z"
    }
   },
   "outputs": [],
   "source": [
    "%matplotlib inline\n",
    "\n",
    "import matplotlib.pyplot as plt\n",
    "import pandas as pd\n",
    "import numpy as np\n",
    "import sys\n",
    "import os\n",
    "import glob\n",
    "import ee\n",
    "import geemap as gmap"
   ]
  },
  {
   "cell_type": "markdown",
   "metadata": {},
   "source": [
    "### Connect to Google Earth Engine (GEE)\n",
    "\n",
    "Connect to the GEE so we can access GEE datasets and computing assets.\n",
    "You may be required to input your Google account name and password. Please keep those safe and don't share them with anyone."
   ]
  },
  {
   "cell_type": "code",
   "execution_count": null,
   "metadata": {
    "ExecuteTime": {
     "start_time": "2022-10-05T03:29:00.173Z"
    }
   },
   "outputs": [],
   "source": [
    "m = gmap.Map()"
   ]
  },
  {
   "cell_type": "markdown",
   "metadata": {},
   "source": [
    "## Analysis Parameters"
   ]
  },
  {
   "cell_type": "code",
   "execution_count": null,
   "metadata": {
    "ExecuteTime": {
     "end_time": "2022-10-05T03:29:57.004998Z",
     "start_time": "2022-10-05T03:29:56.993972Z"
    }
   },
   "outputs": [],
   "source": [
    "# a short date-range around the time you want the image for\n",
    "date_range = '2023-09-01','2023-09-30'\n",
    "\n",
    "#A geojson that defines the analysis extent\n",
    "geojson = 'https://raw.githubusercontent.com/nicolasyounes/engn3903/main/week8/anu_research_forest.geojson'\n",
    "\n",
    "#the bands from Sentinel-2 that you want\n",
    "bands = ['B2','B3','B4','B5','B6','B7','B8','B8A','B11','B12']\n",
    "\n",
    "#The Projection system to save the data in\n",
    "crs = 'EPSG:3577'"
   ]
  },
  {
   "cell_type": "markdown",
   "metadata": {},
   "source": [
    "## Open Geometery defining AOI"
   ]
  },
  {
   "cell_type": "code",
   "execution_count": null,
   "metadata": {
    "ExecuteTime": {
     "end_time": "2022-10-05T03:29:58.748928Z",
     "start_time": "2022-10-05T03:29:58.449599Z"
    }
   },
   "outputs": [],
   "source": [
    "geometry = gmap.geojson_to_ee(geojson)"
   ]
  },
  {
   "cell_type": "markdown",
   "metadata": {},
   "source": [
    "## Load Sentinel 2 image"
   ]
  },
  {
   "cell_type": "code",
   "execution_count": null,
   "metadata": {
    "ExecuteTime": {
     "end_time": "2022-10-05T03:30:16.417598Z",
     "start_time": "2022-10-05T03:30:16.354802Z"
    }
   },
   "outputs": [],
   "source": [
    "def maskS2clouds(image):\n",
    "    qa = image.select('QA60')\n",
    "    # Bits 10 and 11 are clouds and cirrus, respectively.\n",
    "    cloudBitMask = 1 << 10\n",
    "    cirrusBitMask = 1 << 11\n",
    "    # Both flags should be set to zero, indicating clear conditions.\n",
    "    mask = qa.bitwiseAnd(cloudBitMask).eq(0) \\\n",
    "        .And(qa.bitwiseAnd(cirrusBitMask).eq(0))\n",
    "    \n",
    "    return image.updateMask(mask).divide(10000) #re-scale \n",
    "\n",
    "\n",
    "s2 = (\n",
    "    ee.ImageCollection('COPERNICUS/S2_SR_HARMONIZED')\n",
    "    .filterBounds(geometry)\n",
    "    .filterDate(date_range[0], date_range[1]) \n",
    "    .filter(ee.Filter.lt('CLOUDY_PIXEL_PERCENTAGE',20)) #filter out very cloudy images\n",
    "    .map(maskS2clouds) #map the cloudmasking/rescaling function\n",
    "    .select(bands)\n",
    "    .median() #collapse time-dimension using median statistic\n",
    "    .clip(geometry)\n",
    ")"
   ]
  },
  {
   "cell_type": "markdown",
   "metadata": {},
   "source": [
    "## Visualize image"
   ]
  },
  {
   "cell_type": "code",
   "execution_count": null,
   "metadata": {
    "ExecuteTime": {
     "end_time": "2022-10-05T03:30:23.127517Z",
     "start_time": "2022-10-05T03:30:18.209629Z"
    }
   },
   "outputs": [],
   "source": [
    "# Lastly, let's give some visualization paramaters to each collection.\n",
    "s2VisParam = {'bands': [\"B4\",\"B3\",\"B2\"],\n",
    "              'max': 0.3,\n",
    "              'min': 0}\n",
    "\n",
    "\n",
    "# Let's add the polygon to the map\n",
    "Map = gmap.Map(center=[-35.30339, 149.06204], zoom=15)              \n",
    "Map.addLayer(s2, s2VisParam, 's2')\n",
    "Map.addLayerControl()\n",
    "Map"
   ]
  },
  {
   "cell_type": "markdown",
   "metadata": {},
   "source": [
    "## Extract the spectral signature of trees in the Arboretum.\n",
    "\n",
    "Here, we'll create a pandas DataFrame indexed by Land Cover Type.  Locate the Eucalyptus forest in the Arboretum, and add it to the list of land covers, use the inspector tool to find the values of several pixels of the Eucalyptus forest.  Add the values from the inspector tool to the 'pixelValues' dictionary. You can also add other vegetation types for comparison.\n",
    "\n",
    "**Excercise tip:** Use all bands except for (B1, B9, and B10) for this excercise. You can find more information [here](https://docs.dea.ga.gov.au/notebooks/DEA_products/DEA_Sentinel2_Surface_Reflectance.html), and [here](https://sentinel.esa.int/web/sentinel/user-guides/sentinel-2-msi/resolutions/spectral).\n",
    "\n",
    "**Excercise tip:** If you need to remember how to do this, look at the practicals from week 2.\n",
    "\n",
    "\n"
   ]
  },
  {
   "cell_type": "code",
   "execution_count": null,
   "metadata": {},
   "outputs": [],
   "source": [
    "#the bands from Sentinel-2 that you want (add more than this!)\n",
    "bands = ['B2','B3','B4','B7']\n",
    "\n",
    "#Enter a few repeated pixel values for a series of landcover types\n",
    "pixel_values = {\n",
    "    # Landcover : [b2-value, b3-value, etc.]\n",
    "    'Eucalypt1' :[0.3 , 0.5, 0.2, 0.1],\n",
    "    'Eucalypt2' :[0.8, .3, .02, .2],\n",
    "    'Eucalypt3':[.08, .04, .3, .3],\n",
    "    'Eucalypt4':[0, .5, .4, .3],\n",
    "}\n",
    "\n",
    "#combine the data into a pandas dataframe\n",
    "df_sentinel  = pd.DataFrame(pixel_values, index=bands)\n",
    "df_sentinel .head()"
   ]
  },
  {
   "cell_type": "code",
   "execution_count": null,
   "metadata": {},
   "outputs": [],
   "source": [
    "fig, ax = plt.subplots(figsize=(8,5))\n",
    "df_sentinel.plot(ax=ax, marker='o', linestyle='-.')\n",
    "ax.legend()\n",
    "ax.set_title('Spectral signature for various landcover types')\n",
    "ax.set_xlabel('Band (EM spectrum)')\n",
    "ax.set_ylabel('S2 Relfectance value');"
   ]
  },
  {
   "cell_type": "markdown",
   "metadata": {},
   "source": [
    "## Plot the simulated and field leaf spectra\n",
    "\n",
    "See practical 9.1_ENGN3903_Modelling_Leaf_spectra if you need a refresher on how to do this.\n",
    "\n",
    "You will use the following files:\n",
    "\n",
    "`prospectSimulatedSpectra_Cab.csv` - leaf reflectance using different Chlorophyll a and Chlorophyll b concentrations.\n",
    "\n",
    "`prospectSimulatedSpectra_Car.csv` - leaf reflectance using different Carotenoid concentrations\n",
    "\n",
    "`prospectSimulatedSpectra_DMC.csv` - leaf reflectance using different Dry Matter Content (DMC) values\n",
    "\n",
    "`prospectSimulatedSpectra_EWT.csv` - leaf reflectance using different Equivalent Water Thickness (EWT) values\n",
    "\n",
    "`prospectSimulatedSpectra_FMC.csv` - leaf reflectance using different Fuel Moisture Content (EWT) calculated using the DMC and EWT."
   ]
  },
  {
   "cell_type": "code",
   "execution_count": null,
   "metadata": {
    "ExecuteTime": {
     "end_time": "2023-10-02T20:46:32.137032Z",
     "start_time": "2023-10-02T20:46:31.675287Z"
    }
   },
   "outputs": [],
   "source": [
    "# Change the folder path to whereever you saved the spectra from PROSPECT\n",
    "folder = '/scratch/du53/cb3058/engn3903/week9/simulated/' \n",
    "\n",
    "df_cab = pd.read_csv(folder+'prospectSimulatedSpectra_Cab.csv')\n",
    "df_cab"
   ]
  },
  {
   "cell_type": "code",
   "execution_count": null,
   "metadata": {
    "ExecuteTime": {
     "end_time": "2022-10-05T03:30:29.830326Z",
     "start_time": "2022-10-05T03:30:29.553603Z"
    }
   },
   "outputs": [],
   "source": [
    "fig, ax = plt.subplots(figsize=(12,5))\n",
    "\n",
    "df_cab.plot.line(x='Wavelength', y=['Chloro_4', \n",
    "       'Chloro_10', \n",
    "       'Chloro_15',\n",
    "       'Chloro_20', \n",
    "       'Chloro_25', \n",
    "       'Chloro_30',\n",
    "       'Chloro_35',\n",
    "       'Chloro_40', \n",
    "       'Chloro_45',\n",
    "       'Chloro_50', \n",
    "       'Chloro_55', \n",
    "       'Chloro_60', \n",
    "       'Chloro_65', \n",
    "       'Chloro_70', \n",
    "       'Chloro_75', \n",
    "       'Chloro_80'], ax=ax)\n",
    "ax.set_xlim(400,2300)\n",
    "plt.show()"
   ]
  },
  {
   "cell_type": "markdown",
   "metadata": {},
   "source": [
    "## Load and Plot the measured spectra"
   ]
  },
  {
   "cell_type": "code",
   "execution_count": null,
   "metadata": {
    "ExecuteTime": {
     "end_time": "2023-10-02T20:50:11.019986Z",
     "start_time": "2023-10-02T20:50:11.015573Z"
    }
   },
   "outputs": [],
   "source": [
    "# Load the measured spectra from the 'measured' forlder\n",
    "# remember to change the names of the files you're using.\n",
    "meas_folder = '/scratch/du53/cb3058/engn3903/week9/measured/'\n",
    "\n",
    "measured_spectra1 = pd.read_csv(meas_folder+'MAC_ARB_098_334_210602_L00004.asd.txt',\n",
    "                                      sep='\\t',)\n",
    "\n",
    "measured_spectra1.set_index('Wavelength', inplace=True)\n",
    "measured_spectra1.head()\n",
    "\n",
    "# Load as many spectra as needed."
   ]
  },
  {
   "cell_type": "markdown",
   "metadata": {},
   "source": [
    "## Plot the three types of spectra (satellite, simulated, and measured)"
   ]
  },
  {
   "cell_type": "code",
   "execution_count": null,
   "metadata": {
    "ExecuteTime": {
     "end_time": "2022-10-05T03:34:16.844684Z",
     "start_time": "2022-10-05T03:34:16.609474Z"
    }
   },
   "outputs": [],
   "source": [
    "fig, (ax, ax2, ax3) = plt.subplots(3,1, figsize = (12,10))\n",
    "\n",
    "# plot the simulated spectra\n",
    "df_cab.plot.line(x='Wavelength', y=['Chloro_4','Chloro_80'], ax=ax)\n",
    "\n",
    "# Plot the measured spectra\n",
    "measured_spectra1.plot.line(ax=ax2)\n",
    "\n",
    "# plot the Sentinel 2 spectra\n",
    "df_sentinel.plot(ax=ax3, marker='o', linestyle='-.')\n",
    "\n",
    "ax2.get_legend().remove\n",
    "\n",
    "plt.show()"
   ]
  },
  {
   "cell_type": "markdown",
   "metadata": {},
   "source": [
    "***"
   ]
  },
  {
   "cell_type": "markdown",
   "metadata": {},
   "source": [
    "<div class=\"alert alert-block alert-danger\">\n",
    "    \n",
    "## Exercise 1: compare the measured and simulated spectra with the spectra from Sentinel 2\n",
    "    \n",
    "- Describe the main differences between the three spectra.\n",
    "- Can you tell the difference between two different vegetation types using only the Sentinel 2 spectra?\n",
    "- What are the advantages of using Sentinel 2 data over field or simulated spectra?\n",
    "- What are the advantages of using field or simulated spectra over Sentinel 2 data?\n",
    "\n",
    "</div>  "
   ]
  },
  {
   "cell_type": "markdown",
   "metadata": {},
   "source": [
    "***\n",
    "## Additional information\n",
    "\n",
    "**License:** The code in this notebook was modified by Nicolas Younes and Chad Burton. The code in this notebook is licensed under the [Apache License, Version 2.0](https://www.apache.org/licenses/LICENSE-2.0). \n",
    "\n",
    "**Contact:** If you need assistance, please post a question on the ENGN3903 Wattle site \n",
    "\n",
    "**Last modified:** October 2023"
   ]
  }
 ],
 "metadata": {
  "kernelspec": {
   "display_name": "Python 3 (ipykernel)",
   "language": "python",
   "name": "python3"
  },
  "language_info": {
   "codemirror_mode": {
    "name": "ipython",
    "version": 3
   },
   "file_extension": ".py",
   "mimetype": "text/x-python",
   "name": "python",
   "nbconvert_exporter": "python",
   "pygments_lexer": "ipython3",
   "version": "3.9.2"
  },
  "latex_envs": {
   "LaTeX_envs_menu_present": true,
   "autoclose": true,
   "autocomplete": true,
   "bibliofile": "biblio.bib",
   "cite_by": "apalike",
   "current_citInitial": 1,
   "eqLabelWithNumbers": true,
   "eqNumInitial": 1,
   "hotkeys": {
    "equation": "Ctrl-E",
    "itemize": "Ctrl-I"
   },
   "labels_anchors": false,
   "latex_user_defs": false,
   "report_style_numbering": false,
   "user_envs_cfg": false
  },
  "toc": {
   "base_numbering": 1,
   "nav_menu": {
    "height": "339px",
    "width": "378px"
   },
   "number_sections": true,
   "sideBar": true,
   "skip_h1_title": false,
   "title_cell": "Table of Contents",
   "title_sidebar": "Contents",
   "toc_cell": false,
   "toc_position": {
    "height": "calc(100% - 180px)",
    "left": "10px",
    "top": "150px",
    "width": "165px"
   },
   "toc_section_display": true,
   "toc_window_display": true
  },
  "varInspector": {
   "cols": {
    "lenName": 16,
    "lenType": 16,
    "lenVar": 40
   },
   "kernels_config": {
    "python": {
     "delete_cmd_postfix": "",
     "delete_cmd_prefix": "del ",
     "library": "var_list.py",
     "varRefreshCmd": "print(var_dic_list())"
    },
    "r": {
     "delete_cmd_postfix": ") ",
     "delete_cmd_prefix": "rm(",
     "library": "var_list.r",
     "varRefreshCmd": "cat(var_dic_list()) "
    }
   },
   "position": {
    "height": "461.85px",
    "left": "1425.83px",
    "right": "20px",
    "top": "120px",
    "width": "314.167px"
   },
   "types_to_exclude": [
    "module",
    "function",
    "builtin_function_or_method",
    "instance",
    "_Feature"
   ],
   "window_display": false
  },
  "widgets": {
   "application/vnd.jupyter.widget-state+json": {
    "state": {},
    "version_major": 2,
    "version_minor": 0
   }
  }
 },
 "nbformat": 4,
 "nbformat_minor": 4
}
