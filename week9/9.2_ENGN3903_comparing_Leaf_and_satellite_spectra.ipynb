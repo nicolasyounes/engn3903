{
 "cells": [
  {
   "cell_type": "markdown",
   "metadata": {},
   "source": [
    "# Field methods in remote sensing: Modelling of leaf spectra\n",
    "\n",
    "- **Prerequisites:** You should have access to the data collected in the field and in the laboratory. You should have finished practical 9.1_ENGN3903_Modelling_Leaf_spectra, and should have access to Google Earth Engine.\n"
   ]
  },
  {
   "cell_type": "markdown",
   "metadata": {},
   "source": [
    "## Aims of the practical session\n",
    "\n",
    "The aim of this practical is to show the differences between satellite spectra, simulated leaf spectra, and leaf spectra collected in the field.\n",
    "\n",
    "For this activity, we will use the data you collected in the field, the simulated spectra from previous the practical, and Sentinel 2 data from Google Earth Engine.  "
   ]
  },
  {
   "cell_type": "markdown",
   "metadata": {},
   "source": [
    "## Description\n",
    "\n",
    "To achieve the aims above, \n",
    "\n",
    "First we will:\n",
    "- Load a Sentinel 2 image of the Arboretum region.\n",
    "- Plot the leaf spectra collected in the field,\n",
    "- Plot the simulated leaf spectra from PROSPECT\n",
    "\n",
    "Then we will:\n",
    "- Compare the simulated spectra and spectra collected in the field with the spectral signature of a Sentinel 2 image collected over the Arboretum.\n",
    "\n",
    "Finally you will answer some questions.\n",
    "\n",
    "Let's do it!\n",
    "\n",
    "***"
   ]
  },
  {
   "cell_type": "markdown",
   "metadata": {},
   "source": [
    "## Load packages\n",
    "Import Python packages that are used for the analysis."
   ]
  },
  {
   "cell_type": "code",
   "execution_count": null,
   "metadata": {
    "ExecuteTime": {
     "end_time": "2022-10-05T03:29:54.417131Z",
     "start_time": "2022-10-05T03:29:53.362327Z"
    }
   },
   "outputs": [],
   "source": [
    "%matplotlib inline\n",
    "\n",
    "import matplotlib.pyplot as plt\n",
    "import pandas as pd\n",
    "import numpy as np\n",
    "import sys\n",
    "import os\n",
    "import glob\n",
    "import ee\n",
    "import geemap as gmap"
   ]
  },
  {
   "cell_type": "markdown",
   "metadata": {},
   "source": [
    "### Connect to Google Earth Engine (GEE)\n",
    "\n",
    "Connect to the GEE so we can access GEE datasets and computing assets.\n",
    "You may be required to input your Google account name and password. Please keep those safe and don't share them with anyone."
   ]
  },
  {
   "cell_type": "code",
   "execution_count": null,
   "metadata": {
    "ExecuteTime": {
     "start_time": "2022-10-05T03:29:00.173Z"
    }
   },
   "outputs": [],
   "source": [
    "m = gmap.Map()"
   ]
  },
  {
   "cell_type": "markdown",
   "metadata": {},
   "source": [
    "## Analysis Parameters"
   ]
  },
  {
   "cell_type": "code",
   "execution_count": null,
   "metadata": {
    "ExecuteTime": {
     "end_time": "2022-10-05T03:29:57.004998Z",
     "start_time": "2022-10-05T03:29:56.993972Z"
    }
   },
   "outputs": [],
   "source": [
    "# a short date-range around the time you want the image for\n",
    "date_range = '2022-09-01','2022-09-30'\n",
    "\n",
    "#A geojson that defines the analysis extent\n",
    "geojson = 'https://raw.githubusercontent.com/nicolasyounes/engn3903/main/week8/anu_research_forest.geojson'\n",
    "\n",
    "#the bands from Sentinel-2 that you want\n",
    "bands = ['B2','B3','B4','B5','B6','B7','B8','B8A','B11','B12']\n",
    "\n",
    "#The Projection system to save the data in\n",
    "crs = 'EPSG:3577'"
   ]
  },
  {
   "cell_type": "markdown",
   "metadata": {},
   "source": [
    "## Open Geometery defining AOI"
   ]
  },
  {
   "cell_type": "code",
   "execution_count": null,
   "metadata": {
    "ExecuteTime": {
     "end_time": "2022-10-05T03:29:58.748928Z",
     "start_time": "2022-10-05T03:29:58.449599Z"
    }
   },
   "outputs": [],
   "source": [
    "geometry = gmap.geojson_to_ee(geojson)"
   ]
  },
  {
   "cell_type": "markdown",
   "metadata": {},
   "source": [
    "## Load Sentinel 2 image"
   ]
  },
  {
   "cell_type": "code",
   "execution_count": null,
   "metadata": {
    "ExecuteTime": {
     "end_time": "2022-10-05T03:30:16.417598Z",
     "start_time": "2022-10-05T03:30:16.354802Z"
    }
   },
   "outputs": [],
   "source": [
    "def maskS2clouds(image):\n",
    "    qa = image.select('QA60')\n",
    "    # Bits 10 and 11 are clouds and cirrus, respectively.\n",
    "    cloudBitMask = 1 << 10\n",
    "    cirrusBitMask = 1 << 11\n",
    "    # Both flags should be set to zero, indicating clear conditions.\n",
    "    mask = qa.bitwiseAnd(cloudBitMask).eq(0) \\\n",
    "        .And(qa.bitwiseAnd(cirrusBitMask).eq(0))\n",
    "    \n",
    "    return image.updateMask(mask).divide(10000) #re-scale \n",
    "\n",
    "\n",
    "s2 = (\n",
    "    ee.ImageCollection('COPERNICUS/S2_SR_HARMONIZED')\n",
    "    .filterBounds(geometry)\n",
    "    .filterDate(date_range[0], date_range[1]) \n",
    "    .filter(ee.Filter.lt('CLOUDY_PIXEL_PERCENTAGE',20)) #filter out very cloudy images\n",
    "    .map(maskS2clouds) #map the cloudmasking/rescaling function\n",
    "    .select(bands)\n",
    "    .median() #collapse time-dimension using median statistic\n",
    "    .clip(geometry)\n",
    ")"
   ]
  },
  {
   "cell_type": "markdown",
   "metadata": {},
   "source": [
    "## Visualize image"
   ]
  },
  {
   "cell_type": "code",
   "execution_count": null,
   "metadata": {
    "ExecuteTime": {
     "end_time": "2022-10-05T03:30:23.127517Z",
     "start_time": "2022-10-05T03:30:18.209629Z"
    }
   },
   "outputs": [],
   "source": [
    "# Lastly, let's give some visualization paramaters to each collection.\n",
    "s2VisParam = {'bands': [\"B4\",\"B3\",\"B2\"],\n",
    "              'max': 0.3,\n",
    "              'min': 0}\n",
    "\n",
    "\n",
    "# Let's add the polygon to the map\n",
    "Map = gmap.Map(center=[-35.30339, 149.06204], zoom=15)              \n",
    "Map.addLayer(s2, s2VisParam, 's2')\n",
    "Map.addLayerControl()\n",
    "Map"
   ]
  },
  {
   "cell_type": "markdown",
   "metadata": {},
   "source": [
    "## Extract the spectral signature of trees in the Arboretum.\n",
    "\n",
    "**Excercise tip:** Use all bands except for (B1, B9, and B10) for this excercise. You can find more information [here](https://docs.dea.ga.gov.au/notebooks/DEA_datasets/Sentinel_2.html), and [here](https://sentinel.esa.int/web/sentinel/user-guides/sentinel-2-msi/resolutions/radiometric).\n",
    "\n",
    "**Excercise tip:** If you need to remember how to do this, look at the practicals from week 2.\n"
   ]
  },
  {
   "cell_type": "code",
   "execution_count": null,
   "metadata": {
    "ExecuteTime": {
     "end_time": "2022-10-05T03:30:25.135084Z",
     "start_time": "2022-10-05T03:30:25.105636Z"
    }
   },
   "outputs": [],
   "source": [
    "# Here, we'll create a pandas DataFrame indexed by Land Cover Type\n",
    "# Locate the Eucalyptus forest in the Arboretum, and add it to the list of land covers,\n",
    "# Use the inspector tool to find the values of several pixels of the Eucalyptus forest,\n",
    "# Add the values from the inspector tool to the 'pixelValues' dictionary.\n",
    "# You can also add other vegetation types for comparison.\n",
    "\n",
    "landCover = ['Eucalypt_pixel1',\n",
    "             'Eucalypt_pixel4',\n",
    "             'Eucalypt_pixel3',\n",
    "             'Eucalypt_pixel2',\n",
    "            # Add more rows if required\n",
    "            ]\n",
    "\n",
    "pixelValues = {\n",
    "    'Band2': [0.3 , 0.8, 0.08, 0.0],\n",
    "    'Band3': [0.5, .3, .04, .5],\n",
    "    'Band4': [.2, .2, .3, .4],\n",
    "    'Band7': [.1, .2, .3, .3],\n",
    "        # Add other bands if required\n",
    "       }\n",
    "\n",
    "# Now we create a pandas DataFrame, using the 'data' dictionary\n",
    "df = pd.DataFrame(pixelValues, index = landCover)\n",
    "df"
   ]
  },
  {
   "cell_type": "code",
   "execution_count": null,
   "metadata": {
    "ExecuteTime": {
     "end_time": "2022-10-05T03:30:26.245105Z",
     "start_time": "2022-10-05T03:30:26.001735Z"
    }
   },
   "outputs": [],
   "source": [
    "fig, ax = plt.subplots()\n",
    "\n",
    "# We plot the data on each row independently\n",
    "for index, row in df.iterrows():\n",
    "    ax.plot(row, label = row.name)\n",
    "plt.legend()\n",
    "plt.show()"
   ]
  },
  {
   "cell_type": "markdown",
   "metadata": {},
   "source": [
    "## Plot the simulated and field leaf spectra\n",
    "\n",
    "See practical 9.1_ENGN3903_Modelling_Leaf_spectra if you need a refresher on how to do this.\n",
    "\n",
    "> **Excercise tip:** Use only the simulated spectra where you changed all the parameters, that is, the most realistic simulations you created.\n",
    "    "
   ]
  },
  {
   "cell_type": "code",
   "execution_count": null,
   "metadata": {
    "ExecuteTime": {
     "end_time": "2022-10-05T03:30:27.452480Z",
     "start_time": "2022-10-05T03:30:27.441509Z"
    }
   },
   "outputs": [],
   "source": [
    "# Change the folder path to whereever you saved the spectra from PROSPECT\n",
    "folder = 'simulated/' \n",
    "\n",
    "# Find all `*.TXT` files in the directory or folder\n",
    "file_list = [folder+file for file in os.listdir(folder) if file.endswith('.txt')]\n",
    "\n",
    "# Print the number of `*.txt` files in the folder\n",
    "print('there are ', len(file_list), ' *.txt files in ', folder)"
   ]
  },
  {
   "cell_type": "code",
   "execution_count": null,
   "metadata": {
    "ExecuteTime": {
     "end_time": "2022-10-05T03:30:28.796303Z",
     "start_time": "2022-10-05T03:30:28.609781Z"
    }
   },
   "outputs": [],
   "source": [
    "dfs=[]\n",
    "for i in range(0,len(file_list)):\n",
    "    data = pd.read_fwf(file_list[i], sep=' ',widths=[4,7,7], \n",
    "                  header=None, \n",
    "                  names=[\"Wavelength\", \"Reflectance\", \"Transmittance\"]\n",
    "                      ).drop(['Transmittance'], axis=1)\n",
    "    #data['Wavelength'].astype('int64')\n",
    "    data.set_index('Wavelength', inplace=True)\n",
    "    dfs.append(data)\n",
    "    # print(data)\n",
    "\n",
    "main_dataframe = pd.concat(dfs, axis = 1)\n",
    "main_dataframe"
   ]
  },
  {
   "cell_type": "code",
   "execution_count": null,
   "metadata": {
    "ExecuteTime": {
     "end_time": "2022-10-05T03:30:29.830326Z",
     "start_time": "2022-10-05T03:30:29.553603Z"
    }
   },
   "outputs": [],
   "source": [
    "main_dataframe.plot.line(figsize=(15,6),\n",
    "                        title = 'Simulated leaf spectra using PROSPECT')"
   ]
  },
  {
   "cell_type": "markdown",
   "metadata": {},
   "source": [
    "## Load and Plot the measured spectra"
   ]
  },
  {
   "cell_type": "code",
   "execution_count": null,
   "metadata": {
    "ExecuteTime": {
     "end_time": "2022-10-05T03:30:33.120380Z",
     "start_time": "2022-10-05T03:30:33.057523Z"
    }
   },
   "outputs": [],
   "source": [
    "# Lets read the first file and see what it looks like\n",
    "# remember to change the names of the files you're using.\n",
    "folder='measured/'\n",
    "measured_spectra1 = pd.read_csv(folder+'MAC_ARB_098_044_210422_L00001.asd.txt',\n",
    "                                      sep='\\t',)\n",
    "\n",
    "measured_spectra2 = pd.read_csv(folder+'MAC_ARB_098_xx4_310321_L00001.asd.txt',\n",
    "                               sep='\\t')\n",
    "\n",
    "measured_spectra1.set_index('Wavelength', inplace=True)\n",
    "measured_spectra2.set_index('Wavelength', inplace=True)\n",
    "\n",
    "measured_spectra1.head()"
   ]
  },
  {
   "cell_type": "markdown",
   "metadata": {},
   "source": [
    "## Plot the three types of spectra (satellite, simulated, and measured)"
   ]
  },
  {
   "cell_type": "code",
   "execution_count": null,
   "metadata": {
    "ExecuteTime": {
     "end_time": "2022-10-05T03:34:16.844684Z",
     "start_time": "2022-10-05T03:34:16.609474Z"
    }
   },
   "outputs": [],
   "source": [
    "fig, (ax1, ax2) = plt.subplots(2,1, figsize = (12,10))\n",
    "\n",
    "# plot the simulated spectra\n",
    "main_dataframe.plot.line(ax=ax1)\n",
    "# Plot the measured spectra\n",
    "measured_spectra1.plot.line(ax=ax1)\n",
    "# plot the Sentinel 2 spectra\n",
    "for index, row in df.iterrows():\n",
    "    ax2.plot(row, label = row.name)\n",
    "\n",
    "ax1.get_legend().remove()\n",
    "\n",
    "plt.show()"
   ]
  },
  {
   "cell_type": "markdown",
   "metadata": {},
   "source": [
    "***"
   ]
  },
  {
   "cell_type": "markdown",
   "metadata": {},
   "source": [
    "<div class=\"alert alert-block alert-danger\">\n",
    "    Exercise 1: compare the measured and simulated spectra with the spectra from Sentinel 2\n",
    "    \n",
    "- Describe the main differences between the three spectra.\n",
    "- Can you tell the difference between two different vegetation types using only the Sentinel 2 spectra?\n",
    "- What are the advantages of using Sentinel 2 data over field or simulated spectra?\n",
    "- What are the advantages of using field or simulated spectra over Sentinel 2 data?\n",
    "\n",
    "</div>  "
   ]
  },
  {
   "cell_type": "markdown",
   "metadata": {},
   "source": [
    "***\n",
    "## Additional information\n",
    "\n",
    "**License:** The code in this notebook was modified by Nicolas Younes and Chad Burton. The code in this notebook is licensed under the [Apache License, Version 2.0](https://www.apache.org/licenses/LICENSE-2.0). \n",
    "\n",
    "**Contact:** If you need assistance, please post a question on the ENGN3903 Wattle site \n",
    "\n",
    "**Last modified:** October 2022"
   ]
  }
 ],
 "metadata": {
  "kernelspec": {
   "display_name": "Python 3 (ipykernel)",
   "language": "python",
   "name": "python3"
  },
  "language_info": {
   "codemirror_mode": {
    "name": "ipython",
    "version": 3
   },
   "file_extension": ".py",
   "mimetype": "text/x-python",
   "name": "python",
   "nbconvert_exporter": "python",
   "pygments_lexer": "ipython3",
   "version": "3.10.4"
  },
  "latex_envs": {
   "LaTeX_envs_menu_present": true,
   "autoclose": true,
   "autocomplete": true,
   "bibliofile": "biblio.bib",
   "cite_by": "apalike",
   "current_citInitial": 1,
   "eqLabelWithNumbers": true,
   "eqNumInitial": 1,
   "hotkeys": {
    "equation": "Ctrl-E",
    "itemize": "Ctrl-I"
   },
   "labels_anchors": false,
   "latex_user_defs": false,
   "report_style_numbering": false,
   "user_envs_cfg": false
  },
  "toc": {
   "base_numbering": 1,
   "nav_menu": {
    "height": "339px",
    "width": "378px"
   },
   "number_sections": true,
   "sideBar": true,
   "skip_h1_title": false,
   "title_cell": "Table of Contents",
   "title_sidebar": "Contents",
   "toc_cell": false,
   "toc_position": {
    "height": "calc(100% - 180px)",
    "left": "10px",
    "top": "150px",
    "width": "165px"
   },
   "toc_section_display": true,
   "toc_window_display": true
  },
  "varInspector": {
   "cols": {
    "lenName": 16,
    "lenType": 16,
    "lenVar": 40
   },
   "kernels_config": {
    "python": {
     "delete_cmd_postfix": "",
     "delete_cmd_prefix": "del ",
     "library": "var_list.py",
     "varRefreshCmd": "print(var_dic_list())"
    },
    "r": {
     "delete_cmd_postfix": ") ",
     "delete_cmd_prefix": "rm(",
     "library": "var_list.r",
     "varRefreshCmd": "cat(var_dic_list()) "
    }
   },
   "position": {
    "height": "461.85px",
    "left": "1425.83px",
    "right": "20px",
    "top": "120px",
    "width": "314.167px"
   },
   "types_to_exclude": [
    "module",
    "function",
    "builtin_function_or_method",
    "instance",
    "_Feature"
   ],
   "window_display": false
  },
  "widgets": {
   "application/vnd.jupyter.widget-state+json": {
    "state": {},
    "version_major": 2,
    "version_minor": 0
   }
  }
 },
 "nbformat": 4,
 "nbformat_minor": 4
}
