{
 "cells": [
  {
   "cell_type": "markdown",
   "metadata": {},
   "source": [
    "# Smoothing, Resampling, and Groupby operations with Pandas Dataframes\n"
   ]
  },
  {
   "cell_type": "markdown",
   "metadata": {},
   "source": [
    "## Description\n",
    "\n",
    "This notebook expands on the previous ones shared in wattle by showing how to:\n",
    "- Smooth a time-series to remove a noisy signal in a satellite time-series.\n",
    "- Resample a time-series to a different temporal frequency. e.g Resampling a monthly time-series to annual. It also simplifies how the pandas dataframe was 'wrangled' into a nicer structure, in the previous notebook the 'pd.melt' code was a bit too esoteric.\n",
    "- Doing 'groupby' operations where we can summarise a time-series to get the typical (average) values for a given time-interval (like seasons, month, etc.)\n",
    "\n",
    "We will:\n",
    "1. Load a shapefile (a common vector file format) delineating the Murray-Darling-Basin (I found this shapefile online), and convert it to a geojson.\n",
    "2. Load a timeseries of MODIS NDVI within the limits of the geojson\n",
    "3. Load the Global Forest Change product, thesholding it to create a 'mask' of trees/not-trees (AKA a binary mask)\n",
    "4. Mask the MODIS NDVI product with the 'trees' mask.\n",
    "5. Extract the time-series and plot.\n",
    "6. Smooth the time-series using rolling means - we do this to remove 'noise' from a satellite time-series. This is common in phenology analysis.\n",
    "7. Resample a time-series to show longer term trends.\n",
    "8. Calculate monthly and dayofyear climatolgies to show the typical annual cycle of the time-series."
   ]
  },
  {
   "cell_type": "markdown",
   "metadata": {},
   "source": [
    "## Load packages\n",
    "\n",
    "Import Python packages that are used for the analysis.\n"
   ]
  },
  {
   "cell_type": "code",
   "execution_count": null,
   "metadata": {
    "ExecuteTime": {
     "end_time": "2022-06-08T05:57:14.093530Z",
     "start_time": "2022-06-08T05:57:10.238092Z"
    },
    "tags": []
   },
   "outputs": [],
   "source": [
    "%matplotlib inline\n",
    "\n",
    "import ee\n",
    "import eemont\n",
    "import geemap as gmap\n",
    "import geemap.colormaps as cm\n",
    "import pandas as pd\n",
    "import numpy as np\n",
    "import seaborn as sb\n",
    "import geopandas as gpd\n",
    "from matplotlib import pyplot as plt"
   ]
  },
  {
   "cell_type": "markdown",
   "metadata": {},
   "source": [
    "### Connect to Google Earth Engine (GEE)"
   ]
  },
  {
   "cell_type": "code",
   "execution_count": null,
   "metadata": {
    "ExecuteTime": {
     "end_time": "2022-06-08T05:57:19.159586Z",
     "start_time": "2022-06-08T05:57:14.100515Z"
    },
    "scrolled": true,
    "tags": []
   },
   "outputs": [],
   "source": [
    "Map = gmap.Map()"
   ]
  },
  {
   "cell_type": "markdown",
   "metadata": {},
   "source": [
    "***"
   ]
  },
  {
   "cell_type": "markdown",
   "metadata": {},
   "source": [
    "## Open the shapefile and convert to geojson"
   ]
  },
  {
   "cell_type": "code",
   "execution_count": null,
   "metadata": {},
   "outputs": [],
   "source": [
    "# #open file\n",
    "# gdf = gpd.read_file('/scratch/du53/cb3058/mdb_boundary.shp')\n",
    "\n",
    "# #convert to wgs84 (only projectioj that works with geojson)\n",
    "# gdf = gdf.to_crs('epsg:4326')\n",
    "\n",
    "# #export to file for use later\n",
    "# gdf.to_file('/scratch/du53/cb3058/mdb_boundary.geojson')"
   ]
  },
  {
   "cell_type": "markdown",
   "metadata": {},
   "source": [
    "## Load MODIS NDVI ImageCollection over a region specified by the MDB\n"
   ]
  },
  {
   "cell_type": "code",
   "execution_count": null,
   "metadata": {},
   "outputs": [],
   "source": [
    "## open the goejson and convert to ee object\n",
    "geometry = gmap.geojson_to_ee('/scratch/du53/al0850/project/data/mdb_boundary.geojson')\n",
    "Map.centerObject(geometry)\n",
    "Map.addLayerControl()"
   ]
  },
  {
   "cell_type": "code",
   "execution_count": null,
   "metadata": {
    "ExecuteTime": {
     "end_time": "2022-06-08T05:57:28.788434Z",
     "start_time": "2022-06-08T05:57:28.768488Z"
    },
    "scrolled": true
   },
   "outputs": [],
   "source": [
    "#load the MODIS NDVI product\n",
    "ndvi = (ee.ImageCollection('MODIS/061/MOD13A1')\n",
    "                  .filterBounds(geometry) # filter to MDB\n",
    "                  .map(lambda image: image.clip(geometry)) #clip the data to MDB\n",
    "                  .filterDate('2017-01-01', '2022-12-31') #timeseries\n",
    "                  .preprocess() #this will do the rescaling\n",
    "                  .select('NDVI') #just select the NDVI band\n",
    "     )\n",
    "\n",
    "#define a visualization dict\n",
    "NDVI_vis = {'min':0, 'max':1,\n",
    "           'palette':list(cm.palettes.ndvi),\n",
    "           }\n",
    "\n",
    "# Plot the first time-step\n",
    "Map.addLayer(ndvi.first(), NDVI_vis, 'NDVI')\n",
    "Map.add_colorbar(NDVI_vis['palette'],caption='NDVI')"
   ]
  },
  {
   "cell_type": "markdown",
   "metadata": {},
   "source": [
    "## Load the GFC treecover layer and create a mask"
   ]
  },
  {
   "cell_type": "code",
   "execution_count": null,
   "metadata": {},
   "outputs": [],
   "source": [
    "#load gfc\n",
    "gfc = (ee.Image('UMD/hansen/global_forest_change_2022_v1_10')\n",
    "       .select('treecover2000')\n",
    "       .clip(geometry)\n",
    "      )\n",
    "\n",
    "# create a binary mask where treecover is greater than 25 %\n",
    "trees_mask = gfc.gt(25)\n"
   ]
  },
  {
   "cell_type": "markdown",
   "metadata": {},
   "source": [
    "## Now mask the NDVI data with the 'tree mask' and plot"
   ]
  },
  {
   "cell_type": "code",
   "execution_count": null,
   "metadata": {},
   "outputs": [],
   "source": [
    "#mask ndvi so only places with trees remain\n",
    "ndvi = ndvi.map(lambda image: image.updateMask(trees_mask))\n",
    "\n",
    "# Plot again, including the tree mask (mask trees_mask with itself so 0's don't plot)\n",
    "Map.addLayer(trees_mask.updateMask(trees_mask),\n",
    "    {'palette': ['000000', '00FF00'], 'max': 1}, 'Trees');\n",
    "\n",
    "#add the long-term mean ndvi to the map\n",
    "Map.addLayer(ndvi.mean(), NDVI_vis, 'NDVI')\n",
    "Map"
   ]
  },
  {
   "cell_type": "markdown",
   "metadata": {},
   "source": [
    "## Generate a time-series for trees in the MDB"
   ]
  },
  {
   "cell_type": "markdown",
   "metadata": {},
   "source": [
    "### Calculate the time series for trees in MDB\n",
    "\n",
    "- `Image Collection`: MODIS NDVI\n",
    "- `bands` NDVI\n",
    "- `geometry`: the MDB\n",
    "- `reducer` staistics to compute over the x,y dimension: e.g. minimum, mean, maximum, median\n",
    "- `scale`: This MODIS product has a resolution of 500m\n",
    "\n"
   ]
  },
  {
   "cell_type": "code",
   "execution_count": null,
   "metadata": {},
   "outputs": [],
   "source": [
    "ts = ndvi.getTimeSeriesByRegion(geometry = geometry,\n",
    "                              bands = ['NDVI'], #which bands are we summarising?\n",
    "                              reducer = [ee.Reducer.mean()], #lets take the mean of the pixels\n",
    "                              scale = 500)"
   ]
  },
  {
   "cell_type": "markdown",
   "metadata": {},
   "source": [
    "### Convert the time-series to a Pandas Dataframe"
   ]
  },
  {
   "cell_type": "code",
   "execution_count": null,
   "metadata": {},
   "outputs": [],
   "source": [
    "# convert to a pandas dataframe\n",
    "ts_df = gmap.ee_to_pandas(ts)\n",
    "\n",
    "#convert dat column to datetime\n",
    "ts_df['date'] = pd.to_datetime(ts_df['date'],\n",
    "                               infer_datetime_format = True)\n",
    "\n",
    "#make the index of dataframe the time stamps, and further clean up df\n",
    "ts_df = ts_df.set_index('date').drop('reducer', axis=1)\n",
    "\n",
    "ts_df.head() #print the top 5 rows"
   ]
  },
  {
   "cell_type": "markdown",
   "metadata": {},
   "source": [
    "### Plot"
   ]
  },
  {
   "cell_type": "code",
   "execution_count": null,
   "metadata": {},
   "outputs": [],
   "source": [
    "#now plot\n",
    "ts_df.plot(figsize = (11,4))\n",
    "plt.title('NDVI of Trees over the MDB');\n",
    "plt.ylabel('NDVI');"
   ]
  },
  {
   "cell_type": "markdown",
   "metadata": {},
   "source": [
    "### Smoothing a time-series using rolling means"
   ]
  },
  {
   "cell_type": "code",
   "execution_count": null,
   "metadata": {},
   "outputs": [],
   "source": [
    "# create figure object\n",
    "fig,ax = plt.subplots(1,1, figsize=(11,5))\n",
    "\n",
    "#plot the raw timesries\n",
    "ts_df.plot(ax=ax, legend=False)\n",
    "\n",
    "#using the pandas function 'rolling' to smooth the timeseries. \n",
    "ts_df.rolling(3, min_periods=1, center=True).mean().plot(ax=ax, legend=False) #3-month rolling mean\n",
    "ts_df.rolling(12, min_periods=1, center=True).mean().plot(ax=ax, legend=False) #12-month rolling mean\n",
    "\n",
    "#make the plot nice\n",
    "ax.legend([\"original\", \"3-month smooth\", \"12-month smooth\"]);\n",
    "plt.title('Smoothing NDVI of Trees over the MDB');\n",
    "plt.ylabel('NDVI');"
   ]
  },
  {
   "cell_type": "markdown",
   "metadata": {},
   "source": [
    "## Resampling time-series\n",
    "\n",
    "These plots will appear 'offset' because the time-stamp is set at the _end_ of the time-period being resampled"
   ]
  },
  {
   "cell_type": "code",
   "execution_count": null,
   "metadata": {},
   "outputs": [],
   "source": [
    "#resample time time seasonal starting in DEC (i.e. meterological seasons)\n",
    "ts_df_seasonal = ts_df.resample('Q-DEC').mean()\n",
    "\n",
    "#resample to annual\n",
    "ts_df_annual = ts_df.resample('A').mean() #'A' for annual"
   ]
  },
  {
   "cell_type": "markdown",
   "metadata": {},
   "source": [
    "### Plot"
   ]
  },
  {
   "cell_type": "code",
   "execution_count": null,
   "metadata": {},
   "outputs": [],
   "source": [
    "fig,ax = plt.subplots(1,1, figsize=(11,5))\n",
    "ts_df.plot(ax=ax, legend=False)\n",
    "ts_df_seasonal.plot(ax=ax, legend=False)\n",
    "ts_df_annual.plot(ax=ax, legend=False)\n",
    "ax.legend([\"original\", \"Seasonal\", \"Annual\"]);\n",
    "plt.title('Resampling NDVI of Trees over the MDB');\n",
    "plt.ylabel('NDVI');"
   ]
  },
  {
   "cell_type": "markdown",
   "metadata": {},
   "source": [
    "## Groupby operations\n",
    "\n",
    "Pandas also provides some shortcuts for aggregating data over time. In the example below, we first group our data by month, then take the mean of each group. This produces a new timee-series with only 12 observations (one per month). This represents the typical monthly response of the time-series, ie. it shows the average of all the jans, all the febs, etc."
   ]
  },
  {
   "cell_type": "code",
   "execution_count": null,
   "metadata": {},
   "outputs": [],
   "source": [
    "#monthly climatology\n",
    "monthly_climatology = ts_df.groupby(ts_df.index.month).mean()\n",
    "\n",
    "#dayofyear climatology\n",
    "doy_climatology = ts_df.groupby(ts_df.index.dayofyear).mean()"
   ]
  },
  {
   "cell_type": "code",
   "execution_count": null,
   "metadata": {},
   "outputs": [],
   "source": [
    "fig,ax = plt.subplots(1,2, figsize=(10,5))\n",
    "doy_climatology.plot(ax=ax[0], legend=False)\n",
    "monthly_climatology.plot(ax=ax[1], legend=False)\n",
    "fig.supylabel('NDVI')\n",
    "ax[0].set_title('Day-of-year climatology')\n",
    "ax[1].set_title('Monthly climatology')\n",
    "ax[0].set_xlabel('Day of year')\n",
    "ax[1].set_xlabel('Month of year')\n",
    "plt.tight_layout()\n"
   ]
  },
  {
   "cell_type": "markdown",
   "metadata": {},
   "source": [
    "***"
   ]
  }
 ],
 "metadata": {
  "kernelspec": {
   "display_name": "Python 3 (ipykernel)",
   "language": "python",
   "name": "python3"
  },
  "language_info": {
   "codemirror_mode": {
    "name": "ipython",
    "version": 3
   },
   "file_extension": ".py",
   "mimetype": "text/x-python",
   "name": "python",
   "nbconvert_exporter": "python",
   "pygments_lexer": "ipython3",
   "version": "3.9.2"
  },
  "latex_envs": {
   "LaTeX_envs_menu_present": true,
   "autoclose": true,
   "autocomplete": true,
   "bibliofile": "biblio.bib",
   "cite_by": "apalike",
   "current_citInitial": 1,
   "eqLabelWithNumbers": true,
   "eqNumInitial": 1,
   "hotkeys": {
    "equation": "Ctrl-E",
    "itemize": "Ctrl-I"
   },
   "labels_anchors": false,
   "latex_user_defs": false,
   "report_style_numbering": false,
   "user_envs_cfg": false
  },
  "toc": {
   "base_numbering": 1,
   "nav_menu": {},
   "number_sections": true,
   "sideBar": true,
   "skip_h1_title": false,
   "title_cell": "Table of Contents",
   "title_sidebar": "Contents",
   "toc_cell": false,
   "toc_position": {
    "height": "calc(100% - 180px)",
    "left": "10px",
    "top": "150px",
    "width": "396.667px"
   },
   "toc_section_display": true,
   "toc_window_display": true
  },
  "varInspector": {
   "cols": {
    "lenName": 16,
    "lenType": 16,
    "lenVar": 40
   },
   "kernels_config": {
    "python": {
     "delete_cmd_postfix": "",
     "delete_cmd_prefix": "del ",
     "library": "var_list.py",
     "varRefreshCmd": "print(var_dic_list())"
    },
    "r": {
     "delete_cmd_postfix": ") ",
     "delete_cmd_prefix": "rm(",
     "library": "var_list.r",
     "varRefreshCmd": "cat(var_dic_list()) "
    }
   },
   "types_to_exclude": [
    "module",
    "function",
    "builtin_function_or_method",
    "instance",
    "_Feature"
   ],
   "window_display": false
  },
  "widgets": {
   "application/vnd.jupyter.widget-state+json": {
    "state": {},
    "version_major": 2,
    "version_minor": 0
   }
  }
 },
 "nbformat": 4,
 "nbformat_minor": 4
}
