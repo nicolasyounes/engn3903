{
 "cells": [
  {
   "cell_type": "markdown",
   "metadata": {},
   "source": [
    "# Configuring cloud-masking in Sentinel-2\n",
    "\n",
    "Following this tutorial https://eemont.readthedocs.io/en/0.3.5/tutorials/001-Clouds-and-Shadows-Masking-Sentinel-2.html"
   ]
  },
  {
   "cell_type": "markdown",
   "metadata": {},
   "source": [
    "## Description\n",
    "\n",
    "The default cloud mask for Sentinel-2 can be poor. `eemont` implements [s2Cloudless](https://github.com/sentinel-hub/sentinel2-cloud-detector) to improve the cloudmasking of S2, and it can be configured to make the mask more or less aggressive depending on your requirements. Some examples of configuring aspect of the cloud mask are shown below."
   ]
  },
  {
   "cell_type": "markdown",
   "metadata": {},
   "source": [
    "## Load packages\n",
    "\n",
    "Import Python packages that are used for the analysis.\n"
   ]
  },
  {
   "cell_type": "code",
   "execution_count": null,
   "metadata": {
    "ExecuteTime": {
     "end_time": "2022-06-08T05:57:14.093530Z",
     "start_time": "2022-06-08T05:57:10.238092Z"
    },
    "tags": []
   },
   "outputs": [],
   "source": [
    "%matplotlib inline\n",
    "\n",
    "import geemap as gmap\n",
    "import ee\n",
    "import eemont"
   ]
  },
  {
   "cell_type": "markdown",
   "metadata": {},
   "source": [
    "### Connect to Google Earth Engine (GEE)"
   ]
  },
  {
   "cell_type": "code",
   "execution_count": null,
   "metadata": {
    "ExecuteTime": {
     "end_time": "2022-06-08T05:57:19.159586Z",
     "start_time": "2022-06-08T05:57:14.100515Z"
    },
    "scrolled": true,
    "tags": []
   },
   "outputs": [],
   "source": [
    "m = gmap.Map()"
   ]
  },
  {
   "cell_type": "markdown",
   "metadata": {},
   "source": [
    "***"
   ]
  },
  {
   "cell_type": "markdown",
   "metadata": {},
   "source": [
    "## Load Sentinel 2 image collection using eemont\n",
    "\n",
    "Only `S2_SR` works, the `S2_SR_HARMONIZED` product apparently hasn't been incorporated into eemont's library yet.\n",
    "\n",
    "> So **don't load data after 25th Jan 2022 if using `S2_SR` as the scale offset before/after this date is different**\n"
   ]
  },
  {
   "cell_type": "code",
   "execution_count": null,
   "metadata": {
    "ExecuteTime": {
     "end_time": "2022-06-08T05:57:28.788434Z",
     "start_time": "2022-06-08T05:57:28.768488Z"
    },
    "scrolled": true
   },
   "outputs": [],
   "source": [
    "Map = gmap.Map(center=[-35.2041, 149.2721], zoom=9)\n",
    "\n",
    "# Create a point with set coordinates (canberra parliament)\n",
    "point = ee.Geometry.Point([149.1244, -35.3096])\n",
    "    \n",
    "#load the S2 product\n",
    "S2 = (ee.ImageCollection('COPERNICUS/S2_SR')\n",
    "                  .filterBounds(point) # filter to some region\n",
    "                  .closest('2018-12-15', tolerance=2, unit='week') # find image closest to this date\n",
    "                  .scale() #note this step!\n",
    "     )"
   ]
  },
  {
   "cell_type": "markdown",
   "metadata": {},
   "source": [
    "## Configure the cloud mask\n",
    "\n",
    "Because above we `scale()` the data, we need to supply the `scaledImage=True` parameter in the args below."
   ]
  },
  {
   "cell_type": "code",
   "execution_count": null,
   "metadata": {},
   "outputs": [],
   "source": [
    "#increase/decrease probability of detected cloud\n",
    "S2a = S2.maskClouds(prob=75, scaledImage=True)\n",
    "S2aa = S2.maskClouds(prob=45, scaledImage=True)\n",
    "\n",
    "#increase buffer around clouds to get more shadows\n",
    "S2b = S2.maskClouds(buffer=500, scaledImage=True)\n",
    "\n",
    "#Cloud Probability masking with a different NIR threshold\n",
    "# By default, NIR values under 0.15 are considered potential cloud shadows.\n",
    "# This value can be changed by modifying the dark parameter.\n",
    "S2c = S2.maskClouds(dark = 0.1, scaledImage=True)\n",
    "\n",
    "# Cloud Probability masking using the Cloud Displacement Index (CDI)\n",
    "# CDI is an index used to avoid masking bright surfaces as clouds.\n",
    "# By default, CDI is not used, but if required, the CDI value can be changed by modifying the cdi parameter.\n",
    "# CDI values go from -1 to 1. The most used value for cloud masking is -0.5.\n",
    "S2d = S2.maskClouds(cdi = -0.5, scaledImage=True)"
   ]
  },
  {
   "cell_type": "markdown",
   "metadata": {},
   "source": [
    "## Plot"
   ]
  },
  {
   "cell_type": "code",
   "execution_count": null,
   "metadata": {},
   "outputs": [],
   "source": [
    "#after scaling, numbers are 0-1\n",
    "vis_scaled = {\n",
    "  'min': 0.0,\n",
    "  'max': 0.3,\n",
    "  'bands': ['B4', 'B3', 'B2'],\n",
    "};\n",
    "\n",
    "# add just the first image in the collection to the map\n",
    "Map.addLayer(S2, vis_scaled, 'S2 no cloud-masking')\n",
    "Map.addLayer(S2a, vis_scaled, 'S2 75% threshold')\n",
    "Map.addLayer(S2aa, vis_scaled, 'S2 45% threshold')\n",
    "Map.addLayer(S2b, vis_scaled, '500m buffer')\n",
    "Map.addLayer(S2c, vis_scaled, 'Dark 0.1')\n",
    "Map.addLayer(S2d, vis_scaled, 'CDI=-0.5')\n",
    "Map.addLayerControl()\n",
    "Map"
   ]
  },
  {
   "cell_type": "code",
   "execution_count": null,
   "metadata": {},
   "outputs": [],
   "source": []
  },
  {
   "cell_type": "markdown",
   "metadata": {},
   "source": [
    "***"
   ]
  }
 ],
 "metadata": {
  "kernelspec": {
   "display_name": "Python 3 (ipykernel)",
   "language": "python",
   "name": "python3"
  },
  "language_info": {
   "codemirror_mode": {
    "name": "ipython",
    "version": 3
   },
   "file_extension": ".py",
   "mimetype": "text/x-python",
   "name": "python",
   "nbconvert_exporter": "python",
   "pygments_lexer": "ipython3",
   "version": "3.10.0"
  },
  "latex_envs": {
   "LaTeX_envs_menu_present": true,
   "autoclose": true,
   "autocomplete": true,
   "bibliofile": "biblio.bib",
   "cite_by": "apalike",
   "current_citInitial": 1,
   "eqLabelWithNumbers": true,
   "eqNumInitial": 1,
   "hotkeys": {
    "equation": "Ctrl-E",
    "itemize": "Ctrl-I"
   },
   "labels_anchors": false,
   "latex_user_defs": false,
   "report_style_numbering": false,
   "user_envs_cfg": false
  },
  "toc": {
   "base_numbering": 1,
   "nav_menu": {},
   "number_sections": true,
   "sideBar": true,
   "skip_h1_title": false,
   "title_cell": "Table of Contents",
   "title_sidebar": "Contents",
   "toc_cell": false,
   "toc_position": {
    "height": "calc(100% - 180px)",
    "left": "10px",
    "top": "150px",
    "width": "396.667px"
   },
   "toc_section_display": true,
   "toc_window_display": true
  },
  "varInspector": {
   "cols": {
    "lenName": 16,
    "lenType": 16,
    "lenVar": 40
   },
   "kernels_config": {
    "python": {
     "delete_cmd_postfix": "",
     "delete_cmd_prefix": "del ",
     "library": "var_list.py",
     "varRefreshCmd": "print(var_dic_list())"
    },
    "r": {
     "delete_cmd_postfix": ") ",
     "delete_cmd_prefix": "rm(",
     "library": "var_list.r",
     "varRefreshCmd": "cat(var_dic_list()) "
    }
   },
   "types_to_exclude": [
    "module",
    "function",
    "builtin_function_or_method",
    "instance",
    "_Feature"
   ],
   "window_display": false
  },
  "widgets": {
   "application/vnd.jupyter.widget-state+json": {
    "state": {},
    "version_major": 2,
    "version_minor": 0
   }
  }
 },
 "nbformat": 4,
 "nbformat_minor": 4
}
