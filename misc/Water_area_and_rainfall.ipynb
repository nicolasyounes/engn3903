{
 "cells": [
  {
   "cell_type": "markdown",
   "metadata": {},
   "source": [
    "# Calculating surface water area through time using JRC Water History \n",
    "\n",
    "**...and plotting alongside rainfall**\n"
   ]
  },
  {
   "cell_type": "markdown",
   "metadata": {},
   "source": [
    "## Description\n",
    "\n",
    "This notebook shows how to calculate the area of water in a catchment through time. Catchments are delineated using the 'HydroSheds' feature collection dataset.\n",
    "\n",
    "This notebook is potentially also useful for extracting area from other products (easily adaptable).\n",
    "\n",
    "Lastly, it shows how to plot rainfall on a second axis over an existing time-series, which can be a useful visualization technique."
   ]
  },
  {
   "cell_type": "markdown",
   "metadata": {},
   "source": [
    "## Load packages\n",
    "\n",
    "Import Python packages that are used for the analysis.\n"
   ]
  },
  {
   "cell_type": "code",
   "execution_count": null,
   "metadata": {
    "ExecuteTime": {
     "end_time": "2022-06-08T05:57:14.093530Z",
     "start_time": "2022-06-08T05:57:10.238092Z"
    },
    "tags": []
   },
   "outputs": [],
   "source": [
    "%matplotlib inline\n",
    "\n",
    "import ee\n",
    "import eemont\n",
    "import geemap as gmap\n",
    "import geemap.colormaps as cm\n",
    "import pandas as pd\n",
    "import numpy as np\n",
    "import seaborn as sb\n",
    "import geopandas as gpd\n",
    "from matplotlib import pyplot as plt"
   ]
  },
  {
   "cell_type": "markdown",
   "metadata": {},
   "source": [
    "***"
   ]
  },
  {
   "cell_type": "markdown",
   "metadata": {},
   "source": [
    "## Analysis Parameters\n",
    "\n",
    "Some other catchment IDs\n",
    "\n",
    "- lower_murray_id = 5050073410\n",
    "- gwydir_namoi_macq_id = 5040524870\n",
    "- lachlan_murrumm_id = 5040591050"
   ]
  },
  {
   "cell_type": "code",
   "execution_count": null,
   "metadata": {},
   "outputs": [],
   "source": [
    "#set the catchment ID to select a sub-basin (this is in the MDB)\n",
    "catchment_id = 5040524870\n",
    "\n",
    "#enter a name that we can for the plot title\n",
    "catchment_name = 'Gywdir, Namoi & Macquarie'\n",
    "\n",
    "#start and end dates of the analysis\n",
    "start = '2010-01-01'\n",
    "end = '2021-12-31'\n",
    "\n",
    "# the pixel size to use, if hitting memory limits\n",
    "# you can increase this number, but it will\n",
    "# change the area calculated so be consistent\n",
    "scale = 30"
   ]
  },
  {
   "cell_type": "markdown",
   "metadata": {},
   "source": [
    "## Load catchments boundaries and select a sub-catchment\n",
    "\n",
    "The dataset is here: https://developers.google.com/earth-engine/datasets/catalog/WWF_HydroSHEDS_v1_Basins_hybas_4"
   ]
  },
  {
   "cell_type": "code",
   "execution_count": null,
   "metadata": {},
   "outputs": [],
   "source": [
    "Map = gmap.Map(center=[-35.2041, 149.2721], zoom=5)\n",
    "all_basins = ee.FeatureCollection(\"WWF/HydroSHEDS/v1/Basins/hybas_4\")\n",
    "Map.addLayer(all_basins, name='all basins')\n",
    "\n",
    "# select a subbasin based on catchment ID\n",
    "sub_basin = all_basins.filter(ee.Filter.eq('HYBAS_ID', catchment_id))\n",
    "Map.addLayer(sub_basin, name='sub-basin')\n",
    "Map"
   ]
  },
  {
   "cell_type": "markdown",
   "metadata": {},
   "source": [
    "## Load JRC water history"
   ]
  },
  {
   "cell_type": "code",
   "execution_count": null,
   "metadata": {},
   "outputs": [],
   "source": [
    "water = (ee.ImageCollection('JRC/GSW1_4/MonthlyHistory')\n",
    "          .filterBounds(sub_basin) # filter to sub basin in the MDB\n",
    "          .filterDate(start, end) \n",
    "          .select('water')\n",
    "          .map(lambda image: image.clip(sub_basin)) #clip the data to MDB\n",
    ")"
   ]
  },
  {
   "cell_type": "markdown",
   "metadata": {},
   "source": [
    "## Calculate area through time"
   ]
  },
  {
   "cell_type": "code",
   "execution_count": null,
   "metadata": {},
   "outputs": [],
   "source": [
    "# Function for calculting area of water\n",
    "def water_area_func(image):    \n",
    "    thr=image.gt(1) # Threshold to create a binary image of water/no-water\n",
    "    image = image.updateMask(thr) # update the mask of the image with thresholded mask\n",
    "    area = ee.Image.pixelArea().divide(1e6) #create a raster of pixel area in sq km\n",
    "    waterArea = image.multiply(area).rename('waterArea') # mulitply area raster by water/no-water image\n",
    "    image = image.addBands(waterArea) # add the waterArea image back to the original image\n",
    "    return image\n",
    "\n",
    "#run the function over the Image Collection\n",
    "waterArea = water.map(water_area_func)\n"
   ]
  },
  {
   "cell_type": "markdown",
   "metadata": {},
   "source": [
    "## Extract time-series into dataframe and plot"
   ]
  },
  {
   "cell_type": "code",
   "execution_count": null,
   "metadata": {},
   "outputs": [],
   "source": [
    "#extract timeseries from GEE into a dataframe\n",
    "df = waterArea.getTimeSeriesByRegion(geometry = sub_basin,\n",
    "                              bands = ['waterArea'], #which bands are we summarising?\n",
    "                              reducer = [ee.Reducer.sum()], #sum of area makes sense for water area\n",
    "                              scale = scale)\n",
    "\n",
    "# convert to a pandas dataframe\n",
    "df = gmap.ee_to_df(df)\n",
    "\n",
    "#convert date column to datetime\n",
    "df['time'] = pd.to_datetime(df['date'],\n",
    "                infer_datetime_format = True)\n",
    "\n",
    "#make the index of dataframe the time stamps, and further clean up df\n",
    "df = df.set_index('time').drop(['date', 'reducer'], axis=1)\n",
    "\n",
    "df.head() #print the top 5 rows"
   ]
  },
  {
   "cell_type": "markdown",
   "metadata": {},
   "source": [
    "### Plot using rolling mean to smooth time-series"
   ]
  },
  {
   "cell_type": "code",
   "execution_count": null,
   "metadata": {},
   "outputs": [],
   "source": [
    "df.rolling(3).mean().plot(figsize=(15, 5))\n",
    "plt.title('Water Area in the '+catchment_name+', three month rolling mean');\n",
    "plt.ylabel('Water Area (Km2)');"
   ]
  },
  {
   "cell_type": "markdown",
   "metadata": {},
   "source": [
    "## Load a rainfall dataset and summarise the same region \n",
    "\n",
    "CHIRPS is a good dataset:\n",
    "\n",
    "Its has a daily version: https://developers.google.com/earth-engine/datasets/catalog/UCSB-CHG_CHIRPS_DAILY\n",
    "\n",
    "And a 'pentad' (5 days) version: https://developers.google.com/earth-engine/datasets/catalog/UCSB-CHG_CHIRPS_PENTAD"
   ]
  },
  {
   "cell_type": "code",
   "execution_count": null,
   "metadata": {},
   "outputs": [],
   "source": [
    "rain = (ee.ImageCollection('UCSB-CHG/CHIRPS/DAILY')\n",
    "          .filterBounds(sub_basin) # filter to sub basin in the MDB\n",
    "          .filterDate(start, end) #same dates as above\n",
    "          .select('precipitation')\n",
    "          .map(lambda image: image.clip(sub_basin)) #clip the data\n",
    ")"
   ]
  },
  {
   "cell_type": "code",
   "execution_count": null,
   "metadata": {},
   "outputs": [],
   "source": [
    "#extract timeseries from GEE into a dataframe\n",
    "df_rain = rain.getTimeSeriesByRegion(geometry = sub_basin,\n",
    "                              bands = ['precipitation'], #which bands are we summarising?\n",
    "                              reducer = [ee.Reducer.mean()], # mean of rainfall over region makes sense\n",
    "                              scale = 5000 #resolution of CHIRPS\n",
    "                                    )\n",
    "\n",
    "# convert to a pandas dataframe\n",
    "df_rain = gmap.ee_to_df(df_rain)\n",
    "\n",
    "#convert date column to datetime\n",
    "df_rain['time'] = pd.to_datetime(df_rain['date'],\n",
    "                infer_datetime_format = True)\n",
    "\n",
    "#make the index of dataframe the time stamps, and further clean up df\n",
    "df_rain = df_rain.set_index('time').drop(['date', 'reducer'], axis=1)\n",
    "\n",
    "df_rain.head() #print the top 5 rows"
   ]
  },
  {
   "cell_type": "markdown",
   "metadata": {},
   "source": [
    "## Resample CHIRPS to match the JRC water area temporal resolution\n",
    "\n",
    "JRC is monthly and CHIRPS is daily, so we need to resample them so the temporal frequency matches. We also need to shift the dates in the water area dataset to the end of the month, which will match the datetimes in the rainfall dataset after we resample it. This is important if we want to plot on the same graph."
   ]
  },
  {
   "cell_type": "code",
   "execution_count": null,
   "metadata": {},
   "outputs": [],
   "source": [
    "from pandas.tseries.offsets import MonthEnd"
   ]
  },
  {
   "cell_type": "code",
   "execution_count": null,
   "metadata": {},
   "outputs": [],
   "source": [
    "# Use the sum to aggregate daily rainfall into a monthly total.\n",
    "# resample makes the datetime the end of the month by default\n",
    "df_rain = df_rain.resample('M').sum()\n",
    "\n",
    "#now shift the time index of the water area df to the end of the month\n",
    "df.index = pd.to_datetime(df.index, format=\"%Y%m\") + MonthEnd(0)"
   ]
  },
  {
   "cell_type": "markdown",
   "metadata": {},
   "source": [
    "### Plot rainfall"
   ]
  },
  {
   "cell_type": "code",
   "execution_count": null,
   "metadata": {},
   "outputs": [],
   "source": [
    "fig, ax = plt.subplots(figsize=(15,5))\n",
    "df_rain.plot(ax=ax, kind='bar')\n",
    "plt.title('Monthly Rainfall totals in the '+catchment_name);\n",
    "ax.xaxis.set_ticklabels(df_rain.index.to_period('M'))\n",
    "plt.ylabel('Total Rainfall (mm)');"
   ]
  },
  {
   "cell_type": "markdown",
   "metadata": {},
   "source": [
    "## Combine rainfall and water area plot\n",
    "\n"
   ]
  },
  {
   "cell_type": "code",
   "execution_count": null,
   "metadata": {},
   "outputs": [],
   "source": [
    "fig,ax = plt.subplots(1,1, figsize=(13,4))\n",
    "ax2 = ax.twinx() \n",
    "\n",
    "#plot the bar graph and water area time-series\n",
    "ax.plot(df.index, df.rolling(3).mean(), c='red')\n",
    "ax2.bar(df_rain.index, df_rain['precipitation'], width=20, facecolor='darkblue', alpha=0.25)\n",
    "\n",
    "#this makes the line plot on top of the bars\n",
    "ax2.set_zorder(ax.get_zorder()-1)\n",
    "ax.set_frame_on(False)\n",
    "ax.legend(['Water Area'])\n",
    "\n",
    "#tidy up plot\n",
    "ax.set_ylabel('Water Area (sq. Km)')\n",
    "ax.set_xlabel('')\n",
    "ax2.set_ylabel('Total Rainfall (mm)')\n",
    "ax.margins(x=0)\n",
    "ax.grid(True)\n",
    "ax2.margins(x=0)\n",
    "plt.title('Rainfall and Surface Water Area: '+ catchment_name);\n"
   ]
  },
  {
   "cell_type": "markdown",
   "metadata": {},
   "source": [
    "***"
   ]
  }
 ],
 "metadata": {
  "kernelspec": {
   "display_name": "Python 3 (ipykernel)",
   "language": "python",
   "name": "python3"
  },
  "language_info": {
   "codemirror_mode": {
    "name": "ipython",
    "version": 3
   },
   "file_extension": ".py",
   "mimetype": "text/x-python",
   "name": "python",
   "nbconvert_exporter": "python",
   "pygments_lexer": "ipython3",
   "version": "3.10.0"
  },
  "latex_envs": {
   "LaTeX_envs_menu_present": true,
   "autoclose": true,
   "autocomplete": true,
   "bibliofile": "biblio.bib",
   "cite_by": "apalike",
   "current_citInitial": 1,
   "eqLabelWithNumbers": true,
   "eqNumInitial": 1,
   "hotkeys": {
    "equation": "Ctrl-E",
    "itemize": "Ctrl-I"
   },
   "labels_anchors": false,
   "latex_user_defs": false,
   "report_style_numbering": false,
   "user_envs_cfg": false
  },
  "toc": {
   "base_numbering": 1,
   "nav_menu": {},
   "number_sections": true,
   "sideBar": true,
   "skip_h1_title": false,
   "title_cell": "Table of Contents",
   "title_sidebar": "Contents",
   "toc_cell": false,
   "toc_position": {
    "height": "calc(100% - 180px)",
    "left": "10px",
    "top": "150px",
    "width": "396.667px"
   },
   "toc_section_display": true,
   "toc_window_display": true
  },
  "varInspector": {
   "cols": {
    "lenName": 16,
    "lenType": 16,
    "lenVar": 40
   },
   "kernels_config": {
    "python": {
     "delete_cmd_postfix": "",
     "delete_cmd_prefix": "del ",
     "library": "var_list.py",
     "varRefreshCmd": "print(var_dic_list())"
    },
    "r": {
     "delete_cmd_postfix": ") ",
     "delete_cmd_prefix": "rm(",
     "library": "var_list.r",
     "varRefreshCmd": "cat(var_dic_list()) "
    }
   },
   "types_to_exclude": [
    "module",
    "function",
    "builtin_function_or_method",
    "instance",
    "_Feature"
   ],
   "window_display": false
  },
  "widgets": {
   "application/vnd.jupyter.widget-state+json": {
    "state": {},
    "version_major": 2,
    "version_minor": 0
   }
  }
 },
 "nbformat": 4,
 "nbformat_minor": 4
}
