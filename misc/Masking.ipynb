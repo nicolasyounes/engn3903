{
 "cells": [
  {
   "cell_type": "markdown",
   "metadata": {},
   "source": [
    "# Masking data\n"
   ]
  },
  {
   "cell_type": "markdown",
   "metadata": {},
   "source": [
    "## Description\n",
    "\n",
    "In this notebook I will demonstrate how to mask one ImageCollection with another image. This is a very common piece of analysis in remote sensing.\n",
    "\n",
    "We will:\n",
    "1. Load a shapefile (a common vector file format) delineating the Murray-Darling-Basin (I found this shapefile online), and convert it to a geojson.\n",
    "2. Load a timeseries of MODIS NDVI within the limits of the geojson\n",
    "3. Load the Global Forest Change product, thesholding it to create a 'mask' of trees/not-trees (AKA a binary mask)\n",
    "4. Mask the MODIS NDVI product with the 'trees' mask.\n",
    "5. Extract the time-series and plot."
   ]
  },
  {
   "cell_type": "markdown",
   "metadata": {},
   "source": [
    "## Load packages\n",
    "\n",
    "Import Python packages that are used for the analysis.\n"
   ]
  },
  {
   "cell_type": "code",
   "execution_count": null,
   "metadata": {
    "ExecuteTime": {
     "end_time": "2022-06-08T05:57:14.093530Z",
     "start_time": "2022-06-08T05:57:10.238092Z"
    },
    "tags": []
   },
   "outputs": [],
   "source": [
    "%matplotlib inline\n",
    "\n",
    "import ee\n",
    "import eemont\n",
    "import geemap as gmap\n",
    "import geemap.colormaps as cm\n",
    "import pandas as pd\n",
    "import numpy as np\n",
    "import seaborn as sb\n",
    "import geopandas as gpd\n",
    "from matplotlib import pyplot as plt"
   ]
  },
  {
   "cell_type": "markdown",
   "metadata": {},
   "source": [
    "### Connect to Google Earth Engine (GEE)"
   ]
  },
  {
   "cell_type": "code",
   "execution_count": null,
   "metadata": {
    "ExecuteTime": {
     "end_time": "2022-06-08T05:57:19.159586Z",
     "start_time": "2022-06-08T05:57:14.100515Z"
    },
    "scrolled": true,
    "tags": []
   },
   "outputs": [],
   "source": [
    "Map = gmap.Map()"
   ]
  },
  {
   "cell_type": "markdown",
   "metadata": {},
   "source": [
    "***"
   ]
  },
  {
   "cell_type": "markdown",
   "metadata": {},
   "source": [
    "## Open the shapefile and convert to geojson"
   ]
  },
  {
   "cell_type": "code",
   "execution_count": null,
   "metadata": {},
   "outputs": [],
   "source": [
    "# #open file\n",
    "# gdf = gpd.read_file('/scratch/du53/cb3058/mdb_boundary.shp')\n",
    "\n",
    "# #convert to wgs84 (only projectioj that works with geojson)\n",
    "# gdf = gdf.to_crs('epsg:4326')\n",
    "\n",
    "# #export to file for use later\n",
    "# gdf.to_file('/scratch/du53/cb3058/mdb_boundary.geojson')"
   ]
  },
  {
   "cell_type": "markdown",
   "metadata": {},
   "source": [
    "## Load MODIS NDVI ImageCollection over a region specified by the MDB\n"
   ]
  },
  {
   "cell_type": "code",
   "execution_count": null,
   "metadata": {},
   "outputs": [],
   "source": [
    "## open the goejson and convert to ee object\n",
    "geometry = gmap.geojson_to_ee('/scratch/du53/al0850/project/data/mdb_boundary.geojson')\n",
    "Map.centerObject(geometry);"
   ]
  },
  {
   "cell_type": "code",
   "execution_count": null,
   "metadata": {
    "ExecuteTime": {
     "end_time": "2022-06-08T05:57:28.788434Z",
     "start_time": "2022-06-08T05:57:28.768488Z"
    },
    "scrolled": true
   },
   "outputs": [],
   "source": [
    "#load the MODIS NDVI product\n",
    "ndvi = (ee.ImageCollection('MODIS/061/MOD13A1')\n",
    "                  .filterBounds(geometry) # filter to MDB\n",
    "                  .map(lambda image: image.clip(geometry)) #clip the data to MDB\n",
    "                  .filterDate('2017-01-01', '2022-12-31') #timeseries\n",
    "                  .preprocess() #this will do the rescaling\n",
    "                  .select('NDVI') #just select the NDVI band\n",
    "     )\n",
    "\n",
    "#define a visualization dict\n",
    "NDVI_vis = {'min':0, 'max':1,\n",
    "           'palette':list(cm.palettes.ndvi),\n",
    "           }\n",
    "\n",
    "# Plot the first time-step\n",
    "Map.addLayer(ndvi.first(), NDVI_vis, 'NDVI')\n",
    "Map.add_colorbar(NDVI_vis['palette'],caption='NDVI')\n",
    "Map.addLayerControl()\n",
    "Map"
   ]
  },
  {
   "cell_type": "markdown",
   "metadata": {},
   "source": [
    "## Load the GFC treecover layer and create a mask"
   ]
  },
  {
   "cell_type": "code",
   "execution_count": null,
   "metadata": {},
   "outputs": [],
   "source": [
    "#load gfc\n",
    "gfc = (ee.Image('UMD/hansen/global_forest_change_2022_v1_10')\n",
    "       .select('treecover2000')\n",
    "       .clip(geometry)\n",
    "      )\n",
    "\n",
    "# create a binary mask where treecover is greater than 25 %\n",
    "trees_mask = gfc.gt(25)\n"
   ]
  },
  {
   "cell_type": "markdown",
   "metadata": {},
   "source": [
    "## Now mask the NDVI data with the 'tree mask' and plot"
   ]
  },
  {
   "cell_type": "code",
   "execution_count": null,
   "metadata": {},
   "outputs": [],
   "source": [
    "#mask ndvi so only places with trees remain\n",
    "ndvi = ndvi.map(lambda image: image.updateMask(trees_mask))\n",
    "\n",
    "# Plot again, including the tree mask (mask trees_mask with itself so 0's don't plot)\n",
    "Map.addLayer(trees_mask.updateMask(trees_mask),\n",
    "    {'palette': ['000000', '00FF00'], 'max': 1}, 'Trees');\n",
    "\n",
    "#add the long-term mean ndvi to the map\n",
    "Map.addLayer(ndvi.mean(), NDVI_vis, 'NDVI')\n",
    "Map"
   ]
  },
  {
   "cell_type": "markdown",
   "metadata": {},
   "source": [
    "## Generate a time-series for trees in the MDB"
   ]
  },
  {
   "cell_type": "markdown",
   "metadata": {},
   "source": [
    "### Calculate the time series for trees in MDB\n",
    "\n",
    "- `Image Collection`: MODIS NDVI\n",
    "- `bands` NDVI\n",
    "- `geometry`: the MDB\n",
    "- `reducer` staistics to compute over the x,y dimension: e.g. minimum, mean, maximum, median\n",
    "- `scale`: This MODIS product has a resolution of 500m\n",
    "\n"
   ]
  },
  {
   "cell_type": "code",
   "execution_count": null,
   "metadata": {},
   "outputs": [],
   "source": [
    "ts = ndvi.getTimeSeriesByRegion(geometry = geometry,\n",
    "                              bands = ['NDVI'], #which bands are we summarising?\n",
    "                              reducer = [ee.Reducer.mean()], #lets take the mean of the pixels\n",
    "                              scale = 500)"
   ]
  },
  {
   "cell_type": "markdown",
   "metadata": {},
   "source": [
    "### Convert the time-series to a Pandas Dataframe"
   ]
  },
  {
   "cell_type": "code",
   "execution_count": null,
   "metadata": {},
   "outputs": [],
   "source": [
    "# convert to a pandas dataframe\n",
    "ts_df = gmap.ee_to_pandas(ts)\n",
    "\n",
    "#convert dat column to datetime\n",
    "ts_df['date'] = pd.to_datetime(ts_df['date'],\n",
    "                               infer_datetime_format = True)\n",
    "\n",
    "#make the index of dataframe the time stamps, and further clean up df\n",
    "ts_df = ts_df.set_index('date').drop('reducer', axis=1)\n",
    "\n",
    "ts_df.head() #print the top 5 rows"
   ]
  },
  {
   "cell_type": "markdown",
   "metadata": {},
   "source": [
    "### Plot"
   ]
  },
  {
   "cell_type": "code",
   "execution_count": null,
   "metadata": {},
   "outputs": [],
   "source": [
    "#now plot\n",
    "ts_df.plot(figsize = (11,4))\n",
    "plt.title('NDVI of Trees over the MDB');\n",
    "plt.ylabel('NDVI');"
   ]
  },
  {
   "cell_type": "markdown",
   "metadata": {},
   "source": [
    "***"
   ]
  }
 ],
 "metadata": {
  "kernelspec": {
   "display_name": "Python 3 (ipykernel)",
   "language": "python",
   "name": "python3"
  },
  "language_info": {
   "codemirror_mode": {
    "name": "ipython",
    "version": 3
   },
   "file_extension": ".py",
   "mimetype": "text/x-python",
   "name": "python",
   "nbconvert_exporter": "python",
   "pygments_lexer": "ipython3",
   "version": "3.9.2"
  },
  "latex_envs": {
   "LaTeX_envs_menu_present": true,
   "autoclose": true,
   "autocomplete": true,
   "bibliofile": "biblio.bib",
   "cite_by": "apalike",
   "current_citInitial": 1,
   "eqLabelWithNumbers": true,
   "eqNumInitial": 1,
   "hotkeys": {
    "equation": "Ctrl-E",
    "itemize": "Ctrl-I"
   },
   "labels_anchors": false,
   "latex_user_defs": false,
   "report_style_numbering": false,
   "user_envs_cfg": false
  },
  "toc": {
   "base_numbering": 1,
   "nav_menu": {},
   "number_sections": true,
   "sideBar": true,
   "skip_h1_title": false,
   "title_cell": "Table of Contents",
   "title_sidebar": "Contents",
   "toc_cell": false,
   "toc_position": {
    "height": "calc(100% - 180px)",
    "left": "10px",
    "top": "150px",
    "width": "396.667px"
   },
   "toc_section_display": true,
   "toc_window_display": true
  },
  "varInspector": {
   "cols": {
    "lenName": 16,
    "lenType": 16,
    "lenVar": 40
   },
   "kernels_config": {
    "python": {
     "delete_cmd_postfix": "",
     "delete_cmd_prefix": "del ",
     "library": "var_list.py",
     "varRefreshCmd": "print(var_dic_list())"
    },
    "r": {
     "delete_cmd_postfix": ") ",
     "delete_cmd_prefix": "rm(",
     "library": "var_list.r",
     "varRefreshCmd": "cat(var_dic_list()) "
    }
   },
   "types_to_exclude": [
    "module",
    "function",
    "builtin_function_or_method",
    "instance",
    "_Feature"
   ],
   "window_display": false
  },
  "widgets": {
   "application/vnd.jupyter.widget-state+json": {
    "state": {},
    "version_major": 2,
    "version_minor": 0
   }
  }
 },
 "nbformat": 4,
 "nbformat_minor": 4
}
