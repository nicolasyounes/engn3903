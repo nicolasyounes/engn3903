{
 "cells": [
  {
   "cell_type": "markdown",
   "metadata": {},
   "source": [
    "# Using GEE with 'eemont'\n"
   ]
  },
  {
   "cell_type": "markdown",
   "metadata": {},
   "source": [
    "## Description\n",
    "\n",
    "eemont is a python library that makes working on Google Earth Engine easier. The eemont package extends the Google Earth Engine Python API with pre-processing and processing tools for the most used satellite platforms by adding utility methods for different Earth Engine Objects that are friendly with the Python method chaining.\n",
    "\n",
    "The documentation for eemont is here: https://eemont.readthedocs.io/en/latest/\n",
    "\n",
    "There are many tutorials you can follow here: https://eemont.readthedocs.io/en/latest/tutorials.html"
   ]
  },
  {
   "cell_type": "markdown",
   "metadata": {},
   "source": [
    "## Load packages\n",
    "\n",
    "Import Python packages that are used for the analysis.\n"
   ]
  },
  {
   "cell_type": "code",
   "execution_count": null,
   "metadata": {
    "ExecuteTime": {
     "end_time": "2022-06-08T05:57:14.093530Z",
     "start_time": "2022-06-08T05:57:10.238092Z"
    },
    "tags": []
   },
   "outputs": [],
   "source": [
    "%matplotlib inline\n",
    "\n",
    "import geemap as gmap\n",
    "import ee\n",
    "import eemont"
   ]
  },
  {
   "cell_type": "markdown",
   "metadata": {},
   "source": [
    "### Connect to Google Earth Engine (GEE)"
   ]
  },
  {
   "cell_type": "code",
   "execution_count": null,
   "metadata": {
    "ExecuteTime": {
     "end_time": "2022-06-08T05:57:19.159586Z",
     "start_time": "2022-06-08T05:57:14.100515Z"
    },
    "scrolled": true,
    "tags": []
   },
   "outputs": [],
   "source": [
    "m = gmap.Map()"
   ]
  },
  {
   "cell_type": "markdown",
   "metadata": {},
   "source": [
    "***"
   ]
  },
  {
   "cell_type": "markdown",
   "metadata": {},
   "source": [
    "## How to load a Sentinel 2 image collection using eemont\n",
    "\n",
    "> Note the `.preprocess()` step during loading of the S2 Image Collection, it will mask the clouds and rescale the image so its ready to use"
   ]
  },
  {
   "cell_type": "markdown",
   "metadata": {},
   "source": [
    "### Load sentinel-2, preprocess (mask clouds, rescale), filter by a location, and select image closest to a given date\n",
    "\n",
    "\n",
    "<div class=\"alert alert-block alert-danger\"> \n",
    "\n",
    "**IMPORTANT:** GEE now recommends using the \"COPERNICUS/S2_SR_HARMONIZED\" product, instead of the legacy \"COPERNICUS/S2_SR\" product, but `eemont` has not been updated to work on the new S2 collection, so if you use 'S2_SR' data will only exist up to Jan 2022.\n",
    "        \n",
    "<div>\n"
   ]
  },
  {
   "cell_type": "code",
   "execution_count": null,
   "metadata": {
    "ExecuteTime": {
     "end_time": "2022-06-08T05:57:28.788434Z",
     "start_time": "2022-06-08T05:57:28.768488Z"
    },
    "scrolled": true
   },
   "outputs": [],
   "source": [
    "Map = gmap.Map(center=[-35.2041, 149.2721], zoom=9)\n",
    "\n",
    "# Create a point with set coordinates (canberra parliament)\n",
    "point = ee.Geometry.Point([149.1244, -35.3096])\n",
    "    \n",
    "#load the S2 product\n",
    "s2 = (ee.ImageCollection('COPERNICUS/S2_SR')\n",
    "                  .filterBounds(point) # filter to some region\n",
    "                  .closest('2020-10-15') # find image closest to this date\n",
    "                  .preprocess() #note this step!\n",
    "     )\n",
    "\n",
    "#after scaling, numbers are 0-1\n",
    "vis_scaled = {\n",
    "  'min': 0.0,\n",
    "  'max': 0.3,\n",
    "  'bands': ['B4', 'B3', 'B2'],\n",
    "};\n",
    "\n",
    "# add just the first image in the collection to the map\n",
    "Map.addLayer(s2, vis_scaled, 'Sentinel-2 RGB')\n",
    "Map.addLayerControl()\n",
    "Map"
   ]
  },
  {
   "cell_type": "markdown",
   "metadata": {},
   "source": [
    "## How to load a Landsat image collection using eemont\n",
    "\n",
    "This is the dataset: https://developers.google.com/earth-engine/datasets/catalog/LANDSAT_LC08_C02_T1_L2"
   ]
  },
  {
   "cell_type": "markdown",
   "metadata": {},
   "source": [
    "### Load Landsat 8 and filter by a location and date"
   ]
  },
  {
   "cell_type": "code",
   "execution_count": null,
   "metadata": {
    "ExecuteTime": {
     "end_time": "2022-06-08T06:03:25.178214Z",
     "start_time": "2022-06-08T06:03:23.928079Z"
    },
    "scrolled": true
   },
   "outputs": [],
   "source": [
    "# We give the 'center' location, and a 'zoom' level.\n",
    "Map = gmap.Map(center=[-35.3096, 149.1244], zoom=9)\n",
    "\n",
    "# Create a point with set coordinates\n",
    "point = ee.Geometry.Point([149.1244, -35.3096])\n",
    "\n",
    "# Search for a landsat 8 image collection 2\n",
    "ls = (ee.ImageCollection('LANDSAT/LC08/C02/T1_L2')\n",
    "            .filterDate('2023-07', '2023-08') #filter by images in July 2023\n",
    "            .filterBounds(point)  # filter to images around parliament\n",
    "            .preprocess() #mask clouds and rescale\n",
    "     )\n",
    "\n",
    "# Now we select the bands we want to display for the collection 2 image\n",
    "vis_ls = {'bands': ['SR_B4', 'SR_B3', 'SR_B2'],\n",
    "              'min': 0,\n",
    "              'max': 0.4}\n",
    "\n",
    "# Add only the \"first\" image of landsat 8 image to our map\n",
    "Map.addLayer(ls, vis_ls, 'Masked Landsat')\n",
    "Map.addLayerControl()\n",
    "Map"
   ]
  },
  {
   "cell_type": "markdown",
   "metadata": {},
   "source": [
    "## Caclulate spectral indices on a sensor\n",
    "\n",
    "In this example we will use Landsat again\n",
    "\n",
    "Note below we import a module that allows for nice visualizations\n",
    "\n",
    "Spectral indices comes from here: https://awesome-ee-spectral-indices.readthedocs.io/en/latest/"
   ]
  },
  {
   "cell_type": "code",
   "execution_count": null,
   "metadata": {},
   "outputs": [],
   "source": [
    "import geemap.colormaps as cm"
   ]
  },
  {
   "cell_type": "code",
   "execution_count": null,
   "metadata": {
    "ExecuteTime": {
     "end_time": "2022-06-08T06:03:25.178214Z",
     "start_time": "2022-06-08T06:03:23.928079Z"
    },
    "scrolled": true
   },
   "outputs": [],
   "source": [
    "# We give the 'center' location, and a 'zoom' level.\n",
    "Map = gmap.Map(center=[-35.3096, 149.1244], zoom=7)\n",
    "\n",
    "# Create a point with set coordinates\n",
    "point = ee.Geometry.Point([149.1244, -35.3096])\n",
    "\n",
    "# Search for a landsat 8 image collection 2\n",
    "ls = (ee.ImageCollection('LANDSAT/LC08/C02/T1_L2')\n",
    "            .filterDate('2023-07', '2023-10') #filter by images by date range\n",
    "            .filterBounds(point)  # filter to images around parliament\n",
    "            .preprocess() #mask clouds and rescale\n",
    "            .spectralIndices(['NDVI','NDWI'], online=True) #compute some spectral indices\n",
    "            .mean() #we'll take a temporal mean\n",
    "     )\n",
    "\n",
    "# visualization for the different indices\n",
    "NDVIvis = {'min':0, 'max':1, 'palette':list(cm.palettes.ndvi), 'bands':'NDVI'}\n",
    "NDWIvis = {'min':0, 'max':1, 'palette':list(cm.palettes.ndwi), 'bands':'NDWI'}\n",
    "\n",
    "#add the layers with a colorbar\n",
    "Map.addLayer(ls, NDWIvis,'NDWI')\n",
    "Map.add_colorbar(NDWIvis['palette'],layer_name = 'NDWI')\n",
    "\n",
    "Map.addLayer(ls, NDVIvis,'NDVI')\n",
    "Map.add_colorbar(NDVIvis['palette'],layer_name ='NDVI')\n",
    "\n",
    "Map.addLayerControl()\n",
    "Map"
   ]
  },
  {
   "cell_type": "markdown",
   "metadata": {},
   "source": [
    "## Generate a time-series over a polygon (i.e., FeaturesCollections)"
   ]
  },
  {
   "cell_type": "code",
   "execution_count": null,
   "metadata": {},
   "outputs": [],
   "source": [
    "import pandas as pd\n",
    "import numpy as np\n",
    "import seaborn as sns\n",
    "from matplotlib import pyplot as plt"
   ]
  },
  {
   "cell_type": "markdown",
   "metadata": {},
   "source": [
    "### Create a polygon using the buffer method around a point\n",
    "\n",
    "I have chosen an irrigated paddock in NSW. The buffer method adds a radius around a point to create a polygon."
   ]
  },
  {
   "cell_type": "code",
   "execution_count": null,
   "metadata": {},
   "outputs": [],
   "source": [
    "point = ee.Geometry.Point([149.365420, -30.220299]).buffer(200)"
   ]
  },
  {
   "cell_type": "markdown",
   "metadata": {},
   "source": [
    "### Load our image collection"
   ]
  },
  {
   "cell_type": "code",
   "execution_count": null,
   "metadata": {},
   "outputs": [],
   "source": [
    "L8 = (ee.ImageCollection('LANDSAT/LC08/C02/T1_L2')\n",
    "      .filterBounds(point) #filter data to the region\n",
    "      .preprocess() #mask clouds and rescale image\n",
    "      .spectralIndices(['EVI', 'NDWI']) #calculate indices\n",
    "     ) "
   ]
  },
  {
   "cell_type": "markdown",
   "metadata": {},
   "source": [
    "### Calculate the time series\n",
    "\n",
    "Let's get the L8 time series for our buffer. Parameters in the function:\n",
    "\n",
    "- `Image Collection`: The Landsat 8 collection.\n",
    "- `bands` to use for the time series: EVI and NDWI.\n",
    "- `geometry`: Our buffered point.\n",
    "- `reducer` staistics to compute over the x,y dimension: e.g. minimum, mean, maximum, median\n",
    "- `scale`: Landsat resolution is 30 m.\n",
    "\n"
   ]
  },
  {
   "cell_type": "code",
   "execution_count": null,
   "metadata": {},
   "outputs": [],
   "source": [
    "ts = L8.getTimeSeriesByRegion(geometry = point,\n",
    "                              bands = ['EVI','NDWI'], #which bands are we summarising?\n",
    "                              reducer = [ee.Reducer.mean()], #lets take the mean of the pixels\n",
    "                              scale = 30)"
   ]
  },
  {
   "cell_type": "markdown",
   "metadata": {},
   "source": [
    "### Convert the time-series to a Pandas Dataframe\n",
    "\n",
    "Note that the -9999 values are the no-data value, which we can change.\n",
    "\n",
    "We will also change the datatype of the Date column to one pandas recognizes"
   ]
  },
  {
   "cell_type": "code",
   "execution_count": null,
   "metadata": {},
   "outputs": [],
   "source": [
    "# convert to a pandas dataframe\n",
    "ts_df = gmap.ee_to_df(ts)\n",
    "\n",
    "# fix the no-data value\n",
    "ts_df[ts_df == -9999] = np.nan \n",
    "\n",
    "#convert date column to datetime\n",
    "ts_df['time'] = pd.to_datetime(ts_df['date'],\n",
    "                infer_datetime_format = True)\n",
    "\n",
    "#make the index of dataframe the time stamps, and further clean up df\n",
    "ts_df = ts_df.set_index('time').drop(['date', 'reducer'], axis=1)\n",
    "\n",
    "ts_df.head() #print the top 5 rows"
   ]
  },
  {
   "cell_type": "markdown",
   "metadata": {},
   "source": [
    "### Plot"
   ]
  },
  {
   "cell_type": "code",
   "execution_count": null,
   "metadata": {},
   "outputs": [],
   "source": [
    "#now plot\n",
    "ts_df.plot(figsize=(11, 5))\n",
    "plt.title('Spectral indices time-series over an irrigated paddock in NSW');"
   ]
  },
  {
   "cell_type": "markdown",
   "metadata": {},
   "source": [
    "***"
   ]
  }
 ],
 "metadata": {
  "kernelspec": {
   "display_name": "Python 3 (ipykernel)",
   "language": "python",
   "name": "python3"
  },
  "language_info": {
   "codemirror_mode": {
    "name": "ipython",
    "version": 3
   },
   "file_extension": ".py",
   "mimetype": "text/x-python",
   "name": "python",
   "nbconvert_exporter": "python",
   "pygments_lexer": "ipython3",
   "version": "3.10.0"
  },
  "latex_envs": {
   "LaTeX_envs_menu_present": true,
   "autoclose": true,
   "autocomplete": true,
   "bibliofile": "biblio.bib",
   "cite_by": "apalike",
   "current_citInitial": 1,
   "eqLabelWithNumbers": true,
   "eqNumInitial": 1,
   "hotkeys": {
    "equation": "Ctrl-E",
    "itemize": "Ctrl-I"
   },
   "labels_anchors": false,
   "latex_user_defs": false,
   "report_style_numbering": false,
   "user_envs_cfg": false
  },
  "toc": {
   "base_numbering": 1,
   "nav_menu": {},
   "number_sections": true,
   "sideBar": true,
   "skip_h1_title": false,
   "title_cell": "Table of Contents",
   "title_sidebar": "Contents",
   "toc_cell": false,
   "toc_position": {
    "height": "calc(100% - 180px)",
    "left": "10px",
    "top": "150px",
    "width": "396.667px"
   },
   "toc_section_display": true,
   "toc_window_display": true
  },
  "varInspector": {
   "cols": {
    "lenName": 16,
    "lenType": 16,
    "lenVar": 40
   },
   "kernels_config": {
    "python": {
     "delete_cmd_postfix": "",
     "delete_cmd_prefix": "del ",
     "library": "var_list.py",
     "varRefreshCmd": "print(var_dic_list())"
    },
    "r": {
     "delete_cmd_postfix": ") ",
     "delete_cmd_prefix": "rm(",
     "library": "var_list.r",
     "varRefreshCmd": "cat(var_dic_list()) "
    }
   },
   "types_to_exclude": [
    "module",
    "function",
    "builtin_function_or_method",
    "instance",
    "_Feature"
   ],
   "window_display": false
  },
  "widgets": {
   "application/vnd.jupyter.widget-state+json": {
    "state": {},
    "version_major": 2,
    "version_minor": 0
   }
  }
 },
 "nbformat": 4,
 "nbformat_minor": 4
}
